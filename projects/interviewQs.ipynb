{
 "cells": [
  {
   "cell_type": "markdown",
   "id": "4b477d8f-eed5-4057-8877-f3cbea7f16c9",
   "metadata": {},
   "source": [
    "# Interview Question"
   ]
  },
  {
   "cell_type": "markdown",
   "id": "63aa4f77-0153-46a3-8393-12c2b9d40653",
   "metadata": {},
   "source": [
    "## Links\n",
    "- "
   ]
  },
  {
   "cell_type": "markdown",
   "id": "7e00b893-e74f-4beb-b9d5-a0ee41932331",
   "metadata": {},
   "source": [
    "## Data Analytics Concepts"
   ]
  },
  {
   "cell_type": "markdown",
   "id": "156132ad-a2ae-45e5-a6b3-dcd14b5c52c8",
   "metadata": {},
   "source": [
    "## Statistics"
   ]
  },
  {
   "cell_type": "markdown",
   "id": "db37ca6f-1437-435e-a291-5deef1538e57",
   "metadata": {},
   "source": [
    "## Excel"
   ]
  },
  {
   "cell_type": "markdown",
   "id": "2584e229-5207-45e3-b2fa-406fe7ca8929",
   "metadata": {},
   "source": [
    "## Python"
   ]
  },
  {
   "cell_type": "markdown",
   "id": "eae99c46-fb86-4154-9299-8f9b00743622",
   "metadata": {},
   "source": [
    "## AI "
   ]
  },
  {
   "cell_type": "code",
   "execution_count": null,
   "id": "b19eca49-affe-46aa-834d-36c8fc7bfaa8",
   "metadata": {},
   "outputs": [],
   "source": []
  }
 ],
 "metadata": {
  "kernelspec": {
   "display_name": "Python 3 (ipykernel)",
   "language": "python",
   "name": "python3"
  },
  "language_info": {
   "codemirror_mode": {
    "name": "ipython",
    "version": 3
   },
   "file_extension": ".py",
   "mimetype": "text/x-python",
   "name": "python",
   "nbconvert_exporter": "python",
   "pygments_lexer": "ipython3",
   "version": "3.12.7"
  }
 },
 "nbformat": 4,
 "nbformat_minor": 5
}
