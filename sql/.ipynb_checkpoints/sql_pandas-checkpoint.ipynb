{
 "cells": [
  {
   "cell_type": "code",
   "execution_count": 1,
   "id": "048719b8-9d62-4e2d-94ad-437c302a9f15",
   "metadata": {},
   "outputs": [],
   "source": [
    "# Pandas SQL"
   ]
  },
  {
   "cell_type": "code",
   "execution_count": 3,
   "id": "8a1e6fc1-cf8e-4ce0-a03c-e71b093ceef2",
   "metadata": {},
   "outputs": [],
   "source": [
    "#pip install pandasql"
   ]
  },
  {
   "cell_type": "code",
   "execution_count": 4,
   "id": "6438d037-cd73-4176-838e-e7ffc1429e9d",
   "metadata": {},
   "outputs": [],
   "source": [
    "import pandas as pd\n",
    "from pandasql import sqldf"
   ]
  },
  {
   "cell_type": "code",
   "execution_count": 5,
   "id": "77eb97cd-2f4f-49b4-9dac-27b06d1c043a",
   "metadata": {},
   "outputs": [
    {
     "ename": "ModuleNotFoundError",
     "evalue": "No module named 'pydataset'",
     "output_type": "error",
     "traceback": [
      "\u001b[0;31m---------------------------------------------------------------------------\u001b[0m",
      "\u001b[0;31mModuleNotFoundError\u001b[0m                       Traceback (most recent call last)",
      "Cell \u001b[0;32mIn[5], line 1\u001b[0m\n\u001b[0;32m----> 1\u001b[0m \u001b[38;5;28;01mfrom\u001b[39;00m\u001b[38;5;250m \u001b[39m\u001b[38;5;21;01mpydataset\u001b[39;00m\u001b[38;5;250m \u001b[39m\u001b[38;5;28;01mimport\u001b[39;00m data\n",
      "\u001b[0;31mModuleNotFoundError\u001b[0m: No module named 'pydataset'"
     ]
    }
   ],
   "source": [
    "from pydataset import data"
   ]
  },
  {
   "cell_type": "code",
   "execution_count": null,
   "id": "69f80b81-20e0-4c7d-8d16-c84db6d6299e",
   "metadata": {},
   "outputs": [],
   "source": [
    "# Load CSV into a DataFrame\n",
    "df = pd.read_csv(\"your_file.csv\")\n",
    "\n",
    "# Define a helper to use the df in SQL\n",
    "pysqldf = lambda q: sqldf(q, globals())\n",
    "\n",
    "# Run SQL\n",
    "result = pysqldf(\"SELECT * FROM df WHERE column_name > 100 LIMIT 5\")\n",
    "print(result)"
   ]
  }
 ],
 "metadata": {
  "kernelspec": {
   "display_name": "Python 3 (ipykernel)",
   "language": "python",
   "name": "python3"
  },
  "language_info": {
   "codemirror_mode": {
    "name": "ipython",
    "version": 3
   },
   "file_extension": ".py",
   "mimetype": "text/x-python",
   "name": "python",
   "nbconvert_exporter": "python",
   "pygments_lexer": "ipython3",
   "version": "3.12.7"
  }
 },
 "nbformat": 4,
 "nbformat_minor": 5
}
