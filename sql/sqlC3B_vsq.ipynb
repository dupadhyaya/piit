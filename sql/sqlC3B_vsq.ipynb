{
 "cells": [
  {
   "cell_type": "markdown",
   "id": "b99064e2-2c4f-462c-8fdf-288c086aba2e",
   "metadata": {},
   "source": [
    "# Case on Students Table\n",
    "- Views\n",
    "- SubQueries\n",
    "- Window Functions\n",
    "- Join\n",
    "- Sorting, Filtering"
   ]
  },
  {
   "cell_type": "markdown",
   "id": "a98338f2-9aeb-44b3-acf4-40990cc59a10",
   "metadata": {},
   "source": [
    "# Views represent common classroom analytics:\n",
    "\t•\tsubject_avg_scores: how each subject is performing overall\n",
    "\t•\tstudent_totals: personal performance summaries\n",
    "\t•\tmath_scores: focused subset of data\n",
    "# Subqueries answer practical questions:\n",
    "\t•\tWho’s above average overall?\n",
    "\t•\tWhich students have exceptionally high totals?\n",
    "\t•\tWhat’s the average in my subject compared to my score?\n",
    "\t•\tWho has beaten their subject’s average?\n",
    "\t•\tWhat’s my latest recorded exam score?"
   ]
  },
  {
   "cell_type": "markdown",
   "id": "511445fc-da3a-4300-bd4c-de7840e50a04",
   "metadata": {},
   "source": [
    "# Check if you are using correct database\n",
    "- mysql -u piuser -p\n",
    "- Pass#123\n",
    "- USE piit;\n",
    "- DROP TABLE IF EXISTS student_scores"
   ]
  },
  {
   "cell_type": "markdown",
   "id": "2fca5e8a-7915-4a22-8615-5eef0a334c28",
   "metadata": {},
   "source": [
    "## Create Table\n",
    "- CREATE TABLE student_scores ( id   INT PRIMARY KEY,  sname  VARCHAR(100) NOT NULL,  subject   VARCHAR(50)  NOT NULL,  examdate  DATE  NOT NULL,  score  DECIMAL(5,2) NOT NULL )"
   ]
  },
  {
   "cell_type": "markdown",
   "id": "4a2b3e8b-04c2-4cf3-95c5-28e08b66dd72",
   "metadata": {},
   "source": [
    "## Insert Data in the Table\n",
    "- INSERT INTO student_scores (id, sname, subject, examdate, score) VALUES \n",
    "(1, 'Mandal', 'Math',    '2025-08-01', 85), \n",
    "(2, 'Amandeep', 'Math',    '2025-08-02', 75),\n",
    "(3, 'Barkat', 'Math',      '2025-08-03', 92), \n",
    "(4, 'Suroor', 'Math',    '2025-08-04', 88), \n",
    "(5, 'Mandal',  'Science',    '2025-08-05', 70), \n",
    "(6, 'Amandeep', 'Science', '2025-08-06', 88), \n",
    "(7, 'Sharan',  'Math',    '2025-08-02', 75), \n",
    "(8, 'Barkat', 'Science', '2025-08-04', 92)"
   ]
  },
  {
   "cell_type": "markdown",
   "id": "c5fd4753-c93f-4ed9-965e-70f508c1627e",
   "metadata": {},
   "source": [
    "## Check the data\n",
    "- SELECT * FROM student_scores;"
   ]
  },
  {
   "cell_type": "markdown",
   "id": "d2210250-4c86-438a-92df-cac98b103922",
   "metadata": {},
   "source": [
    "## Views\n",
    "### V1 : Avg score per subject\n",
    "- CREATE OR REPLACE VIEW subject_avg_scores AS SELECT subject, AVG(score) AS avg_score, COUNT(*)  AS num_exams FROM student_scores GROUP BY subject;\n",
    "- SELECT * FROM subject_avg_scores;\n",
    "### V2 : Student total and average score\n",
    "- CREATE OR REPLACE VIEW student_totals AS SELECT sname,  SUM(score) AS total_score, AVG(score) AS avg_score, COUNT(*)   AS exams_taken FROM student_scores GROUP BY sname;\n",
    "- SELECT * FROM student_totals\n",
    "- SELECT * FROM student_totals ORDER BY avg_score DESC\n",
    "### V3 : View of only Math exam scores (updatable)\n",
    "- CREATE OR REPLACE VIEW math_scores AS SELECT id, sname, subject, examdate, score FROM student_scores\n",
    "WHERE subject = 'Math'\n",
    "- SELECT * FROM math_scores \n",
    "- x\n",
    "### V4 : \n",
    "- x\n",
    "- x"
   ]
  },
  {
   "cell_type": "markdown",
   "id": "933a66b4-8682-427d-8cdb-2c26100c18b4",
   "metadata": {},
   "source": [
    "## SUB-QUERIES\n",
    "### SQ1 - Students whose total score is above the overall average score\n",
    "- SELECT sname FROM student_scores GROUP BY sname HAVING SUM(score) > ( SELECT AVG(score) FROM student_scores)\n",
    "- SELECT sname, SUM(score) FROM student_scores GROUP BY sname HAVING SUM(score) > ( SELECT AVG(score) FROM student_scores)"
   ]
  },
  {
   "cell_type": "markdown",
   "id": "617fec2b-dc41-4fe2-afc0-ee1193c863f9",
   "metadata": {},
   "source": [
    "\n",
    "-- =========================================================\n",
    "-- 2) Subqueries\n",
    "-- =========================================================\n",
    "\n",
    "-- 2A) Students whose total score is above the overall average score\n",
    "SELECT student_name\n",
    "FROM student_scores\n",
    "GROUP BY student_name\n",
    "HAVING SUM(score) > (\n",
    "    SELECT AVG(score) FROM student_scores\n",
    ");\n",
    "\n",
    "-- 2B) Inline view: students with total score > 250\n",
    "SELECT *\n",
    "FROM (\n",
    "    SELECT student_name, SUM(score) AS total_score\n",
    "    FROM student_scores\n",
    "    GROUP BY student_name\n",
    ") AS totals\n",
    "WHERE total_score > 250;\n",
    "\n",
    "-- 2C) Subquery in SELECT: each exam with subject average\n",
    "SELECT\n",
    "    s1.id,\n",
    "    s1.student_name,\n",
    "    s1.subject,\n",
    "    s1.score,\n",
    "    (\n",
    "        SELECT AVG(s2.score)\n",
    "        FROM student_scores AS s2\n",
    "        WHERE s2.subject = s1.subject\n",
    "    ) AS avg_in_subject\n",
    "FROM student_scores AS s1\n",
    "ORDER BY subject, score DESC;\n",
    "\n",
    "-- 2D) EXISTS: students who have at least one score above their subject's average\n",
    "SELECT DISTINCT s1.student_name\n",
    "FROM student_scores AS s1\n",
    "WHERE EXISTS (\n",
    "    SELECT 1\n",
    "    FROM student_scores AS s2\n",
    "    WHERE s2.subject = s1.subject\n",
    "    GROUP BY s2.subject\n",
    "    HAVING MAX(s1.score) > AVG(s2.score)\n",
    ");\n",
    "\n",
    "-- 2E) Latest exam for each student\n",
    "SELECT *\n",
    "FROM student_scores AS s1\n",
    "WHERE s1.exam_date = (\n",
    "    SELECT MAX(s2.exam_date)\n",
    "    FROM student_scores AS s2\n",
    "    WHERE s2.student_name = s1.student_name\n",
    ")\n",
    "ORDER BY student_name, exam_date;\n",
    "\n",
    "\n",
    "⸻\n",
    "\n",
    "How This Helps Students Understand\n",
    "\t•\tViews now represent common classroom analytics:\n",
    "\t•\tsubject_avg_scores: how each subject is performing overall\n",
    "\t•\tstudent_totals: personal performance summaries\n",
    "\t•\tmath_scores: focused subset of data\n",
    "\t•\tSubqueries answer practical questions:\n",
    "\t•\tWho’s above average overall?\n",
    "\t•\tWhich students have exceptionally high totals?\n",
    "\t•\tWhat’s the average in my subject compared to my score?\n",
    "\t•\tWho has beaten their subject’s average?\n",
    "\t•\tWhat’s my latest recorded exam score?\n",
    "\n",
    "⸻\n",
    "\n",
    "If you want, I can add window functions like RANK, DENSE_RANK, LEAD, and LAG to this same student_scores table so learners can see them alongside views and subqueries in one script. That way, it’s one comprehensive playground for SQL practice. Would you like me to do that?"
   ]
  }
 ],
 "metadata": {
  "kernelspec": {
   "display_name": "Python 3 (ipykernel)",
   "language": "python",
   "name": "python3"
  },
  "language_info": {
   "codemirror_mode": {
    "name": "ipython",
    "version": 3
   },
   "file_extension": ".py",
   "mimetype": "text/x-python",
   "name": "python",
   "nbconvert_exporter": "python",
   "pygments_lexer": "ipython3",
   "version": "3.12.7"
  }
 },
 "nbformat": 4,
 "nbformat_minor": 5
}
