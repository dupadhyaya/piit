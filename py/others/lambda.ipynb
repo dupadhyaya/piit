{
 "cells": [
  {
   "cell_type": "markdown",
   "id": "e904d571-3e7f-4977-af1c-f0254c27a0f1",
   "metadata": {},
   "source": [
    "## Lambda Funtions"
   ]
  },
  {
   "cell_type": "markdown",
   "id": "1de60a17-561e-4f3c-943e-e92ac9f69976",
   "metadata": {},
   "source": [
    "- Almbda function is an anonymous, inline function in python\n",
    "- It used for short, simple operations - often where a full def fuction would be unnecessary"
   ]
  },
  {
   "cell_type": "markdown",
   "id": "fe22adda-e05b-4257-8e92-9600c457f977",
   "metadata": {},
   "source": [
    "## Syntax\n",
    "- lambda arguments : experession\n",
    "- square = lambda x : x * x\n",
    "- print(square(5))"
   ]
  },
  {
   "cell_type": "code",
   "execution_count": 3,
   "id": "9683c5b5-405d-4102-96b0-6868db9c3afe",
   "metadata": {},
   "outputs": [
    {
     "name": "stdout",
     "output_type": "stream",
     "text": [
      "25\n"
     ]
    }
   ],
   "source": [
    "square = lambda x : x * x\n",
    "print(square(5))"
   ]
  },
  {
   "cell_type": "markdown",
   "id": "32018a05-f30a-418b-adbe-926e59e688fd",
   "metadata": {},
   "source": [
    "## Key Characteristics\n",
    "- Doesn't use the def keyword\n",
    "- No function name (unless assigned to a variable)\n",
    "- Can take multiple arguments\n",
    "- Only 1 expression, no statements, or multiple line"
   ]
  },
  {
   "cell_type": "code",
   "execution_count": 5,
   "id": "766b1438-4e97-461e-9748-79207e0c28db",
   "metadata": {},
   "outputs": [
    {
     "name": "stdout",
     "output_type": "stream",
     "text": [
      "7\n"
     ]
    }
   ],
   "source": [
    "# Multiple Arguments\n",
    "add = lambda  x, y : x + y\n",
    "print(add(3,4))"
   ]
  },
  {
   "cell_type": "markdown",
   "id": "a437df4c-2baf-4661-9d0a-a51c9efc7d9d",
   "metadata": {},
   "source": [
    "## When to use Lambda\n",
    "- Inside functions like map, filter, sorted\n",
    "- for short term or throw away functions\n",
    "- to improve code readibility for simple logic"
   ]
  },
  {
   "cell_type": "code",
   "execution_count": 9,
   "id": "0989d87b-0e04-4a9e-adb5-e6c1219c3750",
   "metadata": {},
   "outputs": [
    {
     "name": "stdout",
     "output_type": "stream",
     "text": [
      " Original numbers  [1, 2, 3, 4]\n",
      " Result from Lamdba ---  [1, 4, 9, 16]\n"
     ]
    }
   ],
   "source": [
    "# map - transform a list\n",
    "nums = [1,2,3, 4]\n",
    "print(' Original numbers ', nums)\n",
    "result = list(map(lambda x : x ** 2, nums))\n",
    "print (' Result from Lamdba --- ', result)"
   ]
  },
  {
   "cell_type": "code",
   "execution_count": 10,
   "id": "07608a85-9550-426a-a15e-db2c1c383d59",
   "metadata": {},
   "outputs": [
    {
     "name": "stdout",
     "output_type": "stream",
     "text": [
      "[1, 2, 3, 4]\n",
      "Even nos are  [2, 4]\n"
     ]
    }
   ],
   "source": [
    "# filter - filter items\n",
    "print(nums)\n",
    "evens = list(filter(lambda x: x % 2 == 0, nums))\n",
    "print( \"Even nos are \", evens)"
   ]
  },
  {
   "cell_type": "code",
   "execution_count": 12,
   "id": "25bdca6d-af1f-4aa6-b951-dd55c694bde4",
   "metadata": {},
   "outputs": [
    {
     "name": "stdout",
     "output_type": "stream",
     "text": [
      "10\n"
     ]
    }
   ],
   "source": [
    "# reduce - combine to one value\n",
    "# reduces a list to single result  (needs library - functools)\n",
    "from functools import reduce\n",
    "product = reduce(lambda x, y : x + y, nums)\n",
    "print(product)"
   ]
  },
  {
   "cell_type": "code",
   "execution_count": 13,
   "id": "36ca5b1e-ff06-4200-8dcd-87b5f35d03f5",
   "metadata": {},
   "outputs": [
    {
     "data": {
      "text/plain": [
       "10"
      ]
     },
     "execution_count": 13,
     "metadata": {},
     "output_type": "execute_result"
    }
   ],
   "source": [
    "1 + 2 + 3 + 4"
   ]
  },
  {
   "cell_type": "code",
   "execution_count": 14,
   "id": "d0a996c2-46ce-46a0-bba4-a95a0420b6ff",
   "metadata": {},
   "outputs": [],
   "source": [
    "# lambda in DF\n",
    "import pandas as pd\n",
    "from pydataset import data"
   ]
  },
  {
   "cell_type": "code",
   "execution_count": 15,
   "id": "b358b8ff-6016-4aa5-8368-18836acd4303",
   "metadata": {},
   "outputs": [
    {
     "data": {
      "text/plain": [
       "(32, 11)"
      ]
     },
     "execution_count": 15,
     "metadata": {},
     "output_type": "execute_result"
    }
   ],
   "source": [
    "# Load dataset\n",
    "df = data('mtcars')\n",
    "df.shape"
   ]
  },
  {
   "cell_type": "code",
   "execution_count": 16,
   "id": "7bb9fd36-af53-4337-8556-ada4d1f6ffbd",
   "metadata": {},
   "outputs": [],
   "source": [
    "# Lambda to get (min, max) for any column eg mpg\n",
    "min_max_mpg = lambda col: (df[col].min(), df[col].max())"
   ]
  },
  {
   "cell_type": "code",
   "execution_count": 17,
   "id": "9e3c8608-6d87-4d30-a0ff-fddc83602299",
   "metadata": {},
   "outputs": [],
   "source": [
    "# Call the lambda for 'mpg'\n",
    "min_val, max_val = min_max_mpg('mpg')"
   ]
  },
  {
   "cell_type": "code",
   "execution_count": 18,
   "id": "a9f3409c-928b-4ede-bdd1-d66e546e64bc",
   "metadata": {},
   "outputs": [
    {
     "name": "stdout",
     "output_type": "stream",
     "text": [
      "Minimum MPG: 10.4\n",
      "Maximum MPG: 33.9\n"
     ]
    }
   ],
   "source": [
    "print(f\"Minimum MPG: {min_val}\")\n",
    "print(f\"Maximum MPG: {max_val}\")"
   ]
  },
  {
   "cell_type": "code",
   "execution_count": 19,
   "id": "17507a26-11b5-43d4-bbf8-9a245d6a8109",
   "metadata": {},
   "outputs": [
    {
     "name": "stdout",
     "output_type": "stream",
     "text": [
      "Min of hp is  52 ; Max of hp is 335\n"
     ]
    }
   ],
   "source": [
    "coln = 'hp'\n",
    "min_val, max_val = min_max_mpg(coln)\n",
    "print(f\"Min of {coln} is  {min_val} ; Max of {coln} is {max_val}\")"
   ]
  },
  {
   "cell_type": "code",
   "execution_count": 20,
   "id": "8e7dda32-73ed-477a-9ba4-a27e5d16080f",
   "metadata": {},
   "outputs": [
    {
     "name": "stdout",
     "output_type": "stream",
     "text": [
      "Min of wt is  1.513 ; Max of wt is 5.424\n"
     ]
    }
   ],
   "source": [
    "coln = 'wt'\n",
    "min_val, max_val = min_max_mpg(coln)\n",
    "print(f\"Min of {coln} is  {min_val} ; Max of {coln} is {max_val}\")"
   ]
  },
  {
   "cell_type": "code",
   "execution_count": 25,
   "id": "4fec1757-9ea6-4816-b993-35daf0fda8a5",
   "metadata": {},
   "outputs": [
    {
     "data": {
      "text/html": [
       "<div>\n",
       "<style scoped>\n",
       "    .dataframe tbody tr th:only-of-type {\n",
       "        vertical-align: middle;\n",
       "    }\n",
       "\n",
       "    .dataframe tbody tr th {\n",
       "        vertical-align: top;\n",
       "    }\n",
       "\n",
       "    .dataframe thead th {\n",
       "        text-align: right;\n",
       "    }\n",
       "</style>\n",
       "<table border=\"1\" class=\"dataframe\">\n",
       "  <thead>\n",
       "    <tr style=\"text-align: right;\">\n",
       "      <th></th>\n",
       "      <th>mpg</th>\n",
       "      <th>cyl</th>\n",
       "      <th>disp</th>\n",
       "      <th>hp</th>\n",
       "      <th>drat</th>\n",
       "      <th>wt</th>\n",
       "      <th>qsec</th>\n",
       "      <th>vs</th>\n",
       "      <th>am</th>\n",
       "      <th>gear</th>\n",
       "      <th>carb</th>\n",
       "    </tr>\n",
       "  </thead>\n",
       "  <tbody>\n",
       "    <tr>\n",
       "      <th>min</th>\n",
       "      <td>10.4</td>\n",
       "      <td>4.0</td>\n",
       "      <td>71.1</td>\n",
       "      <td>52.0</td>\n",
       "      <td>2.76</td>\n",
       "      <td>1.513</td>\n",
       "      <td>14.5</td>\n",
       "      <td>0.0</td>\n",
       "      <td>0.0</td>\n",
       "      <td>3.0</td>\n",
       "      <td>1.0</td>\n",
       "    </tr>\n",
       "    <tr>\n",
       "      <th>max</th>\n",
       "      <td>33.9</td>\n",
       "      <td>8.0</td>\n",
       "      <td>472.0</td>\n",
       "      <td>335.0</td>\n",
       "      <td>4.93</td>\n",
       "      <td>5.424</td>\n",
       "      <td>22.9</td>\n",
       "      <td>1.0</td>\n",
       "      <td>1.0</td>\n",
       "      <td>5.0</td>\n",
       "      <td>8.0</td>\n",
       "    </tr>\n",
       "  </tbody>\n",
       "</table>\n",
       "</div>"
      ],
      "text/plain": [
       "      mpg  cyl   disp     hp  drat     wt  qsec   vs   am  gear  carb\n",
       "min  10.4  4.0   71.1   52.0  2.76  1.513  14.5  0.0  0.0   3.0   1.0\n",
       "max  33.9  8.0  472.0  335.0  4.93  5.424  22.9  1.0  1.0   5.0   8.0"
      ]
     },
     "execution_count": 25,
     "metadata": {},
     "output_type": "execute_result"
    }
   ],
   "source": [
    "df.describe().loc[['min', 'max']]"
   ]
  },
  {
   "cell_type": "markdown",
   "id": "6c794d6d-da35-45d0-aa1b-39d9043aa113",
   "metadata": {},
   "source": [
    "## Interview Qs\n",
    "- Lambda - is anyomouse inline function (What is the Q)\n",
    "- DEF Keyword is not used to define lambda (....)\n",
    "- Multiple expressions can Lambda function take( ..)"
   ]
  },
  {
   "cell_type": "markdown",
   "id": "748f8d8c-4325-446a-bd93-129f86492be0",
   "metadata": {},
   "source": [
    "# End Here"
   ]
  }
 ],
 "metadata": {
  "kernelspec": {
   "display_name": "Python 3 (ipykernel)",
   "language": "python",
   "name": "python3"
  },
  "language_info": {
   "codemirror_mode": {
    "name": "ipython",
    "version": 3
   },
   "file_extension": ".py",
   "mimetype": "text/x-python",
   "name": "python",
   "nbconvert_exporter": "python",
   "pygments_lexer": "ipython3",
   "version": "3.12.7"
  }
 },
 "nbformat": 4,
 "nbformat_minor": 5
}
