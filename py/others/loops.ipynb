{
 "cells": [
  {
   "cell_type": "markdown",
   "id": "f4f8908a-9a0b-466a-866d-0215773c5ade",
   "metadata": {},
   "source": [
    "# Loops in Python\n",
    "- for loop\n",
    "    -  Python’s for loops are often used for iterating over datasets, automating repetitive tasks, and applying transformations or calculations. While libraries like pandas and numpy offer vectorized methods (which are usually faster), understanding and using for loops is still essential for flexibility and custom operations."
   ]
  },
  {
   "cell_type": "markdown",
   "id": "e3be4a78-00e4-44ec-9144-b0f6bd498ed9",
   "metadata": {},
   "source": [
    "## Loops"
   ]
  },
  {
   "cell_type": "code",
   "execution_count": 22,
   "id": "a6947442-d4fa-4531-adbe-ff9c270b9f7e",
   "metadata": {},
   "outputs": [
    {
     "name": "stdout",
     "output_type": "stream",
     "text": [
      "apple\n",
      "banana\n",
      "cherry\n",
      "apple \tbanana \tcherry \t"
     ]
    }
   ],
   "source": [
    "fruits = [\"apple\", \"banana\", \"cherry\"]\n",
    "for fruit in fruits:\n",
    "    print(fruit)  #indent\n",
    "for fruit in fruits: print(fruit, end=' \\t')"
   ]
  },
  {
   "cell_type": "code",
   "execution_count": 24,
   "id": "d3dfc68f-59e6-40b4-ae0a-a0d1efea28fb",
   "metadata": {},
   "outputs": [
    {
     "name": "stdout",
     "output_type": "stream",
     "text": [
      "Count: 0\n",
      "Count: 1\n",
      "Count: 2\n"
     ]
    }
   ],
   "source": [
    "# WHILE-----\n",
    "count = 0\n",
    "while count < 3:\n",
    "    print(\"Count:\", count)\n",
    "    count += 1"
   ]
  },
  {
   "cell_type": "code",
   "execution_count": 25,
   "id": "560737cb-5144-4756-943d-4aadd4fc00ae",
   "metadata": {},
   "outputs": [
    {
     "name": "stdout",
     "output_type": "stream",
     "text": [
      "i=0, j=0\n",
      "i=0, j=1\n",
      "i=0, j=2\n",
      "i=1, j=0\n",
      "i=1, j=1\n",
      "i=1, j=2\n"
     ]
    }
   ],
   "source": [
    "# NESTED - FOR - FOR\n",
    "for i in range(2):        # Outer loop\n",
    "    for j in range(3):    # Inner loop\n",
    "        print(f\"i={i}, j={j}\")"
   ]
  },
  {
   "cell_type": "code",
   "execution_count": 27,
   "id": "c24c8c24-2780-4991-9fa7-64951df39cc8",
   "metadata": {},
   "outputs": [
    {
     "name": "stdout",
     "output_type": "stream",
     "text": [
      "0\n",
      "1\n",
      "2\n",
      "3\n"
     ]
    }
   ],
   "source": [
    "# LOOP with condition : FOR - ELSE\n",
    "for n in range(5):\n",
    "    print(n)\n",
    "    if n == 3:\n",
    "        break\n",
    "else:\n",
    "    print(\"Loop finished without break\")"
   ]
  },
  {
   "cell_type": "code",
   "execution_count": 30,
   "id": "eda920c1-5849-4212-a7f5-c471dec6dd91",
   "metadata": {},
   "outputs": [
    {
     "name": "stdout",
     "output_type": "stream",
     "text": [
      "[0 1 2 3 4]\n",
      "[ 0  1  4  9 16]\n"
     ]
    }
   ],
   "source": [
    "# VECTORISED / IMPLICIT LOOPS\n",
    "import numpy as np\n",
    "arr = np.arange(5)\n",
    "print(arr)\n",
    "print(arr ** 2)"
   ]
  },
  {
   "cell_type": "code",
   "execution_count": 28,
   "id": "d8135b6d-f3c1-4209-b9c9-8c05f5e2c057",
   "metadata": {},
   "outputs": [
    {
     "name": "stdout",
     "output_type": "stream",
     "text": [
      "[0, 1, 4, 9, 16]\n"
     ]
    }
   ],
   "source": [
    "# COMPREHENSION LOOPS\n",
    "squares = [x**2 for x in range(5)]\n",
    "print(squares)"
   ]
  },
  {
   "cell_type": "markdown",
   "id": "59ab1768-8b9e-48be-997e-2b8c49ca3399",
   "metadata": {},
   "source": [
    "## For Loop\n",
    "### 1. Iterating Over a List of Values"
   ]
  },
  {
   "cell_type": "code",
   "execution_count": 5,
   "id": "eb9f06f8-4166-4963-8df6-c0ff30408f5b",
   "metadata": {},
   "outputs": [
    {
     "name": "stdout",
     "output_type": "stream",
     "text": [
      "0.5 0.65 0.9 1.0 \n",
      "\n",
      "New List of Normalised Scores  [0.5, 0.65, 0.8, 0.9, 1.0]\n"
     ]
    }
   ],
   "source": [
    "scores = [50, 65, 80, 90, 100]\n",
    "scaled_scores = []\n",
    "print(50/100, 65/100, 90/100, 100/100, '\\n')\n",
    "\n",
    "for s in scores:\n",
    "    scaled_scores.append(s / 100)  # normalize between 0 and 1\n",
    "\n",
    "print('New List of Normalised Scores ', scaled_scores)"
   ]
  },
  {
   "cell_type": "markdown",
   "id": "b477b74f-11c6-45ae-ade7-fa8f42aab403",
   "metadata": {},
   "source": [
    "### 2. Looping Through Rows of a Pandas DataFrame\n",
    "- Print values with statement\n",
    "- pd.iterrows - moves row wise in pandas DF- index - rowname, row[column] value"
   ]
  },
  {
   "cell_type": "code",
   "execution_count": 6,
   "id": "71c2a859-10b1-48b8-9f9c-2c55e49329e5",
   "metadata": {},
   "outputs": [
    {
     "data": {
      "text/html": [
       "<div>\n",
       "<style scoped>\n",
       "    .dataframe tbody tr th:only-of-type {\n",
       "        vertical-align: middle;\n",
       "    }\n",
       "\n",
       "    .dataframe tbody tr th {\n",
       "        vertical-align: top;\n",
       "    }\n",
       "\n",
       "    .dataframe thead th {\n",
       "        text-align: right;\n",
       "    }\n",
       "</style>\n",
       "<table border=\"1\" class=\"dataframe\">\n",
       "  <thead>\n",
       "    <tr style=\"text-align: right;\">\n",
       "      <th></th>\n",
       "      <th>Product</th>\n",
       "      <th>Sales</th>\n",
       "    </tr>\n",
       "  </thead>\n",
       "  <tbody>\n",
       "    <tr>\n",
       "      <th>0</th>\n",
       "      <td>A</td>\n",
       "      <td>100</td>\n",
       "    </tr>\n",
       "    <tr>\n",
       "      <th>1</th>\n",
       "      <td>B</td>\n",
       "      <td>200</td>\n",
       "    </tr>\n",
       "    <tr>\n",
       "      <th>2</th>\n",
       "      <td>C</td>\n",
       "      <td>300</td>\n",
       "    </tr>\n",
       "  </tbody>\n",
       "</table>\n",
       "</div>"
      ],
      "text/plain": [
       "  Product  Sales\n",
       "0       A    100\n",
       "1       B    200\n",
       "2       C    300"
      ]
     },
     "execution_count": 6,
     "metadata": {},
     "output_type": "execute_result"
    }
   ],
   "source": [
    "import pandas as pd\n",
    "\n",
    "data = {    'Product': ['A', 'B', 'C'],     'Sales': [100, 200, 300]\n",
    "}\n",
    "df = pd.DataFrame(data)\n",
    "df"
   ]
  },
  {
   "cell_type": "code",
   "execution_count": 7,
   "id": "70febeef-169c-40ff-8580-59f73739eacc",
   "metadata": {},
   "outputs": [
    {
     "name": "stdout",
     "output_type": "stream",
     "text": [
      "Product A has sales 100\n",
      "Product B has sales 200\n",
      "Product C has sales 300\n"
     ]
    }
   ],
   "source": [
    "for index, row in df.iterrows():\n",
    "    print(f\"Product {row['Product']} has sales {row['Sales']}\")"
   ]
  },
  {
   "cell_type": "markdown",
   "id": "f9be4abf-a2e4-4703-ad34-dcddbf98187e",
   "metadata": {},
   "source": [
    "### 3. Data Cleaning with Loops\n",
    "- clean missing values or apply transformations:\n",
    "- age has missing value, replce with mean of the column age"
   ]
  },
  {
   "cell_type": "markdown",
   "id": "8ffb0024-45e9-4a7f-a1d3-0214fd2dff27",
   "metadata": {},
   "source": [
    "data = {'Name': ['Alice', 'Bob', 'Charlie'],  'Age': [25, None, 30]}\n",
    "df = pd.DataFrame(data)\n",
    "df"
   ]
  },
  {
   "cell_type": "code",
   "execution_count": 9,
   "id": "1e36d19d-53d4-406e-aa5c-13ae2b342f23",
   "metadata": {},
   "outputs": [
    {
     "data": {
      "text/plain": [
       "27.5"
      ]
     },
     "execution_count": 9,
     "metadata": {},
     "output_type": "execute_result"
    }
   ],
   "source": [
    "df.Age.mean()"
   ]
  },
  {
   "cell_type": "code",
   "execution_count": 10,
   "id": "41ea9df8-5b88-4b46-9094-48808c0fe319",
   "metadata": {},
   "outputs": [
    {
     "data": {
      "text/html": [
       "<div>\n",
       "<style scoped>\n",
       "    .dataframe tbody tr th:only-of-type {\n",
       "        vertical-align: middle;\n",
       "    }\n",
       "\n",
       "    .dataframe tbody tr th {\n",
       "        vertical-align: top;\n",
       "    }\n",
       "\n",
       "    .dataframe thead th {\n",
       "        text-align: right;\n",
       "    }\n",
       "</style>\n",
       "<table border=\"1\" class=\"dataframe\">\n",
       "  <thead>\n",
       "    <tr style=\"text-align: right;\">\n",
       "      <th></th>\n",
       "      <th>Name</th>\n",
       "      <th>Age</th>\n",
       "    </tr>\n",
       "  </thead>\n",
       "  <tbody>\n",
       "    <tr>\n",
       "      <th>0</th>\n",
       "      <td>Alice</td>\n",
       "      <td>25.0</td>\n",
       "    </tr>\n",
       "    <tr>\n",
       "      <th>1</th>\n",
       "      <td>Bob</td>\n",
       "      <td>27.5</td>\n",
       "    </tr>\n",
       "    <tr>\n",
       "      <th>2</th>\n",
       "      <td>Charlie</td>\n",
       "      <td>30.0</td>\n",
       "    </tr>\n",
       "  </tbody>\n",
       "</table>\n",
       "</div>"
      ],
      "text/plain": [
       "      Name   Age\n",
       "0    Alice  25.0\n",
       "1      Bob  27.5\n",
       "2  Charlie  30.0"
      ]
     },
     "execution_count": 10,
     "metadata": {},
     "output_type": "execute_result"
    }
   ],
   "source": [
    "for i in range(len(df)):\n",
    "    if pd.isnull(df.loc[i, 'Age']):\n",
    "        df.loc[i, 'Age'] = df['Age'].mean()  # replace with mean\n",
    "df"
   ]
  },
  {
   "cell_type": "markdown",
   "id": "7ae2da38-924a-4f1f-b8f5-59927f7aee49",
   "metadata": {},
   "source": [
    "###  4. Looping to Generate Features (Feature Engineering)\n",
    "- create new squared features for certain tasks"
   ]
  },
  {
   "cell_type": "code",
   "execution_count": 14,
   "id": "a005f8d2-ee3c-4dbf-8ed2-67add6089032",
   "metadata": {},
   "outputs": [
    {
     "data": {
      "text/html": [
       "<div>\n",
       "<style scoped>\n",
       "    .dataframe tbody tr th:only-of-type {\n",
       "        vertical-align: middle;\n",
       "    }\n",
       "\n",
       "    .dataframe tbody tr th {\n",
       "        vertical-align: top;\n",
       "    }\n",
       "\n",
       "    .dataframe thead th {\n",
       "        text-align: right;\n",
       "    }\n",
       "</style>\n",
       "<table border=\"1\" class=\"dataframe\">\n",
       "  <thead>\n",
       "    <tr style=\"text-align: right;\">\n",
       "      <th></th>\n",
       "      <th>Age</th>\n",
       "      <th>Income</th>\n",
       "    </tr>\n",
       "  </thead>\n",
       "  <tbody>\n",
       "    <tr>\n",
       "      <th>0</th>\n",
       "      <td>20</td>\n",
       "      <td>3000</td>\n",
       "    </tr>\n",
       "    <tr>\n",
       "      <th>1</th>\n",
       "      <td>25</td>\n",
       "      <td>4000</td>\n",
       "    </tr>\n",
       "    <tr>\n",
       "      <th>2</th>\n",
       "      <td>30</td>\n",
       "      <td>5000</td>\n",
       "    </tr>\n",
       "  </tbody>\n",
       "</table>\n",
       "</div>"
      ],
      "text/plain": [
       "   Age  Income\n",
       "0   20    3000\n",
       "1   25    4000\n",
       "2   30    5000"
      ]
     },
     "execution_count": 14,
     "metadata": {},
     "output_type": "execute_result"
    }
   ],
   "source": [
    "import numpy as np\n",
    "features = ['Age', 'Income']  #cols - add new columns : col_squared and square each col value\n",
    "df = pd.DataFrame({  'Age': [20, 25, 30], 'Income': [3000, 4000, 5000] })\n",
    "df\n",
    "# Age_squared : 20*20, 25* 25, 30*30"
   ]
  },
  {
   "cell_type": "code",
   "execution_count": 15,
   "id": "aff7c275-0ad4-4639-8315-b823c4b99ae4",
   "metadata": {},
   "outputs": [
    {
     "data": {
      "text/html": [
       "<div>\n",
       "<style scoped>\n",
       "    .dataframe tbody tr th:only-of-type {\n",
       "        vertical-align: middle;\n",
       "    }\n",
       "\n",
       "    .dataframe tbody tr th {\n",
       "        vertical-align: top;\n",
       "    }\n",
       "\n",
       "    .dataframe thead th {\n",
       "        text-align: right;\n",
       "    }\n",
       "</style>\n",
       "<table border=\"1\" class=\"dataframe\">\n",
       "  <thead>\n",
       "    <tr style=\"text-align: right;\">\n",
       "      <th></th>\n",
       "      <th>Age</th>\n",
       "      <th>Income</th>\n",
       "      <th>Age_squared</th>\n",
       "      <th>Income_squared</th>\n",
       "    </tr>\n",
       "  </thead>\n",
       "  <tbody>\n",
       "    <tr>\n",
       "      <th>0</th>\n",
       "      <td>20</td>\n",
       "      <td>3000</td>\n",
       "      <td>400</td>\n",
       "      <td>9000000</td>\n",
       "    </tr>\n",
       "    <tr>\n",
       "      <th>1</th>\n",
       "      <td>25</td>\n",
       "      <td>4000</td>\n",
       "      <td>625</td>\n",
       "      <td>16000000</td>\n",
       "    </tr>\n",
       "    <tr>\n",
       "      <th>2</th>\n",
       "      <td>30</td>\n",
       "      <td>5000</td>\n",
       "      <td>900</td>\n",
       "      <td>25000000</td>\n",
       "    </tr>\n",
       "  </tbody>\n",
       "</table>\n",
       "</div>"
      ],
      "text/plain": [
       "   Age  Income  Age_squared  Income_squared\n",
       "0   20    3000          400         9000000\n",
       "1   25    4000          625        16000000\n",
       "2   30    5000          900        25000000"
      ]
     },
     "execution_count": 15,
     "metadata": {},
     "output_type": "execute_result"
    }
   ],
   "source": [
    "for col in features:\n",
    "    df[col + \"_squared\"] = df[col] ** 2\n",
    "df"
   ]
  },
  {
   "cell_type": "markdown",
   "id": "f8ee84a1-309e-4186-b2ff-164857e7f6d7",
   "metadata": {},
   "source": [
    "### 5. Looping for Simple Analytics (Counts & Aggregates)"
   ]
  },
  {
   "cell_type": "code",
   "execution_count": 17,
   "id": "ac29e1e8-2c78-49c4-9442-c8d5d1300131",
   "metadata": {},
   "outputs": [
    {
     "name": "stdout",
     "output_type": "stream",
     "text": [
      "[100, 250, 300, 120, 80]\n",
      "Number of high sales: 2\n"
     ]
    }
   ],
   "source": [
    "sales = [100, 250, 300, 120, 80]\n",
    "count = 0\n",
    "print(sales)\n",
    "for s in sales:\n",
    "    if s > 150:\n",
    "        count += 1  # count = count + 1\n",
    "\n",
    "print(\"Number of high sales:\", count)"
   ]
  },
  {
   "cell_type": "code",
   "execution_count": null,
   "id": "96e3a22a-50f2-4928-9c7d-3f35b69520a0",
   "metadata": {},
   "outputs": [],
   "source": [
    "##"
   ]
  }
 ],
 "metadata": {
  "kernelspec": {
   "display_name": "Python 3 (ipykernel)",
   "language": "python",
   "name": "python3"
  },
  "language_info": {
   "codemirror_mode": {
    "name": "ipython",
    "version": 3
   },
   "file_extension": ".py",
   "mimetype": "text/x-python",
   "name": "python",
   "nbconvert_exporter": "python",
   "pygments_lexer": "ipython3",
   "version": "3.12.7"
  }
 },
 "nbformat": 4,
 "nbformat_minor": 5
}
