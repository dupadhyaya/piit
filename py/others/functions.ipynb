{
 "cells": [
  {
   "cell_type": "markdown",
   "id": "cc8aa687-188c-4db0-ab98-77cf4759af8b",
   "metadata": {},
   "source": [
    "## Functions in Python\n"
   ]
  },
  {
   "cell_type": "markdown",
   "id": "487b50e0-1a2d-4f84-b7bb-57cfe43c5f31",
   "metadata": {},
   "source": [
    "## Template \n",
    "### def function_name(parameters):\n",
    "-    \"\"\"\n",
    "-    Optional docstring that describes what the function does.\n",
    "-    \"\"\"\n",
    "-    #### Code block\n",
    "-    #### Code block\n",
    "-    return value  # optional\n",
    "####  arguments\n",
    "- def → keyword to define a function.\n",
    "- function_name → must follow Python naming rules (letters, numbers, _, but not starting with a number).\n",
    "- parameters → optional inputs (can be none, one, or many).\n",
    "- return → sends back a value to the caller (optional — function can just perform an action)."
   ]
  },
  {
   "cell_type": "code",
   "execution_count": 2,
   "id": "15edaf76-637f-4239-b349-6257a3aea871",
   "metadata": {},
   "outputs": [
    {
     "name": "stdout",
     "output_type": "stream",
     "text": [
      "Hello,  Dhiraj  welcome to Python functions!\n"
     ]
    }
   ],
   "source": [
    "# Function - 1\n",
    "def greet(name):\n",
    "    \"\"\"This function prints a greeting message.\"\"\"\n",
    "    print(\"Hello, \", name, \" welcome to Python functions!\")\n",
    "\n",
    "# Calling the function\n",
    "greet('Dhiraj')"
   ]
  },
  {
   "cell_type": "code",
   "execution_count": 3,
   "id": "9416ba46-8d9b-41f0-9a34-f431d6483903",
   "metadata": {},
   "outputs": [
    {
     "name": "stdout",
     "output_type": "stream",
     "text": [
      "Hello Dhiraj Upadhyaya, welcome to Python functions!\n"
     ]
    }
   ],
   "source": [
    "# Function - 1B  - {}\n",
    "def greet(name):\n",
    "    \"\"\"This function prints a greeting message.\"\"\"\n",
    "    print(f\"Hello {name}, welcome to Python functions!\")\n",
    "\n",
    "# Calling the function\n",
    "greet('Dhiraj Upadhyaya')"
   ]
  },
  {
   "cell_type": "code",
   "execution_count": 4,
   "id": "f1e8693f-b48a-4100-8a61-251922445a91",
   "metadata": {},
   "outputs": [
    {
     "name": "stdout",
     "output_type": "stream",
     "text": [
      "Sum is: 12\n"
     ]
    }
   ],
   "source": [
    "# Function with return value\n",
    "def add_numbers(a, b):\n",
    "    \"\"\"Return the sum of two numbers.\"\"\"\n",
    "    return a + b\n",
    "\n",
    "# Using the function\n",
    "result = add_numbers(5, 7)\n",
    "print(\"Sum is:\", result)"
   ]
  },
  {
   "cell_type": "code",
   "execution_count": 6,
   "id": "b8f50298-8a8d-4255-98c5-9a04773898c1",
   "metadata": {},
   "outputs": [
    {
     "name": "stdout",
     "output_type": "stream",
     "text": [
      "Hello, PIIT Student!\n",
      "Hello, John!\n"
     ]
    }
   ],
   "source": [
    "# Function with Default Parameter\n",
    "def greet_user(name=\"PIIT Student\"):\n",
    "    \"\"\"Greet a user with a default name.\"\"\"\n",
    "    print(f\"Hello, {name}!\")\n",
    "\n",
    "greet_user()       # Uses default value\n",
    "greet_user(\"John\") # Overrides default"
   ]
  },
  {
   "cell_type": "markdown",
   "id": "cc022dc1-1ddb-4e3c-b494-cec0e2d4433c",
   "metadata": {},
   "source": [
    "## Features of Functions\n",
    "- Functions reduce repetition.\n",
    "- They can take input parameters and return values.\n",
    "- A docstring inside triple quotes \"\"\" ... \"\"\" helps explain purpose and usage.\n",
    "- Functions must be called to execute."
   ]
  },
  {
   "cell_type": "code",
   "execution_count": 7,
   "id": "664aeba1-2956-48b6-b44b-d0209b631045",
   "metadata": {},
   "outputs": [],
   "source": [
    "import pandas as pd\n",
    "from pydataset import data"
   ]
  },
  {
   "cell_type": "code",
   "execution_count": 11,
   "id": "d8375c87-cafc-4090-82a5-09f23540a8a0",
   "metadata": {},
   "outputs": [
    {
     "data": {
      "text/plain": [
       "(32, 11)"
      ]
     },
     "execution_count": 11,
     "metadata": {},
     "output_type": "execute_result"
    }
   ],
   "source": [
    "df = data('mtcars')\n",
    "df.shape"
   ]
  },
  {
   "cell_type": "code",
   "execution_count": 12,
   "id": "47eb3891-d07d-4cd6-9085-bae63ce22231",
   "metadata": {},
   "outputs": [],
   "source": [
    "## Function\n",
    "def min_max_mpg():\n",
    "    \"\"\"Return the minimum and maximum MPG from the mtcars dataset.\"\"\"\n",
    "    # Load the mtcars dataset\n",
    "    df = data('mtcars')\n",
    "    \n",
    "    # Find min and max\n",
    "    min_val = df['mpg'].min()\n",
    "    max_val = df['mpg'].max()\n",
    "    \n",
    "    return min_val, max_val"
   ]
  },
  {
   "cell_type": "code",
   "execution_count": 13,
   "id": "eb07cb07-8f95-414d-9e18-18a42e3fd9a4",
   "metadata": {},
   "outputs": [
    {
     "data": {
      "text/plain": [
       "<function __main__.min_max_mpg()>"
      ]
     },
     "execution_count": 13,
     "metadata": {},
     "output_type": "execute_result"
    }
   ],
   "source": [
    "min_max_mpg"
   ]
  },
  {
   "cell_type": "code",
   "execution_count": 14,
   "id": "403fca9d-f045-4f1c-a0d0-8cfe2b879c73",
   "metadata": {},
   "outputs": [
    {
     "name": "stdout",
     "output_type": "stream",
     "text": [
      "Minimum MPG: 10.4\n",
      "Maximum MPG: 33.9\n"
     ]
    }
   ],
   "source": [
    "min_mpg, max_mpg = min_max_mpg()\n",
    "print(f\"Minimum MPG: {min_mpg}\")\n",
    "print(f\"Maximum MPG: {max_mpg}\")"
   ]
  },
  {
   "cell_type": "code",
   "execution_count": 15,
   "id": "80b4b0b1-6647-4f53-9703-16435aea01a1",
   "metadata": {},
   "outputs": [
    {
     "name": "stdout",
     "output_type": "stream",
     "text": [
      "33.9 10.4\n"
     ]
    }
   ],
   "source": [
    "print(df.mpg.max(), df.mpg.min())"
   ]
  },
  {
   "cell_type": "code",
   "execution_count": null,
   "id": "0c93a063-9bed-4c0a-aee3-07a4cd27cbb4",
   "metadata": {},
   "outputs": [],
   "source": []
  }
 ],
 "metadata": {
  "kernelspec": {
   "display_name": "Python 3 (ipykernel)",
   "language": "python",
   "name": "python3"
  },
  "language_info": {
   "codemirror_mode": {
    "name": "ipython",
    "version": 3
   },
   "file_extension": ".py",
   "mimetype": "text/x-python",
   "name": "python",
   "nbconvert_exporter": "python",
   "pygments_lexer": "ipython3",
   "version": "3.12.7"
  }
 },
 "nbformat": 4,
 "nbformat_minor": 5
}
