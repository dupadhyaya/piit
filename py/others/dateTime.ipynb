{
 "cells": [
  {
   "cell_type": "code",
   "execution_count": 1,
   "id": "6e78ef19-75f5-4cdd-91eb-47ced2545f76",
   "metadata": {},
   "outputs": [],
   "source": [
    "# Date & Time in Python"
   ]
  },
  {
   "cell_type": "markdown",
   "id": "c121e6f1-c620-4b5f-8970-0319b4d54b7e",
   "metadata": {},
   "source": [
    "### Exercise\n",
    "- Parse dates (stdlib datetime and pandas.to_datetime)\n",
    "- Calculate age from DOB (accurate years–months–days)\n",
    "- Find differences between two dates\n",
    "- Generate date sequences (pd.date_range)\n",
    "- Build a small time series and make a matplotlib plot\n",
    "- Bonus: Resample to weekly/monthly summaries"
   ]
  },
  {
   "cell_type": "markdown",
   "id": "343d770c-2fed-4fc8-a0d3-931c033077b7",
   "metadata": {},
   "source": [
    "## 1) Parsing Dates from Strings\n",
    "### `datetime.datetime.strptime` (standard library)\n",
    "Use a **format string** to parse known formats.\n",
    "\n",
    "Common directives:\n",
    "- `%Y` = 4‚ digit year, `%y` = 2‚ digit year\n",
    "- `%m` = month (01), `%d` = day (01)\n",
    "- `%H:%M:%S` = 24‚ hour time"
   ]
  },
  {
   "cell_type": "markdown",
   "id": "379e28be-c2a1-4772-9fc8-a53ad30588d2",
   "metadata": {},
   "source": [
    "### `pandas.to_datetime` (flexible)\n",
    "- Smart parser for many formats\n",
    "- Vectorized for entire columns"
   ]
  },
  {
   "cell_type": "code",
   "execution_count": 2,
   "id": "d52cc23c-29f1-4bc7-a8c7-b49ea4b04365",
   "metadata": {},
   "outputs": [],
   "source": [
    "### libraries\n",
    "import datetime as dt\n",
    "import pandas as pd"
   ]
  },
  {
   "cell_type": "code",
   "execution_count": 4,
   "id": "47d2afe4-b7d5-4fcd-9d89-030897133c58",
   "metadata": {},
   "outputs": [
    {
     "name": "stdout",
     "output_type": "stream",
     "text": [
      "DOB (date object): 1998-07-15 <class 'datetime.date'>\n"
     ]
    }
   ],
   "source": [
    "# Standard library parsing\n",
    "dob_str = \"1998-07-15\"\n",
    "dob_dt = dt.datetime.strptime(dob_str, \"%Y-%m-%d\").date()\n",
    "print(\"DOB (date object):\", dob_dt, type(dob_dt))"
   ]
  },
  {
   "cell_type": "markdown",
   "id": "8aaff8f4-3bb7-4acd-a6c3-f77cc6f23a45",
   "metadata": {},
   "source": [
    "### Pandas parsing (handles many formats automatically)"
   ]
  },
  {
   "cell_type": "code",
   "execution_count": 15,
   "id": "28a52119-e7f6-4284-95ad-c847b6689ace",
   "metadata": {},
   "outputs": [
    {
     "name": "stdout",
     "output_type": "stream",
     "text": [
      "[datetime.datetime(1998, 7, 15, 0, 0), datetime.datetime(2000, 2, 29, 0, 0), datetime.datetime(2020, 1, 3, 0, 0), datetime.datetime(2023, 4, 5, 0, 0)]\n",
      "1998-07-15\n",
      "2000-02-29\n",
      "2020-01-03\n",
      "2023-04-05\n"
     ]
    }
   ],
   "source": [
    "from dateutil import parser\n",
    "\n",
    "dates = [\"15/07/1998\", \"2000-02-29\", \"03-01-2020\", \"Apr 5, 2023\"]\n",
    "parsed = [parser.parse(d, dayfirst=True) for d in dates]\n",
    "print(parsed)\n",
    "for val in parsed:\n",
    "    print(val.date())"
   ]
  },
  {
   "cell_type": "markdown",
   "id": "45e8df5b-98bc-4a48-bebb-eeee668bc287",
   "metadata": {},
   "source": [
    "- If you’re handling mixed formats in one dataset, - it’s best to clean them into a single format (YYYY-MM-DD) before parsing, otherwise assumptions like dayfirst=True can cause confusion."
   ]
  },
  {
   "cell_type": "markdown",
   "id": "b57c20dc-4608-4496-8408-1735c0c895be",
   "metadata": {},
   "source": [
    "### Calculate Age from DOB\n",
    "- For **accurate age in years, months, days**, use `dateutil.relativedelta`.\n",
    "- In Python, a normal timedelta object cannot directly give you years and months — it only stores differences in days, seconds, and microseconds.\n",
    "- If you want years and months (like “3 years, 2 months, 5 days”), you need to use dateutil.relativedelta.\n",
    "- When to use\n",
    "    - timedelta → Quick math in days/hours/minutes.\n",
    "    - relativedelta → Calendar differences in years/months/days (important for age calculations)."
   ]
  },
  {
   "cell_type": "code",
   "execution_count": 34,
   "id": "83491976-ccfc-4e06-aa9f-8428cc2b835c",
   "metadata": {},
   "outputs": [],
   "source": [
    "from dateutil.relativedelta import relativedelta\n",
    "from datetime import date, datetime, timedelta\n",
    "import datetime as dt  #different ways of import"
   ]
  },
  {
   "cell_type": "code",
   "execution_count": 27,
   "id": "e092feef-808a-4a53-9438-0a0a2dd66480",
   "metadata": {},
   "outputs": [
    {
     "name": "stdout",
     "output_type": "stream",
     "text": [
      "2025-08-13 ::: Now  2025-08-13 15:29:33.041874\n"
     ]
    }
   ],
   "source": [
    "today = date.today()\n",
    "now = datetime.now()\n",
    "print(today, '::: Now ', now)"
   ]
  },
  {
   "cell_type": "code",
   "execution_count": 32,
   "id": "860f90c4-5e9b-4c1d-ae4e-45a2403a556f",
   "metadata": {},
   "outputs": [
    {
     "name": "stdout",
     "output_type": "stream",
     "text": [
      "Days- 5 days, 0:00:00  ::: Hours,Min = 2:30:00\n"
     ]
    }
   ],
   "source": [
    "# a normal timedelta object cannot directly give you years and months — it only stores differences in days, seconds, and microseconds.\n",
    "# years2 = timedelta(years=2) # error\n",
    "D5 = timedelta(days=5)\n",
    "H5M30 = timedelta(hours=2, minutes=30)\n",
    "print('Days-' , D5, ' ::: Hours,Min =', H5M30)"
   ]
  },
  {
   "cell_type": "code",
   "execution_count": 45,
   "id": "ade6b83e-5f4c-4679-9219-699899ef17b5",
   "metadata": {},
   "outputs": [
    {
     "name": "stdout",
     "output_type": "stream",
     "text": [
      "2025-08-13 :: 2023-05-10\n"
     ]
    }
   ],
   "source": [
    "# Example dates\n",
    "d1 = dt.date(2025, 8, 13)\n",
    "d2 = dt.date(2023, 5, 10)\n",
    "print(d1 , '::', d2)"
   ]
  },
  {
   "cell_type": "code",
   "execution_count": 46,
   "id": "f51d8218-4ab1-499e-84c6-5b37fde90dda",
   "metadata": {},
   "outputs": [
    {
     "name": "stdout",
     "output_type": "stream",
     "text": [
      "Timedelta: 826 days, 0:00:00\n",
      "Days difference: 826\n"
     ]
    }
   ],
   "source": [
    "## TimeDelta - Days only\n",
    "td = d1 - d2\n",
    "print(\"Timedelta:\", td)\n",
    "print(\"Days difference:\", td.days)"
   ]
  },
  {
   "cell_type": "code",
   "execution_count": 47,
   "id": "7f61822e-c41e-4333-98a9-685830fe8bd6",
   "metadata": {},
   "outputs": [
    {
     "name": "stdout",
     "output_type": "stream",
     "text": [
      "Relativedelta: 2 years, 3 months, 3 days\n"
     ]
    }
   ],
   "source": [
    "# relativedelta -> years, months, days\n",
    "rd = relativedelta(d1, d2)\n",
    "print(f\"Relativedelta: {rd.years} years, {rd.months} months, {rd.days} days\")"
   ]
  },
  {
   "cell_type": "code",
   "execution_count": 53,
   "id": "e026de7b-26d8-45f1-b72b-240012be78bd",
   "metadata": {},
   "outputs": [
    {
     "name": "stdout",
     "output_type": "stream",
     "text": [
      "Age as on date is  11322 days, 0:00:00  days and in years is  relativedelta(years=+30, months=+11, days=+30)\n"
     ]
    }
   ],
   "source": [
    "dob = dt.date(1994, 8, 14)  #what is your DOB\n",
    "print('Age as on date is ', today - dob , ' days and in years is ', relativedelta(today, dob))"
   ]
  },
  {
   "cell_type": "code",
   "execution_count": 54,
   "id": "373ee514-03ba-4355-87ae-849ad619f796",
   "metadata": {},
   "outputs": [],
   "source": [
    "#relativedelta(dt.date.today(), dt.date.today()- timedelta(days=5))"
   ]
  },
  {
   "cell_type": "code",
   "execution_count": 55,
   "id": "0615bb5d-0943-450b-b9a9-a62ccf8ea366",
   "metadata": {},
   "outputs": [],
   "source": [
    "# Create a function to find \n",
    "from dateutil.relativedelta import relativedelta\n",
    "\n",
    "def calculate_age(dob, on_date=None):\n",
    "    if on_date is None:\n",
    "        on_date = dt.date.today()\n",
    "    if isinstance(dob, pd.Timestamp):\n",
    "        dob = dob.date()\n",
    "    rd = relativedelta(on_date, dob)\n",
    "    return rd.years, rd.months, rd.days"
   ]
  },
  {
   "cell_type": "code",
   "execution_count": 57,
   "id": "13664721-c9d5-4e90-95d0-d33363f5eeaa",
   "metadata": {},
   "outputs": [
    {
     "name": "stdout",
     "output_type": "stream",
     "text": [
      "DOB=1994-08-14 -> Age: 30 years, 11 months, 30 days\n",
      "DOB=2000-05-19 00:00:00 -> Age: 25 years, 2 months, 25 days\n",
      "DOB=2023-08-18 00:00:00 -> Age: 1 years, 11 months, 26 days\n"
     ]
    }
   ],
   "source": [
    "# Examples\n",
    "dob_examples = [dt.date(1994, 8, 14), pd.Timestamp(\"2000-05-19\"), pd.Timestamp(\"2023-08-18\")]\n",
    "for d in dob_examples:\n",
    "    y, m, dd = calculate_age(d)  # pass 3 values from calculate_age to y,m,d\n",
    "    print(f\"DOB={d} -> Age: {y} years, {m} months, {dd} days\")"
   ]
  },
  {
   "cell_type": "markdown",
   "id": "7e30d2ed-e407-48c4-8100-d33c3c5f6fe8",
   "metadata": {},
   "source": [
    "### Difference Between Two Dates\n",
    "- With `datetime`, subtracting dates yields a `timedelta` (days, seconds).\n",
    "- With `pandas`, subtracting `Timestamp` or `DatetimeIndex` gives `Timedelta` objects (supports vectorized ops)."
   ]
  },
  {
   "cell_type": "code",
   "execution_count": 61,
   "id": "8c5dfd44-f126-4dca-81dd-6e25ea6a9a28",
   "metadata": {},
   "outputs": [
    {
     "name": "stdout",
     "output_type": "stream",
     "text": [
      "2025-08-15 2024-08-14\n"
     ]
    }
   ],
   "source": [
    "d1 = dt.date(2025, 8, 15)\n",
    "d2 = dt.date(2024, 8, 14)\n",
    "print( d1, d2)"
   ]
  },
  {
   "cell_type": "code",
   "execution_count": 62,
   "id": "c7f781de-d056-48a0-afa9-60c04e765328",
   "metadata": {},
   "outputs": [
    {
     "name": "stdout",
     "output_type": "stream",
     "text": [
      "Difference (timedelta): 366 days, 0:00:00 | days: 366\n"
     ]
    }
   ],
   "source": [
    "tdelta = d1 - d2\n",
    "print(\"Difference (timedelta):\", tdelta, \"| days:\", tdelta.days)"
   ]
  },
  {
   "cell_type": "code",
   "execution_count": 63,
   "id": "19c2da8e-d7cd-496d-932e-ec87830850ed",
   "metadata": {},
   "outputs": [
    {
     "name": "stdout",
     "output_type": "stream",
     "text": [
      "0      0\n",
      "1     41\n",
      "2    366\n",
      "dtype: int64\n"
     ]
    }
   ],
   "source": [
    "# Pandas example (vectorized)\n",
    "s = pd.to_datetime(pd.Series([\"2025-08-15\", \"2025-07-05\", \"2024-08-14\"]))  #series of dates\n",
    "diff_days = (pd.Timestamp(\"2025-08-15\") - s).dt.days\n",
    "print(diff_days)"
   ]
  },
  {
   "cell_type": "markdown",
   "id": "2f779878-a119-40b3-9756-3706d0dadf1d",
   "metadata": {},
   "source": [
    "### Create a Sequence of Dates\n",
    "- Use `pd.date_range` to generate evenly spaced date sequences."
   ]
  },
  {
   "cell_type": "code",
   "execution_count": 65,
   "id": "a0bebf13-2ba6-4ce9-bf3c-69149670a333",
   "metadata": {},
   "outputs": [
    {
     "data": {
      "text/plain": [
       "DatetimeIndex(['2025-08-01', '2025-08-02', '2025-08-03', '2025-08-04',\n",
       "               '2025-08-05', '2025-08-06', '2025-08-07', '2025-08-08',\n",
       "               '2025-08-09', '2025-08-10', '2025-08-11', '2025-08-12',\n",
       "               '2025-08-13', '2025-08-14', '2025-08-15'],\n",
       "              dtype='datetime64[ns]', freq='D')"
      ]
     },
     "execution_count": 65,
     "metadata": {},
     "output_type": "execute_result"
    }
   ],
   "source": [
    "# Daily sequence\n",
    "rng_daily = pd.date_range(start=\"2025-08-01\", end=\"2025-08-15\", freq=\"D\")\n",
    "rng_daily"
   ]
  },
  {
   "cell_type": "code",
   "execution_count": 67,
   "id": "0d21e9c4-e5d5-4196-ba06-74a5a81e00ab",
   "metadata": {},
   "outputs": [
    {
     "data": {
      "text/plain": [
       "DatetimeIndex(['2025-08-01', '2025-08-04', '2025-08-05', '2025-08-06',\n",
       "               '2025-08-07', '2025-08-08', '2025-08-11', '2025-08-12',\n",
       "               '2025-08-13', '2025-08-14'],\n",
       "              dtype='datetime64[ns]', freq='B')"
      ]
     },
     "execution_count": 67,
     "metadata": {},
     "output_type": "execute_result"
    }
   ],
   "source": [
    "# Business days\n",
    "rng_biz = pd.date_range(start=\"2025-08-01\", periods=10, freq=\"B\")\n",
    "rng_biz # excl sat, sun"
   ]
  },
  {
   "cell_type": "code",
   "execution_count": 68,
   "id": "932fb5e6-c5d5-42d6-91dc-4ae7c8034217",
   "metadata": {},
   "outputs": [
    {
     "data": {
      "text/plain": [
       "DatetimeIndex(['2025-01-01', '2025-02-01', '2025-03-01', '2025-04-01',\n",
       "               '2025-05-01', '2025-06-01'],\n",
       "              dtype='datetime64[ns]', freq='MS')"
      ]
     },
     "execution_count": 68,
     "metadata": {},
     "output_type": "execute_result"
    }
   ],
   "source": [
    "# Monthly start dates\n",
    "rng_month_start = pd.date_range(start=\"2025-01-01\", periods=6, freq=\"MS\")\n",
    "rng_month_start"
   ]
  },
  {
   "cell_type": "markdown",
   "id": "ff49a66a-9067-4e8e-9ac1-8c998d628fc0",
   "metadata": {},
   "source": [
    "### Build a Tiny Time Series & Plot It\n",
    "- create a synthetic daily **sales** series and plot it."
   ]
  },
  {
   "cell_type": "code",
   "execution_count": 70,
   "id": "ac2a80bb-abb3-4dfa-b229-31297b5e17f1",
   "metadata": {},
   "outputs": [
    {
     "data": {
      "text/plain": [
       "2025-07-15    100.496714\n",
       "2025-07-16    100.358450\n",
       "2025-07-17    101.006138\n",
       "2025-07-18    102.529168\n",
       "2025-07-19    102.295015\n",
       "Freq: D, dtype: float64"
      ]
     },
     "execution_count": 70,
     "metadata": {},
     "output_type": "execute_result"
    }
   ],
   "source": [
    "import numpy as np\n",
    "import matplotlib.pyplot as plt\n",
    "\n",
    "np.random.seed(42)\n",
    "dates = pd.date_range(\"2025-07-15\", periods=30, freq=\"D\")\n",
    "sales = pd.Series(100 + np.random.randn(30).cumsum(), index=dates)\n",
    "sales.head()"
   ]
  },
  {
   "cell_type": "code",
   "execution_count": 71,
   "id": "1d29e0c8-b104-4aee-ad98-b280062161b4",
   "metadata": {},
   "outputs": [
    {
     "data": {
      "image/png": "[encoded data removed]",
      "text/plain": [
       "<Figure size 800x400 with 1 Axes>"
      ]
     },
     "metadata": {},
     "output_type": "display_data"
    }
   ],
   "source": [
    "plt.figure(figsize=(8, 4))\n",
    "plt.plot(sales.index, sales.values)\n",
    "plt.title(\"Daily Sales (Synthetic)\")\n",
    "plt.xlabel(\"Date\")\n",
    "plt.ylabel(\"Sales\")\n",
    "plt.tight_layout()\n",
    "plt.show()"
   ]
  },
  {
   "cell_type": "markdown",
   "id": "16627c29-1f47-4020-aacd-fa0cb09ce53d",
   "metadata": {},
   "source": [
    "### Resample a Time Series\n",
    "- Aggregate daily data to **weekly** or **monthly** summaries."
   ]
  },
  {
   "cell_type": "code",
   "execution_count": 77,
   "id": "e45a05b2-9113-4437-96a3-67a4fa010ed9",
   "metadata": {},
   "outputs": [
    {
     "name": "stdout",
     "output_type": "stream",
     "text": [
      "Actual Data\n",
      " 2025-07-15    100.496714\n",
      "2025-07-16    100.358450\n",
      "2025-07-17    101.006138\n",
      "2025-07-18    102.529168\n",
      "2025-07-19    102.295015\n",
      "2025-07-20    102.060878\n",
      "2025-07-21    103.640091\n",
      "2025-07-22    104.407525\n",
      "2025-07-23    103.938051\n",
      "2025-07-24    104.480611\n",
      "Freq: D, dtype: float64\n",
      "\n",
      "Weekly mean:\n",
      "2025-07-20    101.457727\n",
      "2025-07-27    103.975480\n",
      "2025-08-03     99.094734\n",
      "2025-08-10     96.714205\n",
      "2025-08-17     94.750269\n",
      "Freq: W-SUN, dtype: float64\n",
      "\n",
      "Monthly total:\n",
      "2025-07-31    1736.783148\n",
      "2025-08-31    1254.704960\n",
      "Freq: ME, dtype: float64\n"
     ]
    }
   ],
   "source": [
    "weekly = sales.resample(\"W\").mean()\n",
    "monthly = sales.resample(\"ME\").sum()\n",
    "\n",
    "print(\"Actual Data\\n\", sales.head(10))\n",
    "print(\"\\nWeekly mean:\")\n",
    "print(weekly)\n",
    "\n",
    "print(\"\\nMonthly total:\")\n",
    "print(monthly)\n"
   ]
  },
  {
   "cell_type": "code",
   "execution_count": 86,
   "id": "3f4996a4-4a77-4b59-b3ba-68be398d3b09",
   "metadata": {},
   "outputs": [
    {
     "name": "stdout",
     "output_type": "stream",
     "text": [
      " Start / End of Timing in a day  00:00:00 23:59:59.999999\n"
     ]
    }
   ],
   "source": [
    "## Start & End of Day (Timings)\n",
    "from datetime import datetime, time\n",
    "print(' Start / End of Timing in a day ', time.min, time.max)"
   ]
  },
  {
   "cell_type": "code",
   "execution_count": 87,
   "id": "41347637-2716-4442-99f5-7303a83e26d0",
   "metadata": {},
   "outputs": [
    {
     "name": "stdout",
     "output_type": "stream",
     "text": [
      "Actual Date + Time  2025-08-13 10:25:00  ::\n",
      " Start of the Day with time-  2025-08-13 00:00:00  ::\n",
      " End of Day + Time -  2025-08-13 23:59:59.999999\n"
     ]
    }
   ],
   "source": [
    "d = datetime(2025,8,13,10,25)\n",
    "start = datetime.combine(d.date(), time.min)\n",
    "end   = datetime.combine(d.date(), time.max)\n",
    "print('Actual Date + Time ', d, ' ::\\n Start of the Day with time- ', start, ' ::\\n End of Day + Time - ', end)"
   ]
  },
  {
   "cell_type": "markdown",
   "id": "6da2c276-9801-44bc-b3fb-f75bc4451657",
   "metadata": {},
   "source": [
    "## Time Zone\n",
    "- ZoneInfo(\"America/New_York\") automatically switches between EDT (Daylight Saving) and EST (Standard) depending on the date.\n",
    "- You don’t need to manually handle DST transitions; the timezone database knows them.\n",
    "- When you store data, always store in UTC and convert to/from local time zones when displaying or doing user-specific calculations."
   ]
  },
  {
   "cell_type": "code",
   "execution_count": 91,
   "id": "b765f9f1-c49c-4a30-a542-ada9aa831f8e",
   "metadata": {},
   "outputs": [
    {
     "name": "stdout",
     "output_type": "stream",
     "text": [
      "DST datetime: 2025-08-01 12:00:00-04:00 | Offset: -1 day, 20:00:00\n",
      "Standard time datetime: 2025-01-15 12:00:00-05:00 | Offset: -1 day, 19:00:00\n"
     ]
    }
   ],
   "source": [
    "from datetime import datetime\n",
    "from zoneinfo import ZoneInfo  # Built-in in Python 3.9+\n",
    "\n",
    "# Create a datetime during DST in New York (EDT, UTC-4)\n",
    "dt_dst = datetime(2025, 8, 1, 12, 0, tzinfo=ZoneInfo(\"America/New_York\"))\n",
    "print(\"DST datetime:\", dt_dst, \"| Offset:\", dt_dst.utcoffset())\n",
    "\n",
    "# Create a datetime during standard time in New York (EST, UTC-5)\n",
    "dt_est = datetime(2025, 1, 15, 12, 0, tzinfo=ZoneInfo(\"America/New_York\"))\n",
    "print(\"Standard time datetime:\", dt_est, \"| Offset:\", dt_est.utcoffset())"
   ]
  },
  {
   "cell_type": "code",
   "execution_count": 80,
   "id": "9bc764e8-6faa-4e6f-b98b-41612ddde17c",
   "metadata": {},
   "outputs": [
    {
     "name": "stdout",
     "output_type": "stream",
     "text": [
      "DatetimeIndex(['2025-08-13 09:30:00+05:30', '2025-08-13 18:45:00+05:30'], dtype='datetime64[ns, Asia/Kolkata]', freq=None) \n",
      " DatetimeIndex(['2025-08-13 04:00:00+00:00', '2025-08-13 13:15:00+00:00'], dtype='datetime64[ns, UTC]', freq=None)\n"
     ]
    }
   ],
   "source": [
    "ts = pd.to_datetime([\"2025-08-13 09:30\", \"2025-08-13 18:45\"])\n",
    "ts_local = ts.tz_localize(\"Asia/Kolkata\")\n",
    "ts_utc   = ts_local.tz_convert(\"UTC\")\n",
    "print(ts_local, '\\n', ts_utc)"
   ]
  },
  {
   "cell_type": "markdown",
   "id": "bf165cea-2941-4e0f-b0be-59ac60619357",
   "metadata": {},
   "source": [
    "## Dates with Lambda\n"
   ]
  },
  {
   "cell_type": "code",
   "execution_count": 109,
   "id": "cfe480b0-abb9-4b42-8de8-56041821b846",
   "metadata": {},
   "outputs": [
    {
     "data": {
      "text/html": [
       "<div>\n",
       "<style scoped>\n",
       "    .dataframe tbody tr th:only-of-type {\n",
       "        vertical-align: middle;\n",
       "    }\n",
       "\n",
       "    .dataframe tbody tr th {\n",
       "        vertical-align: top;\n",
       "    }\n",
       "\n",
       "    .dataframe thead th {\n",
       "        text-align: right;\n",
       "    }\n",
       "</style>\n",
       "<table border=\"1\" class=\"dataframe\">\n",
       "  <thead>\n",
       "    <tr style=\"text-align: right;\">\n",
       "      <th></th>\n",
       "      <th>Name</th>\n",
       "      <th>DOB</th>\n",
       "      <th>Age</th>\n",
       "      <th>Age_detail</th>\n",
       "    </tr>\n",
       "  </thead>\n",
       "  <tbody>\n",
       "    <tr>\n",
       "      <th>0</th>\n",
       "      <td>Nayeema</td>\n",
       "      <td>1998-07-15</td>\n",
       "      <td>27</td>\n",
       "      <td>relativedelta(years=+27, days=+29)</td>\n",
       "    </tr>\n",
       "    <tr>\n",
       "      <th>1</th>\n",
       "      <td>Suroor</td>\n",
       "      <td>2000-02-29</td>\n",
       "      <td>25</td>\n",
       "      <td>relativedelta(years=+25, months=+5, days=+15)</td>\n",
       "    </tr>\n",
       "    <tr>\n",
       "      <th>2</th>\n",
       "      <td>Mandal</td>\n",
       "      <td>2010-12-01</td>\n",
       "      <td>14</td>\n",
       "      <td>relativedelta(years=+14, months=+8, days=+12)</td>\n",
       "    </tr>\n",
       "  </tbody>\n",
       "</table>\n",
       "</div>"
      ],
      "text/plain": [
       "      Name        DOB  Age                                     Age_detail\n",
       "0  Nayeema 1998-07-15   27             relativedelta(years=+27, days=+29)\n",
       "1   Suroor 2000-02-29   25  relativedelta(years=+25, months=+5, days=+15)\n",
       "2   Mandal 2010-12-01   14  relativedelta(years=+14, months=+8, days=+12)"
      ]
     },
     "execution_count": 109,
     "metadata": {},
     "output_type": "execute_result"
    }
   ],
   "source": [
    "import pandas as pd\n",
    "from datetime import date\n",
    "from dateutil.relativedelta import relativedelta\n",
    "\n",
    "# Sample DataFrame\n",
    "df = pd.DataFrame({ \"Name\": [\"Nayeema\", \"Suroor\", \"Mandal\"],  \"DOB\": [\"1998-07-15\", \"2000-02-29\", \"2010-12-01\"]})\n",
    "\n",
    "# Ensure DOB is in datetime format\n",
    "df[\"DOB\"] = pd.to_datetime(df[\"DOB\"])\n",
    "\n",
    "# Lambda to calculate age in years\n",
    "df[\"Age\"] = df[\"DOB\"].apply(lambda dob: relativedelta(date.today(), dob.date()).years)\n",
    "df[\"Age_detail\"] = df[\"DOB\"].apply(lambda dob: relativedelta(date.today(), dob.date()))\n",
    "df"
   ]
  },
  {
   "cell_type": "code",
   "execution_count": 110,
   "id": "a1068f6a-344a-4802-a2c1-fde79620a2dd",
   "metadata": {},
   "outputs": [
    {
     "data": {
      "text/html": [
       "<div>\n",
       "<style scoped>\n",
       "    .dataframe tbody tr th:only-of-type {\n",
       "        vertical-align: middle;\n",
       "    }\n",
       "\n",
       "    .dataframe tbody tr th {\n",
       "        vertical-align: top;\n",
       "    }\n",
       "\n",
       "    .dataframe thead th {\n",
       "        text-align: right;\n",
       "    }\n",
       "</style>\n",
       "<table border=\"1\" class=\"dataframe\">\n",
       "  <thead>\n",
       "    <tr style=\"text-align: right;\">\n",
       "      <th></th>\n",
       "      <th>Name</th>\n",
       "      <th>DOB</th>\n",
       "      <th>Age</th>\n",
       "      <th>Age_detail</th>\n",
       "    </tr>\n",
       "  </thead>\n",
       "  <tbody>\n",
       "    <tr>\n",
       "      <th>0</th>\n",
       "      <td>Nayeema</td>\n",
       "      <td>1998-07-15</td>\n",
       "      <td>27</td>\n",
       "      <td>relativedelta(years=+27, days=+29)</td>\n",
       "    </tr>\n",
       "    <tr>\n",
       "      <th>1</th>\n",
       "      <td>Suroor</td>\n",
       "      <td>2000-02-29</td>\n",
       "      <td>25</td>\n",
       "      <td>relativedelta(years=+25, months=+5, days=+15)</td>\n",
       "    </tr>\n",
       "    <tr>\n",
       "      <th>2</th>\n",
       "      <td>Mandal</td>\n",
       "      <td>2010-12-01</td>\n",
       "      <td>13</td>\n",
       "      <td>relativedelta(years=+14, months=+8, days=+12)</td>\n",
       "    </tr>\n",
       "  </tbody>\n",
       "</table>\n",
       "</div>"
      ],
      "text/plain": [
       "      Name        DOB  Age                                     Age_detail\n",
       "0  Nayeema 1998-07-15   27             relativedelta(years=+27, days=+29)\n",
       "1   Suroor 2000-02-29   25  relativedelta(years=+25, months=+5, days=+15)\n",
       "2   Mandal 2010-12-01   13  relativedelta(years=+14, months=+8, days=+12)"
      ]
     },
     "execution_count": 110,
     "metadata": {},
     "output_type": "execute_result"
    }
   ],
   "source": [
    "#  Vectorized boolean check for \"has birthday occurred this year?\"\n",
    "has_had_birthday = (df[\"DOB\"].dt.month < today.month) | ((df[\"DOB\"].dt.month == today.month) & (df[\"DOB\"].dt.day <= today.day))\n",
    "df.loc[~has_had_birthday, \"Age\"] -= 1\n",
    "#The boolean comparison (today.month, today.day) < (dob.month, dob.day) adjusts for birthdays that haven’t occurred yet this year.\n",
    "df"
   ]
  },
  {
   "cell_type": "code",
   "execution_count": 103,
   "id": "19d62fda-fc02-4921-be29-4efdac6bb77f",
   "metadata": {},
   "outputs": [
    {
     "data": {
      "text/plain": [
       "0    27\n",
       "1    25\n",
       "2    15\n",
       "Name: DOB, dtype: int32"
      ]
     },
     "execution_count": 103,
     "metadata": {},
     "output_type": "execute_result"
    }
   ],
   "source": [
    "(today.year - df[\"DOB\"].dt.year) "
   ]
  },
  {
   "cell_type": "code",
   "execution_count": 105,
   "id": "f711f653-33f9-401d-8ccd-b125ef7f273f",
   "metadata": {},
   "outputs": [
    {
     "data": {
      "text/plain": [
       "0    False\n",
       "1    False\n",
       "2     True\n",
       "Name: DOB, dtype: bool"
      ]
     },
     "execution_count": 105,
     "metadata": {},
     "output_type": "execute_result"
    }
   ],
   "source": [
    "today.month < df[\"DOB\"].dt.month"
   ]
  },
  {
   "cell_type": "code",
   "execution_count": 106,
   "id": "d3e2bdef-0c0d-4c7a-a9b3-36eb597242c0",
   "metadata": {},
   "outputs": [
    {
     "data": {
      "text/plain": [
       "0     True\n",
       "1     True\n",
       "2    False\n",
       "Name: DOB, dtype: bool"
      ]
     },
     "execution_count": 106,
     "metadata": {},
     "output_type": "execute_result"
    }
   ],
   "source": [
    "today.day < df[\"DOB\"].dt.day"
   ]
  },
  {
   "cell_type": "markdown",
   "id": "7f3f08fd-4427-410c-951d-4b0459537318",
   "metadata": {},
   "source": [
    "## End Here"
   ]
  },
  {
   "cell_type": "markdown",
   "id": "9c16c62e-8e35-40dc-baa5-3cd00b018f68",
   "metadata": {},
   "source": [
    "### FAQ\n",
    "- How do you get today’s date and current time?\n",
    "- Difference between date, time, and datetime?\n",
    "- How do you add 7 days to a date?\n",
    "- Parse a string into a datetime (strptime) and format back (strftime):\n",
    "- Why can’t timedelta give years/months? What to use instead?\n",
    "- Calculate age from DOB accurately (Y/M/D)?\n",
    "- Convert a datetime to Unix timestamp and back?\n",
    "- How to create timezone-aware datetimes in Python 3.9+ (zoneinfo)?\n",
    "- How do you safely store datetimes in databases/APIs?\n",
    "- Get start/end of day for a given datetime?\n",
    "- Round/truncate a datetime to the nearest minute?\n",
    "- PANDAS\n",
    "    - Best way to parse a date column in pandas?\n",
    "    - Set a parsed date column as index for time-series ops:\n",
    "    - Compute difference between two timestamp columns in days/hours:\n",
    "    - Resample daily data to monthly totals/means:\n",
    "    - Generate a sequence of business days or month-starts:\n",
    "    - Handle mixed/ambiguous date formats in a single column?\n",
    "    - Create a rolling 7-day mean on a daily series:\n",
    "    - Plot a simple time series in pandas/matplotlib:\n",
    "-  Why Qs\n",
    "    - When would you choose relativedelta over timedelta?\n",
    "    - Why can parsing the same string give different dates?"
   ]
  },
  {
   "cell_type": "code",
   "execution_count": null,
   "id": "fb714370-44b2-4fa3-8d42-98d3dc23b44f",
   "metadata": {},
   "outputs": [],
   "source": []
  }
 ],
 "metadata": {
  "kernelspec": {
   "display_name": "Python 3 (ipykernel)",
   "language": "python",
   "name": "python3"
  },
  "language_info": {
   "codemirror_mode": {
    "name": "ipython",
    "version": 3
   },
   "file_extension": ".py",
   "mimetype": "text/x-python",
   "name": "python",
   "nbconvert_exporter": "python",
   "pygments_lexer": "ipython3",
   "version": "3.12.7"
  }
 },
 "nbformat": 4,
 "nbformat_minor": 5
}
