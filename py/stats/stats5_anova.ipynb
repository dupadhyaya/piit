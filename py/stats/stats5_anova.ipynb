{
 "cells": [
  {
   "cell_type": "markdown",
   "id": "dfed7c35-e1ab-410a-bb6f-71e85b8abab4",
   "metadata": {},
   "source": [
    "## ANOVA\n",
    "- ANOVA (Analysis of Variance) is a statistical test used to compare the means of three or more independent groups to determine if there are significant differences between them"
   ]
  },
  {
   "attachments": {
    "42f62b18-67bf-4f79-ab73-70d1659ed2bd.png": {
     "image/png": "[encoded data removed]"
    }
   },
   "cell_type": "markdown",
   "id": "b1bfe2d6-44c0-4d82-ab94-19de2d616b16",
   "metadata": {},
   "source": [
    "## Q1 \n",
    "- A manufacturing coy has purchased 3 new machines A, B, C of different makes and wishes to determine whether one of them is faster than the other in producing a certain item. From hourly production figures are observed at random from each machine and the results are given below\n",
    "- Use ANOVA to test whether machines differ significantly.\n",
    "- ![image.png](attachment:42f62b18-67bf-4f79-ab73-70d1659ed2bd.png)\n",
    "- This is a One-Way ANOVA problem (Analysis of Variance).\n",
    "- We have to test whether the mean production of the three machines A, B, and C are significantly different.\n",
    "- Hypothesis : Ho : mu1 = mu2 = mu3 ; Ha : At least one mean in different"
   ]
  },
  {
   "cell_type": "code",
   "execution_count": 3,
   "id": "efc2b8b5-8a7f-41d9-b037-e196a8d14fea",
   "metadata": {},
   "outputs": [],
   "source": [
    "import scipy.stats as stats\n",
    "import numpy as np"
   ]
  },
  {
   "cell_type": "code",
   "execution_count": 4,
   "id": "4fb2f65d-898a-49e9-abe6-b9c304125cf5",
   "metadata": {},
   "outputs": [],
   "source": [
    "# Data\n",
    "A = [20, 21, 23, 16, 20]\n",
    "B = [18, 20, 17, 25, 15]\n",
    "C = [25, 28, 22, 28, 32]"
   ]
  },
  {
   "cell_type": "code",
   "execution_count": 5,
   "id": "d3b37164-50ca-4bb1-b39a-401464b48526",
   "metadata": {},
   "outputs": [
    {
     "name": "stdout",
     "output_type": "stream",
     "text": [
      "20.0 19.0 27.0\n"
     ]
    }
   ],
   "source": [
    "print(np.mean(A), np.mean(B), np.mean(C))"
   ]
  },
  {
   "cell_type": "code",
   "execution_count": 6,
   "id": "46244cde-4417-4c86-9cb0-8576a22c74bf",
   "metadata": {},
   "outputs": [
    {
     "name": "stdout",
     "output_type": "stream",
     "text": [
      "F-statistic = 8.143\n",
      "p-value = 0.0058\n"
     ]
    }
   ],
   "source": [
    "# One-way ANOVA\n",
    "f_stat, p_value = stats.f_oneway(A, B, C)\n",
    "\n",
    "print(f\"F-statistic = {f_stat:.3f}\")\n",
    "print(f\"p-value = {p_value:.4f}\")"
   ]
  },
  {
   "cell_type": "markdown",
   "id": "32d17b5f-b0ae-43c7-b56e-958eae1fbe5c",
   "metadata": {},
   "source": [
    "- pvalue = 0.0058 < 0.05 : Reject Ho\n",
    "- There is a significant difference between the mean productions of the three machines.\n",
    "- Machine C has a much higher average production — it’s likely the fastest.\n",
    "- Machine C appears to produce significantly more units per hour than A and B."
   ]
  },
  {
   "attachments": {
    "72b2bf23-8784-4462-8102-4f001cb613d2.png": {
     "image/png": "[encoded data removed]"
    }
   },
   "cell_type": "markdown",
   "id": "308deec6-2ba6-4052-a2dd-e49322849094",
   "metadata": {},
   "source": [
    "## Q2 : Two-Way ANOVA without replication problem\n",
    "- Following Data represent the no of units of a product by 3 different workers using 3 different types of machines\n",
    "- ![image.png](attachment:72b2bf23-8784-4462-8102-4f001cb613d2.png)\n",
    "- Test\n",
    "    - Whether the mean productivity is the same for the different machine types\n",
    "    - Whether the 3 workers differ with respect to mean productivity\n",
    "- We have:\n",
    "    - Factor 1: Type of Detergent (A, B, C)\n",
    "    - Factor 2: Worker (X, Y, Z)\n",
    "    - Each cell contains one observation (number of units produced).\n",
    "- We want to test:\n",
    "\t1.\tWhether mean productivity differs across detergents (machine types).\n",
    "\t2.\tWhether mean productivity differs across workers."
   ]
  },
  {
   "cell_type": "markdown",
   "id": "aa8790ef-e14a-4037-b4c4-4ec64b13ffea",
   "metadata": {},
   "source": [
    "- Tests\n",
    "    - Null hypothesis Ho\n",
    "        - Detergents : Mean productivity is same for all detergents (At least one detergent differs)\n",
    "        - Workers : Mean productivity is same for all worker (At least one worker differs)"
   ]
  },
  {
   "cell_type": "code",
   "execution_count": 11,
   "id": "0d9a030c-4fd0-447f-8076-d486f49ec44e",
   "metadata": {},
   "outputs": [],
   "source": [
    "import pandas as pd\n",
    "from statsmodels.stats.anova import anova_lm\n",
    "import statsmodels.api as sm\n",
    "from statsmodels.formula.api import ols"
   ]
  },
  {
   "cell_type": "code",
   "execution_count": 12,
   "id": "f82a6450-784d-4264-a154-34a8934f42b9",
   "metadata": {},
   "outputs": [
    {
     "data": {
      "text/html": [
       "<div>\n",
       "<style scoped>\n",
       "    .dataframe tbody tr th:only-of-type {\n",
       "        vertical-align: middle;\n",
       "    }\n",
       "\n",
       "    .dataframe tbody tr th {\n",
       "        vertical-align: top;\n",
       "    }\n",
       "\n",
       "    .dataframe thead th {\n",
       "        text-align: right;\n",
       "    }\n",
       "</style>\n",
       "<table border=\"1\" class=\"dataframe\">\n",
       "  <thead>\n",
       "    <tr style=\"text-align: right;\">\n",
       "      <th></th>\n",
       "      <th>Worker</th>\n",
       "      <th>Detergent</th>\n",
       "      <th>Units</th>\n",
       "    </tr>\n",
       "  </thead>\n",
       "  <tbody>\n",
       "    <tr>\n",
       "      <th>0</th>\n",
       "      <td>X</td>\n",
       "      <td>A</td>\n",
       "      <td>8</td>\n",
       "    </tr>\n",
       "    <tr>\n",
       "      <th>1</th>\n",
       "      <td>X</td>\n",
       "      <td>B</td>\n",
       "      <td>32</td>\n",
       "    </tr>\n",
       "    <tr>\n",
       "      <th>2</th>\n",
       "      <td>X</td>\n",
       "      <td>C</td>\n",
       "      <td>20</td>\n",
       "    </tr>\n",
       "    <tr>\n",
       "      <th>3</th>\n",
       "      <td>Y</td>\n",
       "      <td>A</td>\n",
       "      <td>28</td>\n",
       "    </tr>\n",
       "    <tr>\n",
       "      <th>4</th>\n",
       "      <td>Y</td>\n",
       "      <td>B</td>\n",
       "      <td>36</td>\n",
       "    </tr>\n",
       "    <tr>\n",
       "      <th>5</th>\n",
       "      <td>Y</td>\n",
       "      <td>C</td>\n",
       "      <td>38</td>\n",
       "    </tr>\n",
       "    <tr>\n",
       "      <th>6</th>\n",
       "      <td>Z</td>\n",
       "      <td>A</td>\n",
       "      <td>6</td>\n",
       "    </tr>\n",
       "    <tr>\n",
       "      <th>7</th>\n",
       "      <td>Z</td>\n",
       "      <td>B</td>\n",
       "      <td>28</td>\n",
       "    </tr>\n",
       "    <tr>\n",
       "      <th>8</th>\n",
       "      <td>Z</td>\n",
       "      <td>C</td>\n",
       "      <td>14</td>\n",
       "    </tr>\n",
       "  </tbody>\n",
       "</table>\n",
       "</div>"
      ],
      "text/plain": [
       "  Worker Detergent  Units\n",
       "0      X         A      8\n",
       "1      X         B     32\n",
       "2      X         C     20\n",
       "3      Y         A     28\n",
       "4      Y         B     36\n",
       "5      Y         C     38\n",
       "6      Z         A      6\n",
       "7      Z         B     28\n",
       "8      Z         C     14"
      ]
     },
     "execution_count": 12,
     "metadata": {},
     "output_type": "execute_result"
    }
   ],
   "source": [
    "# Create data\n",
    "data = {\n",
    "    'Worker': ['X', 'X', 'X', 'Y', 'Y', 'Y', 'Z', 'Z', 'Z'],\n",
    "    'Detergent': ['A', 'B', 'C', 'A', 'B', 'C', 'A', 'B', 'C'],\n",
    "    'Units': [8, 32, 20, 28, 36, 38, 6, 28, 14]\n",
    "}\n",
    "df = pd.DataFrame(data)\n",
    "df"
   ]
  },
  {
   "cell_type": "raw",
   "id": "e4dedc43-0627-4ad0-8d11-3384c05c714a",
   "metadata": {},
   "source": [
    "# Two-way ANOVA (no replication) : Error\n",
    "model = ols('Units ~ C(Worker) + C(Detergent)', data=df).fit()\n",
    "anova_table = sm.stats.anova_lm(model, typ=2)\n",
    "\n",
    "print(anova_table)"
   ]
  },
  {
   "cell_type": "markdown",
   "id": "654c03d8-9c01-4d3b-93ef-4ecf4640c2f9",
   "metadata": {},
   "source": [
    "Both factors are significant:\n",
    "\t•\tThe type of detergent (machine) affects productivity.\n",
    "\t•\tThe workers also differ significantly in mean productivity.\n",
    "\n",
    "So productivity depends on both worker and machine type."
   ]
  },
  {
   "cell_type": "code",
   "execution_count": null,
   "id": "7e567e2c-8ba0-4d3c-b45a-391e2cdb0f04",
   "metadata": {},
   "outputs": [],
   "source": [
    "## end of ANOVA"
   ]
  }
 ],
 "metadata": {
  "kernelspec": {
   "display_name": "Python 3 (ipykernel)",
   "language": "python",
   "name": "python3"
  },
  "language_info": {
   "codemirror_mode": {
    "name": "ipython",
    "version": 3
   },
   "file_extension": ".py",
   "mimetype": "text/x-python",
   "name": "python",
   "nbconvert_exporter": "python",
   "pygments_lexer": "ipython3",
   "version": "3.12.11"
  }
 },
 "nbformat": 4,
 "nbformat_minor": 5
}
