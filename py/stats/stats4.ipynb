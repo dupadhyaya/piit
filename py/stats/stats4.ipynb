{
 "cells": [
  {
   "cell_type": "markdown",
   "id": "b9dbad90-a4e5-42ae-ba3f-1f899d68aee4",
   "metadata": {},
   "source": [
    "## Statistics - 5 : Hypothesis Tests\n",
    "- this is one of the most important and practical topics in statistics for data analysts and data scientists.\n",
    "- Hypothesis testing is a statistical method used to make decisions or inferences about a population using sample data. It helps answer questions like:\n",
    "    - “Is the average income higher this year?”\n",
    "    - “Do two groups have different means?”\n",
    "    - “Are two variables related?”\n",
    "- Concept\n",
    "    - Null hypothesis (H₀) : there’s no effect or no difference (the default assumption\n",
    "    - Alternative hypothesis (H₁ or Hₐ) : There is an effect or difference\n",
    "- Steps\n",
    "    - Collect sample data\n",
    "    - Choose a test & significance level (usually α = 0.05)\n",
    "    - Compute a test statistic and p-value\n",
    "    - Reject or fail to reject H₀"
   ]
  },
  {
   "cell_type": "code",
   "execution_count": null,
   "id": "d26744f0-ec24-45fe-96da-22387455b007",
   "metadata": {},
   "outputs": [],
   "source": []
  },
  {
   "cell_type": "markdown",
   "id": "ab55c459-8396-41f9-8703-8388c9c49666",
   "metadata": {},
   "source": [
    "#### Example\n",
    "- A company claims the average battery life is 10 hours. You test 30 samples — is the mean really 10 hours?\n",
    "    - H₀: μ = 10\n",
    "    - H₁: μ ≠ 10\n",
    "- If p-value < 0.05 → reject H₀ → significant difference."
   ]
  },
  {
   "cell_type": "markdown",
   "id": "1a81090c-bcc3-4c79-aa9a-475e0e5af1bd",
   "metadata": {},
   "source": [
    "## Types of Hypothesis \n",
    "- Type : Used for: Data Types : Python Function\n",
    "- One-sample t-test : Compare sample mean to a known value : Continuous : scipy.stats.ttest_1samp()\n",
    "- Two-sample t-test : Compare means of two independent groups Continuous scipy.stats.ttest_ind()\n",
    "- Paired t-test Compare means of two related samples Continuous (paired) scipy.stats.ttest_rel()\n",
    "- Chi-square test : Test association between categorical variables Categorical scipy.stats.chi2_contingency()\n",
    "- ANOVA (F-test) : Compare means across 3+ groups Continuous scipy.stats.f_oneway()\n",
    "- Mann–Whitney U / Wilcoxon Non-parametric alternativesContinuous (non-normal) mannwhitneyu(), wilcoxon()\n",
    "- Z-test Compare means with known σ (large samples) Continuous statsmodels.stats.weightstats.ztest()\n"
   ]
  },
  {
   "cell_type": "markdown",
   "id": "e1ed1ed6-76f0-4ebd-bae9-8e3803abcb06",
   "metadata": {},
   "source": [
    "### 1-sample t-test\n",
    "- Compare sample mean to a known population mean."
   ]
  },
  {
   "cell_type": "code",
   "execution_count": 4,
   "id": "9a7a52ad-6ec0-4fc9-a234-47e69822b3fc",
   "metadata": {},
   "outputs": [
    {
     "data": {
      "text/plain": [
       "array([62.28896527, 52.07590173, 56.75196727, 51.19010169, 55.2892113 ,\n",
       "       48.35897034, 58.20114342, 49.01821369, 52.23667603, 52.12417957,\n",
       "       54.21118476, 43.77920379, 43.60226687, 49.55373582, 51.27167881,\n",
       "       47.61200986, 55.97088067, 52.28056548, 49.23902399, 53.35787223,\n",
       "       54.88321158, 48.7569575 , 66.25046707, 50.93151616, 54.74706102,\n",
       "       52.96020512, 48.98916399, 53.41586877, 46.66372834, 45.960507  ])"
      ]
     },
     "execution_count": 4,
     "metadata": {},
     "output_type": "execute_result"
    }
   ],
   "source": [
    "from scipy.stats import ttest_1samp\n",
    "import numpy as np\n",
    "data = np.random.normal(loc=52, scale=5, size=30)  # sample data\n",
    "data"
   ]
  },
  {
   "cell_type": "code",
   "execution_count": 5,
   "id": "fc4d72bc-dbd4-4341-92f1-1ac683759306",
   "metadata": {},
   "outputs": [
    {
     "name": "stdout",
     "output_type": "stream",
     "text": [
      "t-statistic: 2.29955245499454\n",
      "p-value: 0.028865919531279902\n"
     ]
    }
   ],
   "source": [
    "t_stat, p_val = ttest_1samp(data, popmean=50)\n",
    "\n",
    "print(\"t-statistic:\", t_stat)\n",
    "print(\"p-value:\", p_val)"
   ]
  },
  {
   "cell_type": "markdown",
   "id": "7f3bf449-2415-4a19-863f-23a169f75687",
   "metadata": {},
   "source": [
    "### Interpretation:\n",
    "    - If p_val < 0.05 → Reject H₀ (mean ≠ 50)\n",
    "    - If p_val ≥ 0.05 → Fail to reject H₀"
   ]
  },
  {
   "cell_type": "markdown",
   "id": "c3aec84a-3338-4f78-ad62-903a88add84f",
   "metadata": {},
   "source": [
    "###  Independent two-sample t-test\n",
    "- Compare means of two independent groups\n",
    "- If p < 0.05 → significant difference between groups."
   ]
  },
  {
   "cell_type": "code",
   "execution_count": 8,
   "id": "fdd2390f-5977-4570-a0da-4e223dd54a25",
   "metadata": {},
   "outputs": [
    {
     "name": "stdout",
     "output_type": "stream",
     "text": [
      "Group-1 : [47.47987833 51.85860605 51.09450048 53.55713543 52.89833559 44.99536402\n",
      " 43.74301688 51.9590903  54.31806811 55.98190912 51.73069469 44.14466685\n",
      " 48.84763026 45.59430492 48.09161632 32.732473   48.15366543 47.10495119\n",
      " 52.18559773 46.91124775 52.17690541 56.6237015  44.25143106 54.13268793\n",
      " 56.72379819 51.40371814 50.13592168 38.52090977 47.87356382 61.46907978] \n",
      " Group-2 :  [56.09587375 61.03347648 55.23287278 58.90798595 54.99822806 54.21570387\n",
      " 52.49324774 61.30676023 47.03245832 55.84652348 51.68022911 52.43686413\n",
      " 49.46014832 52.80947801 56.88467372 51.85601864 61.59309644 61.25058275\n",
      " 58.26906506 45.86440357 57.64103867 63.74562356 56.3419423  52.53025442\n",
      " 45.72823664 58.94695114 60.14892247 56.54707219 57.84408537 50.45921636]\n"
     ]
    }
   ],
   "source": [
    "from scipy.stats import ttest_ind\n",
    "\n",
    "group1 = np.random.normal(50, 5, 30)\n",
    "group2 = np.random.normal(55, 5, 30)\n",
    "print(\"Group-1 :\", group1, '\\n Group-2 : ', group2)"
   ]
  },
  {
   "cell_type": "code",
   "execution_count": 9,
   "id": "4e826361-8ab8-4d9e-937c-c654c58c30d7",
   "metadata": {},
   "outputs": [
    {
     "name": "stdout",
     "output_type": "stream",
     "text": [
      "t-statistic: -4.236181351707093 p-value: 8.233721967178027e-05\n"
     ]
    }
   ],
   "source": [
    "t_stat, p_val = ttest_ind(group1, group2)\n",
    "print(\"t-statistic:\", t_stat, \"p-value:\", p_val)"
   ]
  },
  {
   "cell_type": "markdown",
   "id": "280874b9-05dd-4e38-872a-a985730341c1",
   "metadata": {},
   "source": [
    "### Paired t-test\n",
    "- For before/after or matched pairs.\n",
    "-  If p < 0.05 → the treatment had a significant effect."
   ]
  },
  {
   "cell_type": "code",
   "execution_count": 10,
   "id": "65422dfa-9e3f-4e4f-949e-d17944b5f22c",
   "metadata": {},
   "outputs": [
    {
     "name": "stdout",
     "output_type": "stream",
     "text": [
      "Before : [ 94.03582845  87.36025955 113.4461476   98.25346308 102.34241127\n",
      "  86.13881563 117.24706098  90.99590207 117.3217878  102.84971186\n",
      "  82.0403358   89.03662116 110.75427926  92.87408724  99.0164769\n",
      " 107.37701213 107.78272092  93.72752394  81.29905174 108.86870209\n",
      "  93.44449029 114.10109758  94.04648774  91.04525947  85.55498216\n",
      "  92.40257636 111.58405325  93.40363557 111.78916321  99.87785873] \n",
      " After :  [ 85.90637501  86.05537151 114.87334063  92.78201381  96.80756785\n",
      "  81.08835045 109.69092238  82.09209268 112.9014592   95.36182133\n",
      "  73.94986854  82.48221542 110.26231328  84.1547615   95.92004097\n",
      " 101.50841566 104.62053661  92.03337104  81.10796473  97.39281957\n",
      "  86.71442835 105.1279175   84.8759178   86.97923091  84.41431718\n",
      "  86.01177987 105.18575264  91.08049623 109.62496086  97.83857692]\n"
     ]
    }
   ],
   "source": [
    "from scipy.stats import ttest_rel\n",
    "\n",
    "before = np.random.normal(100, 10, 30)\n",
    "after = before - np.random.normal(5, 3, 30)  # after treatment\n",
    "print(\"Before :\", before, '\\n After : ', after)"
   ]
  },
  {
   "cell_type": "code",
   "execution_count": 11,
   "id": "d6432e34-2abd-4fd8-98db-ed985d89dd82",
   "metadata": {},
   "outputs": [
    {
     "name": "stdout",
     "output_type": "stream",
     "text": [
      "t-statistic: 8.535966992141878 p-value: 2.1032123660247787e-09\n"
     ]
    }
   ],
   "source": [
    "t_stat, p_val = ttest_rel(before, after)\n",
    "print(\"t-statistic:\", t_stat, \"p-value:\", p_val)"
   ]
  },
  {
   "cell_type": "markdown",
   "id": "6cb2aec9-c856-491d-94fb-372ae2f39bc9",
   "metadata": {},
   "source": [
    "### Chi-square test\n",
    "-  Check if two categorical variables are related.\n",
    "-  If p < 0.05 → significant relationship between gender & product liking."
   ]
  },
  {
   "cell_type": "code",
   "execution_count": 13,
   "id": "173179b7-923e-459b-a1ad-d185461daace",
   "metadata": {},
   "outputs": [
    {
     "data": {
      "text/html": [
       "<div>\n",
       "<style scoped>\n",
       "    .dataframe tbody tr th:only-of-type {\n",
       "        vertical-align: middle;\n",
       "    }\n",
       "\n",
       "    .dataframe tbody tr th {\n",
       "        vertical-align: top;\n",
       "    }\n",
       "\n",
       "    .dataframe thead th {\n",
       "        text-align: right;\n",
       "    }\n",
       "</style>\n",
       "<table border=\"1\" class=\"dataframe\">\n",
       "  <thead>\n",
       "    <tr style=\"text-align: right;\">\n",
       "      <th></th>\n",
       "      <th>Male</th>\n",
       "      <th>Female</th>\n",
       "    </tr>\n",
       "  </thead>\n",
       "  <tbody>\n",
       "    <tr>\n",
       "      <th>Like Product</th>\n",
       "      <td>30</td>\n",
       "      <td>20</td>\n",
       "    </tr>\n",
       "    <tr>\n",
       "      <th>Don’t Like</th>\n",
       "      <td>10</td>\n",
       "      <td>40</td>\n",
       "    </tr>\n",
       "  </tbody>\n",
       "</table>\n",
       "</div>"
      ],
      "text/plain": [
       "              Male  Female\n",
       "Like Product    30      20\n",
       "Don’t Like      10      40"
      ]
     },
     "execution_count": 13,
     "metadata": {},
     "output_type": "execute_result"
    }
   ],
   "source": [
    "import pandas as pd\n",
    "from scipy.stats import chi2_contingency\n",
    "\n",
    "# Example contingency table\n",
    "data = pd.DataFrame({\n",
    "    \"Male\": [30, 10],\n",
    "    \"Female\": [20, 40]\n",
    "}, index=[\"Like Product\", \"Don’t Like\"])\n",
    "data"
   ]
  },
  {
   "cell_type": "code",
   "execution_count": 14,
   "id": "7bc12ead-9c12-4cb7-85e8-4b4554b6391b",
   "metadata": {},
   "outputs": [
    {
     "name": "stdout",
     "output_type": "stream",
     "text": [
      "Chi2: 15.041666666666668\n",
      "p-value: 0.00010516355403363098\n"
     ]
    }
   ],
   "source": [
    "chi2, p, dof, expected = chi2_contingency(data)\n",
    "\n",
    "print(\"Chi2:\", chi2)\n",
    "print(\"p-value:\", p)"
   ]
  },
  {
   "cell_type": "markdown",
   "id": "371611f3-6ec3-4eb4-97ad-61c68d9e8b12",
   "metadata": {},
   "source": [
    "### ANOVA (3 or more groups)\n",
    "- Compare multiple group means.\n",
    "- If p < 0.05 → at least one group mean differs."
   ]
  },
  {
   "cell_type": "code",
   "execution_count": 22,
   "id": "cdea154e-69c0-4135-a8f1-e48ed4fa33e8",
   "metadata": {},
   "outputs": [
    {
     "name": "stdout",
     "output_type": "stream",
     "text": [
      "A :  [60.18111109 43.4000289  52.92207134 52.24422786 49.05249784 47.60813103\n",
      " 54.65026133 53.23530838 44.63877391 48.81749339 55.07362344 44.23141224\n",
      " 46.54878909 46.17126169 44.88041306 46.93097282 42.34764063 46.77294834\n",
      " 52.70930282 47.66502598 46.63311881 52.50644369 51.91737559 51.33443895\n",
      " 51.0000101  52.52539207 56.35455549 53.04171157 47.38368295 52.25537735] \n",
      " B:  [63.18329234 58.85694196 51.04221887 54.27945464 57.91220326 59.71694109\n",
      " 53.44021224 54.73851503 56.78792109 52.59203912 62.34134485 56.51436573\n",
      " 57.50449722 58.67649594 56.70892804 56.44976295 61.62306149 48.18326207\n",
      " 57.36650913 57.70655646 49.24454484 50.49926561 62.00670095 54.05602113\n",
      " 53.64051443 57.11267007 58.65413363 59.84972172 49.56514147 55.32282033] \n",
      " C:  [60.69629092 50.37692211 59.20402925 57.1958843  63.48125623 59.43245697\n",
      " 68.2203806  60.47004382 67.53289614 61.17308433 63.25018951 58.23660683\n",
      " 59.82269122 65.17353437 50.0757448  58.69172744 60.33184399 60.20038415\n",
      " 56.67888411 65.92930134 59.45999194 59.56700218 57.91951753 62.49013937\n",
      " 62.3033682  62.27114547 48.86987226 57.53277074 61.59311971 54.99880482]\n"
     ]
    }
   ],
   "source": [
    "from scipy.stats import f_oneway\n",
    "\n",
    "groupA = np.random.normal(50, 5, 30)\n",
    "groupB = np.random.normal(55, 5, 30)\n",
    "groupC = np.random.normal(60, 5, 30)\n",
    "print('A : ', groupA, '\\n B: ',  groupB, '\\n C: ', groupC)"
   ]
  },
  {
   "cell_type": "code",
   "execution_count": null,
   "id": "9b515047-e4c1-4ac6-bf50-7fe8bbb283ff",
   "metadata": {},
   "outputs": [],
   "source": [
    "f_stat, p_val = f_oneway(groupA, groupB, groupC)\n",
    "print(\"F-statistic:\", f_stat, \"p-value:\", p_val)"
   ]
  },
  {
   "cell_type": "markdown",
   "id": "f5a7f40a-8704-46b4-95e2-6e91ee90f867",
   "metadata": {},
   "source": [
    "## Which test to do"
   ]
  },
  {
   "cell_type": "markdown",
   "id": "64d64c9c-8555-4a2d-955b-eaf97a86644a",
   "metadata": {},
   "source": [
    "- practice each path in Python:\n",
    "    - One-sample t-test → compare sample mean vs known mean\n",
    "    - Chi-square test → compare survey responses (gender × preference)\n",
    "    - ANOVA → compare scores across departments\n",
    "    - Correlation → analyze mpg vs wt in the mtcars dataset"
   ]
  },
  {
   "attachments": {
    "822f943a-ee57-4b6e-a985-c6cf7883b3a0.png": {
     "image/png": "[encoded data removed]"
    }
   },
   "cell_type": "markdown",
   "id": "14523fef-b6be-450f-a4b6-f48949025f62",
   "metadata": {},
   "source": [
    "![image.png](attachment:822f943a-ee57-4b6e-a985-c6cf7883b3a0.png)"
   ]
  },
  {
   "cell_type": "markdown",
   "id": "2c396875-0ab9-4eec-bd7b-b0a1edefd1ba",
   "metadata": {},
   "source": []
  },
  {
   "cell_type": "code",
   "execution_count": null,
   "id": "0f2366bf-9c8d-4547-ae89-6535e761a6a0",
   "metadata": {},
   "outputs": [],
   "source": []
  }
 ],
 "metadata": {
  "kernelspec": {
   "display_name": "Python 3 (ipykernel)",
   "language": "python",
   "name": "python3"
  },
  "language_info": {
   "codemirror_mode": {
    "name": "ipython",
    "version": 3
   },
   "file_extension": ".py",
   "mimetype": "text/x-python",
   "name": "python",
   "nbconvert_exporter": "python",
   "pygments_lexer": "ipython3",
   "version": "3.12.11"
  }
 },
 "nbformat": 4,
 "nbformat_minor": 5
}
