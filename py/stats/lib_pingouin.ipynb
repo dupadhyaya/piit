{
 "cells": [
  {
   "cell_type": "markdown",
   "id": "4c41cf8d-935b-42e9-b3b8-cbc56a401902",
   "metadata": {},
   "source": [
    "# Pingouin Library\n",
    "- https://pingouin-stats.org/build/html/index.html"
   ]
  },
  {
   "cell_type": "code",
   "execution_count": 3,
   "id": "88169734-a182-44e1-a468-3110de884259",
   "metadata": {},
   "outputs": [],
   "source": [
    "#!pip install pingouin"
   ]
  },
  {
   "cell_type": "markdown",
   "id": "175d1663-455e-4f28-a313-e9b80804c083",
   "metadata": {},
   "source": [
    "## T- Tests\n",
    "- pg.ttest(data_group1, data_group2, correction = True/False)\n",
    "- data_group1: First data group-\n",
    "- data_group2: Second data group\n",
    "- correction = \"True\": The standard independent two sample t-test will be conducted by taking into consideration the homogeneity assumption.\n",
    "- correction = \"False\": The Welch’s t-test will be conducted by not taking into consideration the homogeneity assumption."
   ]
  },
  {
   "cell_type": "code",
   "execution_count": 1,
   "id": "df11bb47-baef-473f-8a86-a0a0eda0c200",
   "metadata": {},
   "outputs": [],
   "source": [
    "import numpy as np\n",
    "import pingouin as pg"
   ]
  },
  {
   "cell_type": "code",
   "execution_count": 2,
   "id": "63348243-b031-49c5-9512-69ae1faf80e6",
   "metadata": {},
   "outputs": [],
   "source": [
    "np.random.seed(123)\n",
    "mean, cov, n = [4, 5], [(1, .6), (.6, 1)], 30\n",
    "x, y = np.random.multivariate_normal(mean, cov, n).T"
   ]
  },
  {
   "cell_type": "code",
   "execution_count": 3,
   "id": "8f0bccf1-4b4b-4967-937e-23796cd6da71",
   "metadata": {},
   "outputs": [
    {
     "name": "stdout",
     "output_type": "stream",
     "text": [
      "X=  [4.52499109 4.42053181 3.77897093 6.36230346 3.25533028 4.64956937\n",
      " 2.95178623 4.59135733 1.04899568 2.92923908 2.67380187 4.31118852\n",
      " 5.40671611 3.82758588 4.51066978 5.48020001 5.89750199 3.24810462\n",
      " 3.68967198 4.65983923 5.492979   4.09301762 3.7024475  1.67554352\n",
      " 2.12366377 5.62202531 2.79728088 3.49523787 2.41851903 2.18400827] \n",
      "Y=  [6.41704397 4.07326086 6.25606067 6.97867234 3.4800941  5.5648591\n",
      " 3.38033491 5.20286174 4.00491662 4.2746547  5.00715313 6.36288199\n",
      " 5.83629382 3.54973502 4.73989277 3.97706582 6.27151276 4.09280014\n",
      " 5.30523709 5.91352322 4.94770443 5.60624519 4.69186599 3.04486339\n",
      " 5.12552003 5.69290489 3.08347187 5.45166315 4.98813694 4.14050216]\n"
     ]
    }
   ],
   "source": [
    "print('X= ', x, '\\nY= ', y)"
   ]
  },
  {
   "cell_type": "code",
   "execution_count": 4,
   "id": "79bc2af7-3c91-418d-aa64-a6351f8fa2a0",
   "metadata": {},
   "outputs": [
    {
     "data": {
      "text/html": [
       "<div>\n",
       "<style scoped>\n",
       "    .dataframe tbody tr th:only-of-type {\n",
       "        vertical-align: middle;\n",
       "    }\n",
       "\n",
       "    .dataframe tbody tr th {\n",
       "        vertical-align: top;\n",
       "    }\n",
       "\n",
       "    .dataframe thead th {\n",
       "        text-align: right;\n",
       "    }\n",
       "</style>\n",
       "<table border=\"1\" class=\"dataframe\">\n",
       "  <thead>\n",
       "    <tr style=\"text-align: right;\">\n",
       "      <th></th>\n",
       "      <th>T</th>\n",
       "      <th>dof</th>\n",
       "      <th>alternative</th>\n",
       "      <th>p-val</th>\n",
       "      <th>CI95%</th>\n",
       "      <th>cohen-d</th>\n",
       "      <th>BF10</th>\n",
       "      <th>power</th>\n",
       "    </tr>\n",
       "  </thead>\n",
       "  <tbody>\n",
       "    <tr>\n",
       "      <th>T-test</th>\n",
       "      <td>-3.400706</td>\n",
       "      <td>58</td>\n",
       "      <td>two-sided</td>\n",
       "      <td>0.001222</td>\n",
       "      <td>[-1.68, -0.43]</td>\n",
       "      <td>0.878059</td>\n",
       "      <td>26.155</td>\n",
       "      <td>0.916807</td>\n",
       "    </tr>\n",
       "  </tbody>\n",
       "</table>\n",
       "</div>"
      ],
      "text/plain": [
       "               T  dof alternative     p-val           CI95%   cohen-d    BF10  \\\n",
       "T-test -3.400706   58   two-sided  0.001222  [-1.68, -0.43]  0.878059  26.155   \n",
       "\n",
       "           power  \n",
       "T-test  0.916807  "
      ]
     },
     "execution_count": 4,
     "metadata": {},
     "output_type": "execute_result"
    }
   ],
   "source": [
    "# T-test\n",
    "pg.ttest(x, y)"
   ]
  },
  {
   "cell_type": "code",
   "execution_count": 6,
   "id": "9ec11ddf-42be-45a4-9052-18c36b308566",
   "metadata": {},
   "outputs": [
    {
     "data": {
      "text/html": [
       "<div>\n",
       "<style scoped>\n",
       "    .dataframe tbody tr th:only-of-type {\n",
       "        vertical-align: middle;\n",
       "    }\n",
       "\n",
       "    .dataframe tbody tr th {\n",
       "        vertical-align: top;\n",
       "    }\n",
       "\n",
       "    .dataframe thead th {\n",
       "        text-align: right;\n",
       "    }\n",
       "</style>\n",
       "<table border=\"1\" class=\"dataframe\">\n",
       "  <thead>\n",
       "    <tr style=\"text-align: right;\">\n",
       "      <th></th>\n",
       "      <th>T</th>\n",
       "      <th>dof</th>\n",
       "      <th>alternative</th>\n",
       "      <th>p-val</th>\n",
       "      <th>CI95%</th>\n",
       "      <th>cohen-d</th>\n",
       "      <th>BF10</th>\n",
       "      <th>power</th>\n",
       "    </tr>\n",
       "  </thead>\n",
       "  <tbody>\n",
       "    <tr>\n",
       "      <th>T-test</th>\n",
       "      <td>-3.400706</td>\n",
       "      <td>55.783456</td>\n",
       "      <td>two-sided</td>\n",
       "      <td>0.001248</td>\n",
       "      <td>[-1.68, -0.43]</td>\n",
       "      <td>0.878059</td>\n",
       "      <td>26.155</td>\n",
       "      <td>0.916807</td>\n",
       "    </tr>\n",
       "  </tbody>\n",
       "</table>\n",
       "</div>"
      ],
      "text/plain": [
       "               T        dof alternative     p-val           CI95%   cohen-d  \\\n",
       "T-test -3.400706  55.783456   two-sided  0.001248  [-1.68, -0.43]  0.878059   \n",
       "\n",
       "          BF10     power  \n",
       "T-test  26.155  0.916807  "
      ]
     },
     "execution_count": 6,
     "metadata": {},
     "output_type": "execute_result"
    }
   ],
   "source": [
    "pg.ttest(x, y, correction=True)"
   ]
  },
  {
   "cell_type": "code",
   "execution_count": 7,
   "id": "ea14887b-fba1-4014-a5c6-c374b6e5f7d1",
   "metadata": {},
   "outputs": [
    {
     "data": {
      "text/html": [
       "<div>\n",
       "<style scoped>\n",
       "    .dataframe tbody tr th:only-of-type {\n",
       "        vertical-align: middle;\n",
       "    }\n",
       "\n",
       "    .dataframe tbody tr th {\n",
       "        vertical-align: top;\n",
       "    }\n",
       "\n",
       "    .dataframe thead th {\n",
       "        text-align: right;\n",
       "    }\n",
       "</style>\n",
       "<table border=\"1\" class=\"dataframe\">\n",
       "  <thead>\n",
       "    <tr style=\"text-align: right;\">\n",
       "      <th></th>\n",
       "      <th>T</th>\n",
       "      <th>dof</th>\n",
       "      <th>alternative</th>\n",
       "      <th>p-val</th>\n",
       "      <th>CI95%</th>\n",
       "      <th>cohen-d</th>\n",
       "      <th>BF10</th>\n",
       "      <th>power</th>\n",
       "    </tr>\n",
       "  </thead>\n",
       "  <tbody>\n",
       "    <tr>\n",
       "      <th>T-test</th>\n",
       "      <td>-3.400706</td>\n",
       "      <td>58</td>\n",
       "      <td>two-sided</td>\n",
       "      <td>0.001222</td>\n",
       "      <td>[-1.68, -0.43]</td>\n",
       "      <td>0.878059</td>\n",
       "      <td>26.155</td>\n",
       "      <td>0.916807</td>\n",
       "    </tr>\n",
       "  </tbody>\n",
       "</table>\n",
       "</div>"
      ],
      "text/plain": [
       "               T  dof alternative     p-val           CI95%   cohen-d    BF10  \\\n",
       "T-test -3.400706   58   two-sided  0.001222  [-1.68, -0.43]  0.878059  26.155   \n",
       "\n",
       "           power  \n",
       "T-test  0.916807  "
      ]
     },
     "execution_count": 7,
     "metadata": {},
     "output_type": "execute_result"
    }
   ],
   "source": [
    "pg.ttest(x, y, correction=False)"
   ]
  },
  {
   "cell_type": "code",
   "execution_count": 10,
   "id": "58136110-5dd8-409a-9c7f-288b8f7f8aec",
   "metadata": {},
   "outputs": [
    {
     "name": "stdout",
     "output_type": "stream",
     "text": [
      "[20, 23, 24, 26, 27] [34, 22, 35, 43, 54]\n"
     ]
    }
   ],
   "source": [
    "x1 = [ 20,23,24,26,27]\n",
    "y1 = [34,22, 35, 43, 54]\n",
    "print(x1, y1)"
   ]
  },
  {
   "cell_type": "code",
   "execution_count": 11,
   "id": "b9f3c339-d6b1-44c7-bff5-aac77f08a71f",
   "metadata": {},
   "outputs": [
    {
     "data": {
      "text/html": [
       "<div>\n",
       "<style scoped>\n",
       "    .dataframe tbody tr th:only-of-type {\n",
       "        vertical-align: middle;\n",
       "    }\n",
       "\n",
       "    .dataframe tbody tr th {\n",
       "        vertical-align: top;\n",
       "    }\n",
       "\n",
       "    .dataframe thead th {\n",
       "        text-align: right;\n",
       "    }\n",
       "</style>\n",
       "<table border=\"1\" class=\"dataframe\">\n",
       "  <thead>\n",
       "    <tr style=\"text-align: right;\">\n",
       "      <th></th>\n",
       "      <th>T</th>\n",
       "      <th>dof</th>\n",
       "      <th>alternative</th>\n",
       "      <th>p-val</th>\n",
       "      <th>CI95%</th>\n",
       "      <th>cohen-d</th>\n",
       "      <th>BF10</th>\n",
       "      <th>power</th>\n",
       "    </tr>\n",
       "  </thead>\n",
       "  <tbody>\n",
       "    <tr>\n",
       "      <th>T-test</th>\n",
       "      <td>-2.50142</td>\n",
       "      <td>8</td>\n",
       "      <td>two-sided</td>\n",
       "      <td>0.03686</td>\n",
       "      <td>[-26.14, -1.06]</td>\n",
       "      <td>1.582037</td>\n",
       "      <td>2.24</td>\n",
       "      <td>0.593556</td>\n",
       "    </tr>\n",
       "  </tbody>\n",
       "</table>\n",
       "</div>"
      ],
      "text/plain": [
       "              T  dof alternative    p-val            CI95%   cohen-d  BF10  \\\n",
       "T-test -2.50142    8   two-sided  0.03686  [-26.14, -1.06]  1.582037  2.24   \n",
       "\n",
       "           power  \n",
       "T-test  0.593556  "
      ]
     },
     "execution_count": 11,
     "metadata": {},
     "output_type": "execute_result"
    }
   ],
   "source": [
    "pg.ttest(x1, y1)"
   ]
  },
  {
   "cell_type": "code",
   "execution_count": 13,
   "id": "6130a989-14e7-43ca-bfaf-2407ca37328b",
   "metadata": {},
   "outputs": [
    {
     "name": "stdout",
     "output_type": "stream",
     "text": [
      "24.0 37.6\n"
     ]
    }
   ],
   "source": [
    "print(np.mean(x1), np.mean(y1))"
   ]
  },
  {
   "cell_type": "markdown",
   "id": "22aec8ce-1333-43d6-a27d-fb4998c1390f",
   "metadata": {},
   "source": [
    "## Pearson’s correlation"
   ]
  },
  {
   "cell_type": "code",
   "execution_count": 14,
   "id": "a69dd9d8-8a66-4fa8-9ed6-d165e044dd7e",
   "metadata": {},
   "outputs": [
    {
     "data": {
      "text/html": [
       "<div>\n",
       "<style scoped>\n",
       "    .dataframe tbody tr th:only-of-type {\n",
       "        vertical-align: middle;\n",
       "    }\n",
       "\n",
       "    .dataframe tbody tr th {\n",
       "        vertical-align: top;\n",
       "    }\n",
       "\n",
       "    .dataframe thead th {\n",
       "        text-align: right;\n",
       "    }\n",
       "</style>\n",
       "<table border=\"1\" class=\"dataframe\">\n",
       "  <thead>\n",
       "    <tr style=\"text-align: right;\">\n",
       "      <th></th>\n",
       "      <th>n</th>\n",
       "      <th>r</th>\n",
       "      <th>CI95%</th>\n",
       "      <th>p-val</th>\n",
       "      <th>BF10</th>\n",
       "      <th>power</th>\n",
       "    </tr>\n",
       "  </thead>\n",
       "  <tbody>\n",
       "    <tr>\n",
       "      <th>pearson</th>\n",
       "      <td>30</td>\n",
       "      <td>0.594785</td>\n",
       "      <td>[0.3, 0.79]</td>\n",
       "      <td>0.000527</td>\n",
       "      <td>69.723</td>\n",
       "      <td>0.950373</td>\n",
       "    </tr>\n",
       "  </tbody>\n",
       "</table>\n",
       "</div>"
      ],
      "text/plain": [
       "          n         r        CI95%     p-val    BF10     power\n",
       "pearson  30  0.594785  [0.3, 0.79]  0.000527  69.723  0.950373"
      ]
     },
     "execution_count": 14,
     "metadata": {},
     "output_type": "execute_result"
    }
   ],
   "source": [
    "pg.corr(x, y)"
   ]
  },
  {
   "cell_type": "markdown",
   "id": "a64556c4-11e3-4078-b5de-94b68f44841b",
   "metadata": {},
   "source": [
    "## correlation"
   ]
  },
  {
   "cell_type": "code",
   "execution_count": 15,
   "id": "caab53a8-701e-4fc1-be12-69c32d81d41a",
   "metadata": {},
   "outputs": [],
   "source": [
    "# Introduce an outlier\n",
    "x[5] = 18"
   ]
  },
  {
   "cell_type": "code",
   "execution_count": 16,
   "id": "5a2c6acf-0381-449c-a8a8-f9bec18805ec",
   "metadata": {},
   "outputs": [
    {
     "data": {
      "text/html": [
       "<div>\n",
       "<style scoped>\n",
       "    .dataframe tbody tr th:only-of-type {\n",
       "        vertical-align: middle;\n",
       "    }\n",
       "\n",
       "    .dataframe tbody tr th {\n",
       "        vertical-align: top;\n",
       "    }\n",
       "\n",
       "    .dataframe thead th {\n",
       "        text-align: right;\n",
       "    }\n",
       "</style>\n",
       "<table border=\"1\" class=\"dataframe\">\n",
       "  <thead>\n",
       "    <tr style=\"text-align: right;\">\n",
       "      <th></th>\n",
       "      <th>n</th>\n",
       "      <th>r</th>\n",
       "      <th>CI95%</th>\n",
       "      <th>p-val</th>\n",
       "      <th>power</th>\n",
       "    </tr>\n",
       "  </thead>\n",
       "  <tbody>\n",
       "    <tr>\n",
       "      <th>bicor</th>\n",
       "      <td>30</td>\n",
       "      <td>0.575834</td>\n",
       "      <td>[0.27, 0.78]</td>\n",
       "      <td>0.000869</td>\n",
       "      <td>0.932799</td>\n",
       "    </tr>\n",
       "  </tbody>\n",
       "</table>\n",
       "</div>"
      ],
      "text/plain": [
       "        n         r         CI95%     p-val     power\n",
       "bicor  30  0.575834  [0.27, 0.78]  0.000869  0.932799"
      ]
     },
     "execution_count": 16,
     "metadata": {},
     "output_type": "execute_result"
    }
   ],
   "source": [
    "# Use the robust biweight midcorrelation\n",
    "pg.corr(x, y, method=\"bicor\")"
   ]
  },
  {
   "cell_type": "markdown",
   "id": "26fbf787-4769-47f7-85df-4cbdccdc9c22",
   "metadata": {},
   "source": [
    "##  normality \n",
    "- function works with lists, arrays, or pandas DataFrame in wide or long-format."
   ]
  },
  {
   "cell_type": "code",
   "execution_count": 17,
   "id": "754b6b09-448d-4067-ac1b-68745866e3d0",
   "metadata": {},
   "outputs": [
    {
     "name": "stdout",
     "output_type": "stream",
     "text": [
      "          W          pval  normal\n",
      "0  0.615321  1.128499e-07   False\n"
     ]
    }
   ],
   "source": [
    "print(pg.normality(x))                                    # Univariate normality"
   ]
  },
  {
   "cell_type": "code",
   "execution_count": 18,
   "id": "b04d55ed-45a8-4b2e-a1c9-d9222ec02bb8",
   "metadata": {},
   "outputs": [
    {
     "name": "stdout",
     "output_type": "stream",
     "text": [
      "HZResults(hz=1.6967733646126668, pval=0.00018201726664169373, normal=False)\n"
     ]
    }
   ],
   "source": [
    "print(pg.multivariate_normality(np.column_stack((x, y)))) # Multivariate normality"
   ]
  },
  {
   "cell_type": "code",
   "execution_count": null,
   "id": "190ee837-ab10-423c-b117-5b765c0c6443",
   "metadata": {},
   "outputs": [],
   "source": [
    "## Q-Q plot"
   ]
  },
  {
   "cell_type": "code",
   "execution_count": 19,
   "id": "83e394b5-dcac-4169-b317-8268d7b01d28",
   "metadata": {},
   "outputs": [
    {
     "data": {
      "image/png": "[encoded data removed]",
      "text/plain": [
       "<Figure size 640x480 with 1 Axes>"
      ]
     },
     "metadata": {},
     "output_type": "display_data"
    }
   ],
   "source": [
    "np.random.seed(123)\n",
    "x = np.random.normal(size=50)\n",
    "ax = pg.qqplot(x, dist='norm')"
   ]
  },
  {
   "cell_type": "code",
   "execution_count": null,
   "id": "7307fd4b-df81-4176-a904-9ac436e3e09d",
   "metadata": {},
   "outputs": [],
   "source": [
    "## One-way ANOVA using a pandas DataFrame"
   ]
  },
  {
   "cell_type": "code",
   "execution_count": 20,
   "id": "aa96a7b2-be81-4554-a127-3540ba608a13",
   "metadata": {},
   "outputs": [
    {
     "data": {
      "text/html": [
       "<div>\n",
       "<style scoped>\n",
       "    .dataframe tbody tr th:only-of-type {\n",
       "        vertical-align: middle;\n",
       "    }\n",
       "\n",
       "    .dataframe tbody tr th {\n",
       "        vertical-align: top;\n",
       "    }\n",
       "\n",
       "    .dataframe thead th {\n",
       "        text-align: right;\n",
       "    }\n",
       "</style>\n",
       "<table border=\"1\" class=\"dataframe\">\n",
       "  <thead>\n",
       "    <tr style=\"text-align: right;\">\n",
       "      <th></th>\n",
       "      <th>Scores</th>\n",
       "      <th>Time</th>\n",
       "      <th>Group</th>\n",
       "      <th>Subject</th>\n",
       "    </tr>\n",
       "  </thead>\n",
       "  <tbody>\n",
       "    <tr>\n",
       "      <th>0</th>\n",
       "      <td>5.971435</td>\n",
       "      <td>August</td>\n",
       "      <td>Control</td>\n",
       "      <td>0</td>\n",
       "    </tr>\n",
       "    <tr>\n",
       "      <th>1</th>\n",
       "      <td>4.309024</td>\n",
       "      <td>August</td>\n",
       "      <td>Control</td>\n",
       "      <td>1</td>\n",
       "    </tr>\n",
       "    <tr>\n",
       "      <th>2</th>\n",
       "      <td>6.932707</td>\n",
       "      <td>August</td>\n",
       "      <td>Control</td>\n",
       "      <td>2</td>\n",
       "    </tr>\n",
       "    <tr>\n",
       "      <th>3</th>\n",
       "      <td>5.187348</td>\n",
       "      <td>August</td>\n",
       "      <td>Control</td>\n",
       "      <td>3</td>\n",
       "    </tr>\n",
       "    <tr>\n",
       "      <th>4</th>\n",
       "      <td>4.779411</td>\n",
       "      <td>August</td>\n",
       "      <td>Control</td>\n",
       "      <td>4</td>\n",
       "    </tr>\n",
       "  </tbody>\n",
       "</table>\n",
       "</div>"
      ],
      "text/plain": [
       "     Scores    Time    Group  Subject\n",
       "0  5.971435  August  Control        0\n",
       "1  4.309024  August  Control        1\n",
       "2  6.932707  August  Control        2\n",
       "3  5.187348  August  Control        3\n",
       "4  4.779411  August  Control        4"
      ]
     },
     "execution_count": 20,
     "metadata": {},
     "output_type": "execute_result"
    }
   ],
   "source": [
    "# Read an example dataset\n",
    "df = pg.read_dataset('mixed_anova')\n",
    "df.head()"
   ]
  },
  {
   "cell_type": "code",
   "execution_count": 21,
   "id": "926fd2f2-af4c-4226-9527-1b345b045cc7",
   "metadata": {},
   "outputs": [
    {
     "name": "stdout",
     "output_type": "stream",
     "text": [
      "   Source          SS   DF        MS         F   p-unc       np2\n",
      "0   Group    5.459963    1  5.459963  5.243656  0.0232  0.028616\n",
      "1  Within  185.342729  178  1.041251       NaN     NaN       NaN\n"
     ]
    }
   ],
   "source": [
    "# Run the ANOVA\n",
    "aov = pg.anova(data=df, dv='Scores', between='Group', detailed=True)\n",
    "print(aov)"
   ]
  },
  {
   "cell_type": "code",
   "execution_count": null,
   "id": "5a6a454a-2bb0-4d81-88e3-96e9ee3e0c46",
   "metadata": {},
   "outputs": [],
   "source": [
    "## Repeated measures ANOVA"
   ]
  },
  {
   "cell_type": "code",
   "execution_count": 22,
   "id": "5d80af22-1459-48aa-a7ad-b53483bee4bc",
   "metadata": {},
   "outputs": [
    {
     "data": {
      "text/html": [
       "<div>\n",
       "<style scoped>\n",
       "    .dataframe tbody tr th:only-of-type {\n",
       "        vertical-align: middle;\n",
       "    }\n",
       "\n",
       "    .dataframe tbody tr th {\n",
       "        vertical-align: top;\n",
       "    }\n",
       "\n",
       "    .dataframe thead th {\n",
       "        text-align: right;\n",
       "    }\n",
       "</style>\n",
       "<table border=\"1\" class=\"dataframe\">\n",
       "  <thead>\n",
       "    <tr style=\"text-align: right;\">\n",
       "      <th></th>\n",
       "      <th>Source</th>\n",
       "      <th>SS</th>\n",
       "      <th>DF</th>\n",
       "      <th>MS</th>\n",
       "      <th>F</th>\n",
       "      <th>p-unc</th>\n",
       "      <th>ng2</th>\n",
       "      <th>eps</th>\n",
       "    </tr>\n",
       "  </thead>\n",
       "  <tbody>\n",
       "    <tr>\n",
       "      <th>0</th>\n",
       "      <td>Time</td>\n",
       "      <td>7.628428</td>\n",
       "      <td>2</td>\n",
       "      <td>3.814214</td>\n",
       "      <td>3.912796</td>\n",
       "      <td>0.022629</td>\n",
       "      <td>0.039981</td>\n",
       "      <td>0.998751</td>\n",
       "    </tr>\n",
       "    <tr>\n",
       "      <th>1</th>\n",
       "      <td>Error</td>\n",
       "      <td>115.027023</td>\n",
       "      <td>118</td>\n",
       "      <td>0.974805</td>\n",
       "      <td>NaN</td>\n",
       "      <td>NaN</td>\n",
       "      <td>NaN</td>\n",
       "      <td>NaN</td>\n",
       "    </tr>\n",
       "  </tbody>\n",
       "</table>\n",
       "</div>"
      ],
      "text/plain": [
       "  Source          SS   DF        MS         F     p-unc       ng2       eps\n",
       "0   Time    7.628428    2  3.814214  3.912796  0.022629  0.039981  0.998751\n",
       "1  Error  115.027023  118  0.974805       NaN       NaN       NaN       NaN"
      ]
     },
     "execution_count": 22,
     "metadata": {},
     "output_type": "execute_result"
    }
   ],
   "source": [
    "pg.rm_anova(data=df, dv='Scores', within='Time', subject='Subject', detailed=True)"
   ]
  },
  {
   "cell_type": "markdown",
   "id": "154f9605-0af9-42e7-8835-fd75d424546e",
   "metadata": {},
   "source": [
    "## Post-hoc tests corrected for multiple-comparisons"
   ]
  },
  {
   "cell_type": "code",
   "execution_count": 23,
   "id": "60500136-0bdc-4539-98b3-5da2a2305ffa",
   "metadata": {},
   "outputs": [],
   "source": [
    "# FDR-corrected post hocs with Hedges'g effect size\n",
    "posthoc = pg.pairwise_tests(data=df, dv='Scores', within='Time', subject='Subject', parametric=True, padjust='fdr_bh', effsize='hedges')"
   ]
  },
  {
   "cell_type": "code",
   "execution_count": 24,
   "id": "47eb6fb7-3add-4ca3-9c06-06e68f2e236f",
   "metadata": {},
   "outputs": [
    {
     "name": "stdout",
     "output_type": "stream",
     "text": [
      "\n",
      "==============\n",
      "POST HOC TESTS\n",
      "==============\n",
      "\n",
      "Contrast    A        B        Paired    Parametric         T     dof  alternative      p-unc    p-corr  p-adjust      BF10    hedges\n",
      "----------  -------  -------  --------  ------------  ------  ------  -------------  -------  --------  ----------  ------  --------\n",
      "Time        August   January  True      True          -1.740  59.000  two-sided        0.087     0.131  fdr_bh       0.582    -0.328\n",
      "Time        August   June     True      True          -2.743  59.000  two-sided        0.008     0.024  fdr_bh       4.232    -0.483\n",
      "Time        January  June     True      True          -1.024  59.000  two-sided        0.310     0.310  fdr_bh       0.232    -0.170\n",
      "\n"
     ]
    }
   ],
   "source": [
    "# Pretty printing of table\n",
    "pg.print_table(posthoc, floatfmt='.3f')"
   ]
  },
  {
   "cell_type": "markdown",
   "id": "077f1c1d-1f18-4865-99a3-f765aeeeb930",
   "metadata": {},
   "source": [
    "## Two-way mixed ANOVA"
   ]
  },
  {
   "cell_type": "code",
   "execution_count": 26,
   "id": "89c43408-eedd-464a-a223-c0f619c4904a",
   "metadata": {},
   "outputs": [
    {
     "name": "stdout",
     "output_type": "stream",
     "text": [
      "\n",
      "=============\n",
      "ANOVA SUMMARY\n",
      "=============\n",
      "\n",
      "Source          SS    DF1    DF2     MS      F    p-unc    np2      eps\n",
      "-----------  -----  -----  -----  -----  -----  -------  -----  -------\n",
      "Group        5.460      1     58  5.460  5.052    0.028  0.080  nan\n",
      "Time         7.628      2    116  3.814  4.027    0.020  0.065    0.999\n",
      "Interaction  5.167      2    116  2.584  2.728    0.070  0.045  nan\n",
      "\n"
     ]
    }
   ],
   "source": [
    "# Compute the two-way mixed ANOVA and export to a .csv file\n",
    "aov = pg.mixed_anova(data=df, dv='Scores', between='Group', within='Time', subject='Subject', correction=False, effsize=\"np2\")\n",
    "pg.print_table(aov)"
   ]
  },
  {
   "cell_type": "markdown",
   "id": "5f1f1ba6-527e-4f8b-9199-a30ddb5b986b",
   "metadata": {},
   "source": [
    "## Pairwise correlations between columns of a dataframe"
   ]
  },
  {
   "cell_type": "code",
   "execution_count": 29,
   "id": "e46e2598-5997-4c9e-b868-fe10e55cbf3d",
   "metadata": {},
   "outputs": [],
   "source": [
    "import pandas as pd\n",
    "np.random.seed(123)\n",
    "mean, cov, n = [4, 5], [(1, .6), (.6, 1)], 30\n",
    "x, y = np.random.multivariate_normal(mean, cov, n).T\n",
    "z = np.random.normal(5, 1, 30)"
   ]
  },
  {
   "cell_type": "code",
   "execution_count": 30,
   "id": "2215ffb6-bb25-41eb-9472-752caf3107be",
   "metadata": {},
   "outputs": [
    {
     "data": {
      "text/html": [
       "<div>\n",
       "<style scoped>\n",
       "    .dataframe tbody tr th:only-of-type {\n",
       "        vertical-align: middle;\n",
       "    }\n",
       "\n",
       "    .dataframe tbody tr th {\n",
       "        vertical-align: top;\n",
       "    }\n",
       "\n",
       "    .dataframe thead th {\n",
       "        text-align: right;\n",
       "    }\n",
       "</style>\n",
       "<table border=\"1\" class=\"dataframe\">\n",
       "  <thead>\n",
       "    <tr style=\"text-align: right;\">\n",
       "      <th></th>\n",
       "      <th>X</th>\n",
       "      <th>Y</th>\n",
       "      <th>Z</th>\n",
       "    </tr>\n",
       "  </thead>\n",
       "  <tbody>\n",
       "    <tr>\n",
       "      <th>0</th>\n",
       "      <td>4.524991</td>\n",
       "      <td>6.417044</td>\n",
       "      <td>4.227291</td>\n",
       "    </tr>\n",
       "    <tr>\n",
       "      <th>1</th>\n",
       "      <td>4.420532</td>\n",
       "      <td>4.073261</td>\n",
       "      <td>5.794863</td>\n",
       "    </tr>\n",
       "    <tr>\n",
       "      <th>2</th>\n",
       "      <td>3.778971</td>\n",
       "      <td>6.256061</td>\n",
       "      <td>5.314272</td>\n",
       "    </tr>\n",
       "    <tr>\n",
       "      <th>3</th>\n",
       "      <td>6.362303</td>\n",
       "      <td>6.978672</td>\n",
       "      <td>3.673735</td>\n",
       "    </tr>\n",
       "    <tr>\n",
       "      <th>4</th>\n",
       "      <td>3.255330</td>\n",
       "      <td>3.480094</td>\n",
       "      <td>6.417299</td>\n",
       "    </tr>\n",
       "  </tbody>\n",
       "</table>\n",
       "</div>"
      ],
      "text/plain": [
       "          X         Y         Z\n",
       "0  4.524991  6.417044  4.227291\n",
       "1  4.420532  4.073261  5.794863\n",
       "2  3.778971  6.256061  5.314272\n",
       "3  6.362303  6.978672  3.673735\n",
       "4  3.255330  3.480094  6.417299"
      ]
     },
     "execution_count": 30,
     "metadata": {},
     "output_type": "execute_result"
    }
   ],
   "source": [
    "data = pd.DataFrame({'X': x, 'Y': y, 'Z': z})\n",
    "data.head()"
   ]
  },
  {
   "cell_type": "code",
   "execution_count": 31,
   "id": "30594937-36c8-45d1-8639-f015a220724e",
   "metadata": {},
   "outputs": [
    {
     "data": {
      "text/html": [
       "<div>\n",
       "<style scoped>\n",
       "    .dataframe tbody tr th:only-of-type {\n",
       "        vertical-align: middle;\n",
       "    }\n",
       "\n",
       "    .dataframe tbody tr th {\n",
       "        vertical-align: top;\n",
       "    }\n",
       "\n",
       "    .dataframe thead th {\n",
       "        text-align: right;\n",
       "    }\n",
       "</style>\n",
       "<table border=\"1\" class=\"dataframe\">\n",
       "  <thead>\n",
       "    <tr style=\"text-align: right;\">\n",
       "      <th></th>\n",
       "      <th>X</th>\n",
       "      <th>Y</th>\n",
       "      <th>method</th>\n",
       "      <th>alternative</th>\n",
       "      <th>n</th>\n",
       "      <th>r</th>\n",
       "      <th>CI95%</th>\n",
       "      <th>p-unc</th>\n",
       "      <th>BF10</th>\n",
       "      <th>power</th>\n",
       "    </tr>\n",
       "  </thead>\n",
       "  <tbody>\n",
       "    <tr>\n",
       "      <th>0</th>\n",
       "      <td>X</td>\n",
       "      <td>Y</td>\n",
       "      <td>pearson</td>\n",
       "      <td>two-sided</td>\n",
       "      <td>30</td>\n",
       "      <td>0.594785</td>\n",
       "      <td>[0.3, 0.79]</td>\n",
       "      <td>0.000527</td>\n",
       "      <td>69.723</td>\n",
       "      <td>0.950373</td>\n",
       "    </tr>\n",
       "    <tr>\n",
       "      <th>1</th>\n",
       "      <td>X</td>\n",
       "      <td>Z</td>\n",
       "      <td>pearson</td>\n",
       "      <td>two-sided</td>\n",
       "      <td>30</td>\n",
       "      <td>-0.121071</td>\n",
       "      <td>[-0.46, 0.25]</td>\n",
       "      <td>0.523926</td>\n",
       "      <td>0.276</td>\n",
       "      <td>0.097759</td>\n",
       "    </tr>\n",
       "    <tr>\n",
       "      <th>2</th>\n",
       "      <td>Y</td>\n",
       "      <td>Z</td>\n",
       "      <td>pearson</td>\n",
       "      <td>two-sided</td>\n",
       "      <td>30</td>\n",
       "      <td>-0.268985</td>\n",
       "      <td>[-0.57, 0.1]</td>\n",
       "      <td>0.150622</td>\n",
       "      <td>0.609</td>\n",
       "      <td>0.306273</td>\n",
       "    </tr>\n",
       "  </tbody>\n",
       "</table>\n",
       "</div>"
      ],
      "text/plain": [
       "   X  Y   method alternative   n         r          CI95%     p-unc    BF10  \\\n",
       "0  X  Y  pearson   two-sided  30  0.594785    [0.3, 0.79]  0.000527  69.723   \n",
       "1  X  Z  pearson   two-sided  30 -0.121071  [-0.46, 0.25]  0.523926   0.276   \n",
       "2  Y  Z  pearson   two-sided  30 -0.268985   [-0.57, 0.1]  0.150622   0.609   \n",
       "\n",
       "      power  \n",
       "0  0.950373  \n",
       "1  0.097759  \n",
       "2  0.306273  "
      ]
     },
     "execution_count": 31,
     "metadata": {},
     "output_type": "execute_result"
    }
   ],
   "source": [
    "pg.pairwise_corr(data, columns=['X', 'Y', 'Z'], method='pearson')"
   ]
  },
  {
   "cell_type": "markdown",
   "id": "0a6d6ea6-c088-497a-a66f-41028b621270",
   "metadata": {},
   "source": [
    "##  Pairwise T-test between columns of a dataframe"
   ]
  },
  {
   "cell_type": "code",
   "execution_count": 32,
   "id": "98f7bcb2-07a6-43d1-b34b-033fca966e1f",
   "metadata": {},
   "outputs": [
    {
     "data": {
      "text/html": [
       "<div>\n",
       "<style scoped>\n",
       "    .dataframe tbody tr th:only-of-type {\n",
       "        vertical-align: middle;\n",
       "    }\n",
       "\n",
       "    .dataframe tbody tr th {\n",
       "        vertical-align: top;\n",
       "    }\n",
       "\n",
       "    .dataframe thead th {\n",
       "        text-align: right;\n",
       "    }\n",
       "</style>\n",
       "<table border=\"1\" class=\"dataframe\">\n",
       "  <thead>\n",
       "    <tr style=\"text-align: right;\">\n",
       "      <th></th>\n",
       "      <th>X</th>\n",
       "      <th>Y</th>\n",
       "      <th>Z</th>\n",
       "    </tr>\n",
       "  </thead>\n",
       "  <tbody>\n",
       "    <tr>\n",
       "      <th>X</th>\n",
       "      <td>-</td>\n",
       "      <td>0.000</td>\n",
       "      <td>0.003</td>\n",
       "    </tr>\n",
       "    <tr>\n",
       "      <th>Y</th>\n",
       "      <td>-5.265</td>\n",
       "      <td>-</td>\n",
       "      <td>0.985</td>\n",
       "    </tr>\n",
       "    <tr>\n",
       "      <th>Z</th>\n",
       "      <td>-3.248</td>\n",
       "      <td>-0.019</td>\n",
       "      <td>-</td>\n",
       "    </tr>\n",
       "  </tbody>\n",
       "</table>\n",
       "</div>"
      ],
      "text/plain": [
       "        X       Y      Z\n",
       "X       -   0.000  0.003\n",
       "Y  -5.265       -  0.985\n",
       "Z  -3.248  -0.019      -"
      ]
     },
     "execution_count": 32,
     "metadata": {},
     "output_type": "execute_result"
    }
   ],
   "source": [
    "data.ptests(paired=True, stars=False)"
   ]
  },
  {
   "cell_type": "markdown",
   "id": "13a6bc0e-c025-4f74-9a83-18f83e7da15c",
   "metadata": {},
   "source": [
    "## Multiple linear regression"
   ]
  },
  {
   "cell_type": "code",
   "execution_count": 33,
   "id": "6fade679-694c-4ae5-b196-ff2109dc2295",
   "metadata": {},
   "outputs": [
    {
     "data": {
      "text/html": [
       "<div>\n",
       "<style scoped>\n",
       "    .dataframe tbody tr th:only-of-type {\n",
       "        vertical-align: middle;\n",
       "    }\n",
       "\n",
       "    .dataframe tbody tr th {\n",
       "        vertical-align: top;\n",
       "    }\n",
       "\n",
       "    .dataframe thead th {\n",
       "        text-align: right;\n",
       "    }\n",
       "</style>\n",
       "<table border=\"1\" class=\"dataframe\">\n",
       "  <thead>\n",
       "    <tr style=\"text-align: right;\">\n",
       "      <th></th>\n",
       "      <th>names</th>\n",
       "      <th>coef</th>\n",
       "      <th>se</th>\n",
       "      <th>T</th>\n",
       "      <th>pval</th>\n",
       "      <th>r2</th>\n",
       "      <th>adj_r2</th>\n",
       "      <th>CI[2.5%]</th>\n",
       "      <th>CI[97.5%]</th>\n",
       "    </tr>\n",
       "  </thead>\n",
       "  <tbody>\n",
       "    <tr>\n",
       "      <th>0</th>\n",
       "      <td>Intercept</td>\n",
       "      <td>4.110648</td>\n",
       "      <td>0.950840</td>\n",
       "      <td>4.323175</td>\n",
       "      <td>0.000187</td>\n",
       "      <td>0.393145</td>\n",
       "      <td>0.348193</td>\n",
       "      <td>2.159686</td>\n",
       "      <td>6.061611</td>\n",
       "    </tr>\n",
       "    <tr>\n",
       "      <th>1</th>\n",
       "      <td>X</td>\n",
       "      <td>0.466201</td>\n",
       "      <td>0.123402</td>\n",
       "      <td>3.777904</td>\n",
       "      <td>0.000794</td>\n",
       "      <td>0.393145</td>\n",
       "      <td>0.348193</td>\n",
       "      <td>0.213001</td>\n",
       "      <td>0.719401</td>\n",
       "    </tr>\n",
       "    <tr>\n",
       "      <th>2</th>\n",
       "      <td>Z</td>\n",
       "      <td>-0.202219</td>\n",
       "      <td>0.152780</td>\n",
       "      <td>-1.323597</td>\n",
       "      <td>0.196736</td>\n",
       "      <td>0.393145</td>\n",
       "      <td>0.348193</td>\n",
       "      <td>-0.515696</td>\n",
       "      <td>0.111259</td>\n",
       "    </tr>\n",
       "  </tbody>\n",
       "</table>\n",
       "</div>"
      ],
      "text/plain": [
       "       names      coef        se         T      pval        r2    adj_r2  \\\n",
       "0  Intercept  4.110648  0.950840  4.323175  0.000187  0.393145  0.348193   \n",
       "1          X  0.466201  0.123402  3.777904  0.000794  0.393145  0.348193   \n",
       "2          Z -0.202219  0.152780 -1.323597  0.196736  0.393145  0.348193   \n",
       "\n",
       "   CI[2.5%]  CI[97.5%]  \n",
       "0  2.159686   6.061611  \n",
       "1  0.213001   0.719401  \n",
       "2 -0.515696   0.111259  "
      ]
     },
     "execution_count": 33,
     "metadata": {},
     "output_type": "execute_result"
    }
   ],
   "source": [
    "pg.linear_regression(data[['X', 'Z']], data['Y'])"
   ]
  },
  {
   "cell_type": "markdown",
   "id": "1eca0834-913e-4453-aea3-54c30201df4b",
   "metadata": {},
   "source": [
    "## Mediation analysis"
   ]
  },
  {
   "cell_type": "code",
   "execution_count": 34,
   "id": "d8f1b91b-eff4-4a2d-a8dd-121b3c534454",
   "metadata": {},
   "outputs": [
    {
     "data": {
      "text/html": [
       "<div>\n",
       "<style scoped>\n",
       "    .dataframe tbody tr th:only-of-type {\n",
       "        vertical-align: middle;\n",
       "    }\n",
       "\n",
       "    .dataframe tbody tr th {\n",
       "        vertical-align: top;\n",
       "    }\n",
       "\n",
       "    .dataframe thead th {\n",
       "        text-align: right;\n",
       "    }\n",
       "</style>\n",
       "<table border=\"1\" class=\"dataframe\">\n",
       "  <thead>\n",
       "    <tr style=\"text-align: right;\">\n",
       "      <th></th>\n",
       "      <th>path</th>\n",
       "      <th>coef</th>\n",
       "      <th>se</th>\n",
       "      <th>pval</th>\n",
       "      <th>CI[2.5%]</th>\n",
       "      <th>CI[97.5%]</th>\n",
       "      <th>sig</th>\n",
       "    </tr>\n",
       "  </thead>\n",
       "  <tbody>\n",
       "    <tr>\n",
       "      <th>0</th>\n",
       "      <td>Z ~ X</td>\n",
       "      <td>-0.097790</td>\n",
       "      <td>0.151520</td>\n",
       "      <td>0.523926</td>\n",
       "      <td>-0.408166</td>\n",
       "      <td>0.212585</td>\n",
       "      <td>No</td>\n",
       "    </tr>\n",
       "    <tr>\n",
       "      <th>1</th>\n",
       "      <td>Y ~ Z</td>\n",
       "      <td>-0.272099</td>\n",
       "      <td>0.184124</td>\n",
       "      <td>0.150622</td>\n",
       "      <td>-0.649260</td>\n",
       "      <td>0.105062</td>\n",
       "      <td>No</td>\n",
       "    </tr>\n",
       "    <tr>\n",
       "      <th>2</th>\n",
       "      <td>Total</td>\n",
       "      <td>0.485976</td>\n",
       "      <td>0.124128</td>\n",
       "      <td>0.000527</td>\n",
       "      <td>0.231711</td>\n",
       "      <td>0.740240</td>\n",
       "      <td>Yes</td>\n",
       "    </tr>\n",
       "    <tr>\n",
       "      <th>3</th>\n",
       "      <td>Direct</td>\n",
       "      <td>0.466201</td>\n",
       "      <td>0.123402</td>\n",
       "      <td>0.000794</td>\n",
       "      <td>0.213001</td>\n",
       "      <td>0.719401</td>\n",
       "      <td>Yes</td>\n",
       "    </tr>\n",
       "    <tr>\n",
       "      <th>4</th>\n",
       "      <td>Indirect</td>\n",
       "      <td>0.019775</td>\n",
       "      <td>0.042096</td>\n",
       "      <td>0.718000</td>\n",
       "      <td>-0.029975</td>\n",
       "      <td>0.162467</td>\n",
       "      <td>No</td>\n",
       "    </tr>\n",
       "  </tbody>\n",
       "</table>\n",
       "</div>"
      ],
      "text/plain": [
       "       path      coef        se      pval  CI[2.5%]  CI[97.5%]  sig\n",
       "0     Z ~ X -0.097790  0.151520  0.523926 -0.408166   0.212585   No\n",
       "1     Y ~ Z -0.272099  0.184124  0.150622 -0.649260   0.105062   No\n",
       "2     Total  0.485976  0.124128  0.000527  0.231711   0.740240  Yes\n",
       "3    Direct  0.466201  0.123402  0.000794  0.213001   0.719401  Yes\n",
       "4  Indirect  0.019775  0.042096  0.718000 -0.029975   0.162467   No"
      ]
     },
     "execution_count": 34,
     "metadata": {},
     "output_type": "execute_result"
    }
   ],
   "source": [
    "pg.mediation_analysis(data=data, x='X', m='Z', y='Y', seed=42, n_boot=1000)"
   ]
  },
  {
   "cell_type": "markdown",
   "id": "b9f9ea06-f5ce-4322-8a24-021a271c21fb",
   "metadata": {},
   "source": [
    "## Contingency analysis"
   ]
  },
  {
   "cell_type": "code",
   "execution_count": 36,
   "id": "1818f16a-ad31-4617-92f3-77afaca95250",
   "metadata": {},
   "outputs": [
    {
     "data": {
      "text/html": [
       "<div>\n",
       "<style scoped>\n",
       "    .dataframe tbody tr th:only-of-type {\n",
       "        vertical-align: middle;\n",
       "    }\n",
       "\n",
       "    .dataframe tbody tr th {\n",
       "        vertical-align: top;\n",
       "    }\n",
       "\n",
       "    .dataframe thead th {\n",
       "        text-align: right;\n",
       "    }\n",
       "</style>\n",
       "<table border=\"1\" class=\"dataframe\">\n",
       "  <thead>\n",
       "    <tr style=\"text-align: right;\">\n",
       "      <th></th>\n",
       "      <th>age</th>\n",
       "      <th>sex</th>\n",
       "      <th>cp</th>\n",
       "      <th>trestbps</th>\n",
       "      <th>chol</th>\n",
       "      <th>fbs</th>\n",
       "      <th>restecg</th>\n",
       "      <th>thalach</th>\n",
       "      <th>exang</th>\n",
       "      <th>oldpeak</th>\n",
       "      <th>slope</th>\n",
       "      <th>ca</th>\n",
       "      <th>thal</th>\n",
       "      <th>target</th>\n",
       "    </tr>\n",
       "  </thead>\n",
       "  <tbody>\n",
       "    <tr>\n",
       "      <th>0</th>\n",
       "      <td>63</td>\n",
       "      <td>1</td>\n",
       "      <td>3</td>\n",
       "      <td>145</td>\n",
       "      <td>233</td>\n",
       "      <td>1</td>\n",
       "      <td>0</td>\n",
       "      <td>150</td>\n",
       "      <td>0</td>\n",
       "      <td>2.3</td>\n",
       "      <td>0</td>\n",
       "      <td>0</td>\n",
       "      <td>1</td>\n",
       "      <td>1</td>\n",
       "    </tr>\n",
       "    <tr>\n",
       "      <th>1</th>\n",
       "      <td>37</td>\n",
       "      <td>1</td>\n",
       "      <td>2</td>\n",
       "      <td>130</td>\n",
       "      <td>250</td>\n",
       "      <td>0</td>\n",
       "      <td>1</td>\n",
       "      <td>187</td>\n",
       "      <td>0</td>\n",
       "      <td>3.5</td>\n",
       "      <td>0</td>\n",
       "      <td>0</td>\n",
       "      <td>2</td>\n",
       "      <td>1</td>\n",
       "    </tr>\n",
       "    <tr>\n",
       "      <th>2</th>\n",
       "      <td>41</td>\n",
       "      <td>0</td>\n",
       "      <td>1</td>\n",
       "      <td>130</td>\n",
       "      <td>204</td>\n",
       "      <td>0</td>\n",
       "      <td>0</td>\n",
       "      <td>172</td>\n",
       "      <td>0</td>\n",
       "      <td>1.4</td>\n",
       "      <td>2</td>\n",
       "      <td>0</td>\n",
       "      <td>2</td>\n",
       "      <td>1</td>\n",
       "    </tr>\n",
       "    <tr>\n",
       "      <th>3</th>\n",
       "      <td>56</td>\n",
       "      <td>1</td>\n",
       "      <td>1</td>\n",
       "      <td>120</td>\n",
       "      <td>236</td>\n",
       "      <td>0</td>\n",
       "      <td>1</td>\n",
       "      <td>178</td>\n",
       "      <td>0</td>\n",
       "      <td>0.8</td>\n",
       "      <td>2</td>\n",
       "      <td>0</td>\n",
       "      <td>2</td>\n",
       "      <td>1</td>\n",
       "    </tr>\n",
       "    <tr>\n",
       "      <th>4</th>\n",
       "      <td>57</td>\n",
       "      <td>0</td>\n",
       "      <td>0</td>\n",
       "      <td>120</td>\n",
       "      <td>354</td>\n",
       "      <td>0</td>\n",
       "      <td>1</td>\n",
       "      <td>163</td>\n",
       "      <td>1</td>\n",
       "      <td>0.6</td>\n",
       "      <td>2</td>\n",
       "      <td>0</td>\n",
       "      <td>2</td>\n",
       "      <td>1</td>\n",
       "    </tr>\n",
       "  </tbody>\n",
       "</table>\n",
       "</div>"
      ],
      "text/plain": [
       "   age  sex  cp  trestbps  chol  fbs  restecg  thalach  exang  oldpeak  slope  \\\n",
       "0   63    1   3       145   233    1        0      150      0      2.3      0   \n",
       "1   37    1   2       130   250    0        1      187      0      3.5      0   \n",
       "2   41    0   1       130   204    0        0      172      0      1.4      2   \n",
       "3   56    1   1       120   236    0        1      178      0      0.8      2   \n",
       "4   57    0   0       120   354    0        1      163      1      0.6      2   \n",
       "\n",
       "   ca  thal  target  \n",
       "0   0     1       1  \n",
       "1   0     2       1  \n",
       "2   0     2       1  \n",
       "3   0     2       1  \n",
       "4   0     2       1  "
      ]
     },
     "execution_count": 36,
     "metadata": {},
     "output_type": "execute_result"
    }
   ],
   "source": [
    "data = pg.read_dataset('chi2_independence')\n",
    "data.head()"
   ]
  },
  {
   "cell_type": "code",
   "execution_count": 37,
   "id": "65f49477-00c4-4779-be95-7af8a276d1fe",
   "metadata": {},
   "outputs": [
    {
     "data": {
      "text/html": [
       "<div>\n",
       "<style scoped>\n",
       "    .dataframe tbody tr th:only-of-type {\n",
       "        vertical-align: middle;\n",
       "    }\n",
       "\n",
       "    .dataframe tbody tr th {\n",
       "        vertical-align: top;\n",
       "    }\n",
       "\n",
       "    .dataframe thead th {\n",
       "        text-align: right;\n",
       "    }\n",
       "</style>\n",
       "<table border=\"1\" class=\"dataframe\">\n",
       "  <thead>\n",
       "    <tr style=\"text-align: right;\">\n",
       "      <th></th>\n",
       "      <th>test</th>\n",
       "      <th>lambda</th>\n",
       "      <th>chi2</th>\n",
       "      <th>dof</th>\n",
       "      <th>pval</th>\n",
       "      <th>cramer</th>\n",
       "      <th>power</th>\n",
       "    </tr>\n",
       "  </thead>\n",
       "  <tbody>\n",
       "    <tr>\n",
       "      <th>0</th>\n",
       "      <td>pearson</td>\n",
       "      <td>1.000000</td>\n",
       "      <td>22.717227</td>\n",
       "      <td>1.0</td>\n",
       "      <td>1.876778e-06</td>\n",
       "      <td>0.273814</td>\n",
       "      <td>0.997494</td>\n",
       "    </tr>\n",
       "    <tr>\n",
       "      <th>1</th>\n",
       "      <td>cressie-read</td>\n",
       "      <td>0.666667</td>\n",
       "      <td>22.931427</td>\n",
       "      <td>1.0</td>\n",
       "      <td>1.678845e-06</td>\n",
       "      <td>0.275102</td>\n",
       "      <td>0.997663</td>\n",
       "    </tr>\n",
       "    <tr>\n",
       "      <th>2</th>\n",
       "      <td>log-likelihood</td>\n",
       "      <td>0.000000</td>\n",
       "      <td>23.557374</td>\n",
       "      <td>1.0</td>\n",
       "      <td>1.212439e-06</td>\n",
       "      <td>0.278832</td>\n",
       "      <td>0.998096</td>\n",
       "    </tr>\n",
       "    <tr>\n",
       "      <th>3</th>\n",
       "      <td>freeman-tukey</td>\n",
       "      <td>-0.500000</td>\n",
       "      <td>24.219622</td>\n",
       "      <td>1.0</td>\n",
       "      <td>8.595211e-07</td>\n",
       "      <td>0.282724</td>\n",
       "      <td>0.998469</td>\n",
       "    </tr>\n",
       "    <tr>\n",
       "      <th>4</th>\n",
       "      <td>mod-log-likelihood</td>\n",
       "      <td>-1.000000</td>\n",
       "      <td>25.071078</td>\n",
       "      <td>1.0</td>\n",
       "      <td>5.525544e-07</td>\n",
       "      <td>0.287651</td>\n",
       "      <td>0.998845</td>\n",
       "    </tr>\n",
       "    <tr>\n",
       "      <th>5</th>\n",
       "      <td>neyman</td>\n",
       "      <td>-2.000000</td>\n",
       "      <td>27.457956</td>\n",
       "      <td>1.0</td>\n",
       "      <td>1.605471e-07</td>\n",
       "      <td>0.301032</td>\n",
       "      <td>0.999481</td>\n",
       "    </tr>\n",
       "  </tbody>\n",
       "</table>\n",
       "</div>"
      ],
      "text/plain": [
       "                 test    lambda       chi2  dof          pval    cramer  \\\n",
       "0             pearson  1.000000  22.717227  1.0  1.876778e-06  0.273814   \n",
       "1        cressie-read  0.666667  22.931427  1.0  1.678845e-06  0.275102   \n",
       "2      log-likelihood  0.000000  23.557374  1.0  1.212439e-06  0.278832   \n",
       "3       freeman-tukey -0.500000  24.219622  1.0  8.595211e-07  0.282724   \n",
       "4  mod-log-likelihood -1.000000  25.071078  1.0  5.525544e-07  0.287651   \n",
       "5              neyman -2.000000  27.457956  1.0  1.605471e-07  0.301032   \n",
       "\n",
       "      power  \n",
       "0  0.997494  \n",
       "1  0.997663  \n",
       "2  0.998096  \n",
       "3  0.998469  \n",
       "4  0.998845  \n",
       "5  0.999481  "
      ]
     },
     "execution_count": 37,
     "metadata": {},
     "output_type": "execute_result"
    }
   ],
   "source": [
    "expected, observed, stats = pg.chi2_independence(data, x='sex', y='target')\n",
    "stats"
   ]
  },
  {
   "cell_type": "markdown",
   "id": "ed570342-b30d-48c6-88be-9196d2344532",
   "metadata": {},
   "source": [
    "## Bland-Altman plot"
   ]
  },
  {
   "cell_type": "code",
   "execution_count": 38,
   "id": "46f586f6-f200-4a4b-8801-b4a61f8735e0",
   "metadata": {},
   "outputs": [
    {
     "name": "stdout",
     "output_type": "stream",
     "text": [
      "[10.7145313  10.20787524 10.02667831 12.43778415  9.0731148  10.67399756\n",
      "  8.78718212 10.5585522   7.21574849  8.92534797  8.82905989 10.51598017\n",
      " 11.39121038  9.59123296 10.40539168 11.12749341 11.90194448  9.17504031\n",
      "  9.779665   10.7447106  11.31037483 10.18938676  9.68252735  7.59982874\n",
      "  8.36372643 11.55617081  8.59813893  9.63369262  8.60005799  8.24293573] [12.34530794 10.25521081 12.07113848 13.16651599  9.52494003 11.61409835\n",
      "  9.38310502 11.28384434  9.59879345 10.1695937  10.77188161 12.25963975\n",
      " 11.98786091  9.68765594 10.86037003 10.35751025 12.45930325 10.06522346\n",
      " 11.21493526 11.92409227 11.2177007  11.55229345 10.67504509  8.86097732\n",
      " 10.77925257 11.89918346  9.09339974 11.30998742 10.70994546  9.91927904]\n"
     ]
    }
   ],
   "source": [
    "np.random.seed(123)\n",
    "mean, cov = [10, 11], [[1, 0.8], [0.8, 1]]\n",
    "x, y = np.random.multivariate_normal(mean, cov, 30).T\n",
    "print(x, y)"
   ]
  },
  {
   "cell_type": "code",
   "execution_count": 39,
   "id": "cfd404f8-ecb4-43e3-90ed-17e8c491a67e",
   "metadata": {},
   "outputs": [
    {
     "data": {
      "image/png": "[encoded data removed]",
      "text/plain": [
       "<Figure size 640x480 with 1 Axes>"
      ]
     },
     "metadata": {},
     "output_type": "display_data"
    }
   ],
   "source": [
    "ax = pg.plot_blandaltman(x, y)"
   ]
  },
  {
   "cell_type": "code",
   "execution_count": null,
   "id": "7a1a2bce-f849-4b31-a020-356770b9eb18",
   "metadata": {},
   "outputs": [],
   "source": [
    "## Plot achieved power of a paired T-test"
   ]
  },
  {
   "cell_type": "code",
   "execution_count": 40,
   "id": "fa9d4c73-53cd-4b58-bffa-4351ba42d0f8",
   "metadata": {},
   "outputs": [],
   "source": [
    "import matplotlib.pyplot as plt\n",
    "import seaborn as sns\n",
    "import pingouin as pg\n",
    "import numpy as np\n",
    "sns.set(style='ticks', context='notebook', font_scale=1.2)"
   ]
  },
  {
   "cell_type": "code",
   "execution_count": 41,
   "id": "8bf31479-e391-4de3-ae80-3f85bbac18d6",
   "metadata": {},
   "outputs": [
    {
     "data": {
      "image/png": "[encoded data removed]",
      "text/plain": [
       "<Figure size 640x480 with 1 Axes>"
      ]
     },
     "metadata": {},
     "output_type": "display_data"
    }
   ],
   "source": [
    "d = 0.5  # Fixed effect size\n",
    "n = np.arange(5, 80, 5)  # Incrementing sample size\n",
    "# Compute the achieved power\n",
    "pwr = pg.power_ttest(d=d, n=n, contrast='paired')\n",
    "# Start the plot\n",
    "plt.plot(n, pwr, 'ko-.')\n",
    "plt.axhline(0.8, color='r', ls=':')\n",
    "plt.xlabel('Sample size')\n",
    "plt.ylabel('Power (1 - type II error)')\n",
    "plt.title('Achieved power of a paired T-test')\n",
    "sns.despine()"
   ]
  },
  {
   "cell_type": "markdown",
   "id": "a809a243-ca82-4ade-85f3-2d239089db7f",
   "metadata": {},
   "source": [
    "## Paired plot"
   ]
  },
  {
   "cell_type": "code",
   "execution_count": 42,
   "id": "dc5ca835-2e72-40e9-8d4d-c374251686b5",
   "metadata": {},
   "outputs": [
    {
     "data": {
      "text/html": [
       "<div>\n",
       "<style scoped>\n",
       "    .dataframe tbody tr th:only-of-type {\n",
       "        vertical-align: middle;\n",
       "    }\n",
       "\n",
       "    .dataframe tbody tr th {\n",
       "        vertical-align: top;\n",
       "    }\n",
       "\n",
       "    .dataframe thead th {\n",
       "        text-align: right;\n",
       "    }\n",
       "</style>\n",
       "<table border=\"1\" class=\"dataframe\">\n",
       "  <thead>\n",
       "    <tr style=\"text-align: right;\">\n",
       "      <th></th>\n",
       "      <th>Scores</th>\n",
       "      <th>Time</th>\n",
       "      <th>Group</th>\n",
       "      <th>Subject</th>\n",
       "    </tr>\n",
       "  </thead>\n",
       "  <tbody>\n",
       "    <tr>\n",
       "      <th>90</th>\n",
       "      <td>5.579842</td>\n",
       "      <td>August</td>\n",
       "      <td>Meditation</td>\n",
       "      <td>30</td>\n",
       "    </tr>\n",
       "    <tr>\n",
       "      <th>91</th>\n",
       "      <td>5.100035</td>\n",
       "      <td>August</td>\n",
       "      <td>Meditation</td>\n",
       "      <td>31</td>\n",
       "    </tr>\n",
       "    <tr>\n",
       "      <th>92</th>\n",
       "      <td>4.472149</td>\n",
       "      <td>August</td>\n",
       "      <td>Meditation</td>\n",
       "      <td>32</td>\n",
       "    </tr>\n",
       "    <tr>\n",
       "      <th>93</th>\n",
       "      <td>4.915282</td>\n",
       "      <td>August</td>\n",
       "      <td>Meditation</td>\n",
       "      <td>33</td>\n",
       "    </tr>\n",
       "    <tr>\n",
       "      <th>94</th>\n",
       "      <td>6.316594</td>\n",
       "      <td>August</td>\n",
       "      <td>Meditation</td>\n",
       "      <td>34</td>\n",
       "    </tr>\n",
       "  </tbody>\n",
       "</table>\n",
       "</div>"
      ],
      "text/plain": [
       "      Scores    Time       Group  Subject\n",
       "90  5.579842  August  Meditation       30\n",
       "91  5.100035  August  Meditation       31\n",
       "92  4.472149  August  Meditation       32\n",
       "93  4.915282  August  Meditation       33\n",
       "94  6.316594  August  Meditation       34"
      ]
     },
     "execution_count": 42,
     "metadata": {},
     "output_type": "execute_result"
    }
   ],
   "source": [
    "df = pg.read_dataset('mixed_anova').query(\"Group == 'Meditation' and Time != 'January'\")\n",
    "df.head()"
   ]
  },
  {
   "cell_type": "code",
   "execution_count": 43,
   "id": "4ce161ed-19b6-47c9-ba36-c04d7687ae97",
   "metadata": {},
   "outputs": [
    {
     "name": "stderr",
     "output_type": "stream",
     "text": [
      "/Users/du/anaconda3/lib/python3.12/site-packages/pingouin/plotting.py:573: FutureWarning: Downcasting behavior in `replace` is deprecated and will be removed in a future version. To retain the old behavior, explicitly call `result.infer_objects(copy=False)`. To opt-in to the future behavior, set `pd.set_option('future.no_silent_downcasting', True)`\n",
      "  data[\"wthn\"] = data[within].replace({_ordr: i for i, _ordr in enumerate(order)})\n"
     ]
    },
    {
     "data": {
      "text/plain": [
       "Text(0.5, 1.0, 'Effect of meditation on school performance')"
      ]
     },
     "execution_count": 43,
     "metadata": {},
     "output_type": "execute_result"
    },
    {
     "data": {
      "image/png": "[encoded data removed]",
      "text/plain": [
       "<Figure size 640x480 with 1 Axes>"
      ]
     },
     "metadata": {},
     "output_type": "display_data"
    }
   ],
   "source": [
    "ax = pg.plot_paired(data=df, dv='Scores', within='Time', subject='Subject')\n",
    "ax.set_title(\"Effect of meditation on school performance\")"
   ]
  },
  {
   "cell_type": "code",
   "execution_count": null,
   "id": "f2a1e85d-c060-42d4-a189-fcbaa8c96f0b",
   "metadata": {},
   "outputs": [],
   "source": [
    "## Integration with Panda"
   ]
  },
  {
   "cell_type": "code",
   "execution_count": 44,
   "id": "6112da27-f39d-49f2-8a5e-002a3129cf37",
   "metadata": {},
   "outputs": [
    {
     "data": {
      "text/html": [
       "<div>\n",
       "<style scoped>\n",
       "    .dataframe tbody tr th:only-of-type {\n",
       "        vertical-align: middle;\n",
       "    }\n",
       "\n",
       "    .dataframe tbody tr th {\n",
       "        vertical-align: top;\n",
       "    }\n",
       "\n",
       "    .dataframe thead th {\n",
       "        text-align: right;\n",
       "    }\n",
       "</style>\n",
       "<table border=\"1\" class=\"dataframe\">\n",
       "  <thead>\n",
       "    <tr style=\"text-align: right;\">\n",
       "      <th></th>\n",
       "      <th>Scores</th>\n",
       "      <th>Time</th>\n",
       "      <th>Group</th>\n",
       "      <th>Subject</th>\n",
       "    </tr>\n",
       "  </thead>\n",
       "  <tbody>\n",
       "    <tr>\n",
       "      <th>0</th>\n",
       "      <td>5.971435</td>\n",
       "      <td>August</td>\n",
       "      <td>Control</td>\n",
       "      <td>0</td>\n",
       "    </tr>\n",
       "    <tr>\n",
       "      <th>1</th>\n",
       "      <td>4.309024</td>\n",
       "      <td>August</td>\n",
       "      <td>Control</td>\n",
       "      <td>1</td>\n",
       "    </tr>\n",
       "    <tr>\n",
       "      <th>2</th>\n",
       "      <td>6.932707</td>\n",
       "      <td>August</td>\n",
       "      <td>Control</td>\n",
       "      <td>2</td>\n",
       "    </tr>\n",
       "    <tr>\n",
       "      <th>3</th>\n",
       "      <td>5.187348</td>\n",
       "      <td>August</td>\n",
       "      <td>Control</td>\n",
       "      <td>3</td>\n",
       "    </tr>\n",
       "    <tr>\n",
       "      <th>4</th>\n",
       "      <td>4.779411</td>\n",
       "      <td>August</td>\n",
       "      <td>Control</td>\n",
       "      <td>4</td>\n",
       "    </tr>\n",
       "  </tbody>\n",
       "</table>\n",
       "</div>"
      ],
      "text/plain": [
       "     Scores    Time    Group  Subject\n",
       "0  5.971435  August  Control        0\n",
       "1  4.309024  August  Control        1\n",
       "2  6.932707  August  Control        2\n",
       "3  5.187348  August  Control        3\n",
       "4  4.779411  August  Control        4"
      ]
     },
     "execution_count": 44,
     "metadata": {},
     "output_type": "execute_result"
    }
   ],
   "source": [
    "# Example 1 | ANOVA\n",
    "df = pg.read_dataset('mixed_anova')\n",
    "df.head()"
   ]
  },
  {
   "cell_type": "code",
   "execution_count": 45,
   "id": "9f5e134f-a52e-4d33-a379-b7caa7755429",
   "metadata": {},
   "outputs": [
    {
     "data": {
      "text/html": [
       "<div>\n",
       "<style scoped>\n",
       "    .dataframe tbody tr th:only-of-type {\n",
       "        vertical-align: middle;\n",
       "    }\n",
       "\n",
       "    .dataframe tbody tr th {\n",
       "        vertical-align: top;\n",
       "    }\n",
       "\n",
       "    .dataframe thead th {\n",
       "        text-align: right;\n",
       "    }\n",
       "</style>\n",
       "<table border=\"1\" class=\"dataframe\">\n",
       "  <thead>\n",
       "    <tr style=\"text-align: right;\">\n",
       "      <th></th>\n",
       "      <th>Source</th>\n",
       "      <th>SS</th>\n",
       "      <th>DF</th>\n",
       "      <th>MS</th>\n",
       "      <th>F</th>\n",
       "      <th>p-unc</th>\n",
       "      <th>np2</th>\n",
       "    </tr>\n",
       "  </thead>\n",
       "  <tbody>\n",
       "    <tr>\n",
       "      <th>0</th>\n",
       "      <td>Group</td>\n",
       "      <td>5.459963</td>\n",
       "      <td>1</td>\n",
       "      <td>5.459963</td>\n",
       "      <td>5.243656</td>\n",
       "      <td>0.0232</td>\n",
       "      <td>0.028616</td>\n",
       "    </tr>\n",
       "    <tr>\n",
       "      <th>1</th>\n",
       "      <td>Within</td>\n",
       "      <td>185.342729</td>\n",
       "      <td>178</td>\n",
       "      <td>1.041251</td>\n",
       "      <td>NaN</td>\n",
       "      <td>NaN</td>\n",
       "      <td>NaN</td>\n",
       "    </tr>\n",
       "  </tbody>\n",
       "</table>\n",
       "</div>"
      ],
      "text/plain": [
       "   Source          SS   DF        MS         F   p-unc       np2\n",
       "0   Group    5.459963    1  5.459963  5.243656  0.0232  0.028616\n",
       "1  Within  185.342729  178  1.041251       NaN     NaN       NaN"
      ]
     },
     "execution_count": 45,
     "metadata": {},
     "output_type": "execute_result"
    }
   ],
   "source": [
    "df.anova(dv='Scores', between='Group', detailed=True)"
   ]
  },
  {
   "cell_type": "code",
   "execution_count": 46,
   "id": "707e78ec-ae41-48f0-9e9b-27d367897c10",
   "metadata": {},
   "outputs": [
    {
     "data": {
      "text/html": [
       "<div>\n",
       "<style scoped>\n",
       "    .dataframe tbody tr th:only-of-type {\n",
       "        vertical-align: middle;\n",
       "    }\n",
       "\n",
       "    .dataframe tbody tr th {\n",
       "        vertical-align: top;\n",
       "    }\n",
       "\n",
       "    .dataframe thead th {\n",
       "        text-align: right;\n",
       "    }\n",
       "</style>\n",
       "<table border=\"1\" class=\"dataframe\">\n",
       "  <thead>\n",
       "    <tr style=\"text-align: right;\">\n",
       "      <th></th>\n",
       "      <th>X</th>\n",
       "      <th>M</th>\n",
       "      <th>Y</th>\n",
       "      <th>Mbin</th>\n",
       "      <th>Ybin</th>\n",
       "      <th>W1</th>\n",
       "      <th>W2</th>\n",
       "    </tr>\n",
       "  </thead>\n",
       "  <tbody>\n",
       "    <tr>\n",
       "      <th>0</th>\n",
       "      <td>6</td>\n",
       "      <td>5</td>\n",
       "      <td>6</td>\n",
       "      <td>0</td>\n",
       "      <td>1</td>\n",
       "      <td>0.0</td>\n",
       "      <td>1.0</td>\n",
       "    </tr>\n",
       "    <tr>\n",
       "      <th>1</th>\n",
       "      <td>7</td>\n",
       "      <td>5</td>\n",
       "      <td>5</td>\n",
       "      <td>1</td>\n",
       "      <td>0</td>\n",
       "      <td>0.1</td>\n",
       "      <td>1.0</td>\n",
       "    </tr>\n",
       "    <tr>\n",
       "      <th>2</th>\n",
       "      <td>7</td>\n",
       "      <td>7</td>\n",
       "      <td>4</td>\n",
       "      <td>0</td>\n",
       "      <td>0</td>\n",
       "      <td>0.2</td>\n",
       "      <td>1.0</td>\n",
       "    </tr>\n",
       "    <tr>\n",
       "      <th>3</th>\n",
       "      <td>8</td>\n",
       "      <td>4</td>\n",
       "      <td>8</td>\n",
       "      <td>0</td>\n",
       "      <td>1</td>\n",
       "      <td>0.3</td>\n",
       "      <td>1.0</td>\n",
       "    </tr>\n",
       "    <tr>\n",
       "      <th>4</th>\n",
       "      <td>4</td>\n",
       "      <td>3</td>\n",
       "      <td>5</td>\n",
       "      <td>0</td>\n",
       "      <td>1</td>\n",
       "      <td>0.4</td>\n",
       "      <td>1.0</td>\n",
       "    </tr>\n",
       "  </tbody>\n",
       "</table>\n",
       "</div>"
      ],
      "text/plain": [
       "   X  M  Y  Mbin  Ybin   W1   W2\n",
       "0  6  5  6     0     1  0.0  1.0\n",
       "1  7  5  5     1     0  0.1  1.0\n",
       "2  7  7  4     0     0  0.2  1.0\n",
       "3  8  4  8     0     1  0.3  1.0\n",
       "4  4  3  5     0     1  0.4  1.0"
      ]
     },
     "execution_count": 46,
     "metadata": {},
     "output_type": "execute_result"
    }
   ],
   "source": [
    "# Example 2 | Pairwise correlations\n",
    "data = pg.read_dataset('mediation')\n",
    "data.head()"
   ]
  },
  {
   "cell_type": "code",
   "execution_count": 47,
   "id": "b25818f4-c0ee-4ad5-a912-4d5cc32af9f0",
   "metadata": {},
   "outputs": [
    {
     "data": {
      "text/html": [
       "<div>\n",
       "<style scoped>\n",
       "    .dataframe tbody tr th:only-of-type {\n",
       "        vertical-align: middle;\n",
       "    }\n",
       "\n",
       "    .dataframe tbody tr th {\n",
       "        vertical-align: top;\n",
       "    }\n",
       "\n",
       "    .dataframe thead th {\n",
       "        text-align: right;\n",
       "    }\n",
       "</style>\n",
       "<table border=\"1\" class=\"dataframe\">\n",
       "  <thead>\n",
       "    <tr style=\"text-align: right;\">\n",
       "      <th></th>\n",
       "      <th>X</th>\n",
       "      <th>Y</th>\n",
       "      <th>method</th>\n",
       "      <th>covar</th>\n",
       "      <th>alternative</th>\n",
       "      <th>n</th>\n",
       "      <th>r</th>\n",
       "      <th>CI95%</th>\n",
       "      <th>p-unc</th>\n",
       "    </tr>\n",
       "  </thead>\n",
       "  <tbody>\n",
       "    <tr>\n",
       "      <th>0</th>\n",
       "      <td>X</td>\n",
       "      <td>M</td>\n",
       "      <td>pearson</td>\n",
       "      <td>['Mbin']</td>\n",
       "      <td>two-sided</td>\n",
       "      <td>100</td>\n",
       "      <td>0.514160</td>\n",
       "      <td>[0.35, 0.65]</td>\n",
       "      <td>5.225344e-08</td>\n",
       "    </tr>\n",
       "    <tr>\n",
       "      <th>1</th>\n",
       "      <td>X</td>\n",
       "      <td>Y</td>\n",
       "      <td>pearson</td>\n",
       "      <td>['Mbin']</td>\n",
       "      <td>two-sided</td>\n",
       "      <td>100</td>\n",
       "      <td>0.338344</td>\n",
       "      <td>[0.15, 0.5]</td>\n",
       "      <td>6.140516e-04</td>\n",
       "    </tr>\n",
       "    <tr>\n",
       "      <th>2</th>\n",
       "      <td>M</td>\n",
       "      <td>Y</td>\n",
       "      <td>pearson</td>\n",
       "      <td>['Mbin']</td>\n",
       "      <td>two-sided</td>\n",
       "      <td>100</td>\n",
       "      <td>0.609681</td>\n",
       "      <td>[0.47, 0.72]</td>\n",
       "      <td>2.118163e-11</td>\n",
       "    </tr>\n",
       "  </tbody>\n",
       "</table>\n",
       "</div>"
      ],
      "text/plain": [
       "   X  Y   method     covar alternative    n         r         CI95%  \\\n",
       "0  X  M  pearson  ['Mbin']   two-sided  100  0.514160  [0.35, 0.65]   \n",
       "1  X  Y  pearson  ['Mbin']   two-sided  100  0.338344   [0.15, 0.5]   \n",
       "2  M  Y  pearson  ['Mbin']   two-sided  100  0.609681  [0.47, 0.72]   \n",
       "\n",
       "          p-unc  \n",
       "0  5.225344e-08  \n",
       "1  6.140516e-04  \n",
       "2  2.118163e-11  "
      ]
     },
     "execution_count": 47,
     "metadata": {},
     "output_type": "execute_result"
    }
   ],
   "source": [
    "data.pairwise_corr(columns=['X', 'M', 'Y'], covar=['Mbin'])"
   ]
  },
  {
   "cell_type": "code",
   "execution_count": 48,
   "id": "d5259f97-e83f-4590-9daf-fdf173a99e87",
   "metadata": {},
   "outputs": [
    {
     "data": {
      "text/html": [
       "<div>\n",
       "<style scoped>\n",
       "    .dataframe tbody tr th:only-of-type {\n",
       "        vertical-align: middle;\n",
       "    }\n",
       "\n",
       "    .dataframe tbody tr th {\n",
       "        vertical-align: top;\n",
       "    }\n",
       "\n",
       "    .dataframe thead th {\n",
       "        text-align: right;\n",
       "    }\n",
       "</style>\n",
       "<table border=\"1\" class=\"dataframe\">\n",
       "  <thead>\n",
       "    <tr style=\"text-align: right;\">\n",
       "      <th></th>\n",
       "      <th>X</th>\n",
       "      <th>M</th>\n",
       "      <th>Y</th>\n",
       "      <th>Mbin</th>\n",
       "      <th>Ybin</th>\n",
       "      <th>W1</th>\n",
       "      <th>W2</th>\n",
       "    </tr>\n",
       "  </thead>\n",
       "  <tbody>\n",
       "    <tr>\n",
       "      <th>X</th>\n",
       "      <td>1.000000</td>\n",
       "      <td>0.359093</td>\n",
       "      <td>0.074315</td>\n",
       "      <td>-0.019338</td>\n",
       "      <td>-0.147393</td>\n",
       "      <td>-0.147963</td>\n",
       "      <td>-0.067496</td>\n",
       "    </tr>\n",
       "    <tr>\n",
       "      <th>M</th>\n",
       "      <td>0.359093</td>\n",
       "      <td>1.000000</td>\n",
       "      <td>0.555066</td>\n",
       "      <td>-0.023767</td>\n",
       "      <td>-0.111591</td>\n",
       "      <td>-0.137764</td>\n",
       "      <td>-0.175574</td>\n",
       "    </tr>\n",
       "    <tr>\n",
       "      <th>Y</th>\n",
       "      <td>0.074315</td>\n",
       "      <td>0.555066</td>\n",
       "      <td>1.000000</td>\n",
       "      <td>-0.001438</td>\n",
       "      <td>0.169494</td>\n",
       "      <td>0.100920</td>\n",
       "      <td>0.107903</td>\n",
       "    </tr>\n",
       "    <tr>\n",
       "      <th>Mbin</th>\n",
       "      <td>-0.019338</td>\n",
       "      <td>-0.023767</td>\n",
       "      <td>-0.001438</td>\n",
       "      <td>1.000000</td>\n",
       "      <td>-0.080233</td>\n",
       "      <td>-0.032491</td>\n",
       "      <td>-0.040473</td>\n",
       "    </tr>\n",
       "    <tr>\n",
       "      <th>Ybin</th>\n",
       "      <td>-0.147393</td>\n",
       "      <td>-0.111591</td>\n",
       "      <td>0.169494</td>\n",
       "      <td>-0.080233</td>\n",
       "      <td>1.000000</td>\n",
       "      <td>-0.000241</td>\n",
       "      <td>-0.139795</td>\n",
       "    </tr>\n",
       "    <tr>\n",
       "      <th>W1</th>\n",
       "      <td>-0.147963</td>\n",
       "      <td>-0.137764</td>\n",
       "      <td>0.100920</td>\n",
       "      <td>-0.032491</td>\n",
       "      <td>-0.000241</td>\n",
       "      <td>1.000000</td>\n",
       "      <td>-0.394354</td>\n",
       "    </tr>\n",
       "    <tr>\n",
       "      <th>W2</th>\n",
       "      <td>-0.067496</td>\n",
       "      <td>-0.175574</td>\n",
       "      <td>0.107903</td>\n",
       "      <td>-0.040473</td>\n",
       "      <td>-0.139795</td>\n",
       "      <td>-0.394354</td>\n",
       "      <td>1.000000</td>\n",
       "    </tr>\n",
       "  </tbody>\n",
       "</table>\n",
       "</div>"
      ],
      "text/plain": [
       "             X         M         Y      Mbin      Ybin        W1        W2\n",
       "X     1.000000  0.359093  0.074315 -0.019338 -0.147393 -0.147963 -0.067496\n",
       "M     0.359093  1.000000  0.555066 -0.023767 -0.111591 -0.137764 -0.175574\n",
       "Y     0.074315  0.555066  1.000000 -0.001438  0.169494  0.100920  0.107903\n",
       "Mbin -0.019338 -0.023767 -0.001438  1.000000 -0.080233 -0.032491 -0.040473\n",
       "Ybin -0.147393 -0.111591  0.169494 -0.080233  1.000000 -0.000241 -0.139795\n",
       "W1   -0.147963 -0.137764  0.100920 -0.032491 -0.000241  1.000000 -0.394354\n",
       "W2   -0.067496 -0.175574  0.107903 -0.040473 -0.139795 -0.394354  1.000000"
      ]
     },
     "execution_count": 48,
     "metadata": {},
     "output_type": "execute_result"
    }
   ],
   "source": [
    "# Example 3 | Partial correlation matrix\n",
    "data.pcorr()"
   ]
  },
  {
   "cell_type": "code",
   "execution_count": null,
   "id": "72393eac-a143-4362-aaf2-6d82f1e31c73",
   "metadata": {},
   "outputs": [],
   "source": []
  }
 ],
 "metadata": {
  "kernelspec": {
   "display_name": "Python 3 (ipykernel)",
   "language": "python",
   "name": "python3"
  },
  "language_info": {
   "codemirror_mode": {
    "name": "ipython",
    "version": 3
   },
   "file_extension": ".py",
   "mimetype": "text/x-python",
   "name": "python",
   "nbconvert_exporter": "python",
   "pygments_lexer": "ipython3",
   "version": "3.12.11"
  }
 },
 "nbformat": 4,
 "nbformat_minor": 5
}
