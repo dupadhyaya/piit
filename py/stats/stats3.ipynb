{
 "cells": [
  {
   "cell_type": "markdown",
   "id": "e421afcd-7774-4321-b2d7-cb4d8cc61b5f",
   "metadata": {},
   "source": [
    "## Statistics - 3 (Sampling)\n",
    "- Sampling is the process of selecting a subset of data (sample) from a larger population so that we can analyze it and make conclusions about the whole.\n",
    "- Why we sample:\n",
    "    - Saves time and cost\n",
    "    - Easier to collect and process\n",
    "    - Useful when population data is too large or infinite\n",
    "- Example: Instead of surveying all 10 lakh voters, we pick a representative sample of 2,000 people.\n",
    "- TERMS\n",
    "    - Population - Entire dataset (e.g., all customers)\n",
    "    - Sample- Subset drawn from population\n",
    "    - Sampling Frame- List from which the sample is drawn\n",
    "    - Sampling Error- Difference between population and sample estimate\n",
    "- Types of Sampling\n",
    "    - Probability : Every element has a known, non-zero chance of being selected.\n",
    "        -   Simple Random Sampling : Each item equally likely, random.sample(population, k)\n",
    "        -   Systematic Sampling : Every kᵗʰ item is picked , Use slicing or np.arange()\n",
    "        -    Stratified Sampling: Divide population into groups (strata) and sample within each, Use groupby() in pandas\n",
    "        -    Cluster Sampling : Divide into clusters, randomly select clusters; Use random choice on groups\n",
    "    - Non-Probability Sampling : Selection depends on researcher judgment or convenience.\n",
    "        - Convenience Sampling : Choose whoever is easiest to access\n",
    "        -  Purposive / Judgmental : Choose based on expertise / purpose\n",
    "        -  Snowball Sampling : Existing subjects recruit future ones\n",
    "        -  Quota Sampling : Select until quota met for categories"
   ]
  },
  {
   "cell_type": "markdown",
   "id": "7a3ed4e4-2838-4f84-9ec5-cdd726bfaa40",
   "metadata": {},
   "source": [
    "### Simple Random Sampling"
   ]
  },
  {
   "cell_type": "code",
   "execution_count": 2,
   "id": "274ea1f7-e8de-489b-8bac-fb72c0942c3f",
   "metadata": {},
   "outputs": [
    {
     "name": "stdout",
     "output_type": "stream",
     "text": [
      "[1, 2, 3, 4, 5, 6, 7, 8, 9, 10, 11, 12, 13, 14, 15, 16, 17, 18, 19, 20, 21, 22, 23, 24, 25, 26, 27, 28, 29, 30, 31, 32, 33, 34, 35, 36, 37, 38, 39, 40, 41, 42, 43, 44, 45, 46, 47, 48, 49, 50, 51, 52, 53, 54, 55, 56, 57, 58, 59, 60, 61, 62, 63, 64, 65, 66, 67, 68, 69, 70, 71, 72, 73, 74, 75, 76, 77, 78, 79, 80, 81, 82, 83, 84, 85, 86, 87, 88, 89, 90, 91, 92, 93, 94, 95, 96, 97, 98, 99, 100]\n"
     ]
    }
   ],
   "source": [
    "import random\n",
    "\n",
    "population = list(range(1, 101))  # 1 to 100\n",
    "print(population)"
   ]
  },
  {
   "cell_type": "code",
   "execution_count": null,
   "id": "a08b1b8b-a357-4148-99bc-a8dba41e660f",
   "metadata": {},
   "outputs": [],
   "source": [
    "sample = random.sample(population, 10)  # pick 10 random items\n",
    "print(sample)"
   ]
  },
  {
   "cell_type": "code",
   "execution_count": 3,
   "id": "b38ecdbf-5e20-40db-995e-4639262573da",
   "metadata": {},
   "outputs": [
    {
     "name": "stdout",
     "output_type": "stream",
     "text": [
      "[  1   2   3   4   5   6   7   8   9  10  11  12  13  14  15  16  17  18\n",
      "  19  20  21  22  23  24  25  26  27  28  29  30  31  32  33  34  35  36\n",
      "  37  38  39  40  41  42  43  44  45  46  47  48  49  50  51  52  53  54\n",
      "  55  56  57  58  59  60  61  62  63  64  65  66  67  68  69  70  71  72\n",
      "  73  74  75  76  77  78  79  80  81  82  83  84  85  86  87  88  89  90\n",
      "  91  92  93  94  95  96  97  98  99 100]\n"
     ]
    }
   ],
   "source": [
    "import numpy as np\n",
    "data = np.arange(1, 101)\n",
    "print(data)"
   ]
  },
  {
   "cell_type": "code",
   "execution_count": 4,
   "id": "eccbae84-5f8f-497e-8cce-aeea29f0c38f",
   "metadata": {},
   "outputs": [
    {
     "name": "stdout",
     "output_type": "stream",
     "text": [
      "[ 91  93  48  58  13  26  36  24 100  85]\n"
     ]
    }
   ],
   "source": [
    "sample = np.random.choice(data, size=10, replace=False)\n",
    "print(sample)"
   ]
  },
  {
   "cell_type": "markdown",
   "id": "cbd8befc-a835-4dc1-8e52-bd626c324e54",
   "metadata": {},
   "source": [
    "- replace=False → sampling without replacement\n",
    "- replace=True → sampling with replacement"
   ]
  },
  {
   "cell_type": "code",
   "execution_count": 5,
   "id": "b7f206c7-056a-45be-b802-e46eb72f6771",
   "metadata": {},
   "outputs": [],
   "source": [
    "# Pandas"
   ]
  },
  {
   "cell_type": "code",
   "execution_count": 6,
   "id": "14166e4c-b235-4a83-8ac7-f01b3edd4e2f",
   "metadata": {},
   "outputs": [
    {
     "data": {
      "text/html": [
       "<div>\n",
       "<style scoped>\n",
       "    .dataframe tbody tr th:only-of-type {\n",
       "        vertical-align: middle;\n",
       "    }\n",
       "\n",
       "    .dataframe tbody tr th {\n",
       "        vertical-align: top;\n",
       "    }\n",
       "\n",
       "    .dataframe thead th {\n",
       "        text-align: right;\n",
       "    }\n",
       "</style>\n",
       "<table border=\"1\" class=\"dataframe\">\n",
       "  <thead>\n",
       "    <tr style=\"text-align: right;\">\n",
       "      <th></th>\n",
       "      <th>id</th>\n",
       "      <th>age</th>\n",
       "    </tr>\n",
       "  </thead>\n",
       "  <tbody>\n",
       "    <tr>\n",
       "      <th>0</th>\n",
       "      <td>1</td>\n",
       "      <td>25</td>\n",
       "    </tr>\n",
       "    <tr>\n",
       "      <th>1</th>\n",
       "      <td>2</td>\n",
       "      <td>57</td>\n",
       "    </tr>\n",
       "    <tr>\n",
       "      <th>2</th>\n",
       "      <td>3</td>\n",
       "      <td>41</td>\n",
       "    </tr>\n",
       "    <tr>\n",
       "      <th>3</th>\n",
       "      <td>4</td>\n",
       "      <td>49</td>\n",
       "    </tr>\n",
       "    <tr>\n",
       "      <th>4</th>\n",
       "      <td>5</td>\n",
       "      <td>31</td>\n",
       "    </tr>\n",
       "    <tr>\n",
       "      <th>5</th>\n",
       "      <td>6</td>\n",
       "      <td>36</td>\n",
       "    </tr>\n",
       "    <tr>\n",
       "      <th>6</th>\n",
       "      <td>7</td>\n",
       "      <td>22</td>\n",
       "    </tr>\n",
       "    <tr>\n",
       "      <th>7</th>\n",
       "      <td>8</td>\n",
       "      <td>48</td>\n",
       "    </tr>\n",
       "    <tr>\n",
       "      <th>8</th>\n",
       "      <td>9</td>\n",
       "      <td>52</td>\n",
       "    </tr>\n",
       "    <tr>\n",
       "      <th>9</th>\n",
       "      <td>10</td>\n",
       "      <td>28</td>\n",
       "    </tr>\n",
       "    <tr>\n",
       "      <th>10</th>\n",
       "      <td>11</td>\n",
       "      <td>55</td>\n",
       "    </tr>\n",
       "    <tr>\n",
       "      <th>11</th>\n",
       "      <td>12</td>\n",
       "      <td>56</td>\n",
       "    </tr>\n",
       "    <tr>\n",
       "      <th>12</th>\n",
       "      <td>13</td>\n",
       "      <td>48</td>\n",
       "    </tr>\n",
       "    <tr>\n",
       "      <th>13</th>\n",
       "      <td>14</td>\n",
       "      <td>31</td>\n",
       "    </tr>\n",
       "    <tr>\n",
       "      <th>14</th>\n",
       "      <td>15</td>\n",
       "      <td>53</td>\n",
       "    </tr>\n",
       "    <tr>\n",
       "      <th>15</th>\n",
       "      <td>16</td>\n",
       "      <td>18</td>\n",
       "    </tr>\n",
       "    <tr>\n",
       "      <th>16</th>\n",
       "      <td>17</td>\n",
       "      <td>40</td>\n",
       "    </tr>\n",
       "    <tr>\n",
       "      <th>17</th>\n",
       "      <td>18</td>\n",
       "      <td>44</td>\n",
       "    </tr>\n",
       "    <tr>\n",
       "      <th>18</th>\n",
       "      <td>19</td>\n",
       "      <td>50</td>\n",
       "    </tr>\n",
       "    <tr>\n",
       "      <th>19</th>\n",
       "      <td>20</td>\n",
       "      <td>57</td>\n",
       "    </tr>\n",
       "  </tbody>\n",
       "</table>\n",
       "</div>"
      ],
      "text/plain": [
       "    id  age\n",
       "0    1   25\n",
       "1    2   57\n",
       "2    3   41\n",
       "3    4   49\n",
       "4    5   31\n",
       "5    6   36\n",
       "6    7   22\n",
       "7    8   48\n",
       "8    9   52\n",
       "9   10   28\n",
       "10  11   55\n",
       "11  12   56\n",
       "12  13   48\n",
       "13  14   31\n",
       "14  15   53\n",
       "15  16   18\n",
       "16  17   40\n",
       "17  18   44\n",
       "18  19   50\n",
       "19  20   57"
      ]
     },
     "execution_count": 6,
     "metadata": {},
     "output_type": "execute_result"
    }
   ],
   "source": [
    "import pandas as pd\n",
    "\n",
    "df = pd.DataFrame({\n",
    "    'id': range(1, 21),\n",
    "    'age': np.random.randint(18, 60, 20)\n",
    "})\n",
    "df"
   ]
  },
  {
   "cell_type": "code",
   "execution_count": 7,
   "id": "ec1978f7-c38a-4b6e-abd4-0b33fcd9eddd",
   "metadata": {},
   "outputs": [
    {
     "name": "stdout",
     "output_type": "stream",
     "text": [
      "    id  age\n",
      "0    1   25\n",
      "17  18   44\n",
      "15  16   18\n",
      "1    2   57\n",
      "8    9   52\n"
     ]
    }
   ],
   "source": [
    "# Simple random sample of 5 rows\n",
    "sample_df = df.sample(n=5, random_state=42)\n",
    "print(sample_df)"
   ]
  },
  {
   "cell_type": "markdown",
   "id": "7062e22d-a422-4d03-8209-f5e611f4a466",
   "metadata": {},
   "source": [
    "### Stratified Sampling (by group)"
   ]
  },
  {
   "cell_type": "code",
   "execution_count": 9,
   "id": "0acf28e7-eaa4-46cc-9054-e63d1eed792f",
   "metadata": {},
   "outputs": [],
   "source": [
    "# Sample 30% from each group\n",
    "stratified_sample = df.groupby('age').sample(frac=0.3, random_state=1)"
   ]
  },
  {
   "cell_type": "code",
   "execution_count": 10,
   "id": "2706aec5-0a43-48cc-87df-c25c520e1442",
   "metadata": {},
   "outputs": [
    {
     "data": {
      "text/html": [
       "<div>\n",
       "<style scoped>\n",
       "    .dataframe tbody tr th:only-of-type {\n",
       "        vertical-align: middle;\n",
       "    }\n",
       "\n",
       "    .dataframe tbody tr th {\n",
       "        vertical-align: top;\n",
       "    }\n",
       "\n",
       "    .dataframe thead th {\n",
       "        text-align: right;\n",
       "    }\n",
       "</style>\n",
       "<table border=\"1\" class=\"dataframe\">\n",
       "  <thead>\n",
       "    <tr style=\"text-align: right;\">\n",
       "      <th></th>\n",
       "      <th>id</th>\n",
       "      <th>age</th>\n",
       "    </tr>\n",
       "  </thead>\n",
       "  <tbody>\n",
       "    <tr>\n",
       "      <th>4</th>\n",
       "      <td>5</td>\n",
       "      <td>31</td>\n",
       "    </tr>\n",
       "    <tr>\n",
       "      <th>7</th>\n",
       "      <td>8</td>\n",
       "      <td>48</td>\n",
       "    </tr>\n",
       "    <tr>\n",
       "      <th>19</th>\n",
       "      <td>20</td>\n",
       "      <td>57</td>\n",
       "    </tr>\n",
       "  </tbody>\n",
       "</table>\n",
       "</div>"
      ],
      "text/plain": [
       "    id  age\n",
       "4    5   31\n",
       "7    8   48\n",
       "19  20   57"
      ]
     },
     "execution_count": 10,
     "metadata": {},
     "output_type": "execute_result"
    }
   ],
   "source": [
    "stratified_sample"
   ]
  },
  {
   "cell_type": "markdown",
   "id": "5ab0879b-6dd0-4f01-90a1-3f4e35ec2a94",
   "metadata": {},
   "source": [
    "### Systematic Sampling"
   ]
  },
  {
   "cell_type": "code",
   "execution_count": 11,
   "id": "ab1f466d-41d1-4c32-a3bc-d9a2246d1695",
   "metadata": {},
   "outputs": [
    {
     "name": "stdout",
     "output_type": "stream",
     "text": [
      "    id  age\n",
      "0    1   25\n",
      "5    6   36\n",
      "10  11   55\n",
      "15  16   18\n"
     ]
    }
   ],
   "source": [
    "k = 5\n",
    "sys_sample = df.iloc[::k]\n",
    "print(sys_sample)"
   ]
  },
  {
   "cell_type": "markdown",
   "id": "c8b30c6d-cc99-441c-98cc-c53e554f4c13",
   "metadata": {},
   "source": [
    "### Central Limit Theoram (CLT)\n",
    "- sampling from a population leads to the sampling distribution of the mean, illustrating the Central Limit Theorem (CLT)."
   ]
  },
  {
   "cell_type": "code",
   "execution_count": 13,
   "id": "cc403e5d-c599-4fc1-8f60-8496cffbd027",
   "metadata": {},
   "outputs": [],
   "source": [
    "import numpy as np\n",
    "import matplotlib.pyplot as plt\n",
    "import seaborn as sns"
   ]
  },
  {
   "cell_type": "code",
   "execution_count": 14,
   "id": "e7168788-dc99-4bb7-85af-24c841351693",
   "metadata": {},
   "outputs": [],
   "source": [
    "# Step 1: Create a non-normal (skewed) population\n",
    "np.random.seed(42)\n",
    "population = np.random.exponential(scale=10, size=100000)  # highly skewed data"
   ]
  },
  {
   "cell_type": "code",
   "execution_count": 15,
   "id": "d603ba52-9db2-4c14-a6a2-0f03a9632334",
   "metadata": {},
   "outputs": [],
   "source": [
    "# Step 2: Take repeated random samples & compute their means\n",
    "sample_size = 30\n",
    "num_samples = 1000\n",
    "sample_means = [np.mean(np.random.choice(population, sample_size)) for _ in range(num_samples)]"
   ]
  },
  {
   "cell_type": "code",
   "execution_count": 17,
   "id": "f93999ac-5bd8-451e-85c6-9d854f610b2b",
   "metadata": {},
   "outputs": [
    {
     "name": "stdout",
     "output_type": "stream",
     "text": [
      "[ 4.6926809  30.10121431 13.16745694 ... 11.22249686  6.92042281\n",
      "  4.94146309]\n"
     ]
    }
   ],
   "source": [
    "print(population)"
   ]
  },
  {
   "cell_type": "code",
   "execution_count": 16,
   "id": "79ce7968-a81a-42c9-ae38-d937d432f1c5",
   "metadata": {},
   "outputs": [
    {
     "data": {
      "image/png": "[encoded data removed]",
      "text/plain": [
       "<Figure size 1200x500 with 2 Axes>"
      ]
     },
     "metadata": {},
     "output_type": "display_data"
    }
   ],
   "source": [
    "# Step 3: Plot population vs sample means\n",
    "plt.figure(figsize=(12,5))\n",
    "\n",
    "# Population distribution\n",
    "plt.subplot(1, 2, 1)\n",
    "sns.histplot(population, bins=50, kde=True, color='skyblue')\n",
    "plt.title(\"Population Distribution (Exponential / Skewed)\")\n",
    "plt.xlabel(\"Value\")\n",
    "plt.ylabel(\"Frequency\")\n",
    "\n",
    "# Sampling distribution of the mean\n",
    "plt.subplot(1, 2, 2)\n",
    "sns.histplot(sample_means, bins=30, kde=True, color='lightgreen')\n",
    "plt.title(f\"Sampling Distribution of the Mean\\n(Sample size = {sample_size}, n = {num_samples})\")\n",
    "plt.xlabel(\"Sample Mean\")\n",
    "plt.ylabel(\"Frequency\")\n",
    "\n",
    "plt.tight_layout()\n",
    "plt.show()"
   ]
  },
  {
   "cell_type": "markdown",
   "id": "0835f9c5-20d4-4125-a543-1d8d81106759",
   "metadata": {},
   "source": [
    "- Left plot → The original population (skewed to the right).\n",
    "- Right plot → The distribution of sample means (looks bell-shaped / Normal).\n",
    "🎯 This is the Central Limit Theorem in action:\n",
    "- No matter the shape of the population, the distribution of sample means tends toward Normal as the sample size increases."
   ]
  },
  {
   "cell_type": "markdown",
   "id": "f287916c-e765-44ad-98cb-1d10dfed9bce",
   "metadata": {},
   "source": [
    "## End of File"
   ]
  },
  {
   "cell_type": "code",
   "execution_count": null,
   "id": "b174ef92-f5e2-4b66-8f62-657df5d3025a",
   "metadata": {},
   "outputs": [],
   "source": []
  }
 ],
 "metadata": {
  "kernelspec": {
   "display_name": "Python 3 (ipykernel)",
   "language": "python",
   "name": "python3"
  },
  "language_info": {
   "codemirror_mode": {
    "name": "ipython",
    "version": 3
   },
   "file_extension": ".py",
   "mimetype": "text/x-python",
   "name": "python",
   "nbconvert_exporter": "python",
   "pygments_lexer": "ipython3",
   "version": "3.12.11"
  }
 },
 "nbformat": 4,
 "nbformat_minor": 5
}
