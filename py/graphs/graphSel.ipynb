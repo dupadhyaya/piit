{
 "cells": [
  {
   "cell_type": "markdown",
   "id": "c7ee57ec-9a3d-4526-a00d-0af2538fcca3",
   "metadata": {},
   "source": [
    "# Graphs - Which Graph to be Drawn When\n",
    "- https://eazybi.com/blog/data-visualization-and-chart-types\n",
    "- https://nces.ed.gov/nceskids/help/user_guide/graph/whentouse.asp\n",
    "- https://www.ml4devs.com/images/illustrations/data-viz-cheatsheet-extreme-presentation-method.webp\n",
    "- https://www.ml4devs.com/images/illustrations/data-viz-cheatsheet-data-story-decision-tree.webp\n",
    "- https://www.ml4devs.com/images/illustrations/data-viz-cheatsheet-choose-your-visuals.webp\n",
    "- https://www.ml4devs.com/images/illustrations/data-viz-cheatsheet-datacamp.webp"
   ]
  },
  {
   "cell_type": "code",
   "execution_count": null,
   "id": "a5a6833d-21db-440d-a712-55c0910c1f12",
   "metadata": {},
   "outputs": [],
   "source": []
  },
  {
   "cell_type": "code",
   "execution_count": null,
   "id": "4a132c75-0c34-411f-9c9a-ad5ff6244df9",
   "metadata": {},
   "outputs": [],
   "source": []
  },
  {
   "cell_type": "markdown",
   "id": "7bc2469d-826d-4102-9e51-f5a639f42ca7",
   "metadata": {},
   "source": [
    "![Logo](https://www.ml4devs.com/images/illustrations/data-viz-cheatsheet-extreme-presentation-method.webp)"
   ]
  },
  {
   "attachments": {},
   "cell_type": "markdown",
   "id": "87ceab7f-6f11-4b4f-9fbb-b8dfff2ccf45",
   "metadata": {},
   "source": [
    "![Logo](https://www.ml4devs.com/images/illustrations/data-viz-cheatsheet-data-story-decision-tree.webp)"
   ]
  },
  {
   "cell_type": "markdown",
   "id": "64ec3741-f6c3-4de1-9839-0fe3d6ef2a89",
   "metadata": {},
   "source": [
    "![image.png](https://www.ml4devs.com/images/illustrations/data-viz-cheatsheet-choose-your-visuals.webp)"
   ]
  },
  {
   "cell_type": "code",
   "execution_count": null,
   "id": "f9cba114-a2c2-4477-9576-41c5156cf9dd",
   "metadata": {},
   "outputs": [],
   "source": []
  }
 ],
 "metadata": {
  "kernelspec": {
   "display_name": "Python 3 (ipykernel)",
   "language": "python",
   "name": "python3"
  },
  "language_info": {
   "codemirror_mode": {
    "name": "ipython",
    "version": 3
   },
   "file_extension": ".py",
   "mimetype": "text/x-python",
   "name": "python",
   "nbconvert_exporter": "python",
   "pygments_lexer": "ipython3",
   "version": "3.12.7"
  }
 },
 "nbformat": 4,
 "nbformat_minor": 5
}
