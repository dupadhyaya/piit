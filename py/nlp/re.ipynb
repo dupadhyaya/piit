{
 "cells": [
  {
   "cell_type": "markdown",
   "id": "191ded81-42f5-4b8d-a7c5-4e3ec692b307",
   "metadata": {},
   "source": [
    "## Python - Regular \n",
    "- regex (regular expressions) in Python is super powerful for text cleaning and preprocessing. Let me give you a structured overview with examples.\n",
    "- https://docs.python.org/3/library/re.html"
   ]
  },
  {
   "cell_type": "code",
   "execution_count": 1,
   "id": "19811684-9e02-43aa-992f-76d3c021e80a",
   "metadata": {},
   "outputs": [],
   "source": [
    "import re"
   ]
  },
  {
   "cell_type": "markdown",
   "id": "3f284b9e-bdca-4c11-9feb-78087ef2f31a",
   "metadata": {},
   "source": [
    "## Basic Functions\n",
    "- re.findall(pattern, text) → returns all matches\n",
    "- re.search(pattern, text) → finds the first match\n",
    "- re.sub(pattern, repl, text) → replaces text\n",
    "- re.split(pattern, text) → splits text"
   ]
  },
  {
   "cell_type": "markdown",
   "id": "4e446b31-c95d-4082-950b-b5c5c57d7a47",
   "metadata": {},
   "source": [
    "### Cleaning "
   ]
  },
  {
   "cell_type": "code",
   "execution_count": 4,
   "id": "efce81dd-0e8e-44f5-812d-15ece719dcf6",
   "metadata": {},
   "outputs": [
    {
     "data": {
      "text/plain": [
       "'Hello!!! How are you?? I’m fine...'"
      ]
     },
     "execution_count": 4,
     "metadata": {},
     "output_type": "execute_result"
    }
   ],
   "source": [
    "# Remove punctuation\n",
    "text = \"Hello!!! How are you?? I’m fine...\"\n",
    "cleaned = re.sub(r\"[^\\w\\s]\", \"\", text)\n",
    "text"
   ]
  },
  {
   "cell_type": "code",
   "execution_count": 5,
   "id": "2b6c38d5-86ef-4068-9103-c563ee3a57f4",
   "metadata": {},
   "outputs": [
    {
     "name": "stdout",
     "output_type": "stream",
     "text": [
      "Hello How are you Im fine\n"
     ]
    }
   ],
   "source": [
    "print(cleaned)   # \"Hello How are you I’m fine\""
   ]
  },
  {
   "cell_type": "code",
   "execution_count": 6,
   "id": "de72d65f-48f7-4c9e-b39c-6b2eccd61da8",
   "metadata": {},
   "outputs": [
    {
     "name": "stdout",
     "output_type": "stream",
     "text": [
      "   THIS   is   a   TEST    \n",
      " this is a test\n"
     ]
    }
   ],
   "source": [
    "#  Lowercasing + remove extra spaces\n",
    "text = \"   THIS   is   a   TEST   \"\n",
    "cleaned = re.sub(r\"\\s+\", \" \", text).strip().lower()\n",
    "print(text , '\\n', cleaned)   # \"this is a test\""
   ]
  },
  {
   "cell_type": "code",
   "execution_count": 7,
   "id": "58556c4c-fe0d-4f3a-9abb-8394874b8155",
   "metadata": {},
   "outputs": [
    {
     "name": "stdout",
     "output_type": "stream",
     "text": [
      "Order #123 was placed on 2025-08-15 \n",
      " Order # was placed on --\n"
     ]
    }
   ],
   "source": [
    "# Remove numbers\n",
    "text = \"Order #123 was placed on 2025-08-15\"\n",
    "cleaned = re.sub(r\"\\d+\", \"\", text)\n",
    "print(text , '\\n', cleaned)   # \"Order # was placed on -\""
   ]
  },
  {
   "cell_type": "code",
   "execution_count": 8,
   "id": "19e1ea5a-388e-495f-b547-1d3af96bb8f4",
   "metadata": {},
   "outputs": [
    {
     "name": "stdout",
     "output_type": "stream",
     "text": [
      "Contact us at support@example.com or sales@shop.com \n",
      " ['support@example.com', 'sales@shop.com']\n"
     ]
    }
   ],
   "source": [
    "# Extract only emails\n",
    "text = \"Contact us at support@example.com or sales@shop.com\"\n",
    "emails = re.findall(r\"[a-zA-Z0-9._%+-]+@[a-zA-Z0-9.-]+\\.[a-z]{2,}\", text)\n",
    "#   _____@ _____\n",
    "print(text, '\\n', emails)   # ['support@example.com', 'sales@shop.com']"
   ]
  },
  {
   "cell_type": "code",
   "execution_count": 9,
   "id": "58612fb6-58a8-4865-940f-9a82130a56bc",
   "metadata": {},
   "outputs": [
    {
     "name": "stdout",
     "output_type": "stream",
     "text": [
      "Loving #AI and #Python for #DataScience! \n",
      " ['#AI', '#Python', '#DataScience']\n"
     ]
    }
   ],
   "source": [
    "# Extract only hashtags\n",
    "text = \"Loving #AI and #Python for #DataScience!\"\n",
    "hashtags = re.findall(r\"#\\w+\", text)\n",
    "print(text, '\\n', hashtags)   # ['#AI', '#Python', '#DataScience']"
   ]
  },
  {
   "cell_type": "code",
   "execution_count": 10,
   "id": "3533cda4-63cb-432d-9cab-ea42b919cd87",
   "metadata": {},
   "outputs": [
    {
     "name": "stdout",
     "output_type": "stream",
     "text": [
      "<p>Hello <b>World</b></p> \n",
      " Hello World\n"
     ]
    }
   ],
   "source": [
    "# Remove HTML Tags\n",
    "text = \"<p>Hello <b>World</b></p>\"\n",
    "cleaned = re.sub(r\"<.*?>\", \"\", text)\n",
    "print(text, '\\n', cleaned)   # \"Hello World\""
   ]
  },
  {
   "cell_type": "code",
   "execution_count": 11,
   "id": "5977e334-cd77-4403-9c29-608a255803cb",
   "metadata": {},
   "outputs": [
    {
     "name": "stdout",
     "output_type": "stream",
     "text": [
      "Hello\n",
      "World\tPython \n",
      " Hello World Python\n"
     ]
    }
   ],
   "source": [
    "# Normalize whitespace (newlines, tabs → space)\n",
    "text = \"Hello\\nWorld\\tPython\"\n",
    "cleaned = re.sub(r\"\\s+\", \" \", text)\n",
    "print(text, '\\n', cleaned)   # \"Hello World Python\""
   ]
  },
  {
   "cell_type": "markdown",
   "id": "7eec1adc-7b5d-4b61-8f3e-6f5882946305",
   "metadata": {},
   "source": [
    "##  Regex + Pandas (cleaning columns)"
   ]
  },
  {
   "cell_type": "code",
   "execution_count": 13,
   "id": "72193e83-5616-46f4-89c8-60ebd4186bbe",
   "metadata": {},
   "outputs": [
    {
     "data": {
      "text/html": [
       "<div>\n",
       "<style scoped>\n",
       "    .dataframe tbody tr th:only-of-type {\n",
       "        vertical-align: middle;\n",
       "    }\n",
       "\n",
       "    .dataframe tbody tr th {\n",
       "        vertical-align: top;\n",
       "    }\n",
       "\n",
       "    .dataframe thead th {\n",
       "        text-align: right;\n",
       "    }\n",
       "</style>\n",
       "<table border=\"1\" class=\"dataframe\">\n",
       "  <thead>\n",
       "    <tr style=\"text-align: right;\">\n",
       "      <th></th>\n",
       "      <th>text</th>\n",
       "    </tr>\n",
       "  </thead>\n",
       "  <tbody>\n",
       "    <tr>\n",
       "      <th>0</th>\n",
       "      <td>Hello!!!</td>\n",
       "    </tr>\n",
       "    <tr>\n",
       "      <th>1</th>\n",
       "      <td>Python   is GREAT???</td>\n",
       "    </tr>\n",
       "    <tr>\n",
       "      <th>2</th>\n",
       "      <td>&lt;p&gt;Data Science&lt;/p&gt;</td>\n",
       "    </tr>\n",
       "  </tbody>\n",
       "</table>\n",
       "</div>"
      ],
      "text/plain": [
       "                   text\n",
       "0              Hello!!!\n",
       "1  Python   is GREAT???\n",
       "2   <p>Data Science</p>"
      ]
     },
     "execution_count": 13,
     "metadata": {},
     "output_type": "execute_result"
    }
   ],
   "source": [
    "import pandas as pd\n",
    "\n",
    "df = pd.DataFrame({\"text\": [\n",
    "    \"Hello!!!\",\n",
    "    \"Python   is GREAT???\",\n",
    "    \"<p>Data Science</p>\",\n",
    "]})\n",
    "\n",
    "df"
   ]
  },
  {
   "cell_type": "code",
   "execution_count": 14,
   "id": "f112a7ee-a6aa-45da-94e1-889c51b28289",
   "metadata": {},
   "outputs": [
    {
     "data": {
      "text/html": [
       "<div>\n",
       "<style scoped>\n",
       "    .dataframe tbody tr th:only-of-type {\n",
       "        vertical-align: middle;\n",
       "    }\n",
       "\n",
       "    .dataframe tbody tr th {\n",
       "        vertical-align: top;\n",
       "    }\n",
       "\n",
       "    .dataframe thead th {\n",
       "        text-align: right;\n",
       "    }\n",
       "</style>\n",
       "<table border=\"1\" class=\"dataframe\">\n",
       "  <thead>\n",
       "    <tr style=\"text-align: right;\">\n",
       "      <th></th>\n",
       "      <th>text</th>\n",
       "      <th>clean_text</th>\n",
       "    </tr>\n",
       "  </thead>\n",
       "  <tbody>\n",
       "    <tr>\n",
       "      <th>0</th>\n",
       "      <td>Hello!!!</td>\n",
       "      <td>hello</td>\n",
       "    </tr>\n",
       "    <tr>\n",
       "      <th>1</th>\n",
       "      <td>Python   is GREAT???</td>\n",
       "      <td>python is great</td>\n",
       "    </tr>\n",
       "    <tr>\n",
       "      <th>2</th>\n",
       "      <td>&lt;p&gt;Data Science&lt;/p&gt;</td>\n",
       "      <td>data science</td>\n",
       "    </tr>\n",
       "  </tbody>\n",
       "</table>\n",
       "</div>"
      ],
      "text/plain": [
       "                   text       clean_text\n",
       "0              Hello!!!            hello\n",
       "1  Python   is GREAT???  python is great\n",
       "2   <p>Data Science</p>     data science"
      ]
     },
     "execution_count": 14,
     "metadata": {},
     "output_type": "execute_result"
    }
   ],
   "source": [
    "df[\"clean_text\"] = df[\"text\"].str.lower()\\\n",
    "                              .str.replace(r\"<.*?>\", \"\", regex=True)\\\n",
    "                              .str.replace(r\"[^\\w\\s]\", \"\", regex=True)\\\n",
    "                              .str.replace(r\"\\s+\", \" \", regex=True)\n",
    "df"
   ]
  },
  {
   "cell_type": "markdown",
   "id": "4d61aaac-6431-4d3e-bb7b-cc658145d8b9",
   "metadata": {},
   "source": [
    "# Benefits\n",
    "- With regex, you can flexibly extract, replace, or normalize text patterns.\n",
    "- It’s especially useful in NLP, web scraping, and log cleaning."
   ]
  },
  {
   "cell_type": "code",
   "execution_count": null,
   "id": "8bd5467a-5bab-45eb-8dae-2de82f9e6131",
   "metadata": {},
   "outputs": [],
   "source": []
  }
 ],
 "metadata": {
  "kernelspec": {
   "display_name": "Python 3 (ipykernel)",
   "language": "python",
   "name": "python3"
  },
  "language_info": {
   "codemirror_mode": {
    "name": "ipython",
    "version": 3
   },
   "file_extension": ".py",
   "mimetype": "text/x-python",
   "name": "python",
   "nbconvert_exporter": "python",
   "pygments_lexer": "ipython3",
   "version": "3.12.11"
  }
 },
 "nbformat": 4,
 "nbformat_minor": 5
}
