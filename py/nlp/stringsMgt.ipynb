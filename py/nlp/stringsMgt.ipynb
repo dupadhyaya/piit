{
 "cells": [
  {
   "cell_type": "code",
   "execution_count": null,
   "id": "d467a8f6-a3ee-4d5f-92a3-c38e5dd531a2",
   "metadata": {},
   "outputs": [],
   "source": [
    "# Strings in Python"
   ]
  },
  {
   "cell_type": "code",
   "execution_count": null,
   "id": "12de8b70-178d-4e25-b434-dd3216239868",
   "metadata": {},
   "outputs": [],
   "source": []
  },
  {
   "cell_type": "markdown",
   "id": "9d99ce5d-6a12-4131-9df7-9d08e1b13fab",
   "metadata": {},
   "source": [
    "## Built-in Tools (Standard Library)\n",
    "### Core str methods : Python’s str class itself has a rich set of methods:\n",
    "- Case changes: .lower(), .upper(), .title(), .capitalize()\n",
    "- Whitespace: .strip(), .lstrip(), .rstrip()\n",
    "- Replace & split: .replace(), .split(), .rsplit(), .join()\n",
    "- Search: .find(), .rfind(), .startswith(), .endswith()\n",
    "- Tests: .isalpha(), .isdigit(), .isalnum(), .isspace()"
   ]
  },
  {
   "cell_type": "code",
   "execution_count": null,
   "id": "e141f67b-c489-406b-a12a-15c1604f426a",
   "metadata": {},
   "outputs": [],
   "source": []
  },
  {
   "cell_type": "code",
   "execution_count": null,
   "id": "e23e1f6d-6c37-4c75-9cd7-5d5c82b461eb",
   "metadata": {},
   "outputs": [],
   "source": []
  },
  {
   "cell_type": "markdown",
   "id": "28f70d8e-d672-4009-8c05-e5830ba1aa72",
   "metadata": {},
   "source": [
    "### string module\n",
    "- Extra constants and helpers:"
   ]
  },
  {
   "cell_type": "code",
   "execution_count": 1,
   "id": "ecb75548-f554-4dc4-b930-eb9f22d07503",
   "metadata": {},
   "outputs": [],
   "source": [
    "import string"
   ]
  },
  {
   "cell_type": "code",
   "execution_count": 2,
   "id": "a8e55ef5-f99f-442d-98e5-10d5c35dba50",
   "metadata": {},
   "outputs": [
    {
     "data": {
      "text/plain": [
       "'abcdefghijklmnopqrstuvwxyzABCDEFGHIJKLMNOPQRSTUVWXYZ'"
      ]
     },
     "execution_count": 2,
     "metadata": {},
     "output_type": "execute_result"
    }
   ],
   "source": [
    "string.ascii_letters   # 'abcdefghijklmnopqrstuvwxyzABCDEFGHIJKLMNOPQRSTUVWXYZ'"
   ]
  },
  {
   "cell_type": "code",
   "execution_count": 3,
   "id": "1f820693-f7b0-4fe0-a588-cd49f8c1007f",
   "metadata": {},
   "outputs": [
    {
     "data": {
      "text/plain": [
       "'0123456789'"
      ]
     },
     "execution_count": 3,
     "metadata": {},
     "output_type": "execute_result"
    }
   ],
   "source": [
    "string.digits          # '0123456789'"
   ]
  },
  {
   "cell_type": "code",
   "execution_count": 4,
   "id": "0e2a031c-9302-4753-ad68-2005341d1989",
   "metadata": {},
   "outputs": [
    {
     "data": {
      "text/plain": [
       "'!\"#$%&\\'()*+,-./:;<=>?@[\\\\]^_`{|}~'"
      ]
     },
     "execution_count": 4,
     "metadata": {},
     "output_type": "execute_result"
    }
   ],
   "source": [
    "string.punctuation     # '!\"#$%&\\'()*+,-./:;<=>?@[\\\\]^_`{|}~'"
   ]
  },
  {
   "cell_type": "code",
   "execution_count": null,
   "id": "fe2aa3ef-3fdb-433d-9744-d57b0146185b",
   "metadata": {},
   "outputs": [],
   "source": []
  },
  {
   "cell_type": "markdown",
   "id": "4890d00a-9604-4e74-b2e9-d9d38b01b9a5",
   "metadata": {},
   "source": [
    "## re module (Regular Expressions)\n",
    "- Powerful pattern matching and text extraction:"
   ]
  },
  {
   "cell_type": "code",
   "execution_count": 5,
   "id": "84b61db9-2d0b-43e8-af7d-79d0bfe4e394",
   "metadata": {},
   "outputs": [],
   "source": [
    "import re"
   ]
  },
  {
   "cell_type": "code",
   "execution_count": 7,
   "id": "07972b74-7f57-4e5c-b0bb-09aaf9bf6a10",
   "metadata": {},
   "outputs": [
    {
     "data": {
      "text/plain": [
       "['123', '456']"
      ]
     },
     "execution_count": 7,
     "metadata": {},
     "output_type": "execute_result"
    }
   ],
   "source": [
    "re.findall(r'\\d+', 'Order 123, Item 456')  # ['123', '456']\n",
    "# Extract only numbers"
   ]
  },
  {
   "cell_type": "markdown",
   "id": "1024e55a-0f1f-4031-8f05-e3c045829a92",
   "metadata": {},
   "source": [
    "## textwrap\n",
    "- For wrapping and formatting text:"
   ]
  },
  {
   "cell_type": "code",
   "execution_count": 8,
   "id": "eb82d875-c6bc-4ecc-8219-3c8c38ca3558",
   "metadata": {},
   "outputs": [
    {
     "data": {
      "text/plain": [
       "'Some long text ...'"
      ]
     },
     "execution_count": 8,
     "metadata": {},
     "output_type": "execute_result"
    }
   ],
   "source": [
    "import textwrap\n",
    "textwrap.fill(\"Some long text ...\", width=40)"
   ]
  },
  {
   "cell_type": "code",
   "execution_count": null,
   "id": "fecbd1f4-89ec-42ff-949f-73888ba0de85",
   "metadata": {},
   "outputs": [],
   "source": []
  },
  {
   "cell_type": "code",
   "execution_count": null,
   "id": "8416dfd9-3c75-4c6c-8ca7-4833f9a72e2b",
   "metadata": {},
   "outputs": [],
   "source": []
  },
  {
   "cell_type": "markdown",
   "id": "1a64a37a-2168-48c0-875e-9a755e17f642",
   "metadata": {},
   "source": [
    "### Utilities for Special Cases\n",
    "\t•\tunicodedata — normalize or strip accents from Unicode text.\n",
    "\t•\tdifflib — find differences between sequences/strings.\n",
    "\t•\tpyparsing — create grammar rules for parsing text.\n",
    "\t•\tunidecode — transliterate Unicode text into ASCII."
   ]
  },
  {
   "cell_type": "markdown",
   "id": "d59884d4-b8b4-4746-a135-788f578de224",
   "metadata": {},
   "source": [
    "### beautifulsoup4 / lxml\n",
    "- For extracting and manipulating text from HTML/XML documents."
   ]
  },
  {
   "cell_type": "markdown",
   "id": "e0d7d203-dc3b-4608-9bed-aa2f15afbef4",
   "metadata": {},
   "source": [
    "## extblob / nltk\n",
    "- For NLP-style string processing: tokenization, stemming, sentiment analysis.\n"
   ]
  },
  {
   "cell_type": "code",
   "execution_count": null,
   "id": "8e754b16-aaae-42e2-a7b0-df3daa50c2c2",
   "metadata": {},
   "outputs": [],
   "source": []
  }
 ],
 "metadata": {
  "kernelspec": {
   "display_name": "Python 3 (ipykernel)",
   "language": "python",
   "name": "python3"
  },
  "language_info": {
   "codemirror_mode": {
    "name": "ipython",
    "version": 3
   },
   "file_extension": ".py",
   "mimetype": "text/x-python",
   "name": "python",
   "nbconvert_exporter": "python",
   "pygments_lexer": "ipython3",
   "version": "3.12.7"
  }
 },
 "nbformat": 4,
 "nbformat_minor": 5
}
