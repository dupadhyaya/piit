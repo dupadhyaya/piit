{
 "cells": [
  {
   "cell_type": "markdown",
   "id": "fd0e770f-755f-4d94-a0a5-0db518561b1e",
   "metadata": {},
   "source": [
    "# TUPLE\n",
    "- A tuple in Python is an ordered collection of items, similar to a list, but with a key distinction: immutability. This means that once a tuple is created, its elements cannot be changed, added, or removed\n",
    "    - IMMUTABLE\n",
    "    - ordered\n",
    "    - duplicates\n",
    "    - heterogenous (accepts multiple data types - no, text, logical)\n",
    "- created by ( ) round brackets\n",
    "- Tuples in Python are immutable, which means their elements cannot be changed, added, or removed after the tuple has been created. This immutability is a fundamental characteristic that distinguishes them from lists"
   ]
  },
  {
   "cell_type": "code",
   "execution_count": 1,
   "id": "71d84497-27f6-49da-95c2-2e1f69270a10",
   "metadata": {},
   "outputs": [],
   "source": [
    "# Empty tuple\n",
    "my_tuple = ()  "
   ]
  },
  {
   "cell_type": "code",
   "execution_count": 2,
   "id": "95e11913-a3fd-44c3-994e-bb6194c193ab",
   "metadata": {},
   "outputs": [
    {
     "data": {
      "text/plain": [
       "tuple"
      ]
     },
     "execution_count": 2,
     "metadata": {},
     "output_type": "execute_result"
    }
   ],
   "source": [
    "type(my_tuple)"
   ]
  },
  {
   "cell_type": "code",
   "execution_count": 3,
   "id": "b5b93e90-fe4e-40f6-a0a3-548b264ffcbe",
   "metadata": {},
   "outputs": [],
   "source": [
    "# Tuple with multiple items\n",
    "fruits = (\"apple\", \"banana\", \"cherry\")"
   ]
  },
  {
   "cell_type": "code",
   "execution_count": 4,
   "id": "d14ec68f-f65c-4d97-b28c-3a2a2e895b5e",
   "metadata": {},
   "outputs": [
    {
     "data": {
      "text/plain": [
       "('apple', 'banana', 'cherry')"
      ]
     },
     "execution_count": 4,
     "metadata": {},
     "output_type": "execute_result"
    }
   ],
   "source": [
    "fruits"
   ]
  },
  {
   "cell_type": "code",
   "execution_count": 11,
   "id": "594c956e-bca1-452d-aecb-c3b1887c779c",
   "metadata": {},
   "outputs": [],
   "source": [
    "# Tuple with mixed data types\n",
    "mixed_tuple = (1, \"hello\", 3.14, True,1)"
   ]
  },
  {
   "cell_type": "code",
   "execution_count": 13,
   "id": "8d0d5ed4-142a-48d6-9ecd-b96e52748447",
   "metadata": {},
   "outputs": [
    {
     "data": {
      "text/plain": [
       "(1, 'hello', 3.14, True, 1)"
      ]
     },
     "execution_count": 13,
     "metadata": {},
     "output_type": "execute_result"
    }
   ],
   "source": [
    "mixed_tuple #duplicate, mixed types"
   ]
  },
  {
   "cell_type": "code",
   "execution_count": 8,
   "id": "e1750667-2c18-439e-aa52-763afd36add4",
   "metadata": {},
   "outputs": [],
   "source": [
    "# Single-item tuple (note the comma)\n",
    "single_item_tuple = (\"orange\",)"
   ]
  },
  {
   "cell_type": "code",
   "execution_count": 9,
   "id": "52ca51a0-4a5a-4cc7-b8f6-e57bddf2effc",
   "metadata": {},
   "outputs": [
    {
     "data": {
      "text/plain": [
       "('orange',)"
      ]
     },
     "execution_count": 9,
     "metadata": {},
     "output_type": "execute_result"
    }
   ],
   "source": [
    "single_item_tuple"
   ]
  },
  {
   "cell_type": "code",
   "execution_count": 10,
   "id": "6afac6ac-e303-4cac-b7ff-a1e1a9692b62",
   "metadata": {},
   "outputs": [],
   "source": [
    "#Duplicates, Ordered, Immutable, Mixed Data Types"
   ]
  },
  {
   "cell_type": "code",
   "execution_count": 16,
   "id": "9e067195-dfbd-425d-9f6d-d1fe2249de10",
   "metadata": {},
   "outputs": [
    {
     "data": {
      "text/plain": [
       "3.14"
      ]
     },
     "execution_count": 16,
     "metadata": {},
     "output_type": "execute_result"
    }
   ],
   "source": [
    "mixed_tuple[2]  #ordered ; order starts 0 not from 1"
   ]
  },
  {
   "cell_type": "code",
   "execution_count": 17,
   "id": "29248bbd-eebb-48d3-9d81-1cfc5baada59",
   "metadata": {},
   "outputs": [
    {
     "ename": "TypeError",
     "evalue": "'tuple' object does not support item assignment",
     "output_type": "error",
     "traceback": [
      "\u001b[1;31m---------------------------------------------------------------------------\u001b[0m",
      "\u001b[1;31mTypeError\u001b[0m                                 Traceback (most recent call last)",
      "Cell \u001b[1;32mIn[17], line 1\u001b[0m\n\u001b[1;32m----> 1\u001b[0m mixed_tuple[\u001b[38;5;241m2\u001b[39m] \u001b[38;5;241m=\u001b[39m \u001b[38;5;241m1.999\u001b[39m\n",
      "\u001b[1;31mTypeError\u001b[0m: 'tuple' object does not support item assignment"
     ]
    }
   ],
   "source": [
    "mixed_tuple[2] = 1.999\n",
    "#error - immutable, ie values in the tuple cannot be changed"
   ]
  },
  {
   "cell_type": "code",
   "execution_count": 19,
   "id": "8171c091-12f8-4120-a6c3-b0478da344b7",
   "metadata": {},
   "outputs": [
    {
     "name": "stdout",
     "output_type": "stream",
     "text": [
      "(1, 'Suroor', 3.14, True, 1, 'Mandal')\n"
     ]
    }
   ],
   "source": [
    "mixed_tuple = (1, \"Suroor\", 3.14, True, 1, 'Mandal')\n",
    "print(mixed_tuple)"
   ]
  },
  {
   "cell_type": "code",
   "execution_count": 20,
   "id": "2ab88d10-3d25-4e30-95db-5ac25aa0b998",
   "metadata": {},
   "outputs": [],
   "source": [
    "#cannot change any individual element of the tuple"
   ]
  },
  {
   "cell_type": "code",
   "execution_count": 26,
   "id": "73767710-9afb-4724-a467-e5ed49afad23",
   "metadata": {},
   "outputs": [
    {
     "name": "stdout",
     "output_type": "stream",
     "text": [
      "['__add__', '__class__', '__class_getitem__', '__contains__', '__delattr__', '__dir__', '__doc__', '__eq__', '__format__', '__ge__', '__getattribute__', '__getitem__', '__getnewargs__', '__getstate__', '__gt__', '__hash__', '__init__', '__init_subclass__', '__iter__', '__le__', '__len__', '__lt__', '__mul__', '__ne__', '__new__', '__reduce__', '__reduce_ex__', '__repr__', '__rmul__', '__setattr__', '__sizeof__', '__str__', '__subclasshook__', 'count', 'index'] \t \n"
     ]
    }
   ],
   "source": [
    "print(dir(tuple),'\\t ')  #function available for tuple ds"
   ]
  },
  {
   "cell_type": "code",
   "execution_count": 23,
   "id": "76b9cd7c-0acd-4a80-8280-f4042eca026c",
   "metadata": {},
   "outputs": [
    {
     "data": {
      "text/plain": [
       "1"
      ]
     },
     "execution_count": 23,
     "metadata": {},
     "output_type": "execute_result"
    }
   ],
   "source": [
    "mixed_tuple.count(3.14)"
   ]
  },
  {
   "cell_type": "code",
   "execution_count": 24,
   "id": "007f403f-3100-440a-a781-8ce933f2389e",
   "metadata": {},
   "outputs": [
    {
     "name": "stdout",
     "output_type": "stream",
     "text": [
      "['count', 'index']\n"
     ]
    }
   ],
   "source": [
    "methods = [method for method in dir(tuple) if callable(getattr(tuple, method)) and not method.startswith('__')]\n",
    "print(methods)"
   ]
  },
  {
   "cell_type": "code",
   "execution_count": 40,
   "id": "94b0fdba-3c88-488b-852c-6505171f6785",
   "metadata": {},
   "outputs": [
    {
     "ename": "TypeError",
     "evalue": "'>' not supported between instances of 'str' and 'int'",
     "output_type": "error",
     "traceback": [
      "\u001b[1;31m---------------------------------------------------------------------------\u001b[0m",
      "\u001b[1;31mTypeError\u001b[0m                                 Traceback (most recent call last)",
      "Cell \u001b[1;32mIn[40], line 1\u001b[0m\n\u001b[1;32m----> 1\u001b[0m \u001b[38;5;28mmax\u001b[39m(mixed_tuple)\n",
      "\u001b[1;31mTypeError\u001b[0m: '>' not supported between instances of 'str' and 'int'"
     ]
    }
   ],
   "source": [
    "max(mixed_tuple)   #error due to mixed types"
   ]
  },
  {
   "cell_type": "code",
   "execution_count": 32,
   "id": "bccb0bdd-6048-4b11-a9e0-4d1beb96db8b",
   "metadata": {},
   "outputs": [],
   "source": [
    "notuple = (10, 5, 8, 20,4, 5)"
   ]
  },
  {
   "cell_type": "code",
   "execution_count": 33,
   "id": "16898099-2ea1-4b2b-82b0-5284dd013d7e",
   "metadata": {},
   "outputs": [
    {
     "data": {
      "text/plain": [
       "20"
      ]
     },
     "execution_count": 33,
     "metadata": {},
     "output_type": "execute_result"
    }
   ],
   "source": [
    "max(notuple)"
   ]
  },
  {
   "cell_type": "code",
   "execution_count": 34,
   "id": "21770aa5-af4e-4da3-aee1-a6a6ac82d81d",
   "metadata": {},
   "outputs": [
    {
     "data": {
      "text/plain": [
       "4"
      ]
     },
     "execution_count": 34,
     "metadata": {},
     "output_type": "execute_result"
    }
   ],
   "source": [
    "min(notuple)"
   ]
  },
  {
   "cell_type": "code",
   "execution_count": 35,
   "id": "225e6a22-5a1f-4743-972d-c99171ab9bbb",
   "metadata": {},
   "outputs": [
    {
     "data": {
      "text/plain": [
       "52"
      ]
     },
     "execution_count": 35,
     "metadata": {},
     "output_type": "execute_result"
    }
   ],
   "source": [
    "sum(notuple)"
   ]
  },
  {
   "cell_type": "code",
   "execution_count": 37,
   "id": "8f972dab-7b42-440e-8a4e-ff7a245742fc",
   "metadata": {},
   "outputs": [
    {
     "data": {
      "text/plain": [
       "3"
      ]
     },
     "execution_count": 37,
     "metadata": {},
     "output_type": "execute_result"
    }
   ],
   "source": [
    "notuple.index(20)"
   ]
  },
  {
   "cell_type": "code",
   "execution_count": 38,
   "id": "84b59c91-bebb-4182-a5dc-8bd07e7b1834",
   "metadata": {},
   "outputs": [
    {
     "data": {
      "text/plain": [
       "2"
      ]
     },
     "execution_count": 38,
     "metadata": {},
     "output_type": "execute_result"
    }
   ],
   "source": [
    "notuple.count(5)"
   ]
  },
  {
   "cell_type": "code",
   "execution_count": 39,
   "id": "c2580adb-b30d-4fcd-84b9-eef8cab8b793",
   "metadata": {},
   "outputs": [
    {
     "data": {
      "text/plain": [
       "6"
      ]
     },
     "execution_count": 39,
     "metadata": {},
     "output_type": "execute_result"
    }
   ],
   "source": [
    "len(notuple)"
   ]
  },
  {
   "cell_type": "code",
   "execution_count": null,
   "id": "a69257f9-d2d9-4e39-8e2a-1a1d2b59cd79",
   "metadata": {},
   "outputs": [],
   "source": []
  }
 ],
 "metadata": {
  "kernelspec": {
   "display_name": "Python 3 (ipykernel)",
   "language": "python",
   "name": "python3"
  },
  "language_info": {
   "codemirror_mode": {
    "name": "ipython",
    "version": 3
   },
   "file_extension": ".py",
   "mimetype": "text/x-python",
   "name": "python",
   "nbconvert_exporter": "python",
   "pygments_lexer": "ipython3",
   "version": "3.13.5"
  }
 },
 "nbformat": 4,
 "nbformat_minor": 5
}
