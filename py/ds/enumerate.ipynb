{
 "cells": [
  {
   "cell_type": "markdown",
   "id": "5b5bd22a-7676-4a47-bdd1-23382a9a7f4b",
   "metadata": {},
   "source": [
    "# ENUMERATE\n",
    "- The enumerate() function in Python is a built-in function that adds a counter to an iterable and returns it as an enumerate object. This object can then be used directly in loops to access both the index and the corresponding value of each item in the iterable.\n",
    "- enumerate(iterable, start=0)\n",
    "    - iterable: The object (e.g., list, tuple, string) that you want to iterate over.\n",
    "    - start: An optional integer argument specifying the starting index for the counter. By default, it is 0."
   ]
  },
  {
   "cell_type": "code",
   "execution_count": 1,
   "id": "9783cbf7-5ac1-4c02-8fb6-174c1f412e2f",
   "metadata": {},
   "outputs": [],
   "source": [
    "my_list = ['apple', 'banana', 'cherry']"
   ]
  },
  {
   "cell_type": "code",
   "execution_count": 2,
   "id": "a134b68e-671b-4a7d-8b69-5614e70bcc9f",
   "metadata": {},
   "outputs": [
    {
     "data": {
      "text/plain": [
       "['apple', 'banana', 'cherry']"
      ]
     },
     "execution_count": 2,
     "metadata": {},
     "output_type": "execute_result"
    }
   ],
   "source": [
    "my_list"
   ]
  },
  {
   "cell_type": "code",
   "execution_count": 3,
   "id": "d32b5fd2-ff44-4bd9-9e5c-61453b0b3b03",
   "metadata": {},
   "outputs": [
    {
     "name": "stdout",
     "output_type": "stream",
     "text": [
      "Index: 0, Value: apple\n",
      "Index: 1, Value: banana\n",
      "Index: 2, Value: cherry\n"
     ]
    }
   ],
   "source": [
    "for index, value in enumerate(my_list):\n",
    "    print(f\"Index: {index}, Value: {value}\")"
   ]
  },
  {
   "cell_type": "code",
   "execution_count": null,
   "id": "4b41b415-570e-4d10-b5da-0b6597a6fd1a",
   "metadata": {},
   "outputs": [],
   "source": []
  }
 ],
 "metadata": {
  "kernelspec": {
   "display_name": "Python 3 (ipykernel)",
   "language": "python",
   "name": "python3"
  },
  "language_info": {
   "codemirror_mode": {
    "name": "ipython",
    "version": 3
   },
   "file_extension": ".py",
   "mimetype": "text/x-python",
   "name": "python",
   "nbconvert_exporter": "python",
   "pygments_lexer": "ipython3",
   "version": "3.13.5"
  }
 },
 "nbformat": 4,
 "nbformat_minor": 5
}
