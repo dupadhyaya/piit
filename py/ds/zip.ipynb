{
 "cells": [
  {
   "cell_type": "markdown",
   "id": "4e912d58-4195-47b0-9cc9-215c7a2a640e",
   "metadata": {},
   "source": [
    "# ZIP"
   ]
  }
 ],
 "metadata": {
  "kernelspec": {
   "display_name": "Python 3 (ipykernel)",
   "language": "python",
   "name": "python3"
  },
  "language_info": {
   "codemirror_mode": {
    "name": "ipython",
    "version": 3
   },
   "file_extension": ".py",
   "mimetype": "text/x-python",
   "name": "python",
   "nbconvert_exporter": "python",
   "pygments_lexer": "ipython3",
   "version": "3.13.5"
  }
 },
 "nbformat": 4,
 "nbformat_minor": 5
}
