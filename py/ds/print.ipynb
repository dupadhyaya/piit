{
 "cells": [
  {
   "cell_type": "markdown",
   "id": "e592b976-a429-4a34-a927-b09f9eaab553",
   "metadata": {},
   "source": [
    "# PRINT function\n",
    "- https://docs.python.org/3/library/functions.html#print\n",
    "- print(*objects, sep=' ', end='\\n', file=None, flush=False)\n",
    "- Print objects to the text stream file, separated by sep and followed by end. sep, end, file, and flush, if present, must be given as keyword arguments.\n",
    "- All non-keyword arguments are converted to strings like str() does and written to the stream, separated by sep and followed by end. Both sep and end must be strings; they can also be None, which means to use the default values. If no objects are given, print() will just write end."
   ]
  },
  {
   "cell_type": "code",
   "execution_count": 1,
   "id": "fcbf2dc1-995b-4870-be62-f0957950fc88",
   "metadata": {},
   "outputs": [
    {
     "name": "stdout",
     "output_type": "stream",
     "text": [
      "Hello PIIT Students\n"
     ]
    }
   ],
   "source": [
    "print('Hello PIIT Students')"
   ]
  },
  {
   "cell_type": "markdown",
   "id": "8009a08d-cc7a-435a-a581-9bfedd896ec5",
   "metadata": {},
   "source": [
    "## Seperator\n",
    "- sep - The sep argument defines what to print between multiple values."
   ]
  },
  {
   "cell_type": "code",
   "execution_count": 4,
   "id": "70b97506-4994-49be-84e7-600fdc3a75f2",
   "metadata": {},
   "outputs": [
    {
     "name": "stdout",
     "output_type": "stream",
     "text": [
      "PIIT, Mandal, Suroor, 30\n"
     ]
    }
   ],
   "source": [
    "print('PIIT', 'Mandal', 'Suroor', 30, sep =', ')"
   ]
  },
  {
   "cell_type": "markdown",
   "id": "7a55a626-6654-409d-b712-33aabf52a3c3",
   "metadata": {},
   "source": [
    "## End of Line Character, can be markup also\n",
    "- end argument controls what comes after the print statement (default is \\n — newline)."
   ]
  },
  {
   "cell_type": "code",
   "execution_count": 8,
   "id": "cceb7ad2-1e52-4d3a-a46a-97a956bbf60e",
   "metadata": {},
   "outputs": [
    {
     "name": "stdout",
     "output_type": "stream",
     "text": [
      "Nayeema, Suroor....."
     ]
    }
   ],
   "source": [
    "print('Nayeema' , 'Suroor', sep =', ',  end = '.....')"
   ]
  },
  {
   "cell_type": "code",
   "execution_count": 10,
   "id": "e4a0ea91-36e5-4ae8-8017-0923cd4e095a",
   "metadata": {},
   "outputs": [
    {
     "name": "stdout",
     "output_type": "stream",
     "text": [
      "Hello Mandal******* "
     ]
    }
   ],
   "source": [
    "print('Hello', 'Mandal' , end='******* ')"
   ]
  },
  {
   "cell_type": "code",
   "execution_count": 11,
   "id": "bf41dcc8-ea22-4578-b58b-dd9fbb9274c8",
   "metadata": {},
   "outputs": [
    {
     "name": "stdout",
     "output_type": "stream",
     "text": [
      "Hello Mandal\n",
      "PIIT Students \n"
     ]
    }
   ],
   "source": [
    "print('Hello', 'Mandal' , end='\\n')\n",
    "print('PIIT Students ')"
   ]
  },
  {
   "cell_type": "code",
   "execution_count": 15,
   "id": "8085901e-f71a-4a39-814b-72eb8cef6f06",
   "metadata": {},
   "outputs": [
    {
     "name": "stdout",
     "output_type": "stream",
     "text": [
      "Dhiraj-Upadhyaya\tteaching PIIT students\n"
     ]
    }
   ],
   "source": [
    "print('Dhiraj' , 'Upadhyaya' , sep='-', end ='\\t')\n",
    "print('teaching PIIT students')"
   ]
  },
  {
   "cell_type": "markdown",
   "id": "f8a9be4b-3151-4b81-aab6-e258f4e2a216",
   "metadata": {},
   "source": [
    "## Formatted (f) strings\n",
    "- f"
   ]
  },
  {
   "cell_type": "code",
   "execution_count": 16,
   "id": "26ad444b-38b3-40ec-8269-316aedeb54b2",
   "metadata": {},
   "outputs": [
    {
     "name": "stdout",
     "output_type": "stream",
     "text": [
      "Mandal- 95\n"
     ]
    }
   ],
   "source": [
    "name = \"Mandal\"\n",
    "score = 95\n",
    "print(name, score, sep='- ')"
   ]
  },
  {
   "cell_type": "code",
   "execution_count": 18,
   "id": "9c006cde-1647-4a70-8cf1-0364bb45ff11",
   "metadata": {},
   "outputs": [
    {
     "name": "stdout",
     "output_type": "stream",
     "text": [
      "Mandal  scored  95  marks.\n"
     ]
    }
   ],
   "source": [
    "print( name, ' scored ', score, ' marks.')"
   ]
  },
  {
   "cell_type": "code",
   "execution_count": 21,
   "id": "69c2b9eb-845e-464e-8efb-6cfd7a494a8d",
   "metadata": {},
   "outputs": [],
   "source": [
    "rank =1"
   ]
  },
  {
   "cell_type": "code",
   "execution_count": 23,
   "id": "c302e1a2-9e9c-443a-a57e-5032eb185b3c",
   "metadata": {},
   "outputs": [
    {
     "name": "stdout",
     "output_type": "stream",
     "text": [
      "Mandal scored 95 marks and his rank was 1.\n"
     ]
    }
   ],
   "source": [
    "print(f\"{name} scored {score} marks and his rank was {rank}.\")"
   ]
  },
  {
   "cell_type": "code",
   "execution_count": 25,
   "id": "1ff88a04-a658-475f-9b91-6402b96047f3",
   "metadata": {},
   "outputs": [
    {
     "name": "stdout",
     "output_type": "stream",
     "text": [
      "name of student is Amandeep and his/her age is 20\n"
     ]
    }
   ],
   "source": [
    "name, age = 'Amandeep', 20\n",
    "print( f'name of student is {name} and his/her age is {age}')"
   ]
  },
  {
   "cell_type": "markdown",
   "id": "96d6ceaa-7727-4369-9aae-bf3961ef72ca",
   "metadata": {},
   "source": [
    "## Format Command\n",
    "- Old Command"
   ]
  },
  {
   "cell_type": "code",
   "execution_count": 26,
   "id": "74bc884f-259c-4441-88ab-f54c84e54a62",
   "metadata": {},
   "outputs": [
    {
     "name": "stdout",
     "output_type": "stream",
     "text": [
      "Name: Suroor, Score: 85\n"
     ]
    }
   ],
   "source": [
    "print(\"Name: {}, Score: {}\".format(\"Suroor\", 85))"
   ]
  },
  {
   "cell_type": "code",
   "execution_count": 27,
   "id": "d44bb910-0d55-4235-9df2-d40d5c0408db",
   "metadata": {},
   "outputs": [
    {
     "name": "stdout",
     "output_type": "stream",
     "text": [
      "name  : Amandeep, age : 20\n"
     ]
    }
   ],
   "source": [
    "print(\"name  : {}, age : {}\".format('Amandeep', 20))"
   ]
  },
  {
   "cell_type": "markdown",
   "id": "27df8329-9c01-43d2-b50c-30fdfe34f4bc",
   "metadata": {},
   "source": [
    "## Printing List or Ranges"
   ]
  },
  {
   "cell_type": "code",
   "execution_count": 30,
   "id": "f688eef6-77d4-4cd6-9aad-f8777a88bb59",
   "metadata": {},
   "outputs": [
    {
     "data": {
      "text/plain": [
       "range(5, 10, 2)"
      ]
     },
     "execution_count": 30,
     "metadata": {},
     "output_type": "execute_result"
    }
   ],
   "source": [
    "range(5,10,2)"
   ]
  },
  {
   "cell_type": "code",
   "execution_count": 33,
   "id": "fd8cd40b-8911-447c-b4b5-73fbf1d8c3b5",
   "metadata": {},
   "outputs": [
    {
     "name": "stdout",
     "output_type": "stream",
     "text": [
      "[5, 7, 9]\n"
     ]
    }
   ],
   "source": [
    "print(list(range(5,10,2)))"
   ]
  },
  {
   "cell_type": "code",
   "execution_count": 31,
   "id": "8698f2c4-c97b-4084-8f5d-a978e850e168",
   "metadata": {},
   "outputs": [
    {
     "name": "stdout",
     "output_type": "stream",
     "text": [
      "[0, 1, 2, 3, 4]\n"
     ]
    }
   ],
   "source": [
    "print(list(range(5)))  # [0, 1, 2, 3, 4]"
   ]
  },
  {
   "cell_type": "markdown",
   "id": "d64d6cff-b4c5-42e0-a990-f04eae996243",
   "metadata": {},
   "source": [
    "##  Printing with Escape Characters"
   ]
  },
  {
   "cell_type": "code",
   "execution_count": 34,
   "id": "c89b18bf-4238-402b-94e7-470e717b7566",
   "metadata": {},
   "outputs": [
    {
     "name": "stdout",
     "output_type": "stream",
     "text": [
      "Suroor \n",
      "Mandal\n"
     ]
    }
   ],
   "source": [
    "print(\"Suroor \\nMandal\")  # \\n for new line"
   ]
  },
  {
   "cell_type": "code",
   "execution_count": 35,
   "id": "118fb2e2-69ac-46ac-af0a-85eaf07949d5",
   "metadata": {},
   "outputs": [
    {
     "name": "stdout",
     "output_type": "stream",
     "text": [
      "Syed \t  Suroor \t  Mandal\n"
     ]
    }
   ],
   "source": [
    "print(\"Syed \\t  Suroor \\t  Mandal\")       # \\t for tab"
   ]
  },
  {
   "cell_type": "markdown",
   "id": "8be6a25c-a486-4816-befd-ae03d683825e",
   "metadata": {},
   "source": [
    "## Printing to a file"
   ]
  },
  {
   "cell_type": "code",
   "execution_count": null,
   "id": "2aacd4dc-ce9d-4f31-b6c9-b22e4e9b0575",
   "metadata": {},
   "outputs": [],
   "source": [
    "name, score ='Mandal', 100\n",
    "with open(\"output1.txt\", \"w\") as f:\n",
    "    print(f\"{name} scored {score} marks :: PIIT Boot Camp - Saving this to a file.\", file=f)"
   ]
  },
  {
   "cell_type": "code",
   "execution_count": null,
   "id": "2beed962-b91a-4385-946e-5528b5422bc7",
   "metadata": {},
   "outputs": [],
   "source": [
    "import os"
   ]
  },
  {
   "cell_type": "code",
   "execution_count": null,
   "id": "b5edce60-476d-40a9-b87b-4ff29e1906d8",
   "metadata": {},
   "outputs": [],
   "source": [
    "print(os.listdir(), end ='\\t')"
   ]
  },
  {
   "cell_type": "code",
   "execution_count": null,
   "id": "2e760d9d-638d-4d7e-86c3-1b50ef2b6bbe",
   "metadata": {},
   "outputs": [],
   "source": [
    "with open(\"output1.txt\", \"r\") as f:\n",
    "    content = f.read()\n",
    "    print(content)"
   ]
  },
  {
   "cell_type": "markdown",
   "id": "b4f63fa3-375f-47a3-a2db-1d46222b805e",
   "metadata": {},
   "source": [
    "## Print in One Line"
   ]
  },
  {
   "cell_type": "code",
   "execution_count": null,
   "id": "a9338aa0-7cea-45e5-8ecd-5c1bfff12755",
   "metadata": {},
   "outputs": [],
   "source": [
    "for i in range(5):\n",
    "    print(i, end=\" \")  # prints all on one line"
   ]
  },
  {
   "cell_type": "code",
   "execution_count": null,
   "id": "b1c7320e-6cfc-4250-939f-d42e28fdf8b6",
   "metadata": {},
   "outputs": [],
   "source": []
  },
  {
   "cell_type": "code",
   "execution_count": null,
   "id": "1c196d0a-d1e9-4acd-81a5-cb060fbf74ca",
   "metadata": {},
   "outputs": [],
   "source": []
  }
 ],
 "metadata": {
  "kernelspec": {
   "display_name": "Python 3 (ipykernel)",
   "language": "python",
   "name": "python3"
  },
  "language_info": {
   "codemirror_mode": {
    "name": "ipython",
    "version": 3
   },
   "file_extension": ".py",
   "mimetype": "text/x-python",
   "name": "python",
   "nbconvert_exporter": "python",
   "pygments_lexer": "ipython3",
   "version": "3.13.5"
  }
 },
 "nbformat": 4,
 "nbformat_minor": 5
}
