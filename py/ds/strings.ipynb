{
 "cells": [
  {
   "cell_type": "markdown",
   "id": "75188cad-3903-4b9c-be78-fe7f364c09c1",
   "metadata": {},
   "source": [
    "# Data Structures - Strings"
   ]
  },
  {
   "cell_type": "code",
   "execution_count": 9,
   "id": "2e04d72e-fc53-468f-b3ff-d783cb993ef1",
   "metadata": {},
   "outputs": [],
   "source": [
    "# Quotes\n",
    "s1 = 'Hello'\n",
    "s2 = \"World\""
   ]
  },
  {
   "cell_type": "code",
   "execution_count": 10,
   "id": "2bebab83-95c7-428b-8712-0d34bf9efcf1",
   "metadata": {},
   "outputs": [
    {
     "name": "stdout",
     "output_type": "stream",
     "text": [
      "Hello World\n"
     ]
    }
   ],
   "source": [
    "print(s1, s2)"
   ]
  },
  {
   "cell_type": "code",
   "execution_count": 11,
   "id": "e229fdd3-015a-4ee6-ab76-956bcd2b68bc",
   "metadata": {},
   "outputs": [
    {
     "data": {
      "text/plain": [
       "'H'"
      ]
     },
     "execution_count": 11,
     "metadata": {},
     "output_type": "execute_result"
    }
   ],
   "source": [
    "s1[0]"
   ]
  },
  {
   "cell_type": "code",
   "execution_count": 13,
   "id": "b263bbdb-842f-4397-970a-e0eba0b4201f",
   "metadata": {},
   "outputs": [
    {
     "ename": "TypeError",
     "evalue": "'str' object does not support item assignment",
     "output_type": "error",
     "traceback": [
      "\u001b[1;31m---------------------------------------------------------------------------\u001b[0m",
      "\u001b[1;31mTypeError\u001b[0m                                 Traceback (most recent call last)",
      "Cell \u001b[1;32mIn[13], line 2\u001b[0m\n\u001b[0;32m      1\u001b[0m \u001b[38;5;66;03m#mutability\u001b[39;00m\n\u001b[1;32m----> 2\u001b[0m s1[\u001b[38;5;241m0\u001b[39m] \u001b[38;5;241m=\u001b[39m\u001b[38;5;124m'\u001b[39m\u001b[38;5;124mS\u001b[39m\u001b[38;5;124m'\u001b[39m\n",
      "\u001b[1;31mTypeError\u001b[0m: 'str' object does not support item assignment"
     ]
    }
   ],
   "source": [
    "#mutability\n",
    "s1[0] ='S' # strings are immutable , part of string cannot be changed"
   ]
  },
  {
   "cell_type": "code",
   "execution_count": 15,
   "id": "7224c072-bda3-4381-8b80-fa7dce67ee63",
   "metadata": {},
   "outputs": [
    {
     "name": "stdout",
     "output_type": "stream",
     "text": [
      "Dhiraj\n"
     ]
    }
   ],
   "source": [
    "s1 ='Dhiraj'\n",
    "print(s1)  #create or assign a new values to the string variable s1"
   ]
  },
  {
   "cell_type": "code",
   "execution_count": 18,
   "id": "a37eb65a-e3aa-4b4a-9fea-610dbf648ce9",
   "metadata": {},
   "outputs": [
    {
     "name": "stdout",
     "output_type": "stream",
     "text": [
      "SSSSS\n"
     ]
    }
   ],
   "source": [
    "s1 ='SSSSS' #duplicates\n",
    "print(s1)"
   ]
  },
  {
   "cell_type": "code",
   "execution_count": 21,
   "id": "6672c434-1e30-4be7-8980-0284acd90dc7",
   "metadata": {},
   "outputs": [
    {
     "name": "stdout",
     "output_type": "stream",
     "text": [
      "World W d\n"
     ]
    }
   ],
   "source": [
    "print(s2, s2[0], s2[4])   #indexing"
   ]
  },
  {
   "cell_type": "code",
   "execution_count": 3,
   "id": "f635b93f-a458-4553-a852-55019ff3e915",
   "metadata": {},
   "outputs": [],
   "source": [
    "# Triple Quotes - for multi line strings"
   ]
  },
  {
   "cell_type": "code",
   "execution_count": 16,
   "id": "5b4b58c0-833a-4213-808f-db018b417ace",
   "metadata": {},
   "outputs": [],
   "source": [
    "s3 = \"\"\" Suroor said The quick brown fox\n",
    "jumps of the lazy little \n",
    "dog\"\"\""
   ]
  },
  {
   "cell_type": "code",
   "execution_count": 25,
   "id": "d2bcbd03-3174-45f4-ba46-ba313527bec2",
   "metadata": {},
   "outputs": [
    {
     "name": "stdout",
     "output_type": "stream",
     "text": [
      "Dhiraj Upadhyaya 2025\n"
     ]
    }
   ],
   "source": [
    "s4 = \"Dhiraj Upadhyaya 2025\"\n",
    "print(s4)"
   ]
  },
  {
   "cell_type": "code",
   "execution_count": 24,
   "id": "6ddf3447-c19f-4620-b19b-03b60d9f154d",
   "metadata": {},
   "outputs": [
    {
     "name": "stdout",
     "output_type": "stream",
     "text": [
      " Suroor said The quick brown fox\n",
      "jumps of the lazy little \n",
      "dog\n"
     ]
    }
   ],
   "source": [
    "print(s3)"
   ]
  },
  {
   "cell_type": "code",
   "execution_count": 6,
   "id": "017ffb08-ece2-438b-a415-990837e0f4d4",
   "metadata": {},
   "outputs": [],
   "source": [
    "# concatenate"
   ]
  },
  {
   "cell_type": "code",
   "execution_count": 26,
   "id": "60e494f0-dda1-4702-90e2-635efcd824e9",
   "metadata": {},
   "outputs": [],
   "source": [
    "full = s1 + \" \" + s2"
   ]
  },
  {
   "cell_type": "code",
   "execution_count": 27,
   "id": "84e517ef-b972-4a2f-9795-1d3af92908b7",
   "metadata": {},
   "outputs": [
    {
     "name": "stdout",
     "output_type": "stream",
     "text": [
      "SSSSS World\n"
     ]
    }
   ],
   "source": [
    "print (full)"
   ]
  },
  {
   "cell_type": "code",
   "execution_count": 28,
   "id": "8a9234e0-b3d0-4bcd-aa2f-2f45ea92492d",
   "metadata": {},
   "outputs": [
    {
     "data": {
      "text/plain": [
       "'WORLD'"
      ]
     },
     "execution_count": 28,
     "metadata": {},
     "output_type": "execute_result"
    }
   ],
   "source": [
    "s2.upper()"
   ]
  },
  {
   "cell_type": "code",
   "execution_count": 29,
   "id": "782f20c9-df17-45cd-809c-8f330cfab9f7",
   "metadata": {},
   "outputs": [
    {
     "data": {
      "text/plain": [
       "'sssss'"
      ]
     },
     "execution_count": 29,
     "metadata": {},
     "output_type": "execute_result"
    }
   ],
   "source": [
    "s1.lower()"
   ]
  },
  {
   "cell_type": "code",
   "execution_count": 30,
   "id": "d9c67cb2-7452-4103-a137-e0824fd733ed",
   "metadata": {},
   "outputs": [
    {
     "data": {
      "text/plain": [
       "False"
      ]
     },
     "execution_count": 30,
     "metadata": {},
     "output_type": "execute_result"
    }
   ],
   "source": [
    "s1.isdigit()"
   ]
  },
  {
   "cell_type": "code",
   "execution_count": 32,
   "id": "ba3c8487-1a64-492c-a47b-4cd19b4a7235",
   "metadata": {},
   "outputs": [
    {
     "data": {
      "text/plain": [
       "str"
      ]
     },
     "execution_count": 32,
     "metadata": {},
     "output_type": "execute_result"
    }
   ],
   "source": [
    "type(s1)"
   ]
  },
  {
   "cell_type": "code",
   "execution_count": 33,
   "id": "b9a8b23b-bab9-4ce6-88cb-4ccfa38a7617",
   "metadata": {},
   "outputs": [
    {
     "name": "stdout",
     "output_type": "stream",
     "text": [
      "['__add__', '__class__', '__contains__', '__delattr__', '__dir__', '__doc__', '__eq__', '__format__', '__ge__', '__getattribute__', '__getitem__', '__getnewargs__', '__getstate__', '__gt__', '__hash__', '__init__', '__init_subclass__', '__iter__', '__le__', '__len__', '__lt__', '__mod__', '__mul__', '__ne__', '__new__', '__reduce__', '__reduce_ex__', '__repr__', '__rmod__', '__rmul__', '__setattr__', '__sizeof__', '__str__', '__subclasshook__', 'capitalize', 'casefold', 'center', 'count', 'encode', 'endswith', 'expandtabs', 'find', 'format', 'format_map', 'index', 'isalnum', 'isalpha', 'isascii', 'isdecimal', 'isdigit', 'isidentifier', 'islower', 'isnumeric', 'isprintable', 'isspace', 'istitle', 'isupper', 'join', 'ljust', 'lower', 'lstrip', 'maketrans', 'partition', 'removeprefix', 'removesuffix', 'replace', 'rfind', 'rindex', 'rjust', 'rpartition', 'rsplit', 'rstrip', 'split', 'splitlines', 'startswith', 'strip', 'swapcase', 'title', 'translate', 'upper', 'zfill']\n"
     ]
    }
   ],
   "source": [
    "print(dir(s1))"
   ]
  },
  {
   "cell_type": "code",
   "execution_count": null,
   "id": "61642141-f833-4f7d-af56-17c013e88072",
   "metadata": {},
   "outputs": [],
   "source": []
  }
 ],
 "metadata": {
  "kernelspec": {
   "display_name": "Python 3 (ipykernel)",
   "language": "python",
   "name": "python3"
  },
  "language_info": {
   "codemirror_mode": {
    "name": "ipython",
    "version": 3
   },
   "file_extension": ".py",
   "mimetype": "text/x-python",
   "name": "python",
   "nbconvert_exporter": "python",
   "pygments_lexer": "ipython3",
   "version": "3.13.5"
  }
 },
 "nbformat": 4,
 "nbformat_minor": 5
}
