{
 "cells": [
  {
   "cell_type": "markdown",
   "id": "7d3e61cc-8c16-4844-98d6-dfbf4f364672",
   "metadata": {},
   "source": [
    "# SET\n",
    "- A Python set is a built-in data structure that represents an unordered collection of unique elements.\n",
    "- While the individual elements within a set must be immutable (e.g., numbers, strings, tuples), the set itself is mutable, meaning you can add or remove elements after its creation."
   ]
  },
  {
   "cell_type": "code",
   "execution_count": 2,
   "id": "3dadbe0d-d7ea-40b7-b2b5-8913644a975a",
   "metadata": {},
   "outputs": [],
   "source": [
    "# Creating a set using curly braces\n",
    "set1 = {1, 2, 3, 4, 5}"
   ]
  },
  {
   "cell_type": "code",
   "execution_count": 3,
   "id": "0444b986-19a1-4808-a4bb-68f3bb71ab84",
   "metadata": {},
   "outputs": [
    {
     "data": {
      "text/plain": [
       "{1, 2, 3, 4, 5}"
      ]
     },
     "execution_count": 3,
     "metadata": {},
     "output_type": "execute_result"
    }
   ],
   "source": [
    "set1"
   ]
  },
  {
   "cell_type": "code",
   "execution_count": 4,
   "id": "b8b74f67-f712-469e-a343-0d713014dc32",
   "metadata": {},
   "outputs": [
    {
     "data": {
      "text/plain": [
       "set"
      ]
     },
     "execution_count": 4,
     "metadata": {},
     "output_type": "execute_result"
    }
   ],
   "source": [
    "type(set1)"
   ]
  },
  {
   "cell_type": "code",
   "execution_count": 7,
   "id": "ccf6c9e3-e3fb-435e-8036-e54185de4571",
   "metadata": {},
   "outputs": [],
   "source": [
    "# Creating a set from a list using the set() constructor\n",
    "set2 = set([7,8, 6, 4, 5, 7, 8])"
   ]
  },
  {
   "cell_type": "code",
   "execution_count": 9,
   "id": "7cd7c55a-62af-447c-8f12-474945d86174",
   "metadata": {},
   "outputs": [
    {
     "data": {
      "text/plain": [
       "{4, 5, 6, 7, 8}"
      ]
     },
     "execution_count": 9,
     "metadata": {},
     "output_type": "execute_result"
    }
   ],
   "source": [
    "set2  #duplicates remove, data sorted"
   ]
  },
  {
   "cell_type": "code",
   "execution_count": 10,
   "id": "fed94d71-7a35-458b-96b5-fbce3af11fdc",
   "metadata": {},
   "outputs": [],
   "source": [
    "teamA = {'India','Bangladesh','Pakistan','USA'}\n",
    "teamB = {'India', 'France','Bangladesh','UK', 'Sri Lanka', 'India'}"
   ]
  },
  {
   "cell_type": "code",
   "execution_count": 11,
   "id": "d21d438a-c97a-4a0c-b54b-f43a0c90c24a",
   "metadata": {},
   "outputs": [
    {
     "data": {
      "text/plain": [
       "{'Bangladesh', 'India', 'Pakistan', 'USA'}"
      ]
     },
     "execution_count": 11,
     "metadata": {},
     "output_type": "execute_result"
    }
   ],
   "source": [
    "teamA"
   ]
  },
  {
   "cell_type": "code",
   "execution_count": 13,
   "id": "bfba4cb4-51ef-4f32-875e-d5232ae78841",
   "metadata": {},
   "outputs": [
    {
     "data": {
      "text/plain": [
       "{'Bangladesh', 'France', 'India', 'Sri Lanka', 'UK'}"
      ]
     },
     "execution_count": 13,
     "metadata": {},
     "output_type": "execute_result"
    }
   ],
   "source": [
    "teamB  #duplicate remove, data sorted"
   ]
  },
  {
   "cell_type": "code",
   "execution_count": 14,
   "id": "0d578e3d-33eb-4424-bd4a-d5eb3960a2a8",
   "metadata": {},
   "outputs": [],
   "source": [
    "teamA.add('Nepal')"
   ]
  },
  {
   "cell_type": "code",
   "execution_count": 15,
   "id": "a296361b-89a7-4cca-8398-6d14e0c2308e",
   "metadata": {},
   "outputs": [
    {
     "data": {
      "text/plain": [
       "{'Bangladesh', 'India', 'Nepal', 'Pakistan', 'USA'}"
      ]
     },
     "execution_count": 15,
     "metadata": {},
     "output_type": "execute_result"
    }
   ],
   "source": [
    "teamA"
   ]
  },
  {
   "cell_type": "markdown",
   "id": "68310e41-68a7-42ad-b0ef-130aa4a08937",
   "metadata": {},
   "source": [
    "## Union"
   ]
  },
  {
   "cell_type": "code",
   "execution_count": 17,
   "id": "43bf7c3f-097f-49f0-b5a8-f0475966bd77",
   "metadata": {},
   "outputs": [
    {
     "name": "stdout",
     "output_type": "stream",
     "text": [
      "{'Pakistan', 'Bangladesh', 'France', 'Sri Lanka', 'Nepal', 'UK', 'USA', 'India'} \t\n"
     ]
    }
   ],
   "source": [
    "print(teamA.union(teamB), '\\t')"
   ]
  },
  {
   "cell_type": "code",
   "execution_count": 20,
   "id": "ed8e0d34-6a66-4840-83cb-ac68c79e6000",
   "metadata": {},
   "outputs": [
    {
     "name": "stdout",
     "output_type": "stream",
     "text": [
      "{'Pakistan', 'Bangladesh', 'France', 'Sri Lanka', 'Nepal', 'UK', 'USA', 'India'} \t \n"
     ]
    }
   ],
   "source": [
    "print(teamA | teamB, '\\t ')"
   ]
  },
  {
   "cell_type": "markdown",
   "id": "125055ba-c43d-4d1f-a701-ef46c433dbcf",
   "metadata": {},
   "source": [
    "## Intersection"
   ]
  },
  {
   "cell_type": "code",
   "execution_count": 21,
   "id": "ffd7d880-53b5-4ead-83f6-56a6ec6fef36",
   "metadata": {},
   "outputs": [
    {
     "name": "stdout",
     "output_type": "stream",
     "text": [
      "{'Bangladesh', 'India'} \t\n"
     ]
    }
   ],
   "source": [
    "print(teamA.intersection(teamB), '\\t')"
   ]
  },
  {
   "cell_type": "code",
   "execution_count": 22,
   "id": "9d02fc42-2bdd-4357-b9bb-5a1638638ea7",
   "metadata": {},
   "outputs": [
    {
     "name": "stdout",
     "output_type": "stream",
     "text": [
      "{'Bangladesh', 'India'} \t \n"
     ]
    }
   ],
   "source": [
    "print(teamA & teamB, '\\t ')"
   ]
  },
  {
   "cell_type": "markdown",
   "id": "e1de2f6a-2140-491d-971d-7717bc301c7e",
   "metadata": {},
   "source": [
    "## Difference"
   ]
  },
  {
   "cell_type": "code",
   "execution_count": 27,
   "id": "142891a7-60b5-46b2-803d-f51ba988a4ef",
   "metadata": {},
   "outputs": [
    {
     "name": "stdout",
     "output_type": "stream",
     "text": [
      "A-  {'Pakistan', 'Bangladesh', 'Nepal', 'USA', 'India'} \n",
      "B- {'India', 'Bangladesh', 'UK', 'France', 'Sri Lanka'}\n"
     ]
    }
   ],
   "source": [
    "print('A- ', teamA,  '\\nB-', teamB)"
   ]
  },
  {
   "cell_type": "code",
   "execution_count": 23,
   "id": "3ceab6c2-606d-4a6e-8f01-44cf21a49789",
   "metadata": {},
   "outputs": [
    {
     "name": "stdout",
     "output_type": "stream",
     "text": [
      "{'Nepal', 'Pakistan', 'USA'} \t \n"
     ]
    }
   ],
   "source": [
    "print(teamA - teamB, '\\t ')\n",
    "# country from teamA not present in teamB"
   ]
  },
  {
   "cell_type": "code",
   "execution_count": 28,
   "id": "73182df1-59fa-449d-b7c6-7ed2ebac4b7b",
   "metadata": {},
   "outputs": [
    {
     "name": "stdout",
     "output_type": "stream",
     "text": [
      "{'France', 'Sri Lanka', 'UK'} \t \n"
     ]
    }
   ],
   "source": [
    "print(teamB - teamA, '\\t ')"
   ]
  },
  {
   "cell_type": "markdown",
   "id": "fb1bd636-596b-4e31-9e7f-7e3efb5be33b",
   "metadata": {},
   "source": [
    "## Symmetric Difference"
   ]
  },
  {
   "cell_type": "code",
   "execution_count": 35,
   "id": "72f80ea2-c16a-429d-b34b-3d05efe8eddd",
   "metadata": {},
   "outputs": [
    {
     "name": "stdout",
     "output_type": "stream",
     "text": [
      "{'Nepal', 'Pakistan', 'UK', 'France', 'USA', 'Sri Lanka'}\n"
     ]
    }
   ],
   "source": [
    "print(teamB ^ teamA)"
   ]
  },
  {
   "cell_type": "code",
   "execution_count": 34,
   "id": "bf095d3a-10d7-42a0-b7c5-8708c5849ecd",
   "metadata": {},
   "outputs": [
    {
     "name": "stdout",
     "output_type": "stream",
     "text": [
      "{'Pakistan', 'Nepal', 'UK', 'France', 'USA', 'Sri Lanka'}\n"
     ]
    }
   ],
   "source": [
    "print(teamA ^ teamB)"
   ]
  },
  {
   "cell_type": "code",
   "execution_count": 33,
   "id": "621870d6-6ff7-44b7-9551-c9ee5a98f283",
   "metadata": {},
   "outputs": [
    {
     "name": "stdout",
     "output_type": "stream",
     "text": [
      "{'Bangladesh', 'India'}\n"
     ]
    }
   ],
   "source": [
    "print(teamA & teamB)"
   ]
  },
  {
   "cell_type": "code",
   "execution_count": 30,
   "id": "29b6192d-ce33-454e-a208-aefb6389add1",
   "metadata": {},
   "outputs": [
    {
     "name": "stdout",
     "output_type": "stream",
     "text": [
      "A-  {'Pakistan', 'Bangladesh', 'Nepal', 'USA', 'India'} \n",
      "B- {'India', 'Bangladesh', 'UK', 'France', 'Sri Lanka'}\n"
     ]
    }
   ],
   "source": [
    "print('A- ', teamA,  '\\nB-', teamB)"
   ]
  },
  {
   "cell_type": "markdown",
   "id": "0dd6d859-b49f-48a5-97b5-058c6826446f",
   "metadata": {},
   "source": [
    "## Membership Testing"
   ]
  },
  {
   "cell_type": "code",
   "execution_count": 36,
   "id": "bfbd62fc-1372-49d4-8485-71de0eeb177a",
   "metadata": {},
   "outputs": [
    {
     "data": {
      "text/plain": [
       "False"
      ]
     },
     "execution_count": 36,
     "metadata": {},
     "output_type": "execute_result"
    }
   ],
   "source": [
    "teamA in teamB"
   ]
  },
  {
   "cell_type": "code",
   "execution_count": 37,
   "id": "58a7a2f0-675f-4237-b490-3cdf807874bd",
   "metadata": {},
   "outputs": [
    {
     "data": {
      "text/plain": [
       "True"
      ]
     },
     "execution_count": 37,
     "metadata": {},
     "output_type": "execute_result"
    }
   ],
   "source": [
    "'India' in teamA"
   ]
  },
  {
   "cell_type": "code",
   "execution_count": 44,
   "id": "50f842a1-d397-47df-9081-5f02bbfbcd34",
   "metadata": {},
   "outputs": [
    {
     "ename": "TypeError",
     "evalue": "'set' object is not subscriptable",
     "output_type": "error",
     "traceback": [
      "\u001b[1;31m---------------------------------------------------------------------------\u001b[0m",
      "\u001b[1;31mTypeError\u001b[0m                                 Traceback (most recent call last)",
      "Cell \u001b[1;32mIn[44], line 1\u001b[0m\n\u001b[1;32m----> 1\u001b[0m teamA[\u001b[38;5;241m1\u001b[39m]\n",
      "\u001b[1;31mTypeError\u001b[0m: 'set' object is not subscriptable"
     ]
    }
   ],
   "source": [
    "teamA[1] # cannot retrieve values by index , unordered"
   ]
  },
  {
   "cell_type": "markdown",
   "id": "60245a47-2719-4e96-9416-9701810e1665",
   "metadata": {},
   "source": [
    "- Adding Elements: add() method for a single element, update() method for multiple elements from an iterable.\n",
    "- Removing Elements: remove() (raises an error if the element is not found), discard() (does not raise an error), pop() (removes and returns an arbitrary element), clear() (removes all elements).\n",
    "- Union: union() or | operator.\n",
    "- Intersection: intersection() or & operator.\n",
    "- Difference: difference() or - operator.\n",
    "- Symmetric Difference: symmetric_difference() or ^ operator.\n",
    "- Membership Testing: in operator (e.g., element in my_set)."
   ]
  },
  {
   "cell_type": "code",
   "execution_count": 45,
   "id": "ce2ba8db-45fc-4333-bdad-b6e8d50e7446",
   "metadata": {},
   "outputs": [],
   "source": [
    "# check for numbers or mixed "
   ]
  },
  {
   "cell_type": "code",
   "execution_count": 47,
   "id": "e16291ea-aee2-4a7f-82a9-57aa3fca4b3a",
   "metadata": {},
   "outputs": [],
   "source": [
    "mixedset = {'India', 1947, True, 'India'}"
   ]
  },
  {
   "cell_type": "code",
   "execution_count": 48,
   "id": "e9f2f540-9871-4f1c-b0c5-9b782b9d1784",
   "metadata": {},
   "outputs": [
    {
     "data": {
      "text/plain": [
       "{1947, 'India', True}"
      ]
     },
     "execution_count": 48,
     "metadata": {},
     "output_type": "execute_result"
    }
   ],
   "source": [
    "mixedset"
   ]
  },
  {
   "cell_type": "code",
   "execution_count": 49,
   "id": "a218a74f-0be3-4415-ab3b-fc7b719bdb31",
   "metadata": {},
   "outputs": [
    {
     "data": {
      "text/plain": [
       "set"
      ]
     },
     "execution_count": 49,
     "metadata": {},
     "output_type": "execute_result"
    }
   ],
   "source": [
    "type(mixedset)"
   ]
  },
  {
   "cell_type": "code",
   "execution_count": 63,
   "id": "2535fecf-e0fa-47d5-bbcf-e805a1100031",
   "metadata": {},
   "outputs": [
    {
     "data": {
      "text/plain": [
       "('India', 'UK', 'USA', 'Bangladesh')"
      ]
     },
     "execution_count": 63,
     "metadata": {},
     "output_type": "execute_result"
    }
   ],
   "source": [
    "t1 = ('India','UK', 'USA', 'Bangladesh')\n",
    "t1"
   ]
  },
  {
   "cell_type": "code",
   "execution_count": 64,
   "id": "27efdcb4-77fe-4fce-a527-040921875daf",
   "metadata": {},
   "outputs": [
    {
     "data": {
      "text/plain": [
       "False"
      ]
     },
     "execution_count": 64,
     "metadata": {},
     "output_type": "execute_result"
    }
   ],
   "source": [
    "t1 in teamA"
   ]
  },
  {
   "cell_type": "code",
   "execution_count": 65,
   "id": "f27abd7a-2a1c-49df-99bc-18ced3ff0415",
   "metadata": {},
   "outputs": [
    {
     "ename": "TypeError",
     "evalue": "unsupported operand type(s) for |: 'tuple' and 'set'",
     "output_type": "error",
     "traceback": [
      "\u001b[1;31m---------------------------------------------------------------------------\u001b[0m",
      "\u001b[1;31mTypeError\u001b[0m                                 Traceback (most recent call last)",
      "Cell \u001b[1;32mIn[65], line 1\u001b[0m\n\u001b[1;32m----> 1\u001b[0m t1 \u001b[38;5;241m|\u001b[39m teamA\n",
      "\u001b[1;31mTypeError\u001b[0m: unsupported operand type(s) for |: 'tuple' and 'set'"
     ]
    }
   ],
   "source": [
    "t1 | teamA  #"
   ]
  },
  {
   "cell_type": "code",
   "execution_count": 66,
   "id": "d2f32399-b9c1-4402-83c8-42ee7fc35e77",
   "metadata": {},
   "outputs": [
    {
     "name": "stdout",
     "output_type": "stream",
     "text": [
      "India\n",
      "UK\n",
      "USA\n",
      "Bangladesh\n"
     ]
    }
   ],
   "source": [
    "for i in t1:\n",
    "    print(i)"
   ]
  },
  {
   "cell_type": "code",
   "execution_count": 67,
   "id": "84d41f38-9adf-47c6-81b4-0279d9a1d965",
   "metadata": {},
   "outputs": [
    {
     "name": "stdout",
     "output_type": "stream",
     "text": [
      "India True\n",
      "UK False\n",
      "USA True\n",
      "Bangladesh True\n"
     ]
    }
   ],
   "source": [
    "for i in t1:\n",
    "    print(i, i in teamA)"
   ]
  },
  {
   "cell_type": "code",
   "execution_count": 68,
   "id": "3777653a-f3b8-4f61-8240-22f6cfd47d90",
   "metadata": {},
   "outputs": [
    {
     "data": {
      "text/plain": [
       "{'Bangladesh', 'India', 'Nepal', 'Pakistan', 'USA'}"
      ]
     },
     "execution_count": 68,
     "metadata": {},
     "output_type": "execute_result"
    }
   ],
   "source": [
    "teamA"
   ]
  },
  {
   "cell_type": "code",
   "execution_count": 69,
   "id": "b69ed575-f0cf-4688-b5c4-ce206d84430f",
   "metadata": {},
   "outputs": [
    {
     "data": {
      "text/plain": [
       "True"
      ]
     },
     "execution_count": 69,
     "metadata": {},
     "output_type": "execute_result"
    }
   ],
   "source": [
    "1 in [1,2,10]"
   ]
  },
  {
   "cell_type": "code",
   "execution_count": 70,
   "id": "fa71b145-1972-4208-bbba-4f104ec09869",
   "metadata": {},
   "outputs": [
    {
     "data": {
      "text/plain": [
       "True"
      ]
     },
     "execution_count": 70,
     "metadata": {},
     "output_type": "execute_result"
    }
   ],
   "source": [
    "'Nayeema' in ['Suroor','Mandal','Nayeema']"
   ]
  },
  {
   "cell_type": "code",
   "execution_count": null,
   "id": "5467f31a-1e26-490a-a9ff-8cf51dac0649",
   "metadata": {},
   "outputs": [],
   "source": []
  }
 ],
 "metadata": {
  "kernelspec": {
   "display_name": "Python 3 (ipykernel)",
   "language": "python",
   "name": "python3"
  },
  "language_info": {
   "codemirror_mode": {
    "name": "ipython",
    "version": 3
   },
   "file_extension": ".py",
   "mimetype": "text/x-python",
   "name": "python",
   "nbconvert_exporter": "python",
   "pygments_lexer": "ipython3",
   "version": "3.13.5"
  }
 },
 "nbformat": 4,
 "nbformat_minor": 5
}
