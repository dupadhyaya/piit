{
 "cells": [
  {
   "cell_type": "markdown",
   "id": "e728e801-cc55-4c72-8caf-340d17d0034d",
   "metadata": {},
   "source": [
    "# LIST"
   ]
  },
  {
   "cell_type": "code",
   "execution_count": null,
   "id": "fdc7637c-1b10-4d2f-88ad-75ae7823aa89",
   "metadata": {},
   "outputs": [],
   "source": [
    "# List Python - Interpreted Language - Line by Line "
   ]
  },
  {
   "cell_type": "code",
   "execution_count": null,
   "id": "f3038aea-695f-4322-bfdc-7f9b3ed5192c",
   "metadata": {},
   "outputs": [],
   "source": [
    "# Run a line (Execute) - Shift + Enter"
   ]
  },
  {
   "cell_type": "markdown",
   "id": "c26340f3-93ce-4428-9363-5bc895f794dc",
   "metadata": {},
   "source": [
    "## 1st List"
   ]
  },
  {
   "cell_type": "code",
   "execution_count": null,
   "id": "1bb03b6a-b7b2-431b-a74b-f09d954b900a",
   "metadata": {},
   "outputs": [],
   "source": [
    "x = [1,2,3,5]  #variable which gets stored in Environment"
   ]
  },
  {
   "cell_type": "code",
   "execution_count": null,
   "id": "7affc523-1a27-4b72-b908-6fda8d579e9a",
   "metadata": {},
   "outputs": [],
   "source": [
    "x  #list of numbers"
   ]
  },
  {
   "cell_type": "code",
   "execution_count": null,
   "id": "52a772f4-8182-49d9-8cf3-9277530fd1f5",
   "metadata": {},
   "outputs": [],
   "source": [
    "print(x)"
   ]
  },
  {
   "cell_type": "code",
   "execution_count": null,
   "id": "3158af8b-87d3-4046-a3fe-d62fcb193e49",
   "metadata": {},
   "outputs": [],
   "source": [
    "type(x)"
   ]
  },
  {
   "cell_type": "markdown",
   "id": "d365f961-60ed-4caf-a0f0-111817b02f81",
   "metadata": {},
   "source": [
    "## 2nd List"
   ]
  },
  {
   "cell_type": "code",
   "execution_count": null,
   "id": "18c7b27c-8526-4111-8f50-349f286c21e8",
   "metadata": {},
   "outputs": [],
   "source": [
    "x1 = [1, 10, 15.67, \"Nayeema\" , 'PIIT', True, 45, 10]  #list of mixed data type - no, string, logical\n",
    "#duplicate 10 values\n",
    "# for string, the quotes should matching - \" \" , ' '"
   ]
  },
  {
   "cell_type": "code",
   "execution_count": null,
   "id": "78469219-caa0-44da-9bea-830a451ccd4c",
   "metadata": {},
   "outputs": [],
   "source": [
    "type(x1)"
   ]
  },
  {
   "cell_type": "code",
   "execution_count": null,
   "id": "cfe4a6dc-5a16-40ca-ad04-22157c7c6895",
   "metadata": {},
   "outputs": [],
   "source": [
    "print(x1)"
   ]
  },
  {
   "cell_type": "markdown",
   "id": "1f627f2f-f73c-448c-850c-d46b49a86661",
   "metadata": {},
   "source": [
    "### length of the list"
   ]
  },
  {
   "cell_type": "code",
   "execution_count": null,
   "id": "ee486528-51ab-4b88-b0d4-90ac4ba17640",
   "metadata": {},
   "outputs": [],
   "source": [
    "len(x1)"
   ]
  },
  {
   "cell_type": "markdown",
   "id": "d0a7580b-c148-4145-a5f4-9dc7910554cf",
   "metadata": {},
   "source": [
    "### Ordered \n",
    "- filter by position"
   ]
  },
  {
   "cell_type": "code",
   "execution_count": null,
   "id": "044f7300-05cd-47ca-baf5-e95e677f1baf",
   "metadata": {},
   "outputs": [],
   "source": [
    "x1[0]   #first position from 0 value between square bracket [ index ]"
   ]
  },
  {
   "cell_type": "code",
   "execution_count": null,
   "id": "260f54fd-73ca-4010-85c8-5d5b3c1705f6",
   "metadata": {},
   "outputs": [],
   "source": [
    "x1[4]"
   ]
  },
  {
   "cell_type": "markdown",
   "id": "db42b6f6-77da-4614-bd8a-88ef15ff6743",
   "metadata": {},
   "source": [
    "### Change Values/ Mutable"
   ]
  },
  {
   "cell_type": "code",
   "execution_count": null,
   "id": "e0214cbd-7b3b-4207-9b23-b9db38d7d005",
   "metadata": {},
   "outputs": [],
   "source": [
    "x1[4]= 'Mandal'  #assign new value at position 4+1 in variable x1"
   ]
  },
  {
   "cell_type": "code",
   "execution_count": null,
   "id": "73d55a70-2f3c-47ee-ad94-706e7d955868",
   "metadata": {},
   "outputs": [],
   "source": [
    "print(x1)"
   ]
  },
  {
   "cell_type": "markdown",
   "id": "a210dfb4-0a3f-4805-80f7-4012313db000",
   "metadata": {},
   "source": [
    "## 3rd List"
   ]
  },
  {
   "cell_type": "code",
   "execution_count": null,
   "id": "3ab3c179-cf9f-4154-abd8-e7e8b392a791",
   "metadata": {},
   "outputs": [],
   "source": [
    "x"
   ]
  },
  {
   "cell_type": "code",
   "execution_count": null,
   "id": "fda9ec42-dc4f-4680-a10a-cef334be4e96",
   "metadata": {},
   "outputs": [],
   "source": [
    "x1"
   ]
  },
  {
   "cell_type": "code",
   "execution_count": null,
   "id": "6c28b4fc-5585-444a-a921-a94a489c703f",
   "metadata": {},
   "outputs": [],
   "source": [
    "x2 = x + x1"
   ]
  },
  {
   "cell_type": "code",
   "execution_count": null,
   "id": "bb3d40a3-35b6-446b-bfb5-e92625b4c7d0",
   "metadata": {},
   "outputs": [],
   "source": [
    "print(x2)"
   ]
  },
  {
   "cell_type": "markdown",
   "id": "1ed961f8-624f-4cee-9f5f-45d0001fe0d1",
   "metadata": {},
   "source": [
    "### Other functions of list\n",
    "- https://docs.python.org/3/tutorial/datastructures.html"
   ]
  },
  {
   "cell_type": "code",
   "execution_count": null,
   "id": "a371e03a-028c-4e08-80c7-1da845e26826",
   "metadata": {},
   "outputs": [],
   "source": [
    "x.append('Bijayata')"
   ]
  },
  {
   "cell_type": "code",
   "execution_count": 83,
   "id": "0bd2aed8-147d-4618-b44b-aae2a70c1064",
   "metadata": {},
   "outputs": [
    {
     "data": {
      "text/plain": [
       "[1, 2, 3, 5, 'Bijayata']"
      ]
     },
     "execution_count": 83,
     "metadata": {},
     "output_type": "execute_result"
    }
   ],
   "source": [
    "x"
   ]
  },
  {
   "cell_type": "code",
   "execution_count": 84,
   "id": "e280e07b-9eb5-46d5-8d4d-aa3bc2182368",
   "metadata": {},
   "outputs": [],
   "source": [
    "x.append(100)"
   ]
  },
  {
   "cell_type": "code",
   "execution_count": 85,
   "id": "f86473a4-2507-425d-8680-c25e9654ddf0",
   "metadata": {},
   "outputs": [
    {
     "data": {
      "text/plain": [
       "[1, 2, 3, 5, 'Bijayata', 100]"
      ]
     },
     "execution_count": 85,
     "metadata": {},
     "output_type": "execute_result"
    }
   ],
   "source": [
    "x"
   ]
  },
  {
   "cell_type": "code",
   "execution_count": 86,
   "id": "1834d5ef-5233-4f73-8302-2d5bfa679ad9",
   "metadata": {},
   "outputs": [],
   "source": [
    "x.insert(1,'Syed')"
   ]
  },
  {
   "cell_type": "code",
   "execution_count": 87,
   "id": "f5b978c4-0d2d-4c92-abe3-75640edbd0fd",
   "metadata": {},
   "outputs": [
    {
     "data": {
      "text/plain": [
       "[1, 'Syed', 2, 3, 5, 'Bijayata', 100]"
      ]
     },
     "execution_count": 87,
     "metadata": {},
     "output_type": "execute_result"
    }
   ],
   "source": [
    "x"
   ]
  },
  {
   "cell_type": "code",
   "execution_count": 88,
   "id": "c024a7bc-0efb-4290-b1a8-d13715a563ac",
   "metadata": {},
   "outputs": [],
   "source": [
    "x.reverse()"
   ]
  },
  {
   "cell_type": "code",
   "execution_count": 89,
   "id": "53979f13-f7d9-4fbf-ae4f-f53157eef593",
   "metadata": {},
   "outputs": [
    {
     "data": {
      "text/plain": [
       "[100, 'Bijayata', 5, 3, 2, 'Syed', 1]"
      ]
     },
     "execution_count": 89,
     "metadata": {},
     "output_type": "execute_result"
    }
   ],
   "source": [
    "x"
   ]
  },
  {
   "cell_type": "code",
   "execution_count": 90,
   "id": "e9d8ecce-3dfd-4d03-a3ef-7f7dd876fbcc",
   "metadata": {},
   "outputs": [
    {
     "data": {
      "text/plain": [
       "1"
      ]
     },
     "execution_count": 90,
     "metadata": {},
     "output_type": "execute_result"
    }
   ],
   "source": [
    "x.count(3)"
   ]
  },
  {
   "cell_type": "code",
   "execution_count": 91,
   "id": "ea3352b8-8185-43d6-95ab-cd2d465998ba",
   "metadata": {},
   "outputs": [],
   "source": [
    "x.remove(2) #value -2 removed"
   ]
  },
  {
   "cell_type": "code",
   "execution_count": 92,
   "id": "17ddcfbe-bbe2-4b5c-80c5-6b6890fbd220",
   "metadata": {},
   "outputs": [
    {
     "data": {
      "text/plain": [
       "[100, 'Bijayata', 5, 3, 'Syed', 1]"
      ]
     },
     "execution_count": 92,
     "metadata": {},
     "output_type": "execute_result"
    }
   ],
   "source": [
    "x"
   ]
  },
  {
   "cell_type": "code",
   "execution_count": 93,
   "id": "87ae7af8-c7ec-45af-986b-c98634215e39",
   "metadata": {},
   "outputs": [],
   "source": [
    "x.remove(100) # remove value 100"
   ]
  },
  {
   "cell_type": "code",
   "execution_count": 94,
   "id": "37750261-db60-41a1-a633-3fa085ce214a",
   "metadata": {},
   "outputs": [
    {
     "data": {
      "text/plain": [
       "['Bijayata', 5, 3, 'Syed', 1]"
      ]
     },
     "execution_count": 94,
     "metadata": {},
     "output_type": "execute_result"
    }
   ],
   "source": [
    "x"
   ]
  },
  {
   "cell_type": "code",
   "execution_count": 95,
   "id": "d7cfbde1-9811-489d-81cd-4626ef043b50",
   "metadata": {},
   "outputs": [
    {
     "data": {
      "text/plain": [
       "<function list.sort(*, key=None, reverse=False)>"
      ]
     },
     "execution_count": 95,
     "metadata": {},
     "output_type": "execute_result"
    }
   ],
   "source": [
    "x.sort"
   ]
  },
  {
   "cell_type": "code",
   "execution_count": 96,
   "id": "81404b46-5f85-4786-83c5-7efbd812ec3b",
   "metadata": {},
   "outputs": [
    {
     "data": {
      "text/plain": [
       "['Bijayata', 5, 3, 'Syed', 1]"
      ]
     },
     "execution_count": 96,
     "metadata": {},
     "output_type": "execute_result"
    }
   ],
   "source": [
    "x"
   ]
  },
  {
   "cell_type": "code",
   "execution_count": 97,
   "id": "209e5fed-4bbf-4cab-8675-e3f9a9a9608c",
   "metadata": {},
   "outputs": [
    {
     "data": {
      "text/plain": [
       "'Bijayata'"
      ]
     },
     "execution_count": 97,
     "metadata": {},
     "output_type": "execute_result"
    }
   ],
   "source": [
    "x.pop(0)"
   ]
  },
  {
   "cell_type": "code",
   "execution_count": 98,
   "id": "110ac3cf-2f1d-4bb1-8ffb-b5721788e3ce",
   "metadata": {},
   "outputs": [
    {
     "data": {
      "text/plain": [
       "[5, 3, 'Syed', 1]"
      ]
     },
     "execution_count": 98,
     "metadata": {},
     "output_type": "execute_result"
    }
   ],
   "source": [
    "x"
   ]
  },
  {
   "cell_type": "code",
   "execution_count": 99,
   "id": "cb9e66f2-95d6-4d98-adf2-d1fe2dd060ae",
   "metadata": {},
   "outputs": [
    {
     "data": {
      "text/plain": [
       "5"
      ]
     },
     "execution_count": 99,
     "metadata": {},
     "output_type": "execute_result"
    }
   ],
   "source": [
    "x.pop(0)"
   ]
  },
  {
   "cell_type": "code",
   "execution_count": 100,
   "id": "756fcf0d-a31e-471e-afc5-98a0bca25b99",
   "metadata": {},
   "outputs": [
    {
     "data": {
      "text/plain": [
       "[3, 'Syed', 1]"
      ]
     },
     "execution_count": 100,
     "metadata": {},
     "output_type": "execute_result"
    }
   ],
   "source": [
    "x"
   ]
  },
  {
   "cell_type": "code",
   "execution_count": 101,
   "id": "b86e6d15-be71-4163-a6a6-8075e49bb009",
   "metadata": {},
   "outputs": [],
   "source": [
    "x.remove(1)"
   ]
  },
  {
   "cell_type": "code",
   "execution_count": 102,
   "id": "9992204f-3df9-4c10-888b-9e31c1e11706",
   "metadata": {},
   "outputs": [
    {
     "data": {
      "text/plain": [
       "[3, 'Syed']"
      ]
     },
     "execution_count": 102,
     "metadata": {},
     "output_type": "execute_result"
    }
   ],
   "source": [
    "x"
   ]
  },
  {
   "cell_type": "code",
   "execution_count": null,
   "id": "dfcce3b6-6b0f-4bf0-87e4-3891a1a85ef2",
   "metadata": {},
   "outputs": [],
   "source": []
  },
  {
   "cell_type": "code",
   "execution_count": null,
   "id": "ce0d978c-9f16-4623-a4b4-b68f2c9618b3",
   "metadata": {},
   "outputs": [],
   "source": []
  },
  {
   "cell_type": "code",
   "execution_count": null,
   "id": "612af50b-b15d-4e47-9fb3-d5c54f59355d",
   "metadata": {},
   "outputs": [],
   "source": []
  }
 ],
 "metadata": {
  "kernelspec": {
   "display_name": "Python 3 (ipykernel)",
   "language": "python",
   "name": "python3"
  },
  "language_info": {
   "codemirror_mode": {
    "name": "ipython",
    "version": 3
   },
   "file_extension": ".py",
   "mimetype": "text/x-python",
   "name": "python",
   "nbconvert_exporter": "python",
   "pygments_lexer": "ipython3",
   "version": "3.13.5"
  }
 },
 "nbformat": 4,
 "nbformat_minor": 5
}
