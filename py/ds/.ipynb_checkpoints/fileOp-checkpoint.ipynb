{
 "cells": [
  {
   "cell_type": "code",
   "execution_count": null,
   "id": "db9f6b09-70bd-4edf-ae6f-218d48d3f384",
   "metadata": {},
   "outputs": [],
   "source": [
    "# FILE \n",
    "- write to a file\n",
    "- read from a file"
   ]
  },
  {
   "cell_type": "markdown",
   "id": "736277f0-5973-4a29-839b-c5cf674bc499",
   "metadata": {},
   "source": [
    "## Write to a file"
   ]
  },
  {
   "cell_type": "code",
   "execution_count": 12,
   "id": "171e3666-ffe0-4659-a5dd-ba0961ca9cf9",
   "metadata": {},
   "outputs": [],
   "source": [
    "with open(\"output2.txt\", \"w\") as f:\n",
    "    print(\"Dhiraj, Saving this to a file.\\nSuroor, have you understood\", file=f)"
   ]
  },
  {
   "cell_type": "markdown",
   "id": "d3bf6702-af11-4afb-aad6-cd6924fb1eea",
   "metadata": {},
   "source": [
    "## Read from the file"
   ]
  },
  {
   "cell_type": "code",
   "execution_count": 13,
   "id": "4f2ad252-93bd-425e-bf73-8de319c8cfb3",
   "metadata": {},
   "outputs": [
    {
     "name": "stdout",
     "output_type": "stream",
     "text": [
      "Dhiraj, Saving this to a file.\n",
      "Suroor, have you understood\n",
      "\n"
     ]
    }
   ],
   "source": [
    "with open(\"output2.txt\", \"r\") as f:\n",
    "    content = f.read()\n",
    "    print(content)"
   ]
  },
  {
   "cell_type": "markdown",
   "id": "7298c90f-30ba-4917-b900-2817888f9600",
   "metadata": {},
   "source": [
    "- open(\"output.txt\", \"r\"): Opens the file in read mode.\n",
    "- with: Automatically closes the file after reading.\n",
    "- f.read(): Reads the entire file content as one string."
   ]
  },
  {
   "cell_type": "markdown",
   "id": "183d4527-92f7-4c46-ad86-ba46b4b9ffad",
   "metadata": {},
   "source": [
    "## Line by Line Read"
   ]
  },
  {
   "cell_type": "code",
   "execution_count": 14,
   "id": "d24a813a-79e2-42ee-bc19-5ec8983befb0",
   "metadata": {},
   "outputs": [
    {
     "name": "stdout",
     "output_type": "stream",
     "text": [
      "Dhiraj, Saving this to a file.\n",
      "Suroor, have you understood\n"
     ]
    }
   ],
   "source": [
    "with open(\"output2.txt\", \"r\") as f:\n",
    "    for line in f:\n",
    "        print(line.strip())  # removes newline character"
   ]
  },
  {
   "cell_type": "markdown",
   "id": "cc143754-321f-4e0b-b9af-d4f3e4e04e65",
   "metadata": {},
   "source": [
    "## Read Lines into a list"
   ]
  },
  {
   "cell_type": "code",
   "execution_count": 15,
   "id": "ea30af1d-f039-4b3c-b34c-30409bc9a250",
   "metadata": {},
   "outputs": [
    {
     "name": "stdout",
     "output_type": "stream",
     "text": [
      "['Dhiraj, Saving this to a file.\\n', 'Suroor, have you understood\\n']\n"
     ]
    }
   ],
   "source": [
    "with open(\"output2.txt\", \"r\") as f:\n",
    "    lines = f.readlines()\n",
    "print(lines)  # Each line is a string in the list\n"
   ]
  },
  {
   "cell_type": "markdown",
   "id": "86f6851e-636d-4432-b87c-221bb24c28eb",
   "metadata": {},
   "source": [
    "## Write and Read "
   ]
  },
  {
   "cell_type": "code",
   "execution_count": 16,
   "id": "14162416-73cf-40a2-b4a1-f23872bdd6a1",
   "metadata": {},
   "outputs": [
    {
     "name": "stdout",
     "output_type": "stream",
     "text": [
      "Line: Hello\n",
      "Line: World\n",
      "Line: Python\n"
     ]
    }
   ],
   "source": [
    "# Writing to file\n",
    "with open(\"output3.txt\", \"w\") as f:\n",
    "    f.write(\"Hello\\nWorld\\nPython\\n\")\n",
    "\n",
    "# Reading from file\n",
    "with open(\"output3.txt\", \"r\") as f:\n",
    "    for line in f:\n",
    "        print(\"Line:\", line.strip())"
   ]
  },
  {
   "cell_type": "code",
   "execution_count": null,
   "id": "d1273256-4d6f-43b0-84f6-5bdb0c978948",
   "metadata": {},
   "outputs": [],
   "source": []
  },
  {
   "cell_type": "code",
   "execution_count": null,
   "id": "573fd19e-21ef-42f8-b755-030becd8e2ed",
   "metadata": {},
   "outputs": [],
   "source": []
  }
 ],
 "metadata": {
  "kernelspec": {
   "display_name": "Python 3 (ipykernel)",
   "language": "python",
   "name": "python3"
  },
  "language_info": {
   "codemirror_mode": {
    "name": "ipython",
    "version": 3
   },
   "file_extension": ".py",
   "mimetype": "text/x-python",
   "name": "python",
   "nbconvert_exporter": "python",
   "pygments_lexer": "ipython3",
   "version": "3.13.5"
  }
 },
 "nbformat": 4,
 "nbformat_minor": 5
}
