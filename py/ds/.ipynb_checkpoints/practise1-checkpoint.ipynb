{
 "cells": [
  {
   "cell_type": "markdown",
   "id": "ed98a2a8-2630-472a-abdf-13fc90ff2c61",
   "metadata": {},
   "source": [
    "# Topic of the File"
   ]
  },
  {
   "cell_type": "markdown",
   "id": "4922f898-a3e1-43b4-9d96-aca3c341079c",
   "metadata": {},
   "source": [
    "## Sub Heading"
   ]
  },
  {
   "cell_type": "markdown",
   "id": "57d5ba14-4df3-45a8-8749-9482f90899ce",
   "metadata": {},
   "source": [
    "### Sub Sub Heading"
   ]
  },
  {
   "cell_type": "code",
   "execution_count": 1,
   "id": "d796a8cb-8229-4a46-a63f-3c6cd644bce7",
   "metadata": {},
   "outputs": [],
   "source": [
    "x = [1,2,5,10,1]  #run this line \n",
    "# Shift + Enter"
   ]
  },
  {
   "cell_type": "code",
   "execution_count": 2,
   "id": "9ec8581e-e9d5-4336-bae7-59a0d520731a",
   "metadata": {},
   "outputs": [
    {
     "data": {
      "text/plain": [
       "[1, 2, 5, 10, 1]"
      ]
     },
     "execution_count": 2,
     "metadata": {},
     "output_type": "execute_result"
    }
   ],
   "source": [
    "x"
   ]
  },
  {
   "cell_type": "code",
   "execution_count": 3,
   "id": "c9e45d63-99b7-4a20-8ce9-eac8b83bae06",
   "metadata": {},
   "outputs": [
    {
     "name": "stdout",
     "output_type": "stream",
     "text": [
      "[1, 2, 5, 10, 1]\n"
     ]
    }
   ],
   "source": [
    "print(x)"
   ]
  },
  {
   "cell_type": "markdown",
   "id": "15961571-a4ba-43f9-826f-4a0d33da441e",
   "metadata": {},
   "source": [
    "- Every Cell on right side there icons\n",
    "- Duplicates\n",
    "- Move Up\n",
    "- Move Down\n",
    "- Insert new cell above this cell\n",
    "- Insert new cell below this cell\n",
    "- Delete this celll"
   ]
  },
  {
   "cell_type": "raw",
   "id": "1df02ce2-3a9b-413d-b022-51c9731dfcb1",
   "metadata": {},
   "source": [
    "x"
   ]
  },
  {
   "cell_type": "markdown",
   "id": "e991f21d-9aa8-4290-b53f-c68301de5060",
   "metadata": {},
   "source": [
    "- A raw cell in a Jupyter Notebook is a cell type specifically designed to hold content that is not intended to be executed by the notebook's kernel. Unlike code cells, which run programming language code, or Markdown cells, which render formatted text, raw cells are used to store data or content in its original, unprocessed form\n",
    "- Code\n",
    "- Markdown\n",
    "- Raw"
   ]
  },
  {
   "cell_type": "code",
   "execution_count": 4,
   "id": "35847b08-18ae-4efd-be13-28b6fdcc59c6",
   "metadata": {},
   "outputs": [],
   "source": [
    "# Dhiraj"
   ]
  },
  {
   "cell_type": "code",
   "execution_count": 5,
   "id": "87af9c98-6453-4083-815e-1b00f0e8b42d",
   "metadata": {},
   "outputs": [],
   "source": [
    "# Suroor"
   ]
  },
  {
   "cell_type": "code",
   "execution_count": 6,
   "id": "b255bb10-4d3e-4266-b457-99d8d7eebe39",
   "metadata": {},
   "outputs": [],
   "source": [
    "# Mandal"
   ]
  },
  {
   "cell_type": "code",
   "execution_count": 7,
   "id": "fd1bfd5c-50e5-4bc9-bb57-8d9cb9682c6f",
   "metadata": {},
   "outputs": [
    {
     "ename": "NameError",
     "evalue": "name 'xxxx' is not defined",
     "output_type": "error",
     "traceback": [
      "\u001b[1;31m---------------------------------------------------------------------------\u001b[0m",
      "\u001b[1;31mNameError\u001b[0m                                 Traceback (most recent call last)",
      "Cell \u001b[1;32mIn[7], line 1\u001b[0m\n\u001b[1;32m----> 1\u001b[0m xxxx\n",
      "\u001b[1;31mNameError\u001b[0m: name 'xxxx' is not defined"
     ]
    }
   ],
   "source": [
    "# xxxx"
   ]
  }
 ],
 "metadata": {
  "kernelspec": {
   "display_name": "Python 3 (ipykernel)",
   "language": "python",
   "name": "python3"
  },
  "language_info": {
   "codemirror_mode": {
    "name": "ipython",
    "version": 3
   },
   "file_extension": ".py",
   "mimetype": "text/x-python",
   "name": "python",
   "nbconvert_exporter": "python",
   "pygments_lexer": "ipython3",
   "version": "3.13.5"
  }
 },
 "nbformat": 4,
 "nbformat_minor": 5
}
