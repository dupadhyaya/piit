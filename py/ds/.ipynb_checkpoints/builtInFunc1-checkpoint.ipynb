{
 "cells": [
  {
   "cell_type": "markdown",
   "id": "98316767-16f2-47f5-a2a2-e112e6d4b0b2",
   "metadata": {},
   "source": [
    "# BUILT IN FUNCTIONS"
   ]
  }
 ],
 "metadata": {
  "kernelspec": {
   "display_name": "Python 3 (ipykernel)",
   "language": "python",
   "name": "python3"
  },
  "language_info": {
   "codemirror_mode": {
    "name": "ipython",
    "version": 3
   },
   "file_extension": ".py",
   "mimetype": "text/x-python",
   "name": "python",
   "nbconvert_exporter": "python",
   "pygments_lexer": "ipython3",
   "version": "3.13.5"
  }
 },
 "nbformat": 4,
 "nbformat_minor": 5
}
