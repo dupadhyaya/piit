{
 "cells": [
  {
   "cell_type": "markdown",
   "id": "54aa7b50-f5bb-49d5-905d-a32658cca6de",
   "metadata": {},
   "source": [
    "# DICTIONARY\n",
    "- a dictionary is a built-in data structure used to store data values in key:value pairs. It is a collection that is ordered (as of Python 3.7+), changeable, and does not allow duplicate keys.\n",
    "- key is like rollno, value is like student name\n",
    "- "
   ]
  },
  {
   "cell_type": "code",
   "execution_count": 2,
   "id": "29d5161a-75ad-40f1-81a9-df45d1519a64",
   "metadata": {},
   "outputs": [],
   "source": [
    "# Creating a dictionary\n",
    "student = {\n",
    "    \"name\": \"Mandal\",\n",
    "    \"age\": 20,\n",
    "    \"major\": \"Data Science\"\n",
    "}"
   ]
  },
  {
   "cell_type": "code",
   "execution_count": 3,
   "id": "6dde0923-43e7-4105-84f9-71f78a44f560",
   "metadata": {},
   "outputs": [
    {
     "data": {
      "text/plain": [
       "{'name': 'Mandal', 'age': 20, 'major': 'Data Science'}"
      ]
     },
     "execution_count": 3,
     "metadata": {},
     "output_type": "execute_result"
    }
   ],
   "source": [
    "student"
   ]
  },
  {
   "cell_type": "code",
   "execution_count": 4,
   "id": "843a1c47-7e8f-44b0-9a25-57f3d36c054b",
   "metadata": {},
   "outputs": [
    {
     "name": "stdout",
     "output_type": "stream",
     "text": [
      "Mandal\n"
     ]
    }
   ],
   "source": [
    "# Accessing values\n",
    "print(student[\"name\"])  # Output: mandal"
   ]
  },
  {
   "cell_type": "code",
   "execution_count": 5,
   "id": "a6ad0375-b4b3-46e1-8c62-53a8f1ffe5cb",
   "metadata": {},
   "outputs": [
    {
     "name": "stdout",
     "output_type": "stream",
     "text": [
      "20\n"
     ]
    }
   ],
   "source": [
    "print(student[\"age\"])  # Output: 20"
   ]
  },
  {
   "cell_type": "code",
   "execution_count": 8,
   "id": "b878a90a-4152-4a1e-a199-897ee139c099",
   "metadata": {},
   "outputs": [],
   "source": [
    "# Adding a new key-value pair, mutable, value can be changed or added\n",
    "student[\"gpa\"] = 3.8"
   ]
  },
  {
   "cell_type": "code",
   "execution_count": 9,
   "id": "e0f5f571-34f6-4be3-9665-7e92f5fb3848",
   "metadata": {},
   "outputs": [
    {
     "data": {
      "text/plain": [
       "{'name': 'Mandal', 'age': 20, 'major': 'Data Science', 'gpa': 3.8}"
      ]
     },
     "execution_count": 9,
     "metadata": {},
     "output_type": "execute_result"
    }
   ],
   "source": [
    "student"
   ]
  },
  {
   "cell_type": "code",
   "execution_count": 10,
   "id": "d381fbcf-6f13-4897-95d0-fe2b427a3de2",
   "metadata": {},
   "outputs": [],
   "source": [
    "# Modifying a value\n",
    "student[\"age\"] = 21"
   ]
  },
  {
   "cell_type": "code",
   "execution_count": 12,
   "id": "f37d8d8d-1a31-46cb-90b5-364d31bc32bf",
   "metadata": {},
   "outputs": [
    {
     "data": {
      "text/plain": [
       "{'name': 'Mandal', 'age': 21, 'major': 'Data Science', 'gpa': 3.8}"
      ]
     },
     "execution_count": 12,
     "metadata": {},
     "output_type": "execute_result"
    }
   ],
   "source": [
    "student  # mutable, values can be changed"
   ]
  },
  {
   "cell_type": "code",
   "execution_count": 13,
   "id": "d3f653cf-491a-4abc-b895-4687700f1a10",
   "metadata": {},
   "outputs": [
    {
     "data": {
      "text/plain": [
       "dict_keys(['name', 'age', 'major', 'gpa'])"
      ]
     },
     "execution_count": 13,
     "metadata": {},
     "output_type": "execute_result"
    }
   ],
   "source": [
    "student.keys()"
   ]
  },
  {
   "cell_type": "code",
   "execution_count": 14,
   "id": "896bf59e-e03e-4eec-9671-c5fc56005cfc",
   "metadata": {},
   "outputs": [
    {
     "name": "stdout",
     "output_type": "stream",
     "text": [
      "{'name': 'Mandal', 'age': 21, 'gpa': 3.8}\n"
     ]
    }
   ],
   "source": [
    "# Removing a key-value pair\n",
    "del student[\"major\"]\n",
    "print(student)  # Output: {'name': 'Alice', 'age': 21, 'gpa': 3.8}"
   ]
  },
  {
   "cell_type": "code",
   "execution_count": 15,
   "id": "b52581e2-201d-4088-8331-c499c346287c",
   "metadata": {},
   "outputs": [
    {
     "data": {
      "text/plain": [
       "{'name': 'Mandal', 'age': 21, 'gpa': 3.8}"
      ]
     },
     "execution_count": 15,
     "metadata": {},
     "output_type": "execute_result"
    }
   ],
   "source": [
    "student"
   ]
  },
  {
   "cell_type": "code",
   "execution_count": 16,
   "id": "eaa16377-f0e6-43e5-82c2-90b8ecdb16e7",
   "metadata": {},
   "outputs": [
    {
     "data": {
      "text/plain": [
       "dict_values(['Mandal', 21, 3.8])"
      ]
     },
     "execution_count": 16,
     "metadata": {},
     "output_type": "execute_result"
    }
   ],
   "source": [
    "student.values()"
   ]
  },
  {
   "cell_type": "code",
   "execution_count": 17,
   "id": "868a1391-28f0-48a2-bc3d-0e948eb7e8df",
   "metadata": {},
   "outputs": [
    {
     "name": "stdout",
     "output_type": "stream",
     "text": [
      "name: Mandal\n",
      "age: 21\n",
      "gpa: 3.8\n"
     ]
    }
   ],
   "source": [
    "# In Python 3.7+, iterating will always follow insertion order\n",
    "for key, value in student.items():\n",
    "    print(f\"{key}: {value}\")"
   ]
  },
  {
   "cell_type": "code",
   "execution_count": 18,
   "id": "38dcb58c-209f-41e8-817d-41904eaa246e",
   "metadata": {},
   "outputs": [],
   "source": [
    "del student['gpa']"
   ]
  },
  {
   "cell_type": "code",
   "execution_count": 19,
   "id": "4c62af16-0e8d-4a10-ad5a-e7389a9f3f3f",
   "metadata": {},
   "outputs": [
    {
     "data": {
      "text/plain": [
       "{'name': 'Mandal', 'age': 21}"
      ]
     },
     "execution_count": 19,
     "metadata": {},
     "output_type": "execute_result"
    }
   ],
   "source": [
    "student"
   ]
  },
  {
   "cell_type": "code",
   "execution_count": null,
   "id": "39d10d95-7cf3-4eaf-a8ff-d180c787c139",
   "metadata": {},
   "outputs": [],
   "source": []
  }
 ],
 "metadata": {
  "kernelspec": {
   "display_name": "Python 3 (ipykernel)",
   "language": "python",
   "name": "python3"
  },
  "language_info": {
   "codemirror_mode": {
    "name": "ipython",
    "version": 3
   },
   "file_extension": ".py",
   "mimetype": "text/x-python",
   "name": "python",
   "nbconvert_exporter": "python",
   "pygments_lexer": "ipython3",
   "version": "3.13.5"
  }
 },
 "nbformat": 4,
 "nbformat_minor": 5
}
