{
 "cells": [
  {
   "cell_type": "markdown",
   "id": "98316767-16f2-47f5-a2a2-e112e6d4b0b2",
   "metadata": {},
   "source": [
    "# BUILT IN FUNCTIONS\n",
    "- https://docs.python.org/3/library/functions.html\n",
    "- The Python interpreter has a number of functions and types built into it that are always available"
   ]
  },
  {
   "cell_type": "markdown",
   "id": "31223679-dbe8-435f-919f-334bff886ea1",
   "metadata": {},
   "source": [
    "## Range\n",
    "- https://docs.python.org/3/library/functions.html#func-range\n",
    "- range(stop) # start from 0 to stop at stop-1\n",
    "- range(start, stop) # starts from start to stop-1\n",
    "- range(start, stop, step=1) # start from start to stop with increment / decrement of step"
   ]
  },
  {
   "cell_type": "code",
   "execution_count": 10,
   "id": "fc6881be-b39d-441f-ba4f-89cca75ef452",
   "metadata": {},
   "outputs": [
    {
     "data": {
      "text/plain": [
       "range(0, 10)"
      ]
     },
     "execution_count": 10,
     "metadata": {},
     "output_type": "execute_result"
    }
   ],
   "source": [
    "range(10)"
   ]
  },
  {
   "cell_type": "code",
   "execution_count": 11,
   "id": "ac6f2aab-bbd9-44cb-ba9b-56048fa60403",
   "metadata": {},
   "outputs": [
    {
     "data": {
      "text/plain": [
       "range(10, 50, 2)"
      ]
     },
     "execution_count": 11,
     "metadata": {},
     "output_type": "execute_result"
    }
   ],
   "source": [
    "range(10,50,2)"
   ]
  },
  {
   "cell_type": "code",
   "execution_count": 15,
   "id": "4d1cf6b1-2cca-4a25-a60a-0d7ad5d2f044",
   "metadata": {},
   "outputs": [
    {
     "name": "stdout",
     "output_type": "stream",
     "text": [
      "0\t1\t2\t3\t4\t5\t6\t7\t8\t9\t"
     ]
    }
   ],
   "source": [
    "for i in range(10):\n",
    "    print(i, end='\\t')"
   ]
  },
  {
   "cell_type": "code",
   "execution_count": 16,
   "id": "4cf059d2-76a0-48bb-92e0-0b21f0943341",
   "metadata": {},
   "outputs": [
    {
     "name": "stdout",
     "output_type": "stream",
     "text": [
      "10\t12\t14\t16\t18\t20\t22\t24\t26\t28\t30\t32\t34\t36\t38\t40\t42\t44\t46\t48\t"
     ]
    }
   ],
   "source": [
    "for i in range(10,50,2):\n",
    "    print(i, end = '\\t')"
   ]
  },
  {
   "cell_type": "code",
   "execution_count": 18,
   "id": "9ae975af-838d-4ef2-a799-c1667023efae",
   "metadata": {},
   "outputs": [
    {
     "data": {
      "text/plain": [
       "580"
      ]
     },
     "execution_count": 18,
     "metadata": {},
     "output_type": "execute_result"
    }
   ],
   "source": [
    "sum(range(10,50,2))"
   ]
  },
  {
   "cell_type": "code",
   "execution_count": 21,
   "id": "093e6c36-4fc6-4c18-9d08-c20fa461b6d0",
   "metadata": {},
   "outputs": [
    {
     "name": "stdout",
     "output_type": "stream",
     "text": [
      "10\t7\t4\t1\t"
     ]
    }
   ],
   "source": [
    "for i in range(10, 0, -3):\n",
    "    print(i, end ='\\t')"
   ]
  },
  {
   "cell_type": "code",
   "execution_count": 22,
   "id": "d6329376-3d63-4c6e-b2d2-556276cfe37c",
   "metadata": {},
   "outputs": [
    {
     "name": "stdout",
     "output_type": "stream",
     "text": [
      "Position 1: 10\n",
      "Position 2: 20\n",
      "Position 3: 30\n",
      "Position 4: 40\n"
     ]
    }
   ],
   "source": [
    "for idx, val in enumerate(range(10, 50, 10), start=1):\n",
    "    print(f\"Position {idx}: {val}\")"
   ]
  },
  {
   "cell_type": "code",
   "execution_count": 25,
   "id": "9429eed5-3bf6-484f-8b4a-2b14645da83a",
   "metadata": {},
   "outputs": [
    {
     "data": {
      "text/plain": [
       "[10, 20, 30, 40]"
      ]
     },
     "execution_count": 25,
     "metadata": {},
     "output_type": "execute_result"
    }
   ],
   "source": [
    "# save range values in a list and then print\n",
    "my_list = list(range(10,50,10))\n",
    "my_list"
   ]
  },
  {
   "cell_type": "markdown",
   "id": "009e6963-1ef8-4703-90f7-a279f685112f",
   "metadata": {},
   "source": [
    "## Round\n",
    "- https://docs.python.org/3/library/functions.html#round\n",
    "- Return number rounded to ndigits precision after the decimal point. If ndigits is omitted or is None, it returns the nearest integer to its input.\n",
    "- round(number, ndigits=None)"
   ]
  },
  {
   "cell_type": "code",
   "execution_count": 3,
   "id": "c1aa443e-82fb-46c1-bcd1-cea08dd76ebd",
   "metadata": {},
   "outputs": [
    {
     "data": {
      "text/plain": [
       "4"
      ]
     },
     "execution_count": 3,
     "metadata": {},
     "output_type": "execute_result"
    }
   ],
   "source": [
    "round(3.6)"
   ]
  },
  {
   "cell_type": "code",
   "execution_count": 5,
   "id": "68e00f27-f5f9-46cb-9b00-802142ae689f",
   "metadata": {},
   "outputs": [
    {
     "data": {
      "text/plain": [
       "3"
      ]
     },
     "execution_count": 5,
     "metadata": {},
     "output_type": "execute_result"
    }
   ],
   "source": [
    "round(3.2)"
   ]
  },
  {
   "cell_type": "code",
   "execution_count": 6,
   "id": "43557afa-9d34-4892-affa-8e0eccfcb01f",
   "metadata": {},
   "outputs": [
    {
     "data": {
      "text/plain": [
       "3.14"
      ]
     },
     "execution_count": 6,
     "metadata": {},
     "output_type": "execute_result"
    }
   ],
   "source": [
    "round(3.14159, 2)"
   ]
  },
  {
   "cell_type": "code",
   "execution_count": 7,
   "id": "75d02e16-012e-4332-befe-32b82ed4a7af",
   "metadata": {},
   "outputs": [
    {
     "data": {
      "text/plain": [
       "2.67"
      ]
     },
     "execution_count": 7,
     "metadata": {},
     "output_type": "execute_result"
    }
   ],
   "source": [
    "round(2.675,2)"
   ]
  },
  {
   "cell_type": "code",
   "execution_count": null,
   "id": "eb0222fa-63e7-4886-aadb-5cf2800cf07a",
   "metadata": {},
   "outputs": [],
   "source": []
  }
 ],
 "metadata": {
  "kernelspec": {
   "display_name": "Python 3 (ipykernel)",
   "language": "python",
   "name": "python3"
  },
  "language_info": {
   "codemirror_mode": {
    "name": "ipython",
    "version": 3
   },
   "file_extension": ".py",
   "mimetype": "text/x-python",
   "name": "python",
   "nbconvert_exporter": "python",
   "pygments_lexer": "ipython3",
   "version": "3.13.5"
  }
 },
 "nbformat": 4,
 "nbformat_minor": 5
}
