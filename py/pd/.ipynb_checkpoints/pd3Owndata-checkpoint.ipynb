{
 "cells": [
  {
   "cell_type": "markdown",
   "id": "2fff7969-aae7-4964-b4ed-8ea2abaa860b",
   "metadata": {},
   "source": [
    "# Python - Creating Own Data\n",
    "- create data inside python - list, dictionary, distribution etc\n",
    "- upload data from laptop - csv, excel, email attachment , etc\n",
    "- import data from web - git, kaggle,  url etc"
   ]
  },
  {
   "cell_type": "code",
   "execution_count": 2,
   "id": "1e034626-3dd4-443e-9eb0-5691861d0283",
   "metadata": {},
   "outputs": [],
   "source": [
    "import numpy as np\n",
    "import pandas as pd\n",
    "import random # create random values"
   ]
  },
  {
   "cell_type": "markdown",
   "id": "ef0a8e44-ae14-4983-913d-40dbb158ec5c",
   "metadata": {},
   "source": [
    "## Step-1 : Setup\n",
    "- Create data using various Python structures\n",
    "- ### 20 students - rollno, sname, gender, course, scores, age"
   ]
  },
  {
   "cell_type": "code",
   "execution_count": 4,
   "id": "97003200-a69e-483a-bac8-3974bb6e192c",
   "metadata": {},
   "outputs": [
    {
     "name": "stdout",
     "output_type": "stream",
     "text": [
      "<class 'list'> [1, 2, 3, 4, 5, 6, 7, 8, 9, 10, 11, 12, 13, 14, 15, 16, 17, 18, 19, 20]\n"
     ]
    }
   ],
   "source": [
    "# Rollnos - list\n",
    "rollno = list(range(1, 21))   # 20 students; 1 to 21-1\n",
    "print(type(rollno), rollno)"
   ]
  },
  {
   "cell_type": "code",
   "execution_count": 7,
   "id": "e9a27493-0d8e-430d-8d51-a65109620486",
   "metadata": {},
   "outputs": [
    {
     "name": "stdout",
     "output_type": "stream",
     "text": [
      "<class 'tuple'> ['Alice', 'Bob', 'Charlie', 'Diana', 'Ethan', 'Fiona', 'George', 'Hannah', 'Ian', 'Jasmine', 'Kevin', 'Lily', 'Mike', 'Nina', 'Oscar', 'Priya', 'Quinn', 'Raj', 'Sophia', 'Tom']\n"
     ]
    }
   ],
   "source": [
    "# Names - (tuple) - immutable, cannot change\n",
    "sname = ( \"Alice\", \"Bob\", \"Charlie\", \"Diana\", \"Ethan\",  \"Fiona\", \"George\", \"Hannah\", \"Ian\", \"Jasmine\", \\\n",
    "          \"Kevin\", \"Lily\", \"Mike\", \"Nina\", \"Oscar\",  \"Priya\", \"Quinn\", \"Raj\", \"Sophia\", \"Tom\")\n",
    "print(type(sname), list(sname))"
   ]
  },
  {
   "cell_type": "markdown",
   "id": "cebc9d2e-f4b5-4a04-9db1-02ca30037c87",
   "metadata": {},
   "source": [
    "# structure gets change by use of brackets and the combination\n",
    "- list [ ]\n",
    "- tuple ()\n",
    "- set { }\n",
    "- "
   ]
  },
  {
   "cell_type": "code",
   "execution_count": 18,
   "id": "11af3163-2c46-4471-b668-1a7412648610",
   "metadata": {},
   "outputs": [
    {
     "name": "stdout",
     "output_type": "stream",
     "text": [
      "['Female', 'Male', 'Male', 'Female', 'Female', 'Male', 'Male', 'Female', 'Female', 'Female', 'Male', 'Male', 'Male', 'Female', 'Male', 'Male', 'Male', 'Male', 'Male', 'Male']\n"
     ]
    }
   ],
   "source": [
    "# Gender - set {unique}\n",
    "genders_set = {\"Male\", \"Female\", 'Male', 'Female'}\n",
    "gender = [random.choice(list(genders_set)) for _ in rollno]   #create gender values- as size of rollno\n",
    "print(list(gender))"
   ]
  },
  {
   "cell_type": "code",
   "execution_count": 19,
   "id": "2143c581-aa77-409d-84d2-baf45578a6cf",
   "metadata": {},
   "outputs": [
    {
     "name": "stdout",
     "output_type": "stream",
     "text": [
      "Males - 13  Females -  7\n"
     ]
    }
   ],
   "source": [
    "print('Males -' , gender.count('Male'), ' Females - ' ,  gender.count('Female'))"
   ]
  },
  {
   "cell_type": "code",
   "execution_count": 22,
   "id": "65a9804c-6335-4389-b1e1-eb68eedec4e7",
   "metadata": {},
   "outputs": [
    {
     "data": {
      "text/plain": [
       "3"
      ]
     },
     "execution_count": 22,
     "metadata": {},
     "output_type": "execute_result"
    }
   ],
   "source": [
    "random.randint(1, 4) # random no between 1 and 4 incl"
   ]
  },
  {
   "cell_type": "code",
   "execution_count": 24,
   "id": "38bae2fb-ee31-45b6-a1da-f31a29f9d870",
   "metadata": {},
   "outputs": [
    {
     "name": "stdout",
     "output_type": "stream",
     "text": [
      "['DS', 'AI', 'IT', 'AI', 'CS', 'DS', 'AI', 'IT', 'IT', 'AI', 'DS', 'CS', 'CS', 'DS', 'DS', 'DS', 'DS', 'AI', 'IT', 'IT']\n"
     ]
    }
   ],
   "source": [
    "# Course - dictionary : {key:value} pair\n",
    "courses_dict = {1: \"CS\", 2: \"IT\", 3: \"AI\", 4: \"DS\"}  # mapping\n",
    "course = [courses_dict[random.randint(1, 4)] for _ in rollno]\n",
    "print(list(course))"
   ]
  },
  {
   "cell_type": "code",
   "execution_count": 45,
   "id": "f5346932-063e-41c0-a939-146aff213cd0",
   "metadata": {},
   "outputs": [
    {
     "name": "stdout",
     "output_type": "stream",
     "text": [
      " Values are -  [51.0512452  48.95481621 53.52146129 53.7954463  45.67337665]  Mean -  50.59926912928407  Std Dev - 3.030764919035252\n"
     ]
    }
   ],
   "source": [
    "x = np.random.normal(loc=50, scale=2, size=5)\n",
    "print(' Values are - ', x, ' Mean - ' , np.mean(x), ' Std Dev -', np.std(x))\n",
    "#normal(loc=0.0, scale=1.0, size=None)"
   ]
  },
  {
   "cell_type": "code",
   "execution_count": 46,
   "id": "73a5b90c-fff5-4c16-9477-8622a2424a77",
   "metadata": {},
   "outputs": [
    {
     "data": {
      "text/plain": [
       "array([69.96397815, 67.59044111, 64.92256395, 70.54003082, 76.86976485,\n",
       "       63.53789665, 75.15462776, 69.32170031, 67.24482797, 71.49424461,\n",
       "       78.71554461, 69.63958431, 53.86046011, 55.81434792, 76.14939673,\n",
       "       65.36319644, 58.90378816, 82.50329797, 67.73574902, 65.330479  ])"
      ]
     },
     "execution_count": 46,
     "metadata": {},
     "output_type": "execute_result"
    }
   ],
   "source": [
    "np.random.normal(70, 10, len(rollno))  #mean-70, std=10, nos=20"
   ]
  },
  {
   "cell_type": "code",
   "execution_count": 47,
   "id": "39671f48-7068-4291-887b-5a61d6a22a80",
   "metadata": {},
   "outputs": [
    {
     "name": "stdout",
     "output_type": "stream",
     "text": [
      "Object `np.clip(np.random.normal(70, 10, len(rollno)), 70, 80)` not found.\n"
     ]
    }
   ],
   "source": [
    "?np.clip(np.random.normal(70, 10, len(rollno)), 70, 80)\n",
    "#https://numpy.org/devdocs/reference/generated/numpy.clip.html"
   ]
  },
  {
   "cell_type": "code",
   "execution_count": 51,
   "id": "ddc974a3-02f6-4ae9-a154-545ebc5e8d00",
   "metadata": {},
   "outputs": [
    {
     "name": "stdout",
     "output_type": "stream",
     "text": [
      "[0 1 2 3 4 5 6 7 8 9]\n"
     ]
    },
    {
     "data": {
      "text/plain": [
       "array([2, 2, 2, 3, 4, 5, 6, 6, 6, 6])"
      ]
     },
     "execution_count": 51,
     "metadata": {},
     "output_type": "execute_result"
    }
   ],
   "source": [
    "a = np.arange(10)\n",
    "print(a) #array([0, 1, 2, 3, 4, 5, 6, 7, 8, 9])\n",
    "np.clip(a, 2, 6)"
   ]
  },
  {
   "cell_type": "code",
   "execution_count": 60,
   "id": "12597355-2d69-49c7-b542-166d78d54cb9",
   "metadata": {},
   "outputs": [
    {
     "name": "stdout",
     "output_type": "stream",
     "text": [
      "[75.9545731  75.85136813 85.72621912 89.53980509 65.70404466 67.70983458\n",
      " 79.93932077 66.43278226 50.47002432 41.8610656  56.67277182 83.97362842\n",
      " 75.2856472  67.20273604 73.32318143 75.40528698 78.00188975 88.73927311\n",
      " 54.58307042 67.29432773] ::: 70.98354252635238 12.443863515375547\n",
      "[75.9545731  75.85136813 85.72621912 89.53980509 65.70404466 67.70983458\n",
      " 79.93932077 66.43278226 50.47002432 50.         56.67277182 83.97362842\n",
      " 75.2856472  67.20273604 73.32318143 75.40528698 78.00188975 88.73927311\n",
      " 54.58307042 67.29432773]\n",
      "[75.95 75.85 85.73 89.54 65.7  67.71 79.94 66.43 50.47 50.   56.67 83.97\n",
      " 75.29 67.2  73.32 75.41 78.   88.74 54.58 67.29]\n"
     ]
    },
    {
     "data": {
      "text/plain": [
       "array([75.95, 75.85, 85.73, 89.54, 65.7 , 67.71, 79.94, 66.43, 50.47,\n",
       "       50.  , 56.67, 83.97, 75.29, 67.2 , 73.32, 75.41, 78.  , 88.74,\n",
       "       54.58, 67.29])"
      ]
     },
     "execution_count": 60,
     "metadata": {},
     "output_type": "execute_result"
    }
   ],
   "source": [
    "# Scores - random normal\n",
    "# Normally distributed around mean=70, std=10, clipped to 40–100\n",
    "#score = np.clip(np.random.normal(70, 10, len(rollno)), 45, 95).round(1)\n",
    "score = np.random.normal(70, 15, len(rollno))\n",
    "print(score, ':::', np.mean(score), np.std(score))\n",
    "score = np.clip(score, 50, 95)\n",
    "print(score)\n",
    "score = score.round(2)\n",
    "print(score)\n",
    "score"
   ]
  },
  {
   "cell_type": "code",
   "execution_count": 71,
   "id": "bc4237db-c77d-4f64-9953-ae53b5b6d01a",
   "metadata": {},
   "outputs": [
    {
     "data": {
      "text/plain": [
       "array([25, 19, 26, 26, 30, 21, 22, 21, 22, 30, 22, 23, 20, 20, 30, 19, 29,\n",
       "       25, 19, 29])"
      ]
     },
     "execution_count": 71,
     "metadata": {},
     "output_type": "execute_result"
    }
   ],
   "source": [
    "# Age - random, integer\n",
    "age = np.random.randint(19, 31, size=len(rollno)) # 19 to 30\n",
    "age"
   ]
  },
  {
   "cell_type": "code",
   "execution_count": 73,
   "id": "969113da-7203-46e2-9e78-4182656a703d",
   "metadata": {},
   "outputs": [],
   "source": [
    "#?np.random.randint"
   ]
  },
  {
   "cell_type": "code",
   "execution_count": 76,
   "id": "8f4615f6-6588-479b-8cc6-7b77627293e0",
   "metadata": {},
   "outputs": [
    {
     "name": "stdout",
     "output_type": "stream",
     "text": [
      "[1, 2, 3, 4, 5, 6, 7, 8, 9, 10, 11, 12, 13, 14, 15, 16, 17, 18, 19, 20] \n",
      " ('Alice', 'Bob', 'Charlie', 'Diana', 'Ethan', 'Fiona', 'George', 'Hannah', 'Ian', 'Jasmine', 'Kevin', 'Lily', 'Mike', 'Nina', 'Oscar', 'Priya', 'Quinn', 'Raj', 'Sophia', 'Tom') \n",
      " ['Female', 'Male', 'Male', 'Female', 'Female', 'Male', 'Male', 'Female', 'Female', 'Female', 'Male', 'Male', 'Male', 'Female', 'Male', 'Male', 'Male', 'Male', 'Male', 'Male'] \n",
      " ['DS', 'AI', 'IT', 'AI', 'CS', 'DS', 'AI', 'IT', 'IT', 'AI', 'DS', 'CS', 'CS', 'DS', 'DS', 'DS', 'DS', 'AI', 'IT', 'IT'] \n",
      " [75.95 75.85 85.73 89.54 65.7  67.71 79.94 66.43 50.47 50.   56.67 83.97\n",
      " 75.29 67.2  73.32 75.41 78.   88.74 54.58 67.29] \n",
      " [25 19 26 26 30 21 22 21 22 30 22 23 20 20 30 19 29 25 19 29]\n"
     ]
    }
   ],
   "source": [
    "print(rollno, '\\n', sname,'\\n', gender, '\\n', course, '\\n', score,'\\n', age)\n",
    "#create columns of Data Frame"
   ]
  },
  {
   "cell_type": "markdown",
   "id": "95707aaf-5258-492b-90cb-e9c5f3e487f4",
   "metadata": {},
   "source": [
    "## Step - 2 : Data Frame\n",
    "- rows and columns\n",
    "- Columns - variable names, Rows- data for each student\n",
    "- Join Columns to Data Frame\n",
    "- 20 Students Data\n",
    "- Dictionary : key:value\n",
    "- pd.DataFrame({ 'key1':values1, 'key2';values})"
   ]
  },
  {
   "cell_type": "code",
   "execution_count": 81,
   "id": "bc2e6278-3e7e-4562-827a-398f2ad8ce06",
   "metadata": {},
   "outputs": [
    {
     "data": {
      "text/html": [
       "<div>\n",
       "<style scoped>\n",
       "    .dataframe tbody tr th:only-of-type {\n",
       "        vertical-align: middle;\n",
       "    }\n",
       "\n",
       "    .dataframe tbody tr th {\n",
       "        vertical-align: top;\n",
       "    }\n",
       "\n",
       "    .dataframe thead th {\n",
       "        text-align: right;\n",
       "    }\n",
       "</style>\n",
       "<table border=\"1\" class=\"dataframe\">\n",
       "  <thead>\n",
       "    <tr style=\"text-align: right;\">\n",
       "      <th></th>\n",
       "      <th>rollno</th>\n",
       "      <th>sname</th>\n",
       "      <th>gender</th>\n",
       "      <th>course</th>\n",
       "      <th>score</th>\n",
       "      <th>age</th>\n",
       "    </tr>\n",
       "  </thead>\n",
       "  <tbody>\n",
       "    <tr>\n",
       "      <th>0</th>\n",
       "      <td>1</td>\n",
       "      <td>Alice</td>\n",
       "      <td>Female</td>\n",
       "      <td>DS</td>\n",
       "      <td>75.95</td>\n",
       "      <td>25</td>\n",
       "    </tr>\n",
       "    <tr>\n",
       "      <th>1</th>\n",
       "      <td>2</td>\n",
       "      <td>Bob</td>\n",
       "      <td>Male</td>\n",
       "      <td>AI</td>\n",
       "      <td>75.85</td>\n",
       "      <td>19</td>\n",
       "    </tr>\n",
       "  </tbody>\n",
       "</table>\n",
       "</div>"
      ],
      "text/plain": [
       "   rollno  sname  gender course  score  age\n",
       "0       1  Alice  Female     DS  75.95   25\n",
       "1       2    Bob    Male     AI  75.85   19"
      ]
     },
     "execution_count": 81,
     "metadata": {},
     "output_type": "execute_result"
    }
   ],
   "source": [
    "df = pd.DataFrame({  \"rollno\": rollno,  \"sname\": sname,  \"gender\": gender, \"course\": course,  \"score\": score, \"age\": age})\n",
    "df.head(2)"
   ]
  },
  {
   "cell_type": "code",
   "execution_count": 82,
   "id": "35182b39-e530-44df-9f3e-3f45c520db3f",
   "metadata": {},
   "outputs": [
    {
     "data": {
      "text/html": [
       "<div>\n",
       "<style scoped>\n",
       "    .dataframe tbody tr th:only-of-type {\n",
       "        vertical-align: middle;\n",
       "    }\n",
       "\n",
       "    .dataframe tbody tr th {\n",
       "        vertical-align: top;\n",
       "    }\n",
       "\n",
       "    .dataframe thead th {\n",
       "        text-align: right;\n",
       "    }\n",
       "</style>\n",
       "<table border=\"1\" class=\"dataframe\">\n",
       "  <thead>\n",
       "    <tr style=\"text-align: right;\">\n",
       "      <th></th>\n",
       "      <th>rollno</th>\n",
       "      <th>sname</th>\n",
       "      <th>gender</th>\n",
       "      <th>course</th>\n",
       "      <th>score</th>\n",
       "      <th>age</th>\n",
       "    </tr>\n",
       "  </thead>\n",
       "  <tbody>\n",
       "    <tr>\n",
       "      <th>18</th>\n",
       "      <td>19</td>\n",
       "      <td>Sophia</td>\n",
       "      <td>Male</td>\n",
       "      <td>IT</td>\n",
       "      <td>54.58</td>\n",
       "      <td>19</td>\n",
       "    </tr>\n",
       "    <tr>\n",
       "      <th>19</th>\n",
       "      <td>20</td>\n",
       "      <td>Tom</td>\n",
       "      <td>Male</td>\n",
       "      <td>IT</td>\n",
       "      <td>67.29</td>\n",
       "      <td>29</td>\n",
       "    </tr>\n",
       "  </tbody>\n",
       "</table>\n",
       "</div>"
      ],
      "text/plain": [
       "    rollno   sname gender course  score  age\n",
       "18      19  Sophia   Male     IT  54.58   19\n",
       "19      20     Tom   Male     IT  67.29   29"
      ]
     },
     "execution_count": 82,
     "metadata": {},
     "output_type": "execute_result"
    }
   ],
   "source": [
    "df.tail(2)"
   ]
  },
  {
   "cell_type": "code",
   "execution_count": 83,
   "id": "499053e6-1177-4bd1-a7b0-9ed2b30381cf",
   "metadata": {},
   "outputs": [
    {
     "data": {
      "text/plain": [
       "(20, 6)"
      ]
     },
     "execution_count": 83,
     "metadata": {},
     "output_type": "execute_result"
    }
   ],
   "source": [
    "df.shape"
   ]
  },
  {
   "cell_type": "markdown",
   "id": "289373f9-5a50-4493-b577-b5dcb0c44633",
   "metadata": {},
   "source": [
    "## Larger DF \n",
    "- install faker for snames : pip install faker\n",
    "- https://pypi.org/project/Faker/"
   ]
  },
  {
   "cell_type": "code",
   "execution_count": 84,
   "id": "fdc1c9e6-45b5-4f6b-8118-0d2f330c0ba7",
   "metadata": {},
   "outputs": [],
   "source": [
    "#pip install faker"
   ]
  },
  {
   "cell_type": "code",
   "execution_count": 85,
   "id": "f03b3398-b54a-496a-837a-ddadc6edc63e",
   "metadata": {},
   "outputs": [],
   "source": [
    "import pandas as pd\n",
    "import numpy as np\n",
    "import random\n",
    "from faker import Faker"
   ]
  },
  {
   "cell_type": "code",
   "execution_count": 86,
   "id": "4aad3185-34df-48a7-8b7b-68621c45384e",
   "metadata": {},
   "outputs": [],
   "source": [
    "# n - no of students\n",
    "n=1000\n",
    "fake = Faker()"
   ]
  },
  {
   "cell_type": "code",
   "execution_count": 94,
   "id": "99ac99ef-9eec-415e-a884-5b465853be5a",
   "metadata": {},
   "outputs": [
    {
     "name": "stdout",
     "output_type": "stream",
     "text": [
      "Cynthia Castaneda\n",
      "755 Megan Extension Apt. 740\n",
      "Moyerstad, ND 95701\n",
      "amber21@example.com\n",
      "1927-02-06\n"
     ]
    }
   ],
   "source": [
    "print(fake.name())\n",
    "print(fake.address())\n",
    "print(fake.email())\n",
    "print(fake.date_of_birth())"
   ]
  },
  {
   "cell_type": "code",
   "execution_count": 90,
   "id": "f860a7d5-3ef3-4a6f-a919-850a850ded33",
   "metadata": {},
   "outputs": [
    {
     "name": "stdout",
     "output_type": "stream",
     "text": [
      "('Jeremy Ross', 'Brad Meyer', 'Roberta Kelley', 'Michael Stevenson', 'Mark Mendoza', 'Krista Wood', 'Mark Howard', 'Michael Parker', 'Sheri Riddle', 'Joseph Knox', 'Julia Jones', 'James Kelly', 'Frank Christian', 'Alexander Lin', 'Tyler Kelly', 'Jonathan Brown', 'Rebecca Greer MD', 'Glen Li', 'Mary Garcia', 'Stephanie Hayes')\n"
     ]
    }
   ],
   "source": [
    "print(tuple(fake.name() for _ in rollno[0:20]))"
   ]
  },
  {
   "cell_type": "code",
   "execution_count": 97,
   "id": "927e5b6f-9a3b-4402-aa61-b111c30a225d",
   "metadata": {},
   "outputs": [],
   "source": [
    "n=1001\n",
    "rollno = list(range(1, n))\n",
    "sname = tuple(fake.name() for _ in rollno)\n",
    "genders_set = {\"Male\", \"Female\"}\n",
    "gender = [random.choice(list(genders_set)) for _ in rollno]\n",
    "courses_dict = {1: \"CS\", 2: \"IT\", 3: \"AI\", 4: \"DS\"}\n",
    "course = [courses_dict[random.randint(1, 4)] for _ in rollno]\n",
    "score = np.clip(np.random.normal(70, 10, len(rollno)), 40, 100).round(1)\n",
    "age = np.random.randint(18, 25, size=len(rollno))"
   ]
  },
  {
   "cell_type": "code",
   "execution_count": 98,
   "id": "8fc59e2f-f77e-408a-951a-c1f3b94850f7",
   "metadata": {},
   "outputs": [
    {
     "data": {
      "text/plain": [
       "(1000, 6)"
      ]
     },
     "execution_count": 98,
     "metadata": {},
     "output_type": "execute_result"
    }
   ],
   "source": [
    "df2 = pd.DataFrame({    \"rollno\": rollno,    \"sname\": sname,    \"gender\": gender,    \"course\": course,    \"score\": score,    \"age\": age})\n",
    "df2.shape"
   ]
  },
  {
   "cell_type": "code",
   "execution_count": 99,
   "id": "f1ee780a-d305-41df-a77c-d644fce5ca1c",
   "metadata": {},
   "outputs": [
    {
     "data": {
      "text/html": [
       "<div>\n",
       "<style scoped>\n",
       "    .dataframe tbody tr th:only-of-type {\n",
       "        vertical-align: middle;\n",
       "    }\n",
       "\n",
       "    .dataframe tbody tr th {\n",
       "        vertical-align: top;\n",
       "    }\n",
       "\n",
       "    .dataframe thead th {\n",
       "        text-align: right;\n",
       "    }\n",
       "</style>\n",
       "<table border=\"1\" class=\"dataframe\">\n",
       "  <thead>\n",
       "    <tr style=\"text-align: right;\">\n",
       "      <th></th>\n",
       "      <th>rollno</th>\n",
       "      <th>sname</th>\n",
       "      <th>gender</th>\n",
       "      <th>course</th>\n",
       "      <th>score</th>\n",
       "      <th>age</th>\n",
       "    </tr>\n",
       "  </thead>\n",
       "  <tbody>\n",
       "    <tr>\n",
       "      <th>0</th>\n",
       "      <td>1</td>\n",
       "      <td>Jennifer Gordon</td>\n",
       "      <td>Female</td>\n",
       "      <td>AI</td>\n",
       "      <td>93.2</td>\n",
       "      <td>22</td>\n",
       "    </tr>\n",
       "    <tr>\n",
       "      <th>1</th>\n",
       "      <td>2</td>\n",
       "      <td>Amanda Lopez</td>\n",
       "      <td>Male</td>\n",
       "      <td>CS</td>\n",
       "      <td>77.3</td>\n",
       "      <td>24</td>\n",
       "    </tr>\n",
       "    <tr>\n",
       "      <th>2</th>\n",
       "      <td>3</td>\n",
       "      <td>Tina Newton</td>\n",
       "      <td>Female</td>\n",
       "      <td>CS</td>\n",
       "      <td>61.6</td>\n",
       "      <td>22</td>\n",
       "    </tr>\n",
       "    <tr>\n",
       "      <th>3</th>\n",
       "      <td>4</td>\n",
       "      <td>Alexis Miller</td>\n",
       "      <td>Male</td>\n",
       "      <td>CS</td>\n",
       "      <td>68.1</td>\n",
       "      <td>19</td>\n",
       "    </tr>\n",
       "    <tr>\n",
       "      <th>4</th>\n",
       "      <td>5</td>\n",
       "      <td>Rose Johnson DVM</td>\n",
       "      <td>Male</td>\n",
       "      <td>DS</td>\n",
       "      <td>68.5</td>\n",
       "      <td>22</td>\n",
       "    </tr>\n",
       "  </tbody>\n",
       "</table>\n",
       "</div>"
      ],
      "text/plain": [
       "   rollno             sname  gender course  score  age\n",
       "0       1   Jennifer Gordon  Female     AI   93.2   22\n",
       "1       2      Amanda Lopez    Male     CS   77.3   24\n",
       "2       3       Tina Newton  Female     CS   61.6   22\n",
       "3       4     Alexis Miller    Male     CS   68.1   19\n",
       "4       5  Rose Johnson DVM    Male     DS   68.5   22"
      ]
     },
     "execution_count": 99,
     "metadata": {},
     "output_type": "execute_result"
    }
   ],
   "source": [
    "df2.head()"
   ]
  },
  {
   "cell_type": "code",
   "execution_count": 102,
   "id": "51d23124-71c5-4a46-999c-7af565ae8a36",
   "metadata": {},
   "outputs": [],
   "source": [
    "#df2.to_csv('../../data/student160825.csv', index=False)\n",
    "#f2.to_csv('C:/analytics/data/student160825.csv', index=False)\n",
    "# the folder and file should be correct"
   ]
  },
  {
   "cell_type": "markdown",
   "id": "9eabe8d1-b6ff-45df-88bc-a24377880191",
   "metadata": {},
   "source": [
    "## Own Data\n",
    "- Synthetic \n",
    "- Simulate\n",
    "- Same value "
   ]
  },
  {
   "cell_type": "markdown",
   "id": "ff847686-f7c8-4cd4-b648-434bdad2ef72",
   "metadata": {},
   "source": [
    "## Data from CSV\n",
    "### file in laptop\n",
    "- download from : https://catalog.data.gov/dataset/real-estate-sales-2001-2018  (125 MB)\n",
    "    - listing of all real estate sales with a sales price of $2,000 or greater that occur between October 1 and September 30 of each year. For each sale record, the file includes: town, property address, date of sale, property type (residential, apartment, commercial, industrial or vacant land), sales price, and property assessment. \n",
    "- IMF : https://data.imf.org/en/datasets/IMF.STA:QGDP_WCA  (187 KB)\n",
    "    - This dataset provides a snapshot of the economic activity of the world and selected country aggregates on a quarterly basis. It offers quarterly measurements of Gross Domestic Product (GDP). Quarterly estimates are disseminated on a seasonally adjusted basis.\n",
    "- Country and capitals; https://ec.europa.eu/eurostat/statistics-explained/images/9/9f/Country_Codes_and_Names.xlsx   (XL)\n",
    "- max size of excel  the maximum number of rows is 1,048,576 and the maximum number of columns is 16,384 (XFD)\n",
    "## Online files\n",
    "- https://raw.githubusercontent.com/DUanalytics/datasets/refs/heads/master/csv/global_world_indicators_2000.csv'"
   ]
  },
  {
   "cell_type": "code",
   "execution_count": 106,
   "id": "bb1bbb10-5caf-42fd-95f8-80a5c8205d3d",
   "metadata": {},
   "outputs": [
    {
     "name": "stdout",
     "output_type": "stream",
     "text": [
      "/Users/du/dup/analytics/data/Real_Estate_Sales_2001-2023_GL.csv \n",
      " /Users/du/dup/analytics/data/dataset_2025-08-16T11_40_29.251665198Z_DEFAULT_INTEGRATION_IMF.STA_QGDP_WCA_3.0.0.csv \n",
      " /Users/du/dup/analytics/data/Country_Codes_and_Names.xlsx\n"
     ]
    }
   ],
   "source": [
    "f1='Real_Estate_Sales_2001-2023_GL.csv'\n",
    "f2='dataset_2025-08-16T11_40_29.251665198Z_DEFAULT_INTEGRATION_IMF.STA_QGDP_WCA_3.0.0.csv'\n",
    "f3 ='Country_Codes_and_Names.xlsx'\n",
    "FOLDER ='/Users/du/dup/analytics/data/' #outside git hub : C:/analytics/data\n",
    "file1 = FOLDER + f1\n",
    "file2 = FOLDER + f2\n",
    "file3 = FOLDER + f3\n",
    "file3 ='/Users/du/dup/analytics/data/Country_Codes_and_Names.xlsx'\n",
    "print(file1,'\\n', file2, '\\n', file3)"
   ]
  },
  {
   "cell_type": "code",
   "execution_count": 105,
   "id": "f5c4ea6e-067b-42d4-98e1-e892acc3603f",
   "metadata": {},
   "outputs": [
    {
     "name": "stderr",
     "output_type": "stream",
     "text": [
      "/var/folders/z4/8qd93wx14xz1c9qfb_z969wc0000gn/T/ipykernel_10629/223922560.py:1: DtypeWarning: Columns (7,8,9,10,11,12) have mixed types. Specify dtype option on import or set low_memory=False.\n",
      "  df_f1 = pd.read_csv(file1)\n"
     ]
    },
    {
     "data": {
      "text/plain": [
       "(1141722, 14)"
      ]
     },
     "execution_count": 105,
     "metadata": {},
     "output_type": "execute_result"
    }
   ],
   "source": [
    "df_f1 = pd.read_csv(file1)\n",
    "df_f1.shape"
   ]
  },
  {
   "cell_type": "code",
   "execution_count": 107,
   "id": "6891add9-605c-4cec-979a-23960895b6e8",
   "metadata": {},
   "outputs": [
    {
     "data": {
      "text/html": [
       "<div>\n",
       "<style scoped>\n",
       "    .dataframe tbody tr th:only-of-type {\n",
       "        vertical-align: middle;\n",
       "    }\n",
       "\n",
       "    .dataframe tbody tr th {\n",
       "        vertical-align: top;\n",
       "    }\n",
       "\n",
       "    .dataframe thead th {\n",
       "        text-align: right;\n",
       "    }\n",
       "</style>\n",
       "<table border=\"1\" class=\"dataframe\">\n",
       "  <thead>\n",
       "    <tr style=\"text-align: right;\">\n",
       "      <th></th>\n",
       "      <th>Serial Number</th>\n",
       "      <th>List Year</th>\n",
       "      <th>Date Recorded</th>\n",
       "      <th>Town</th>\n",
       "      <th>Address</th>\n",
       "      <th>Assessed Value</th>\n",
       "      <th>Sale Amount</th>\n",
       "      <th>Sales Ratio</th>\n",
       "      <th>Property Type</th>\n",
       "      <th>Residential Type</th>\n",
       "      <th>Non Use Code</th>\n",
       "      <th>Assessor Remarks</th>\n",
       "      <th>OPM remarks</th>\n",
       "      <th>Location</th>\n",
       "    </tr>\n",
       "  </thead>\n",
       "  <tbody>\n",
       "    <tr>\n",
       "      <th>0</th>\n",
       "      <td>2020177</td>\n",
       "      <td>2020</td>\n",
       "      <td>04/14/2021</td>\n",
       "      <td>Ansonia</td>\n",
       "      <td>323 BEAVER ST</td>\n",
       "      <td>133000.0</td>\n",
       "      <td>248400.0</td>\n",
       "      <td>0.5354</td>\n",
       "      <td>Residential</td>\n",
       "      <td>Single Family</td>\n",
       "      <td>NaN</td>\n",
       "      <td>NaN</td>\n",
       "      <td>NaN</td>\n",
       "      <td>POINT (-73.06822 41.35014)</td>\n",
       "    </tr>\n",
       "    <tr>\n",
       "      <th>1</th>\n",
       "      <td>2020225</td>\n",
       "      <td>2020</td>\n",
       "      <td>05/26/2021</td>\n",
       "      <td>Ansonia</td>\n",
       "      <td>152 JACKSON ST</td>\n",
       "      <td>110500.0</td>\n",
       "      <td>239900.0</td>\n",
       "      <td>0.4606</td>\n",
       "      <td>Residential</td>\n",
       "      <td>Three Family</td>\n",
       "      <td>NaN</td>\n",
       "      <td>NaN</td>\n",
       "      <td>NaN</td>\n",
       "      <td>NaN</td>\n",
       "    </tr>\n",
       "  </tbody>\n",
       "</table>\n",
       "</div>"
      ],
      "text/plain": [
       "   Serial Number  List Year Date Recorded     Town         Address  \\\n",
       "0        2020177       2020    04/14/2021  Ansonia   323 BEAVER ST   \n",
       "1        2020225       2020    05/26/2021  Ansonia  152 JACKSON ST   \n",
       "\n",
       "   Assessed Value  Sale Amount Sales Ratio Property Type Residential Type  \\\n",
       "0        133000.0     248400.0      0.5354   Residential    Single Family   \n",
       "1        110500.0     239900.0      0.4606   Residential     Three Family   \n",
       "\n",
       "  Non Use Code Assessor Remarks OPM remarks                    Location  \n",
       "0          NaN              NaN         NaN  POINT (-73.06822 41.35014)  \n",
       "1          NaN              NaN         NaN                         NaN  "
      ]
     },
     "execution_count": 107,
     "metadata": {},
     "output_type": "execute_result"
    }
   ],
   "source": [
    "df_f1.head(2)"
   ]
  },
  {
   "cell_type": "code",
   "execution_count": 108,
   "id": "f7830fb3-7f00-4ea5-b4f3-87f4c6c53a3a",
   "metadata": {},
   "outputs": [
    {
     "data": {
      "text/plain": [
       "(60, 98)"
      ]
     },
     "execution_count": 108,
     "metadata": {},
     "output_type": "execute_result"
    }
   ],
   "source": [
    "df_f2 = pd.read_csv(file2)\n",
    "df_f2.shape"
   ]
  },
  {
   "cell_type": "code",
   "execution_count": 109,
   "id": "7da9426e-5202-4a62-8659-e4dc48a2badd",
   "metadata": {},
   "outputs": [
    {
     "data": {
      "text/html": [
       "<div>\n",
       "<style scoped>\n",
       "    .dataframe tbody tr th:only-of-type {\n",
       "        vertical-align: middle;\n",
       "    }\n",
       "\n",
       "    .dataframe tbody tr th {\n",
       "        vertical-align: top;\n",
       "    }\n",
       "\n",
       "    .dataframe thead th {\n",
       "        text-align: right;\n",
       "    }\n",
       "</style>\n",
       "<table border=\"1\" class=\"dataframe\">\n",
       "  <thead>\n",
       "    <tr style=\"text-align: right;\">\n",
       "      <th></th>\n",
       "      <th>DATASET</th>\n",
       "      <th>SERIES_CODE</th>\n",
       "      <th>OBS_MEASURE</th>\n",
       "      <th>COUNTRY</th>\n",
       "      <th>INDICATOR</th>\n",
       "      <th>TYPE_OF_TRANSFORMATION</th>\n",
       "      <th>FREQUENCY</th>\n",
       "      <th>SCALE</th>\n",
       "      <th>PRECISION</th>\n",
       "      <th>DECIMALS_DISPLAYED</th>\n",
       "      <th>...</th>\n",
       "      <th>2022-Q4</th>\n",
       "      <th>2023-Q1</th>\n",
       "      <th>2023-Q2</th>\n",
       "      <th>2023-Q3</th>\n",
       "      <th>2023-Q4</th>\n",
       "      <th>2024-Q1</th>\n",
       "      <th>2024-Q2</th>\n",
       "      <th>2024-Q3</th>\n",
       "      <th>2024-Q4</th>\n",
       "      <th>2025-Q1</th>\n",
       "    </tr>\n",
       "  </thead>\n",
       "  <tbody>\n",
       "    <tr>\n",
       "      <th>0</th>\n",
       "      <td>IMF.STA:QGDP_WCA(3.0.0)</td>\n",
       "      <td>G001.B1GQ_S1.POP_PCH_PT.Q</td>\n",
       "      <td>OBS_VALUE</td>\n",
       "      <td>World</td>\n",
       "      <td>Gross domestic product (GDP), Total economy</td>\n",
       "      <td>Period-over-preceding period percent change, P...</td>\n",
       "      <td>Quarterly</td>\n",
       "      <td>NaN</td>\n",
       "      <td>NaN</td>\n",
       "      <td>NaN</td>\n",
       "      <td>...</td>\n",
       "      <td>0.970324</td>\n",
       "      <td>0.892833</td>\n",
       "      <td>0.464511</td>\n",
       "      <td>0.962598</td>\n",
       "      <td>0.706613</td>\n",
       "      <td>0.777499</td>\n",
       "      <td>0.246007</td>\n",
       "      <td>0.149742</td>\n",
       "      <td>0.550311</td>\n",
       "      <td>1.879711</td>\n",
       "    </tr>\n",
       "    <tr>\n",
       "      <th>1</th>\n",
       "      <td>IMF.STA:QGDP_WCA(3.0.0)</td>\n",
       "      <td>U142.B1GQ_S1_Q.POP_PCH_PT.Q</td>\n",
       "      <td>OBS_VALUE</td>\n",
       "      <td>Asia</td>\n",
       "      <td>Gross domestic product (GDP), Total economy, C...</td>\n",
       "      <td>Period-over-preceding period percent change, P...</td>\n",
       "      <td>Quarterly</td>\n",
       "      <td>NaN</td>\n",
       "      <td>NaN</td>\n",
       "      <td>NaN</td>\n",
       "      <td>...</td>\n",
       "      <td>0.678801</td>\n",
       "      <td>1.386797</td>\n",
       "      <td>1.416312</td>\n",
       "      <td>1.064424</td>\n",
       "      <td>0.900656</td>\n",
       "      <td>1.162146</td>\n",
       "      <td>0.926886</td>\n",
       "      <td>1.132581</td>\n",
       "      <td>1.364676</td>\n",
       "      <td>1.141001</td>\n",
       "    </tr>\n",
       "  </tbody>\n",
       "</table>\n",
       "<p>2 rows × 98 columns</p>\n",
       "</div>"
      ],
      "text/plain": [
       "                   DATASET                  SERIES_CODE OBS_MEASURE COUNTRY  \\\n",
       "0  IMF.STA:QGDP_WCA(3.0.0)    G001.B1GQ_S1.POP_PCH_PT.Q   OBS_VALUE   World   \n",
       "1  IMF.STA:QGDP_WCA(3.0.0)  U142.B1GQ_S1_Q.POP_PCH_PT.Q   OBS_VALUE    Asia   \n",
       "\n",
       "                                           INDICATOR  \\\n",
       "0        Gross domestic product (GDP), Total economy   \n",
       "1  Gross domestic product (GDP), Total economy, C...   \n",
       "\n",
       "                              TYPE_OF_TRANSFORMATION  FREQUENCY  SCALE  \\\n",
       "0  Period-over-preceding period percent change, P...  Quarterly    NaN   \n",
       "1  Period-over-preceding period percent change, P...  Quarterly    NaN   \n",
       "\n",
       "   PRECISION  DECIMALS_DISPLAYED  ...   2022-Q4   2023-Q1   2023-Q2   2023-Q3  \\\n",
       "0        NaN                 NaN  ...  0.970324  0.892833  0.464511  0.962598   \n",
       "1        NaN                 NaN  ...  0.678801  1.386797  1.416312  1.064424   \n",
       "\n",
       "    2023-Q4   2024-Q1   2024-Q2   2024-Q3   2024-Q4   2025-Q1  \n",
       "0  0.706613  0.777499  0.246007  0.149742  0.550311  1.879711  \n",
       "1  0.900656  1.162146  0.926886  1.132581  1.364676  1.141001  \n",
       "\n",
       "[2 rows x 98 columns]"
      ]
     },
     "execution_count": 109,
     "metadata": {},
     "output_type": "execute_result"
    }
   ],
   "source": [
    "df_f2.head(2)"
   ]
  },
  {
   "cell_type": "code",
   "execution_count": 110,
   "id": "e9441649-2497-47b0-a0b7-7631398bdb84",
   "metadata": {},
   "outputs": [
    {
     "data": {
      "text/html": [
       "<div>\n",
       "<style scoped>\n",
       "    .dataframe tbody tr th:only-of-type {\n",
       "        vertical-align: middle;\n",
       "    }\n",
       "\n",
       "    .dataframe tbody tr th {\n",
       "        vertical-align: top;\n",
       "    }\n",
       "\n",
       "    .dataframe thead th {\n",
       "        text-align: right;\n",
       "    }\n",
       "</style>\n",
       "<table border=\"1\" class=\"dataframe\">\n",
       "  <thead>\n",
       "    <tr style=\"text-align: right;\">\n",
       "      <th></th>\n",
       "      <th>AREA</th>\n",
       "      <th>CODE</th>\n",
       "      <th>COUNTRY NAME</th>\n",
       "    </tr>\n",
       "  </thead>\n",
       "  <tbody>\n",
       "    <tr>\n",
       "      <th>0</th>\n",
       "      <td>European Union (EU)</td>\n",
       "      <td>EU-28</td>\n",
       "      <td>European Union (28 countries)</td>\n",
       "    </tr>\n",
       "    <tr>\n",
       "      <th>1</th>\n",
       "      <td>European Union (EU)</td>\n",
       "      <td>BE</td>\n",
       "      <td>Belgium</td>\n",
       "    </tr>\n",
       "    <tr>\n",
       "      <th>2</th>\n",
       "      <td>European Union (EU)</td>\n",
       "      <td>BG</td>\n",
       "      <td>Bulgaria</td>\n",
       "    </tr>\n",
       "    <tr>\n",
       "      <th>3</th>\n",
       "      <td>European Union (EU)</td>\n",
       "      <td>CZ</td>\n",
       "      <td>Czech Republic</td>\n",
       "    </tr>\n",
       "  </tbody>\n",
       "</table>\n",
       "</div>"
      ],
      "text/plain": [
       "                  AREA    CODE                   COUNTRY NAME\n",
       "0  European Union (EU)  EU-28   European Union (28 countries)\n",
       "1  European Union (EU)     BE                         Belgium\n",
       "2  European Union (EU)     BG                        Bulgaria\n",
       "3  European Union (EU)     CZ                  Czech Republic"
      ]
     },
     "execution_count": 110,
     "metadata": {},
     "output_type": "execute_result"
    }
   ],
   "source": [
    "pd.read_excel(file3).head(4)"
   ]
  },
  {
   "cell_type": "code",
   "execution_count": 115,
   "id": "ff45a67d-b519-484c-b313-464965a04864",
   "metadata": {},
   "outputs": [
    {
     "data": {
      "text/html": [
       "<div>\n",
       "<style scoped>\n",
       "    .dataframe tbody tr th:only-of-type {\n",
       "        vertical-align: middle;\n",
       "    }\n",
       "\n",
       "    .dataframe tbody tr th {\n",
       "        vertical-align: top;\n",
       "    }\n",
       "\n",
       "    .dataframe thead th {\n",
       "        text-align: right;\n",
       "    }\n",
       "</style>\n",
       "<table border=\"1\" class=\"dataframe\">\n",
       "  <thead>\n",
       "    <tr style=\"text-align: right;\">\n",
       "      <th></th>\n",
       "      <th>AREA</th>\n",
       "      <th>CODE</th>\n",
       "      <th>COUNTRY NAME</th>\n",
       "    </tr>\n",
       "  </thead>\n",
       "  <tbody>\n",
       "    <tr>\n",
       "      <th>0</th>\n",
       "      <td>European Union (EU)</td>\n",
       "      <td>BE</td>\n",
       "      <td>Belgium</td>\n",
       "    </tr>\n",
       "    <tr>\n",
       "      <th>1</th>\n",
       "      <td>European Union (EU)</td>\n",
       "      <td>BG</td>\n",
       "      <td>Bulgaria</td>\n",
       "    </tr>\n",
       "    <tr>\n",
       "      <th>2</th>\n",
       "      <td>European Union (EU)</td>\n",
       "      <td>CZ</td>\n",
       "      <td>Czech Republic</td>\n",
       "    </tr>\n",
       "    <tr>\n",
       "      <th>3</th>\n",
       "      <td>European Union (EU)</td>\n",
       "      <td>DK</td>\n",
       "      <td>Denmark</td>\n",
       "    </tr>\n",
       "    <tr>\n",
       "      <th>4</th>\n",
       "      <td>European Union (EU)</td>\n",
       "      <td>DE</td>\n",
       "      <td>Germany (including former GDR from 1991)</td>\n",
       "    </tr>\n",
       "  </tbody>\n",
       "</table>\n",
       "</div>"
      ],
      "text/plain": [
       "                  AREA CODE                              COUNTRY NAME\n",
       "0  European Union (EU)  BE                                    Belgium\n",
       "1  European Union (EU)  BG                                   Bulgaria\n",
       "2  European Union (EU)  CZ                             Czech Republic\n",
       "3  European Union (EU)  DK                                    Denmark\n",
       "4  European Union (EU)  DE   Germany (including former GDR from 1991)"
      ]
     },
     "execution_count": 115,
     "metadata": {},
     "output_type": "execute_result"
    }
   ],
   "source": [
    "df_f3 = pd.read_excel(file3, skiprows=[1])\n",
    "# pd.read_excel(\"students.xlsx\", header=1)  # if headers are on 2nd row\n",
    "df_f3.head(5)"
   ]
  },
  {
   "cell_type": "code",
   "execution_count": 122,
   "id": "c32eaa3d-4b78-4a57-8dec-d91bcb6552c0",
   "metadata": {},
   "outputs": [
    {
     "data": {
      "text/html": [
       "<div>\n",
       "<style scoped>\n",
       "    .dataframe tbody tr th:only-of-type {\n",
       "        vertical-align: middle;\n",
       "    }\n",
       "\n",
       "    .dataframe tbody tr th {\n",
       "        vertical-align: top;\n",
       "    }\n",
       "\n",
       "    .dataframe thead th {\n",
       "        text-align: right;\n",
       "    }\n",
       "</style>\n",
       "<table border=\"1\" class=\"dataframe\">\n",
       "  <thead>\n",
       "    <tr style=\"text-align: right;\">\n",
       "      <th></th>\n",
       "      <th>AREA</th>\n",
       "      <th>CODE</th>\n",
       "      <th>COUNTRY NAME</th>\n",
       "    </tr>\n",
       "  </thead>\n",
       "  <tbody>\n",
       "    <tr>\n",
       "      <th>0</th>\n",
       "      <td>European Union (EU)</td>\n",
       "      <td>DE</td>\n",
       "      <td>Germany (including former GDR from 1991)</td>\n",
       "    </tr>\n",
       "    <tr>\n",
       "      <th>1</th>\n",
       "      <td>European Union (EU)</td>\n",
       "      <td>EE</td>\n",
       "      <td>Estonia</td>\n",
       "    </tr>\n",
       "    <tr>\n",
       "      <th>2</th>\n",
       "      <td>European Union (EU)</td>\n",
       "      <td>IE</td>\n",
       "      <td>Ireland</td>\n",
       "    </tr>\n",
       "    <tr>\n",
       "      <th>3</th>\n",
       "      <td>European Union (EU)</td>\n",
       "      <td>EL</td>\n",
       "      <td>Greece</td>\n",
       "    </tr>\n",
       "    <tr>\n",
       "      <th>4</th>\n",
       "      <td>European Union (EU)</td>\n",
       "      <td>ES</td>\n",
       "      <td>Spain</td>\n",
       "    </tr>\n",
       "  </tbody>\n",
       "</table>\n",
       "</div>"
      ],
      "text/plain": [
       "                  AREA CODE                              COUNTRY NAME\n",
       "0  European Union (EU)  DE   Germany (including former GDR from 1991)\n",
       "1  European Union (EU)  EE                                    Estonia\n",
       "2  European Union (EU)  IE                                    Ireland\n",
       "3  European Union (EU)  EL                                     Greece\n",
       "4  European Union (EU)  ES                                      Spain"
      ]
     },
     "execution_count": 122,
     "metadata": {},
     "output_type": "execute_result"
    }
   ],
   "source": [
    " pd.read_excel(file3, skiprows=range(1,6)).head()"
   ]
  },
  {
   "cell_type": "code",
   "execution_count": 123,
   "id": "c017d03e-fb23-484b-8b4c-d174a7e581c1",
   "metadata": {},
   "outputs": [],
   "source": [
    "# data from Online Resources, downloadable directly\n",
    "f4 = 'https://raw.githubusercontent.com/DUanalytics/datasets/refs/heads/master/csv/global_world_indicators_2000.csv'\n",
    "file4 = f4"
   ]
  },
  {
   "cell_type": "code",
   "execution_count": 124,
   "id": "cc48fe37-791a-46a8-9884-75ecc1bdcb73",
   "metadata": {},
   "outputs": [
    {
     "data": {
      "text/plain": [
       "(207, 27)"
      ]
     },
     "execution_count": 124,
     "metadata": {},
     "output_type": "execute_result"
    }
   ],
   "source": [
    "df_f4 = pd.read_csv(file4)\n",
    "df_f4.shape"
   ]
  },
  {
   "cell_type": "code",
   "execution_count": 125,
   "id": "583cca6f-94aa-4d29-bc53-d6da61379220",
   "metadata": {},
   "outputs": [
    {
     "data": {
      "text/html": [
       "<div>\n",
       "<style scoped>\n",
       "    .dataframe tbody tr th:only-of-type {\n",
       "        vertical-align: middle;\n",
       "    }\n",
       "\n",
       "    .dataframe tbody tr th {\n",
       "        vertical-align: top;\n",
       "    }\n",
       "\n",
       "    .dataframe thead th {\n",
       "        text-align: right;\n",
       "    }\n",
       "</style>\n",
       "<table border=\"1\" class=\"dataframe\">\n",
       "  <thead>\n",
       "    <tr style=\"text-align: right;\">\n",
       "      <th></th>\n",
       "      <th>Birth Rate</th>\n",
       "      <th>Business Tax Rate</th>\n",
       "      <th>CO2 Emissions</th>\n",
       "      <th>Ease of Business (clusters)</th>\n",
       "      <th>Country/Region</th>\n",
       "      <th>Days to Start Business</th>\n",
       "      <th>Ease of Business</th>\n",
       "      <th>Energy Usage</th>\n",
       "      <th>GDP</th>\n",
       "      <th>Health Exp % GDP</th>\n",
       "      <th>...</th>\n",
       "      <th>Mobile Phone Usage</th>\n",
       "      <th>Population 0-14</th>\n",
       "      <th>Population 15-64</th>\n",
       "      <th>Population 65+</th>\n",
       "      <th>Population Total</th>\n",
       "      <th>Population Urban</th>\n",
       "      <th>Region</th>\n",
       "      <th>Tourism Inbound</th>\n",
       "      <th>Tourism Outbound</th>\n",
       "      <th>Year</th>\n",
       "    </tr>\n",
       "  </thead>\n",
       "  <tbody>\n",
       "    <tr>\n",
       "      <th>0</th>\n",
       "      <td>0.02</td>\n",
       "      <td>NaN</td>\n",
       "      <td>87931.0</td>\n",
       "      <td>Low</td>\n",
       "      <td>Algeria</td>\n",
       "      <td>NaN</td>\n",
       "      <td>NaN</td>\n",
       "      <td>26998.0</td>\n",
       "      <td>5.479006e+10</td>\n",
       "      <td>0.035</td>\n",
       "      <td>...</td>\n",
       "      <td>0.003</td>\n",
       "      <td>0.342</td>\n",
       "      <td>0.619</td>\n",
       "      <td>0.039</td>\n",
       "      <td>31719449</td>\n",
       "      <td>0.599</td>\n",
       "      <td>Africa</td>\n",
       "      <td>102000000.0</td>\n",
       "      <td>193000000.0</td>\n",
       "      <td>12/1/2000</td>\n",
       "    </tr>\n",
       "    <tr>\n",
       "      <th>1</th>\n",
       "      <td>0.05</td>\n",
       "      <td>NaN</td>\n",
       "      <td>9542.0</td>\n",
       "      <td>Low</td>\n",
       "      <td>Angola</td>\n",
       "      <td>NaN</td>\n",
       "      <td>NaN</td>\n",
       "      <td>7499.0</td>\n",
       "      <td>9.129595e+09</td>\n",
       "      <td>0.034</td>\n",
       "      <td>...</td>\n",
       "      <td>0.002</td>\n",
       "      <td>0.476</td>\n",
       "      <td>0.499</td>\n",
       "      <td>0.025</td>\n",
       "      <td>13924930</td>\n",
       "      <td>0.324</td>\n",
       "      <td>Africa</td>\n",
       "      <td>34000000.0</td>\n",
       "      <td>146000000.0</td>\n",
       "      <td>12/1/2000</td>\n",
       "    </tr>\n",
       "  </tbody>\n",
       "</table>\n",
       "<p>2 rows × 27 columns</p>\n",
       "</div>"
      ],
      "text/plain": [
       "   Birth Rate  Business Tax Rate  CO2 Emissions Ease of Business (clusters)  \\\n",
       "0        0.02                NaN        87931.0                         Low   \n",
       "1        0.05                NaN         9542.0                         Low   \n",
       "\n",
       "  Country/Region  Days to Start Business  Ease of Business  Energy Usage  \\\n",
       "0        Algeria                     NaN               NaN       26998.0   \n",
       "1         Angola                     NaN               NaN        7499.0   \n",
       "\n",
       "            GDP  Health Exp % GDP  ...  Mobile Phone Usage  Population 0-14  \\\n",
       "0  5.479006e+10             0.035  ...               0.003            0.342   \n",
       "1  9.129595e+09             0.034  ...               0.002            0.476   \n",
       "\n",
       "   Population 15-64  Population 65+  Population Total  Population Urban  \\\n",
       "0             0.619           0.039          31719449             0.599   \n",
       "1             0.499           0.025          13924930             0.324   \n",
       "\n",
       "   Region  Tourism Inbound  Tourism Outbound       Year  \n",
       "0  Africa      102000000.0       193000000.0  12/1/2000  \n",
       "1  Africa       34000000.0       146000000.0  12/1/2000  \n",
       "\n",
       "[2 rows x 27 columns]"
      ]
     },
     "execution_count": 125,
     "metadata": {},
     "output_type": "execute_result"
    }
   ],
   "source": [
    "df_f4.head(2)"
   ]
  },
  {
   "cell_type": "code",
   "execution_count": null,
   "id": "ad1d3206-be65-4229-867e-b8dcb97295ca",
   "metadata": {},
   "outputs": [],
   "source": [
    "#pip install xlrd"
   ]
  },
  {
   "cell_type": "code",
   "execution_count": 126,
   "id": "ea3ec4fb-d382-487c-b697-224e252a3ad7",
   "metadata": {},
   "outputs": [],
   "source": [
    "f5A= 'https://my.surrey.ac.uk/sites/default/files/2024-12/UOS_RIGO_template_011%20Sample%20tracking%20log%2022Aug23.xlsx'"
   ]
  },
  {
   "cell_type": "code",
   "execution_count": 127,
   "id": "235b6652-6d27-42f6-8c1e-c7f5f7e26be8",
   "metadata": {},
   "outputs": [
    {
     "data": {
      "text/plain": [
       "(9, 22)"
      ]
     },
     "execution_count": 127,
     "metadata": {},
     "output_type": "execute_result"
    }
   ],
   "source": [
    "file5A = f5A\n",
    "df_f5A = pd.read_excel(file5A)\n",
    "#df_f5B = pd.read_excel(file5B, engine='xlrd')\n",
    "df_f5A.shape"
   ]
  },
  {
   "cell_type": "code",
   "execution_count": 128,
   "id": "3b423154-3140-4af7-bea6-650eeb5160b0",
   "metadata": {},
   "outputs": [
    {
     "data": {
      "text/html": [
       "<div>\n",
       "<style scoped>\n",
       "    .dataframe tbody tr th:only-of-type {\n",
       "        vertical-align: middle;\n",
       "    }\n",
       "\n",
       "    .dataframe tbody tr th {\n",
       "        vertical-align: top;\n",
       "    }\n",
       "\n",
       "    .dataframe thead th {\n",
       "        text-align: right;\n",
       "    }\n",
       "</style>\n",
       "<table border=\"1\" class=\"dataframe\">\n",
       "  <thead>\n",
       "    <tr style=\"text-align: right;\">\n",
       "      <th></th>\n",
       "      <th>PI:</th>\n",
       "      <th>Unnamed: 1</th>\n",
       "      <th>Unnamed: 2</th>\n",
       "      <th>Unnamed: 3</th>\n",
       "      <th>Unnamed: 4</th>\n",
       "      <th>Unnamed: 5</th>\n",
       "      <th>Unnamed: 6</th>\n",
       "      <th>Unnamed: 7</th>\n",
       "      <th>Unnamed: 8</th>\n",
       "      <th>Unnamed: 9</th>\n",
       "      <th>...</th>\n",
       "      <th>Unnamed: 12</th>\n",
       "      <th>Unnamed: 13</th>\n",
       "      <th>Unnamed: 14</th>\n",
       "      <th>Unnamed: 15</th>\n",
       "      <th>Unnamed: 16</th>\n",
       "      <th>Unnamed: 17</th>\n",
       "      <th>Unnamed: 18</th>\n",
       "      <th>Unnamed: 19</th>\n",
       "      <th>Unnamed: 20</th>\n",
       "      <th>Unnamed: 21</th>\n",
       "    </tr>\n",
       "  </thead>\n",
       "  <tbody>\n",
       "    <tr>\n",
       "      <th>0</th>\n",
       "      <td>Study Title:</td>\n",
       "      <td>NaN</td>\n",
       "      <td>Study ID:</td>\n",
       "      <td>ABC</td>\n",
       "      <td>NaN</td>\n",
       "      <td>NaN</td>\n",
       "      <td>NaN</td>\n",
       "      <td>NaN</td>\n",
       "      <td>NaN</td>\n",
       "      <td>NaN</td>\n",
       "      <td>...</td>\n",
       "      <td>NaN</td>\n",
       "      <td>NaN</td>\n",
       "      <td>NaN</td>\n",
       "      <td>NaN</td>\n",
       "      <td>NaN</td>\n",
       "      <td>NaN</td>\n",
       "      <td>NaN</td>\n",
       "      <td>NaN</td>\n",
       "      <td>NaN</td>\n",
       "      <td>NaN</td>\n",
       "    </tr>\n",
       "    <tr>\n",
       "      <th>1</th>\n",
       "      <td>NHS REC or HTA Licence</td>\n",
       "      <td>NaN</td>\n",
       "      <td>Consent forms location:</td>\n",
       "      <td>NaN</td>\n",
       "      <td>NaN</td>\n",
       "      <td>NaN</td>\n",
       "      <td>NaN</td>\n",
       "      <td>NaN</td>\n",
       "      <td>NaN</td>\n",
       "      <td>NaN</td>\n",
       "      <td>...</td>\n",
       "      <td>NaN</td>\n",
       "      <td>NaN</td>\n",
       "      <td>NaN</td>\n",
       "      <td>NaN</td>\n",
       "      <td>NaN</td>\n",
       "      <td>NaN</td>\n",
       "      <td>NaN</td>\n",
       "      <td>NaN</td>\n",
       "      <td>NaN</td>\n",
       "      <td>NaN</td>\n",
       "    </tr>\n",
       "    <tr>\n",
       "      <th>2</th>\n",
       "      <td>Ethics Application no:</td>\n",
       "      <td>NaN</td>\n",
       "      <td>Expiry of ethics:</td>\n",
       "      <td>NaN</td>\n",
       "      <td>NaN</td>\n",
       "      <td>NaN</td>\n",
       "      <td>NaN</td>\n",
       "      <td>NaN</td>\n",
       "      <td>NaN</td>\n",
       "      <td>NaN</td>\n",
       "      <td>...</td>\n",
       "      <td>NaN</td>\n",
       "      <td>NaN</td>\n",
       "      <td>NaN</td>\n",
       "      <td>NaN</td>\n",
       "      <td>NaN</td>\n",
       "      <td>NaN</td>\n",
       "      <td>NaN</td>\n",
       "      <td>NaN</td>\n",
       "      <td>NaN</td>\n",
       "      <td>NaN</td>\n",
       "    </tr>\n",
       "    <tr>\n",
       "      <th>3</th>\n",
       "      <td>Sample Type</td>\n",
       "      <td>W = Whole Blood   P=Plasma   S=Serum C=PBMC T=...</td>\n",
       "      <td>Sample Storage</td>\n",
       "      <td>-80, -20, RT, LN2, Other</td>\n",
       "      <td>NaN</td>\n",
       "      <td>NaN</td>\n",
       "      <td>NaN</td>\n",
       "      <td>NaN</td>\n",
       "      <td>NaN</td>\n",
       "      <td>NaN</td>\n",
       "      <td>...</td>\n",
       "      <td>NaN</td>\n",
       "      <td>NaN</td>\n",
       "      <td>NaN</td>\n",
       "      <td>NaN</td>\n",
       "      <td>NaN</td>\n",
       "      <td>NaN</td>\n",
       "      <td>NaN</td>\n",
       "      <td>NaN</td>\n",
       "      <td>NaN</td>\n",
       "      <td>NaN</td>\n",
       "    </tr>\n",
       "    <tr>\n",
       "      <th>4</th>\n",
       "      <td>NaN</td>\n",
       "      <td>NaN</td>\n",
       "      <td>NaN</td>\n",
       "      <td>NaN</td>\n",
       "      <td>NaN</td>\n",
       "      <td>NaN</td>\n",
       "      <td>NaN</td>\n",
       "      <td>NaN</td>\n",
       "      <td>NaN</td>\n",
       "      <td>NaN</td>\n",
       "      <td>...</td>\n",
       "      <td>NaN</td>\n",
       "      <td>NaN</td>\n",
       "      <td>NaN</td>\n",
       "      <td>NaN</td>\n",
       "      <td>NaN</td>\n",
       "      <td>NaN</td>\n",
       "      <td>NaN</td>\n",
       "      <td>NaN</td>\n",
       "      <td>NaN</td>\n",
       "      <td>NaN</td>\n",
       "    </tr>\n",
       "  </tbody>\n",
       "</table>\n",
       "<p>5 rows × 22 columns</p>\n",
       "</div>"
      ],
      "text/plain": [
       "                       PI:                                         Unnamed: 1  \\\n",
       "0             Study Title:                                                NaN   \n",
       "1  NHS REC or HTA Licence                                                 NaN   \n",
       "2   Ethics Application no:                                                NaN   \n",
       "3             Sample Type   W = Whole Blood   P=Plasma   S=Serum C=PBMC T=...   \n",
       "4                      NaN                                                NaN   \n",
       "\n",
       "                 Unnamed: 2                Unnamed: 3 Unnamed: 4 Unnamed: 5  \\\n",
       "0                 Study ID:                       ABC        NaN        NaN   \n",
       "1  Consent forms location:                        NaN        NaN        NaN   \n",
       "2         Expiry of ethics:                       NaN        NaN        NaN   \n",
       "3           Sample Storage   -80, -20, RT, LN2, Other        NaN        NaN   \n",
       "4                       NaN                       NaN        NaN        NaN   \n",
       "\n",
       "  Unnamed: 6 Unnamed: 7 Unnamed: 8 Unnamed: 9  ... Unnamed: 12 Unnamed: 13  \\\n",
       "0        NaN        NaN        NaN        NaN  ...         NaN         NaN   \n",
       "1        NaN        NaN        NaN        NaN  ...         NaN         NaN   \n",
       "2        NaN        NaN        NaN        NaN  ...         NaN         NaN   \n",
       "3        NaN        NaN        NaN        NaN  ...         NaN         NaN   \n",
       "4        NaN        NaN        NaN        NaN  ...         NaN         NaN   \n",
       "\n",
       "  Unnamed: 14 Unnamed: 15 Unnamed: 16 Unnamed: 17 Unnamed: 18 Unnamed: 19  \\\n",
       "0         NaN         NaN         NaN         NaN         NaN         NaN   \n",
       "1         NaN         NaN         NaN         NaN         NaN         NaN   \n",
       "2         NaN         NaN         NaN         NaN         NaN         NaN   \n",
       "3         NaN         NaN         NaN         NaN         NaN         NaN   \n",
       "4         NaN         NaN         NaN         NaN         NaN         NaN   \n",
       "\n",
       "  Unnamed: 20 Unnamed: 21  \n",
       "0         NaN         NaN  \n",
       "1         NaN         NaN  \n",
       "2         NaN         NaN  \n",
       "3         NaN         NaN  \n",
       "4         NaN         NaN  \n",
       "\n",
       "[5 rows x 22 columns]"
      ]
     },
     "execution_count": 128,
     "metadata": {},
     "output_type": "execute_result"
    }
   ],
   "source": [
    "df_f5A.head()"
   ]
  },
  {
   "cell_type": "markdown",
   "id": "75516d4b-2d4a-4962-a06a-da9904b579e1",
   "metadata": {},
   "source": [
    "## Wiki table\n",
    "- https://en.wikipedia.org/wiki/List_of_cities_by_GDP"
   ]
  },
  {
   "cell_type": "code",
   "execution_count": 129,
   "id": "092b91a7-a100-4957-9f9c-c04f873d8fed",
   "metadata": {},
   "outputs": [
    {
     "name": "stdout",
     "output_type": "stream",
     "text": [
      "Found 6 tables\n"
     ]
    }
   ],
   "source": [
    "wiki1 = \"https://en.wikipedia.org/wiki/List_of_cities_by_GDP\"\n",
    "# read all tables on the page\n",
    "tables = pd.read_html(wiki1)\n",
    "print(f\"Found {len(tables)} tables\")"
   ]
  },
  {
   "cell_type": "code",
   "execution_count": 130,
   "id": "1f0d3174-7cb4-45e0-b64d-3f9cb42eedb5",
   "metadata": {},
   "outputs": [
    {
     "name": "stdout",
     "output_type": "stream",
     "text": [
      "\n",
      "Table 0 columns: [0, 1]\n",
      "\n",
      "\n",
      "Table 1 columns: [0, 1]\n",
      "\n",
      "\n",
      "Table 2 columns: ['City proper/metropolitan area', 'Country/region', 'GDP  (billion US$)', 'Population']\n",
      "\n"
     ]
    }
   ],
   "source": [
    "# Identify the correct table\n",
    "# Often the first is the main list — let's preview the first few tables\n",
    "for idx, table in enumerate(tables[:3]):\n",
    "    print(f\"\\nTable {idx} columns: {table.columns.tolist()}\\n\")"
   ]
  },
  {
   "cell_type": "code",
   "execution_count": 131,
   "id": "23b8fc0e-44b2-4003-9d95-5c32f4b26401",
   "metadata": {},
   "outputs": [
    {
     "data": {
      "text/html": [
       "<div>\n",
       "<style scoped>\n",
       "    .dataframe tbody tr th:only-of-type {\n",
       "        vertical-align: middle;\n",
       "    }\n",
       "\n",
       "    .dataframe tbody tr th {\n",
       "        vertical-align: top;\n",
       "    }\n",
       "\n",
       "    .dataframe thead th {\n",
       "        text-align: right;\n",
       "    }\n",
       "</style>\n",
       "<table border=\"1\" class=\"dataframe\">\n",
       "  <thead>\n",
       "    <tr style=\"text-align: right;\">\n",
       "      <th></th>\n",
       "      <th>City proper/metropolitan area</th>\n",
       "      <th>Country/region</th>\n",
       "      <th>GDP  (billion US$)</th>\n",
       "      <th>Population</th>\n",
       "    </tr>\n",
       "  </thead>\n",
       "  <tbody>\n",
       "    <tr>\n",
       "      <th>0</th>\n",
       "      <td>A Coruña metropolitan area</td>\n",
       "      <td>Spain</td>\n",
       "      <td>32.344 (2021)[5]</td>\n",
       "      <td>1,121,758 (2021)[6]</td>\n",
       "    </tr>\n",
       "    <tr>\n",
       "      <th>1</th>\n",
       "      <td>Aachen</td>\n",
       "      <td>Germany</td>\n",
       "      <td>27.092 (2021)[5]</td>\n",
       "      <td>556,631 (2021)[6]</td>\n",
       "    </tr>\n",
       "    <tr>\n",
       "      <th>2</th>\n",
       "      <td>Aalborg</td>\n",
       "      <td>Denmark</td>\n",
       "      <td>30.46 (2022)[5]</td>\n",
       "      <td>591,740 (2022)[6]</td>\n",
       "    </tr>\n",
       "    <tr>\n",
       "      <th>3</th>\n",
       "      <td>Aarhus</td>\n",
       "      <td>Denmark</td>\n",
       "      <td>53.383 (2022)[5]</td>\n",
       "      <td>913,861 (2022)[6]</td>\n",
       "    </tr>\n",
       "    <tr>\n",
       "      <th>4</th>\n",
       "      <td>Abbotsford, British Columbia</td>\n",
       "      <td>Canada</td>\n",
       "      <td>7.435 (2021)[7]</td>\n",
       "      <td>205,834 (2021)[8]</td>\n",
       "    </tr>\n",
       "  </tbody>\n",
       "</table>\n",
       "</div>"
      ],
      "text/plain": [
       "  City proper/metropolitan area Country/region GDP  (billion US$)  \\\n",
       "0    A Coruña metropolitan area          Spain   32.344 (2021)[5]   \n",
       "1                        Aachen        Germany   27.092 (2021)[5]   \n",
       "2                       Aalborg        Denmark    30.46 (2022)[5]   \n",
       "3                        Aarhus        Denmark   53.383 (2022)[5]   \n",
       "4  Abbotsford, British Columbia         Canada    7.435 (2021)[7]   \n",
       "\n",
       "            Population  \n",
       "0  1,121,758 (2021)[6]  \n",
       "1    556,631 (2021)[6]  \n",
       "2    591,740 (2022)[6]  \n",
       "3    913,861 (2022)[6]  \n",
       "4    205,834 (2021)[8]  "
      ]
     },
     "execution_count": 131,
     "metadata": {},
     "output_type": "execute_result"
    }
   ],
   "source": [
    "df_wk1 = tables[2]\n",
    "df_wk1.head()"
   ]
  },
  {
   "cell_type": "code",
   "execution_count": 132,
   "id": "aa7dc96f-c797-42dc-aff1-61e870d4a36e",
   "metadata": {},
   "outputs": [
    {
     "data": {
      "text/plain": [
       "(969, 4)"
      ]
     },
     "execution_count": 132,
     "metadata": {},
     "output_type": "execute_result"
    }
   ],
   "source": [
    "df_wk1.shape"
   ]
  },
  {
   "cell_type": "code",
   "execution_count": 133,
   "id": "b85faeeb-3f9c-4a94-a39b-2368813e1ca8",
   "metadata": {},
   "outputs": [
    {
     "data": {
      "text/html": [
       "<div>\n",
       "<style scoped>\n",
       "    .dataframe tbody tr th:only-of-type {\n",
       "        vertical-align: middle;\n",
       "    }\n",
       "\n",
       "    .dataframe tbody tr th {\n",
       "        vertical-align: top;\n",
       "    }\n",
       "\n",
       "    .dataframe thead th {\n",
       "        text-align: right;\n",
       "    }\n",
       "</style>\n",
       "<table border=\"1\" class=\"dataframe\">\n",
       "  <thead>\n",
       "    <tr style=\"text-align: right;\">\n",
       "      <th></th>\n",
       "      <th>City proper/metropolitan area</th>\n",
       "      <th>Country/region</th>\n",
       "      <th>GDP  (billion US$)</th>\n",
       "      <th>Population</th>\n",
       "    </tr>\n",
       "  </thead>\n",
       "  <tbody>\n",
       "    <tr>\n",
       "      <th>964</th>\n",
       "      <td>Zhoushan[325]</td>\n",
       "      <td>China</td>\n",
       "      <td>31.260 (2024)</td>\n",
       "      <td>1,174,500 (2024)</td>\n",
       "    </tr>\n",
       "    <tr>\n",
       "      <th>965</th>\n",
       "      <td>Zhuzhou[326]</td>\n",
       "      <td>China</td>\n",
       "      <td>54.797 (2024)</td>\n",
       "      <td>3,844,900 (2024)</td>\n",
       "    </tr>\n",
       "    <tr>\n",
       "      <th>966</th>\n",
       "      <td>Zibo[327]</td>\n",
       "      <td>China</td>\n",
       "      <td>68.580 (2024)</td>\n",
       "      <td>4,655,350 (2024)</td>\n",
       "    </tr>\n",
       "    <tr>\n",
       "      <th>967</th>\n",
       "      <td>Zurich Metropolitan Area</td>\n",
       "      <td>Switzerland</td>\n",
       "      <td>216.392 (2021)[5]</td>\n",
       "      <td>2,123,236 (2021)[6]</td>\n",
       "    </tr>\n",
       "    <tr>\n",
       "      <th>968</th>\n",
       "      <td>Zwolle</td>\n",
       "      <td>Netherlands</td>\n",
       "      <td>20.455 (2021)[5]</td>\n",
       "      <td>377,292 (2021)[6]</td>\n",
       "    </tr>\n",
       "  </tbody>\n",
       "</table>\n",
       "</div>"
      ],
      "text/plain": [
       "    City proper/metropolitan area Country/region GDP  (billion US$)  \\\n",
       "964                 Zhoushan[325]          China      31.260 (2024)   \n",
       "965                  Zhuzhou[326]          China      54.797 (2024)   \n",
       "966                     Zibo[327]          China      68.580 (2024)   \n",
       "967      Zurich Metropolitan Area    Switzerland  216.392 (2021)[5]   \n",
       "968                        Zwolle    Netherlands   20.455 (2021)[5]   \n",
       "\n",
       "              Population  \n",
       "964     1,174,500 (2024)  \n",
       "965     3,844,900 (2024)  \n",
       "966     4,655,350 (2024)  \n",
       "967  2,123,236 (2021)[6]  \n",
       "968    377,292 (2021)[6]  "
      ]
     },
     "execution_count": 133,
     "metadata": {},
     "output_type": "execute_result"
    }
   ],
   "source": [
    "df_wk1.tail()"
   ]
  },
  {
   "cell_type": "code",
   "execution_count": 135,
   "id": "7ca24b5e-f4d4-4834-ba8d-34e125f44fde",
   "metadata": {},
   "outputs": [
    {
     "data": {
      "text/html": [
       "<div>\n",
       "<style scoped>\n",
       "    .dataframe tbody tr th:only-of-type {\n",
       "        vertical-align: middle;\n",
       "    }\n",
       "\n",
       "    .dataframe tbody tr th {\n",
       "        vertical-align: top;\n",
       "    }\n",
       "\n",
       "    .dataframe thead th {\n",
       "        text-align: right;\n",
       "    }\n",
       "</style>\n",
       "<table border=\"1\" class=\"dataframe\">\n",
       "  <thead>\n",
       "    <tr style=\"text-align: right;\">\n",
       "      <th></th>\n",
       "      <th>Metropolitan area</th>\n",
       "      <th>GDP (billion USD)</th>\n",
       "      <th>Country</th>\n",
       "      <th>National GDP (billion USD)</th>\n",
       "      <th>% of national GDP</th>\n",
       "    </tr>\n",
       "  </thead>\n",
       "  <tbody>\n",
       "    <tr>\n",
       "      <th>0</th>\n",
       "      <td>Valletta</td>\n",
       "      <td>17.603</td>\n",
       "      <td>Malta</td>\n",
       "      <td>19.225</td>\n",
       "      <td>91.563</td>\n",
       "    </tr>\n",
       "    <tr>\n",
       "      <th>1</th>\n",
       "      <td>City of San Marino</td>\n",
       "      <td>1.540</td>\n",
       "      <td>San Marino</td>\n",
       "      <td>1.700</td>\n",
       "      <td>90.872</td>\n",
       "    </tr>\n",
       "    <tr>\n",
       "      <th>2</th>\n",
       "      <td>Luxembourg City-Trier</td>\n",
       "      <td>69.450</td>\n",
       "      <td>Luxembourg</td>\n",
       "      <td>86.900</td>\n",
       "      <td>79.925</td>\n",
       "    </tr>\n",
       "    <tr>\n",
       "      <th>3</th>\n",
       "      <td>Montevideo</td>\n",
       "      <td>53.900</td>\n",
       "      <td>Uruguay</td>\n",
       "      <td>70.165</td>\n",
       "      <td>76.819</td>\n",
       "    </tr>\n",
       "    <tr>\n",
       "      <th>4</th>\n",
       "      <td>Riga</td>\n",
       "      <td>27.156</td>\n",
       "      <td>Latvia</td>\n",
       "      <td>39.469</td>\n",
       "      <td>68.803</td>\n",
       "    </tr>\n",
       "  </tbody>\n",
       "</table>\n",
       "</div>"
      ],
      "text/plain": [
       "       Metropolitan area  GDP (billion USD)     Country  \\\n",
       "0               Valletta             17.603       Malta   \n",
       "1     City of San Marino              1.540  San Marino   \n",
       "2  Luxembourg City-Trier             69.450  Luxembourg   \n",
       "3             Montevideo             53.900     Uruguay   \n",
       "4                   Riga             27.156      Latvia   \n",
       "\n",
       "   National GDP (billion USD)  % of national GDP  \n",
       "0                      19.225             91.563  \n",
       "1                       1.700             90.872  \n",
       "2                      86.900             79.925  \n",
       "3                      70.165             76.819  \n",
       "4                      39.469             68.803  "
      ]
     },
     "execution_count": 135,
     "metadata": {},
     "output_type": "execute_result"
    }
   ],
   "source": [
    "df_wk2 = tables[3]\n",
    "df_wk2.head()"
   ]
  },
  {
   "cell_type": "code",
   "execution_count": 136,
   "id": "1f846dad-a4ca-40b0-91a4-6c17470e3683",
   "metadata": {},
   "outputs": [
    {
     "data": {
      "text/html": [
       "<div>\n",
       "<style scoped>\n",
       "    .dataframe tbody tr th:only-of-type {\n",
       "        vertical-align: middle;\n",
       "    }\n",
       "\n",
       "    .dataframe tbody tr th {\n",
       "        vertical-align: top;\n",
       "    }\n",
       "\n",
       "    .dataframe thead th {\n",
       "        text-align: right;\n",
       "    }\n",
       "</style>\n",
       "<table border=\"1\" class=\"dataframe\">\n",
       "  <thead>\n",
       "    <tr style=\"text-align: right;\">\n",
       "      <th></th>\n",
       "      <th>City</th>\n",
       "      <th>Wealth</th>\n",
       "      <th>Country/Region</th>\n",
       "    </tr>\n",
       "  </thead>\n",
       "  <tbody>\n",
       "    <tr>\n",
       "      <th>0</th>\n",
       "      <td>New York City</td>\n",
       "      <td>$3 trillion</td>\n",
       "      <td>United States</td>\n",
       "    </tr>\n",
       "    <tr>\n",
       "      <th>1</th>\n",
       "      <td>London</td>\n",
       "      <td>$2.7 trillion</td>\n",
       "      <td>United Kingdom</td>\n",
       "    </tr>\n",
       "    <tr>\n",
       "      <th>2</th>\n",
       "      <td>Tokyo</td>\n",
       "      <td>$2.5 trillion</td>\n",
       "      <td>Japan</td>\n",
       "    </tr>\n",
       "    <tr>\n",
       "      <th>3</th>\n",
       "      <td>San Francisco</td>\n",
       "      <td>$2.3 trillion</td>\n",
       "      <td>United States</td>\n",
       "    </tr>\n",
       "    <tr>\n",
       "      <th>4</th>\n",
       "      <td>Beijing</td>\n",
       "      <td>$2.2 trillion</td>\n",
       "      <td>China</td>\n",
       "    </tr>\n",
       "  </tbody>\n",
       "</table>\n",
       "</div>"
      ],
      "text/plain": [
       "            City         Wealth  Country/Region\n",
       "0  New York City    $3 trillion   United States\n",
       "1         London  $2.7 trillion  United Kingdom\n",
       "2          Tokyo  $2.5 trillion           Japan\n",
       "3  San Francisco  $2.3 trillion   United States\n",
       "4        Beijing  $2.2 trillion           China"
      ]
     },
     "execution_count": 136,
     "metadata": {},
     "output_type": "execute_result"
    }
   ],
   "source": [
    "df_wk4 = tables[4]\n",
    "df_wk4.head()"
   ]
  },
  {
   "cell_type": "markdown",
   "id": "3fa34662-e2b9-4cba-ae09-5a0e262dea7c",
   "metadata": {},
   "source": [
    "### There are different ways to import table in to Python\n",
    "- create synthetic - store to csv, excel\n",
    "- import csv, excel\n",
    "- import from online csv, excel\n",
    "- import a web , table format; url"
   ]
  },
  {
   "cell_type": "code",
   "execution_count": null,
   "id": "d5101b57-e7b7-41c8-ab7e-818d30d1a50b",
   "metadata": {},
   "outputs": [],
   "source": []
  }
 ],
 "metadata": {
  "kernelspec": {
   "display_name": "Python 3 (ipykernel)",
   "language": "python",
   "name": "python3"
  },
  "language_info": {
   "codemirror_mode": {
    "name": "ipython",
    "version": 3
   },
   "file_extension": ".py",
   "mimetype": "text/x-python",
   "name": "python",
   "nbconvert_exporter": "python",
   "pygments_lexer": "ipython3",
   "version": "3.12.7"
  }
 },
 "nbformat": 4,
 "nbformat_minor": 5
}
