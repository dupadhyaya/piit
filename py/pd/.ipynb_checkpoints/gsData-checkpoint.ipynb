{
 "cells": [
  {
   "cell_type": "markdown",
   "id": "5af6bdc5-1601-4406-b69f-5fd00d85693e",
   "metadata": {},
   "source": [
    "# Data Export \n",
    "-"
   ]
  },
  {
   "cell_type": "code",
   "execution_count": 5,
   "id": "f204e4a7-02a5-4971-bffa-e8c5658c442a",
   "metadata": {},
   "outputs": [],
   "source": [
    "#pip install gspread"
   ]
  },
  {
   "cell_type": "code",
   "execution_count": 6,
   "id": "eaab8c18-06a9-41ed-abde-ecb98eb1fc0e",
   "metadata": {},
   "outputs": [],
   "source": [
    "import pandas as pd\n",
    "import gspread\n",
    "from google.oauth2.service_account import Credentials"
   ]
  },
  {
   "cell_type": "code",
   "execution_count": 35,
   "id": "b38cb72a-6b9e-4ac1-8399-5a7de1e40bc0",
   "metadata": {},
   "outputs": [],
   "source": [
    "key = '/Users/du/dup/analytics/keys/dup1966gskey.json'\n",
    "shname ='PIIT data from Python'"
   ]
  },
  {
   "cell_type": "code",
   "execution_count": 15,
   "id": "54296c29-73dc-4efb-96fa-b68df279cc8f",
   "metadata": {},
   "outputs": [
    {
     "data": {
      "text/plain": [
       "<gspread.client.Client at 0x1439d1190>"
      ]
     },
     "execution_count": 15,
     "metadata": {},
     "output_type": "execute_result"
    }
   ],
   "source": [
    "creds = Credentials.from_service_account_file ( key, scopes=[  \"https://www.googleapis.com/auth/spreadsheets\",     \"https://www.googleapis.com/auth/drive\" ])\n",
    "client = gspread.authorize(creds)\n",
    "client"
   ]
  },
  {
   "cell_type": "code",
   "execution_count": 36,
   "id": "3bd2b98c-c9d2-4ac8-8f63-d95fa97f4f47",
   "metadata": {},
   "outputs": [],
   "source": [
    "sheet = client.open(shname).sheet1"
   ]
  },
  {
   "cell_type": "code",
   "execution_count": 37,
   "id": "baa76e42-9f3b-41c9-962f-c74d5b196b0f",
   "metadata": {},
   "outputs": [
    {
     "data": {
      "text/plain": [
       "<Worksheet 'ML' id:0>"
      ]
     },
     "execution_count": 37,
     "metadata": {},
     "output_type": "execute_result"
    }
   ],
   "source": [
    "sheet"
   ]
  },
  {
   "cell_type": "code",
   "execution_count": 21,
   "id": "664d946d-ad56-4323-b153-05ecaded9632",
   "metadata": {},
   "outputs": [
    {
     "data": {
      "text/html": [
       "<div>\n",
       "<style scoped>\n",
       "    .dataframe tbody tr th:only-of-type {\n",
       "        vertical-align: middle;\n",
       "    }\n",
       "\n",
       "    .dataframe tbody tr th {\n",
       "        vertical-align: top;\n",
       "    }\n",
       "\n",
       "    .dataframe thead th {\n",
       "        text-align: right;\n",
       "    }\n",
       "</style>\n",
       "<table border=\"1\" class=\"dataframe\">\n",
       "  <thead>\n",
       "    <tr style=\"text-align: right;\">\n",
       "      <th></th>\n",
       "      <th>Name</th>\n",
       "      <th>Score</th>\n",
       "    </tr>\n",
       "  </thead>\n",
       "  <tbody>\n",
       "    <tr>\n",
       "      <th>0</th>\n",
       "      <td>Alice</td>\n",
       "      <td>90</td>\n",
       "    </tr>\n",
       "    <tr>\n",
       "      <th>1</th>\n",
       "      <td>Bob</td>\n",
       "      <td>85</td>\n",
       "    </tr>\n",
       "  </tbody>\n",
       "</table>\n",
       "</div>"
      ],
      "text/plain": [
       "    Name  Score\n",
       "0  Alice     90\n",
       "1    Bob     85"
      ]
     },
     "execution_count": 21,
     "metadata": {},
     "output_type": "execute_result"
    }
   ],
   "source": [
    "# Write a DataFrame\n",
    "df = pd.DataFrame({\"Name\": [\"Alice\", \"Bob\"], \"Score\": [90, 85]})\n",
    "df"
   ]
  },
  {
   "cell_type": "code",
   "execution_count": null,
   "id": "d9267e7b-e604-4cc3-9d91-eae1da3b02f1",
   "metadata": {},
   "outputs": [],
   "source": [
    "sheet.update([df.columns.values.tolist()] + df.values.tolist())"
   ]
  },
  {
   "cell_type": "markdown",
   "id": "4783a237-420c-41db-9f4a-6b3051ebd8dc",
   "metadata": {},
   "source": [
    "## other sheet\n",
    "-  "
   ]
  },
  {
   "cell_type": "code",
   "execution_count": 38,
   "id": "bc1b7475-5d69-41f3-b241-b01dda828c57",
   "metadata": {},
   "outputs": [
    {
     "data": {
      "text/plain": [
       "<Spreadsheet 'PIIT data from Python' id:1L9zhEJd_xWNWPXwliTvEBqah8nQ6YS2xjwvuqtqhYtM>"
      ]
     },
     "execution_count": 38,
     "metadata": {},
     "output_type": "execute_result"
    }
   ],
   "source": [
    "# Open spreadsheet by name\n",
    "spreadsheet = client.open(shname)\n",
    "spreadsheet"
   ]
  },
  {
   "cell_type": "markdown",
   "id": "ed23b1b0-743a-4c7f-8e5d-5332ef85f375",
   "metadata": {},
   "source": [
    "###  --- Option 1: Create a NEW sheet ---"
   ]
  },
  {
   "cell_type": "code",
   "execution_count": 24,
   "id": "cb5166c8-ede3-43f6-a359-5c6810552064",
   "metadata": {},
   "outputs": [
    {
     "data": {
      "text/plain": [
       "{'spreadsheetId': '1L9zhEJd_xWNWPXwliTvEBqah8nQ6YS2xjwvuqtqhYtM',\n",
       " 'updatedRange': 'NewData!A1:B3',\n",
       " 'updatedRows': 3,\n",
       " 'updatedColumns': 2,\n",
       " 'updatedCells': 6}"
      ]
     },
     "execution_count": 24,
     "metadata": {},
     "output_type": "execute_result"
    }
   ],
   "source": [
    "new_sheet = spreadsheet.add_worksheet(title=\"NewData\", rows=\"100\", cols=\"20\")\n",
    "new_sheet.update([df.columns.values.tolist()] + df.values.tolist())"
   ]
  },
  {
   "cell_type": "markdown",
   "id": "ce921754-6c57-4500-8498-1be468e06f96",
   "metadata": {},
   "source": [
    "### --- Option 2: Write to an EXISTING sheet by name ---"
   ]
  },
  {
   "cell_type": "code",
   "execution_count": 25,
   "id": "9ea07d51-5158-42ce-80de-92bb058c5db4",
   "metadata": {},
   "outputs": [
    {
     "data": {
      "text/plain": [
       "{'spreadsheetId': '1L9zhEJd_xWNWPXwliTvEBqah8nQ6YS2xjwvuqtqhYtM',\n",
       " 'clearedRange': 'Sheet2!A1:Z1000'}"
      ]
     },
     "execution_count": 25,
     "metadata": {},
     "output_type": "execute_result"
    }
   ],
   "source": [
    "existing_sheet = spreadsheet.worksheet(\"Sheet2\")  # must exist already\n",
    "existing_sheet.clear()"
   ]
  },
  {
   "cell_type": "code",
   "execution_count": 26,
   "id": "0a00b6d6-cc2b-4c21-a7b8-e13fa38e024a",
   "metadata": {},
   "outputs": [
    {
     "data": {
      "text/plain": [
       "{'spreadsheetId': '1L9zhEJd_xWNWPXwliTvEBqah8nQ6YS2xjwvuqtqhYtM',\n",
       " 'updatedRange': 'Sheet2!A1:B3',\n",
       " 'updatedRows': 3,\n",
       " 'updatedColumns': 2,\n",
       " 'updatedCells': 6}"
      ]
     },
     "execution_count": 26,
     "metadata": {},
     "output_type": "execute_result"
    }
   ],
   "source": [
    "existing_sheet.update([df.columns.values.tolist()] + df.values.tolist())"
   ]
  },
  {
   "cell_type": "markdown",
   "id": "ccff945b-f0d0-4604-9fd2-9323f12a88b7",
   "metadata": {},
   "source": [
    "# pygsheets Library\n",
    "- "
   ]
  },
  {
   "cell_type": "code",
   "execution_count": 2,
   "id": "45891896-3fce-4017-a8e4-8e8620d59f43",
   "metadata": {},
   "outputs": [],
   "source": [
    "#pip install pygsheets"
   ]
  },
  {
   "cell_type": "code",
   "execution_count": 27,
   "id": "51b1c979-7acf-4ac0-b457-181925069efe",
   "metadata": {},
   "outputs": [],
   "source": [
    "import pandas as pd\n",
    "import pygsheets\n",
    "import os"
   ]
  },
  {
   "cell_type": "code",
   "execution_count": null,
   "id": "bc9b4f64-19e3-4a9d-89b9-8301fea4eab6",
   "metadata": {},
   "outputs": [],
   "source": [
    "os.listdir('/Users/du/dup/auData/keys')"
   ]
  },
  {
   "cell_type": "code",
   "execution_count": 28,
   "id": "921ae29d-7b0a-41d6-8772-1d4393196e19",
   "metadata": {},
   "outputs": [],
   "source": [
    "# Authenticate\n",
    "gc = pygsheets.authorize(service_file=key)"
   ]
  },
  {
   "cell_type": "code",
   "execution_count": 39,
   "id": "2c068603-d237-491b-9e3c-e4bad6bc3ac2",
   "metadata": {},
   "outputs": [
    {
     "data": {
      "text/plain": [
       "<Spreadsheet 'PIIT data from Python' Sheets:4>"
      ]
     },
     "execution_count": 39,
     "metadata": {},
     "output_type": "execute_result"
    }
   ],
   "source": [
    "sh = gc.open(shname)\n",
    "sh"
   ]
  },
  {
   "cell_type": "markdown",
   "id": "7a685020-6b6a-4032-8476-a059a9350a86",
   "metadata": {},
   "source": [
    "###  --- Option 1: Create new worksheet ---"
   ]
  },
  {
   "cell_type": "code",
   "execution_count": 40,
   "id": "e6654d0a-2859-411d-a3c1-0c5eadce2c4a",
   "metadata": {},
   "outputs": [],
   "source": [
    "wks_new = sh.add_worksheet(title=\"NewData3\", rows=100, cols=20)\n",
    "wks_new.set_dataframe(df, (1, 1))"
   ]
  },
  {
   "cell_type": "markdown",
   "id": "c224d5cd-16e7-4911-8c21-5f41ddb92933",
   "metadata": {},
   "source": [
    "### --- Option 2: Write to existing worksheet ---"
   ]
  },
  {
   "cell_type": "code",
   "execution_count": 33,
   "id": "a139401e-a512-4787-b68d-5860d6884c05",
   "metadata": {},
   "outputs": [],
   "source": [
    "wks_existing = sh.worksheet_by_title(\"Sheet2\")\n",
    "wks_existing.clear()\n",
    "wks_existing.set_dataframe(df, (1, 1))"
   ]
  },
  {
   "cell_type": "markdown",
   "id": "6a7524f4-3b7e-449b-bfd7-28fee2e1eaf7",
   "metadata": {},
   "source": [
    "## Sheet Names"
   ]
  },
  {
   "cell_type": "code",
   "execution_count": 41,
   "id": "52b1a7a1-fa30-4727-b125-4f0d7cfc8153",
   "metadata": {},
   "outputs": [
    {
     "data": {
      "text/plain": [
       "[<Worksheet 'ML' index:0>,\n",
       " <Worksheet 'Sheet2' index:1>,\n",
       " <Worksheet 'NewData' index:2>,\n",
       " <Worksheet 'NewData2' index:3>,\n",
       " <Worksheet 'NewData3' index:4>]"
      ]
     },
     "execution_count": 41,
     "metadata": {},
     "output_type": "execute_result"
    }
   ],
   "source": [
    "sheetList = gc.open(shname).worksheets()\n",
    "sheetList"
   ]
  },
  {
   "cell_type": "code",
   "execution_count": 42,
   "id": "fb53a0ea-fd78-440c-b790-c66c944fa684",
   "metadata": {},
   "outputs": [
    {
     "data": {
      "text/plain": [
       "<Worksheet 'ML' index:0>"
      ]
     },
     "execution_count": 42,
     "metadata": {},
     "output_type": "execute_result"
    }
   ],
   "source": [
    "# Open sheet\n",
    "sh = gc.open(shname)\n",
    "wks = sh[0]  # first worksheet\n",
    "wks"
   ]
  },
  {
   "cell_type": "code",
   "execution_count": 44,
   "id": "ea5e2070-4be5-4150-a990-59f861b589fd",
   "metadata": {},
   "outputs": [
    {
     "data": {
      "text/html": [
       "<div>\n",
       "<style scoped>\n",
       "    .dataframe tbody tr th:only-of-type {\n",
       "        vertical-align: middle;\n",
       "    }\n",
       "\n",
       "    .dataframe tbody tr th {\n",
       "        vertical-align: top;\n",
       "    }\n",
       "\n",
       "    .dataframe thead th {\n",
       "        text-align: right;\n",
       "    }\n",
       "</style>\n",
       "<table border=\"1\" class=\"dataframe\">\n",
       "  <thead>\n",
       "    <tr style=\"text-align: right;\">\n",
       "      <th></th>\n",
       "      <th>A</th>\n",
       "      <th>B</th>\n",
       "    </tr>\n",
       "  </thead>\n",
       "  <tbody>\n",
       "    <tr>\n",
       "      <th>0</th>\n",
       "      <td>1</td>\n",
       "      <td>x</td>\n",
       "    </tr>\n",
       "    <tr>\n",
       "      <th>1</th>\n",
       "      <td>2</td>\n",
       "      <td>y</td>\n",
       "    </tr>\n",
       "    <tr>\n",
       "      <th>2</th>\n",
       "      <td>3</td>\n",
       "      <td>z</td>\n",
       "    </tr>\n",
       "  </tbody>\n",
       "</table>\n",
       "</div>"
      ],
      "text/plain": [
       "   A  B\n",
       "0  1  x\n",
       "1  2  y\n",
       "2  3  z"
      ]
     },
     "execution_count": 44,
     "metadata": {},
     "output_type": "execute_result"
    }
   ],
   "source": [
    "# Write DataFrame\n",
    "df = pd.DataFrame({'A': [1, 2, 3], 'B': ['x', 'y', 'z']})\n",
    "df"
   ]
  },
  {
   "cell_type": "code",
   "execution_count": 45,
   "id": "62ba1698-71bf-4c7b-bf0e-25e8ab7e35c0",
   "metadata": {},
   "outputs": [],
   "source": [
    "wks.set_dataframe(df, (1, 1))"
   ]
  },
  {
   "cell_type": "markdown",
   "id": "8dcc6cb8-b65c-4e35-a903-e85125bab108",
   "metadata": {},
   "source": [
    "## Read Data\n",
    "### Open the spreadsheet (choose ONE of the three lines below)\n",
    "- spreadsheet = client.open(\"My Google Spreadsheet\")          # by name\n",
    "- spreadsheet = client.open_by_url(\"https://docs.google.com/spreadsheets/d/<KEY>/edit#gid=<GID>\")\n",
    "- spreadsheet = client.open_by_key(\"<SPREADSHEET_KEY>\")          # by key (recommended)\n",
    "- https://docs.google.com/spreadsheets/d/1L9zhEJd_xWNWPXwliTvEBqah8nQ6YS2xjwvuqtqhYtM/edit?gid=2141895426#gid=2141895426"
   ]
  },
  {
   "cell_type": "code",
   "execution_count": 48,
   "id": "31674202-1fc1-4586-be53-61ca210c90b2",
   "metadata": {},
   "outputs": [],
   "source": [
    "#pip install gspread_dataframe"
   ]
  },
  {
   "cell_type": "code",
   "execution_count": 49,
   "id": "f3fbd85f-8819-4704-a8e6-e3012a25be52",
   "metadata": {},
   "outputs": [],
   "source": [
    "import pandas as pd\n",
    "import gspread\n",
    "from google.oauth2.service_account import Credentials\n",
    "from gspread_dataframe import get_as_dataframe"
   ]
  },
  {
   "cell_type": "code",
   "execution_count": 50,
   "id": "4a2bb2b5-689a-4fdd-8986-71c046c26a8b",
   "metadata": {},
   "outputs": [],
   "source": [
    "creds = Credentials.from_service_account_file(key,scopes=[   \"https://www.googleapis.com/auth/spreadsheets\", \"https://www.googleapis.com/auth/drive\",   ],)\n",
    "client = gspread.authorize(creds)"
   ]
  },
  {
   "cell_type": "code",
   "execution_count": 52,
   "id": "14091412-f283-425f-9366-cd55c6bf50ee",
   "metadata": {},
   "outputs": [],
   "source": [
    "gsid ='1L9zhEJd_xWNWPXwliTvEBqah8nQ6YS2xjwvuqtqhYtM'\n",
    "shr = client.open_by_key(gsid)          # by key (recommended)"
   ]
  },
  {
   "cell_type": "code",
   "execution_count": 54,
   "id": "8c545b6d-9849-47b7-8b7e-719338276c17",
   "metadata": {},
   "outputs": [
    {
     "data": {
      "text/plain": [
       "[<Worksheet 'ML' id:0>,\n",
       " <Worksheet 'Sheet2' id:2141895426>,\n",
       " <Worksheet 'NewData' id:565522700>,\n",
       " <Worksheet 'NewData2' id:2018298584>,\n",
       " <Worksheet 'NewData3' id:246207265>]"
      ]
     },
     "execution_count": 54,
     "metadata": {},
     "output_type": "execute_result"
    }
   ],
   "source": [
    "sheetList = shr.worksheets()\n",
    "sheetList"
   ]
  },
  {
   "cell_type": "code",
   "execution_count": 55,
   "id": "1119fcfc-66ab-417c-9657-12a5219c20ad",
   "metadata": {},
   "outputs": [
    {
     "data": {
      "text/plain": [
       "<Worksheet 'Sheet2' id:2141895426>"
      ]
     },
     "execution_count": 55,
     "metadata": {},
     "output_type": "execute_result"
    }
   ],
   "source": [
    "#  Select the worksheet/tab\n",
    "ws = spreadsheet.worksheet(\"Sheet2\")  # e.g., your “orders” sheet\n",
    "ws"
   ]
  },
  {
   "cell_type": "code",
   "execution_count": 56,
   "id": "e99472e8-f00d-45ea-8228-58038df04ceb",
   "metadata": {},
   "outputs": [
    {
     "data": {
      "text/html": [
       "<div>\n",
       "<style scoped>\n",
       "    .dataframe tbody tr th:only-of-type {\n",
       "        vertical-align: middle;\n",
       "    }\n",
       "\n",
       "    .dataframe tbody tr th {\n",
       "        vertical-align: top;\n",
       "    }\n",
       "\n",
       "    .dataframe thead th {\n",
       "        text-align: right;\n",
       "    }\n",
       "</style>\n",
       "<table border=\"1\" class=\"dataframe\">\n",
       "  <thead>\n",
       "    <tr style=\"text-align: right;\">\n",
       "      <th></th>\n",
       "      <th>Name</th>\n",
       "      <th>Score</th>\n",
       "    </tr>\n",
       "  </thead>\n",
       "  <tbody>\n",
       "    <tr>\n",
       "      <th>0</th>\n",
       "      <td>Alice</td>\n",
       "      <td>90</td>\n",
       "    </tr>\n",
       "    <tr>\n",
       "      <th>1</th>\n",
       "      <td>Bob</td>\n",
       "      <td>85</td>\n",
       "    </tr>\n",
       "  </tbody>\n",
       "</table>\n",
       "</div>"
      ],
      "text/plain": [
       "    Name Score\n",
       "0  Alice    90\n",
       "1    Bob    85"
      ]
     },
     "execution_count": 56,
     "metadata": {},
     "output_type": "execute_result"
    }
   ],
   "source": [
    "# 4) Import to pandas (first row as header; keep empty rows/cols off)\n",
    "df = get_as_dataframe(ws, evaluate_formulas=True, header=0, dtype=str, na_filter=True)\n",
    "df"
   ]
  },
  {
   "cell_type": "markdown",
   "id": "c0059256-9d14-4cc0-ae13-68eabe8316d8",
   "metadata": {},
   "source": [
    "## Read all sheets/ tabs at once"
   ]
  },
  {
   "cell_type": "code",
   "execution_count": 57,
   "id": "cb606ea4-d81a-49a8-b3b6-fd7adfdd12de",
   "metadata": {},
   "outputs": [],
   "source": [
    "def read_all_tabs(spreadsheet_ref, service_account_file=\"service_account.json\"):\n",
    "    scopes = [\n",
    "        \"https://www.googleapis.com/auth/spreadsheets\",\n",
    "        \"https://www.googleapis.com/auth/drive\",\n",
    "    ]\n",
    "    creds = Credentials.from_service_account_file(key, scopes=scopes)\n",
    "    client = gspread.authorize(creds)\n",
    "\n",
    "    sh = client.open_by_url(spreadsheet_ref) if spreadsheet_ref.startswith(\"http\") else client.open(spreadsheet_ref)\n",
    "    data = {}\n",
    "    for ws in sh.worksheets():\n",
    "        df = get_as_dataframe(ws, evaluate_formulas=True, header=0, dtype=str, na_filter=True)\n",
    "        data[ws.title] = df\n",
    "    return data"
   ]
  },
  {
   "cell_type": "code",
   "execution_count": 59,
   "id": "af1aa494-ab74-41c0-8022-b4d554c4c274",
   "metadata": {},
   "outputs": [],
   "source": [
    "key = '/Users/du/dup/analytics/keys/dup1966gskey.json'\n",
    "shname ='PIIT data from Python'"
   ]
  },
  {
   "cell_type": "code",
   "execution_count": 58,
   "id": "7f9e8b45-34e4-4458-9a0e-873e4ebfcf9e",
   "metadata": {},
   "outputs": [
    {
     "data": {
      "text/plain": [
       "[<Worksheet 'ML' id:0>,\n",
       " <Worksheet 'Sheet2' id:2141895426>,\n",
       " <Worksheet 'NewData' id:565522700>,\n",
       " <Worksheet 'NewData2' id:2018298584>,\n",
       " <Worksheet 'NewData3' id:246207265>]"
      ]
     },
     "execution_count": 58,
     "metadata": {},
     "output_type": "execute_result"
    }
   ],
   "source": [
    "creds = Credentials.from_service_account_file(key,scopes=[   \"https://www.googleapis.com/auth/spreadsheets\", \"https://www.googleapis.com/auth/drive\",   ],)\n",
    "client = gspread.authorize(creds)\n",
    "gsid ='1L9zhEJd_xWNWPXwliTvEBqah8nQ6YS2xjwvuqtqhYtM'\n",
    "shr = client.open_by_key(gsid)          # by key (recommended)\n",
    "sheetList = shr.worksheets()\n",
    "sheetList"
   ]
  },
  {
   "cell_type": "code",
   "execution_count": 70,
   "id": "026a0062-0a60-4c23-9c87-f333fbf89e68",
   "metadata": {},
   "outputs": [
    {
     "data": {
      "text/html": [
       "<div>\n",
       "<style scoped>\n",
       "    .dataframe tbody tr th:only-of-type {\n",
       "        vertical-align: middle;\n",
       "    }\n",
       "\n",
       "    .dataframe tbody tr th {\n",
       "        vertical-align: top;\n",
       "    }\n",
       "\n",
       "    .dataframe thead th {\n",
       "        text-align: right;\n",
       "    }\n",
       "</style>\n",
       "<table border=\"1\" class=\"dataframe\">\n",
       "  <thead>\n",
       "    <tr style=\"text-align: right;\">\n",
       "      <th></th>\n",
       "      <th>Unnamed: 0</th>\n",
       "      <th>Unnamed: 1</th>\n",
       "    </tr>\n",
       "  </thead>\n",
       "  <tbody>\n",
       "    <tr>\n",
       "      <th>0</th>\n",
       "      <td>sheet</td>\n",
       "      <td>description</td>\n",
       "    </tr>\n",
       "  </tbody>\n",
       "</table>\n",
       "</div>"
      ],
      "text/plain": [
       "  Unnamed: 0   Unnamed: 1\n",
       "0      sheet  description"
      ]
     },
     "execution_count": 70,
     "metadata": {},
     "output_type": "execute_result"
    }
   ],
   "source": [
    "shname2='PIIT data'\n",
    "tabs = read_all_tabs(shname2)\n",
    "tabs['ML'].head()"
   ]
  },
  {
   "cell_type": "code",
   "execution_count": 68,
   "id": "bf65a8f5-138c-4dbd-a344-e55380d15439",
   "metadata": {},
   "outputs": [
    {
     "data": {
      "text/plain": [
       "[<Worksheet 'ML' id:0>,\n",
       " <Worksheet 'links' id:1994012438>,\n",
       " <Worksheet 'student1' id:940279727>,\n",
       " <Worksheet 'T1A' id:117623602>,\n",
       " <Worksheet 'snames' id:1541623921>,\n",
       " <Worksheet 'orders' id:764977169>,\n",
       " <Worksheet 'returns' id:675685971>,\n",
       " <Worksheet 'people' id:1527535056>,\n",
       " <Worksheet 'sales1' id:252067454>]"
      ]
     },
     "execution_count": 68,
     "metadata": {},
     "output_type": "execute_result"
    }
   ],
   "source": [
    "# Another Sheet\n",
    "gsid2 = \"19ReQlRfDQHcV1OFUnmVkiFY_1IrJeOR0g1RmrjfjMD4\"\n",
    "shr2 = client.open_by_key(gsid2)          # by key (recommended)\n",
    "sheetList2 = shr2.worksheets()\n",
    "sheetList2"
   ]
  },
  {
   "cell_type": "code",
   "execution_count": 69,
   "id": "16dd642f-5f47-4ab9-abc2-d5cc35fc184b",
   "metadata": {},
   "outputs": [
    {
     "data": {
      "text/html": [
       "<div>\n",
       "<style scoped>\n",
       "    .dataframe tbody tr th:only-of-type {\n",
       "        vertical-align: middle;\n",
       "    }\n",
       "\n",
       "    .dataframe tbody tr th {\n",
       "        vertical-align: top;\n",
       "    }\n",
       "\n",
       "    .dataframe thead th {\n",
       "        text-align: right;\n",
       "    }\n",
       "</style>\n",
       "<table border=\"1\" class=\"dataframe\">\n",
       "  <thead>\n",
       "    <tr style=\"text-align: right;\">\n",
       "      <th></th>\n",
       "      <th>A</th>\n",
       "      <th>B</th>\n",
       "    </tr>\n",
       "  </thead>\n",
       "  <tbody>\n",
       "    <tr>\n",
       "      <th>0</th>\n",
       "      <td>1</td>\n",
       "      <td>x</td>\n",
       "    </tr>\n",
       "    <tr>\n",
       "      <th>1</th>\n",
       "      <td>2</td>\n",
       "      <td>y</td>\n",
       "    </tr>\n",
       "    <tr>\n",
       "      <th>2</th>\n",
       "      <td>3</td>\n",
       "      <td>z</td>\n",
       "    </tr>\n",
       "  </tbody>\n",
       "</table>\n",
       "</div>"
      ],
      "text/plain": [
       "   A  B\n",
       "0  1  x\n",
       "1  2  y\n",
       "2  3  z"
      ]
     },
     "execution_count": 69,
     "metadata": {},
     "output_type": "execute_result"
    }
   ],
   "source": [
    "tabs = read_all_tabs(shname)\n",
    "tabs['ML'].head()"
   ]
  },
  {
   "cell_type": "code",
   "execution_count": 66,
   "id": "de9a9750-ecb3-4582-a052-4fa934af9da7",
   "metadata": {},
   "outputs": [],
   "source": [
    "def select_tabs(spreadsheet_ref, tab_names, service_account_file=\"service_account.json\"):\n",
    "    scopes = [\n",
    "        \"https://www.googleapis.com/auth/spreadsheets\",\n",
    "        \"https://www.googleapis.com/auth/drive\",\n",
    "    ]\n",
    "    creds = Credentials.from_service_account_file(key, scopes=scopes)\n",
    "    client = gspread.authorize(creds)\n",
    "\n",
    "    sh = client.open_by_url(spreadsheet_ref) if spreadsheet_ref.startswith(\"http\") else client.open(spreadsheet_ref)\n",
    "    data = {}\n",
    "    for tab in tab_names:\n",
    "        try:\n",
    "            ws = sh.worksheet(tab)\n",
    "            df = get_as_dataframe(ws, evaluate_formulas=True, header=0, dtype=str, na_filter=True)\n",
    "            data[tab] = df\n",
    "        except gspread.exceptions.WorksheetNotFound:\n",
    "            print(f\"⚠ Tab '{tab}' not found.\")\n",
    "    return data\n",
    "    for ws in sh.worksheets():\n",
    "        df = get_as_dataframe(ws, evaluate_formulas=True, header=0, dtype=str, na_filter=True)\n",
    "        data[ws.title] = df\n",
    "    return data"
   ]
  },
  {
   "cell_type": "code",
   "execution_count": 63,
   "id": "92d3ac2b-42f8-42f4-ac1e-ab86304cf88b",
   "metadata": {},
   "outputs": [],
   "source": [
    "def read_selected_tabs(spreadsheet_ref, tab_names, service_account_file=\"service_account.json\"):\n",
    "    scopes = [    \"https://www.googleapis.com/auth/spreadsheets\",   \"https://www.googleapis.com/auth/drive\", ]\n",
    "    creds = Credentials.from_service_account_file(key, scopes=scopes)\n",
    "    client = gspread.authorize(creds)\n",
    "\n",
    "    # Open spreadsheet\n",
    "    if spreadsheet_ref.startswith(\"http\"):\n",
    "        sh = client.open_by_url(spreadsheet_ref)\n",
    "    else:\n",
    "        sh = client.open(spreadsheet_ref)\n",
    "\n",
    "    data = {}\n",
    "    for tab in tab_names:\n",
    "        try:\n",
    "            ws = sh.worksheet(tab)\n",
    "            df = get_as_dataframe(ws, evaluate_formulas=True, header=0, dtype=str, na_filter=True)\n",
    "            data[tab] = df\n",
    "        except gspread.exceptions.WorksheetNotFound:\n",
    "            print(f\"⚠ Tab '{tab}' not found.\")\n",
    "    return data"
   ]
  },
  {
   "cell_type": "code",
   "execution_count": 71,
   "id": "0597373f-a162-4e8b-8316-e5516f4e79e0",
   "metadata": {},
   "outputs": [
    {
     "data": {
      "text/html": [
       "<div>\n",
       "<style scoped>\n",
       "    .dataframe tbody tr th:only-of-type {\n",
       "        vertical-align: middle;\n",
       "    }\n",
       "\n",
       "    .dataframe tbody tr th {\n",
       "        vertical-align: top;\n",
       "    }\n",
       "\n",
       "    .dataframe thead th {\n",
       "        text-align: right;\n",
       "    }\n",
       "</style>\n",
       "<table border=\"1\" class=\"dataframe\">\n",
       "  <thead>\n",
       "    <tr style=\"text-align: right;\">\n",
       "      <th></th>\n",
       "      <th>Row ID</th>\n",
       "      <th>Order ID</th>\n",
       "      <th>Order Date</th>\n",
       "      <th>Ship Date</th>\n",
       "      <th>Ship Mode</th>\n",
       "      <th>Customer ID</th>\n",
       "      <th>Customer Name</th>\n",
       "      <th>Segment</th>\n",
       "      <th>Country</th>\n",
       "      <th>City</th>\n",
       "      <th>...</th>\n",
       "      <th>Postal Code</th>\n",
       "      <th>Region</th>\n",
       "      <th>Product ID</th>\n",
       "      <th>Category</th>\n",
       "      <th>Sub-Category</th>\n",
       "      <th>Product Name</th>\n",
       "      <th>Sales</th>\n",
       "      <th>Quantity</th>\n",
       "      <th>Discount</th>\n",
       "      <th>Profit</th>\n",
       "    </tr>\n",
       "  </thead>\n",
       "  <tbody>\n",
       "    <tr>\n",
       "      <th>0</th>\n",
       "      <td>1</td>\n",
       "      <td>CA-2016-152156</td>\n",
       "      <td>8/11/2016</td>\n",
       "      <td>11/11/2016</td>\n",
       "      <td>Second Class</td>\n",
       "      <td>CG-12520</td>\n",
       "      <td>Claire Gute</td>\n",
       "      <td>Consumer</td>\n",
       "      <td>United States</td>\n",
       "      <td>Henderson</td>\n",
       "      <td>...</td>\n",
       "      <td>42420</td>\n",
       "      <td>South</td>\n",
       "      <td>FUR-BO-10001798</td>\n",
       "      <td>Furniture</td>\n",
       "      <td>Bookcases</td>\n",
       "      <td>Bush Somerset Collection Bookcase</td>\n",
       "      <td>261.96</td>\n",
       "      <td>2</td>\n",
       "      <td>0</td>\n",
       "      <td>41.9136</td>\n",
       "    </tr>\n",
       "    <tr>\n",
       "      <th>1</th>\n",
       "      <td>2</td>\n",
       "      <td>CA-2016-152156</td>\n",
       "      <td>8/11/2016</td>\n",
       "      <td>11/11/2016</td>\n",
       "      <td>Second Class</td>\n",
       "      <td>CG-12520</td>\n",
       "      <td>Claire Gute</td>\n",
       "      <td>Consumer</td>\n",
       "      <td>United States</td>\n",
       "      <td>Henderson</td>\n",
       "      <td>...</td>\n",
       "      <td>42420</td>\n",
       "      <td>South</td>\n",
       "      <td>FUR-CH-10000454</td>\n",
       "      <td>Furniture</td>\n",
       "      <td>Chairs</td>\n",
       "      <td>Hon Deluxe Fabric Upholstered Stacking Chairs,...</td>\n",
       "      <td>731.9399999999999</td>\n",
       "      <td>3</td>\n",
       "      <td>0</td>\n",
       "      <td>219.58199999999997</td>\n",
       "    </tr>\n",
       "    <tr>\n",
       "      <th>2</th>\n",
       "      <td>3</td>\n",
       "      <td>CA-2016-138688</td>\n",
       "      <td>12/6/2016</td>\n",
       "      <td>16/6/2016</td>\n",
       "      <td>Second Class</td>\n",
       "      <td>DV-13045</td>\n",
       "      <td>Darrin Van Huff</td>\n",
       "      <td>Corporate</td>\n",
       "      <td>United States</td>\n",
       "      <td>Los Angeles</td>\n",
       "      <td>...</td>\n",
       "      <td>90036</td>\n",
       "      <td>West</td>\n",
       "      <td>OFF-LA-10000240</td>\n",
       "      <td>Office Supplies</td>\n",
       "      <td>Labels</td>\n",
       "      <td>Self-Adhesive Address Labels for Typewriters b...</td>\n",
       "      <td>14.62</td>\n",
       "      <td>2</td>\n",
       "      <td>0</td>\n",
       "      <td>6.8713999999999995</td>\n",
       "    </tr>\n",
       "    <tr>\n",
       "      <th>3</th>\n",
       "      <td>4</td>\n",
       "      <td>US-2015-108966</td>\n",
       "      <td>11/10/2015</td>\n",
       "      <td>18/10/2015</td>\n",
       "      <td>Standard Class</td>\n",
       "      <td>SO-20335</td>\n",
       "      <td>Sean O'Donnell</td>\n",
       "      <td>Consumer</td>\n",
       "      <td>United States</td>\n",
       "      <td>Fort Lauderdale</td>\n",
       "      <td>...</td>\n",
       "      <td>33311</td>\n",
       "      <td>South</td>\n",
       "      <td>FUR-TA-10000577</td>\n",
       "      <td>Furniture</td>\n",
       "      <td>Tables</td>\n",
       "      <td>Bretford CR4500 Series Slim Rectangular Table</td>\n",
       "      <td>957.5775</td>\n",
       "      <td>5</td>\n",
       "      <td>0.45</td>\n",
       "      <td>-383.03100000000006</td>\n",
       "    </tr>\n",
       "    <tr>\n",
       "      <th>4</th>\n",
       "      <td>5</td>\n",
       "      <td>US-2015-108966</td>\n",
       "      <td>11/10/2015</td>\n",
       "      <td>18/10/2015</td>\n",
       "      <td>Standard Class</td>\n",
       "      <td>SO-20335</td>\n",
       "      <td>Sean O'Donnell</td>\n",
       "      <td>Consumer</td>\n",
       "      <td>United States</td>\n",
       "      <td>Fort Lauderdale</td>\n",
       "      <td>...</td>\n",
       "      <td>33311</td>\n",
       "      <td>South</td>\n",
       "      <td>OFF-ST-10000760</td>\n",
       "      <td>Office Supplies</td>\n",
       "      <td>Storage</td>\n",
       "      <td>Eldon Fold 'N Roll Cart System</td>\n",
       "      <td>22.368000000000002</td>\n",
       "      <td>2</td>\n",
       "      <td>0.2</td>\n",
       "      <td>2.516399999999999</td>\n",
       "    </tr>\n",
       "  </tbody>\n",
       "</table>\n",
       "<p>5 rows × 21 columns</p>\n",
       "</div>"
      ],
      "text/plain": [
       "  Row ID        Order ID  Order Date   Ship Date       Ship Mode Customer ID  \\\n",
       "0      1  CA-2016-152156   8/11/2016  11/11/2016    Second Class    CG-12520   \n",
       "1      2  CA-2016-152156   8/11/2016  11/11/2016    Second Class    CG-12520   \n",
       "2      3  CA-2016-138688   12/6/2016   16/6/2016    Second Class    DV-13045   \n",
       "3      4  US-2015-108966  11/10/2015  18/10/2015  Standard Class    SO-20335   \n",
       "4      5  US-2015-108966  11/10/2015  18/10/2015  Standard Class    SO-20335   \n",
       "\n",
       "     Customer Name    Segment        Country             City  ...  \\\n",
       "0      Claire Gute   Consumer  United States        Henderson  ...   \n",
       "1      Claire Gute   Consumer  United States        Henderson  ...   \n",
       "2  Darrin Van Huff  Corporate  United States      Los Angeles  ...   \n",
       "3   Sean O'Donnell   Consumer  United States  Fort Lauderdale  ...   \n",
       "4   Sean O'Donnell   Consumer  United States  Fort Lauderdale  ...   \n",
       "\n",
       "  Postal Code Region       Product ID         Category Sub-Category  \\\n",
       "0       42420  South  FUR-BO-10001798        Furniture    Bookcases   \n",
       "1       42420  South  FUR-CH-10000454        Furniture       Chairs   \n",
       "2       90036   West  OFF-LA-10000240  Office Supplies       Labels   \n",
       "3       33311  South  FUR-TA-10000577        Furniture       Tables   \n",
       "4       33311  South  OFF-ST-10000760  Office Supplies      Storage   \n",
       "\n",
       "                                        Product Name               Sales  \\\n",
       "0                  Bush Somerset Collection Bookcase              261.96   \n",
       "1  Hon Deluxe Fabric Upholstered Stacking Chairs,...   731.9399999999999   \n",
       "2  Self-Adhesive Address Labels for Typewriters b...               14.62   \n",
       "3      Bretford CR4500 Series Slim Rectangular Table            957.5775   \n",
       "4                     Eldon Fold 'N Roll Cart System  22.368000000000002   \n",
       "\n",
       "  Quantity Discount               Profit  \n",
       "0        2        0              41.9136  \n",
       "1        3        0   219.58199999999997  \n",
       "2        2        0   6.8713999999999995  \n",
       "3        5     0.45  -383.03100000000006  \n",
       "4        2      0.2    2.516399999999999  \n",
       "\n",
       "[5 rows x 21 columns]"
      ]
     },
     "execution_count": 71,
     "metadata": {},
     "output_type": "execute_result"
    }
   ],
   "source": [
    "# Example usage\n",
    "tabs_to_read = [\"orders\", \"returns\"]  # list of desired tabs\n",
    "gsheet2 = \"19ReQlRfDQHcV1OFUnmVkiFY_1IrJeOR0g1RmrjfjMD4\"\n",
    "tabs2 = select_tabs('PIIT data', tabs_to_read)\n",
    "tabs2['orders'].head()"
   ]
  },
  {
   "cell_type": "code",
   "execution_count": 73,
   "id": "ec063fc1-ee29-43aa-8607-2b89257252e7",
   "metadata": {},
   "outputs": [
    {
     "data": {
      "text/plain": [
       "(296, 2)"
      ]
     },
     "execution_count": 73,
     "metadata": {},
     "output_type": "execute_result"
    }
   ],
   "source": [
    "tabs2['returns'].shape"
   ]
  },
  {
   "cell_type": "code",
   "execution_count": 75,
   "id": "1bc717b4-d24c-4573-839f-76a883d28851",
   "metadata": {},
   "outputs": [
    {
     "data": {
      "text/html": [
       "<div>\n",
       "<style scoped>\n",
       "    .dataframe tbody tr th:only-of-type {\n",
       "        vertical-align: middle;\n",
       "    }\n",
       "\n",
       "    .dataframe tbody tr th {\n",
       "        vertical-align: top;\n",
       "    }\n",
       "\n",
       "    .dataframe thead th {\n",
       "        text-align: right;\n",
       "    }\n",
       "</style>\n",
       "<table border=\"1\" class=\"dataframe\">\n",
       "  <thead>\n",
       "    <tr style=\"text-align: right;\">\n",
       "      <th></th>\n",
       "      <th>Returned</th>\n",
       "      <th>Order ID</th>\n",
       "    </tr>\n",
       "  </thead>\n",
       "  <tbody>\n",
       "    <tr>\n",
       "      <th>0</th>\n",
       "      <td>Yes</td>\n",
       "      <td>CA-2017-153822</td>\n",
       "    </tr>\n",
       "    <tr>\n",
       "      <th>1</th>\n",
       "      <td>Yes</td>\n",
       "      <td>CA-2017-129707</td>\n",
       "    </tr>\n",
       "    <tr>\n",
       "      <th>2</th>\n",
       "      <td>Yes</td>\n",
       "      <td>CA-2014-152345</td>\n",
       "    </tr>\n",
       "    <tr>\n",
       "      <th>3</th>\n",
       "      <td>Yes</td>\n",
       "      <td>CA-2015-156440</td>\n",
       "    </tr>\n",
       "    <tr>\n",
       "      <th>4</th>\n",
       "      <td>Yes</td>\n",
       "      <td>US-2017-155999</td>\n",
       "    </tr>\n",
       "  </tbody>\n",
       "</table>\n",
       "</div>"
      ],
      "text/plain": [
       "  Returned        Order ID\n",
       "0      Yes  CA-2017-153822\n",
       "1      Yes  CA-2017-129707\n",
       "2      Yes  CA-2014-152345\n",
       "3      Yes  CA-2015-156440\n",
       "4      Yes  US-2017-155999"
      ]
     },
     "execution_count": 75,
     "metadata": {},
     "output_type": "execute_result"
    }
   ],
   "source": [
    "tabs2['returns'].head()"
   ]
  },
  {
   "cell_type": "code",
   "execution_count": null,
   "id": "b93bd293-2754-4c2b-af4c-98f0b3a79d90",
   "metadata": {},
   "outputs": [],
   "source": []
  }
 ],
 "metadata": {
  "kernelspec": {
   "display_name": "Python 3 (ipykernel)",
   "language": "python",
   "name": "python3"
  },
  "language_info": {
   "codemirror_mode": {
    "name": "ipython",
    "version": 3
   },
   "file_extension": ".py",
   "mimetype": "text/x-python",
   "name": "python",
   "nbconvert_exporter": "python",
   "pygments_lexer": "ipython3",
   "version": "3.12.7"
  }
 },
 "nbformat": 4,
 "nbformat_minor": 5
}
