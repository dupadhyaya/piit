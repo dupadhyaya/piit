{
 "cells": [
  {
   "cell_type": "markdown",
   "id": "b39c7ead-68d4-4836-acb0-9dedceea763c",
   "metadata": {},
   "source": [
    "## Pandas Options\n",
    "- https://pandas.pydata.org/docs/user_guide/options.html"
   ]
  },
  {
   "cell_type": "code",
   "execution_count": 1,
   "id": "edaee843-c11a-4d64-86dd-ef90ecb1296f",
   "metadata": {},
   "outputs": [],
   "source": [
    "import pandas as pd"
   ]
  },
  {
   "cell_type": "code",
   "execution_count": null,
   "id": "93a7217e-5ff8-4f83-96af-ac7a3635fb1f",
   "metadata": {},
   "outputs": [],
   "source": [
    "# Set Pandas options for wrapping\n",
    "pd.set_option('display.max_columns', None)   # Show all columns\n",
    "pd.set_option('display.width', 100)          # Set line width before wrapping\n",
    "pd.set_option('display.max_colwidth', None)  # Don't truncate text"
   ]
  }
 ],
 "metadata": {
  "kernelspec": {
   "display_name": "Python 3 (ipykernel)",
   "language": "python",
   "name": "python3"
  },
  "language_info": {
   "codemirror_mode": {
    "name": "ipython",
    "version": 3
   },
   "file_extension": ".py",
   "mimetype": "text/x-python",
   "name": "python",
   "nbconvert_exporter": "python",
   "pygments_lexer": "ipython3",
   "version": "3.12.7"
  }
 },
 "nbformat": 4,
 "nbformat_minor": 5
}
