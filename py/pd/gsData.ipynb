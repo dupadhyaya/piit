{
 "cells": [
  {
   "cell_type": "markdown",
   "id": "5af6bdc5-1601-4406-b69f-5fd00d85693e",
   "metadata": {},
   "source": [
    "# Data Export \n",
    "-"
   ]
  },
  {
   "cell_type": "code",
   "execution_count": 5,
   "id": "f204e4a7-02a5-4971-bffa-e8c5658c442a",
   "metadata": {},
   "outputs": [],
   "source": [
    "#pip install gspread"
   ]
  },
  {
   "cell_type": "code",
   "execution_count": 6,
   "id": "eaab8c18-06a9-41ed-abde-ecb98eb1fc0e",
   "metadata": {},
   "outputs": [],
   "source": [
    "import pandas as pd\n",
    "import gspread\n",
    "from google.oauth2.service_account import Credentials"
   ]
  },
  {
   "cell_type": "code",
   "execution_count": 35,
   "id": "b38cb72a-6b9e-4ac1-8399-5a7de1e40bc0",
   "metadata": {},
   "outputs": [],
   "source": [
    "key = '/Users/du/dup/analytics/keys/dup1966gskey.json'\n",
    "shname ='PIIT data from Python'"
   ]
  },
  {
   "cell_type": "code",
   "execution_count": 15,
   "id": "54296c29-73dc-4efb-96fa-b68df279cc8f",
   "metadata": {},
   "outputs": [
    {
     "data": {
      "text/plain": [
       "<gspread.client.Client at 0x1439d1190>"
      ]
     },
     "execution_count": 15,
     "metadata": {},
     "output_type": "execute_result"
    }
   ],
   "source": [
    "creds = Credentials.from_service_account_file ( key, scopes=[  \"https://www.googleapis.com/auth/spreadsheets\",     \"https://www.googleapis.com/auth/drive\" ])\n",
    "client = gspread.authorize(creds)\n",
    "client"
   ]
  },
  {
   "cell_type": "code",
   "execution_count": 36,
   "id": "3bd2b98c-c9d2-4ac8-8f63-d95fa97f4f47",
   "metadata": {},
   "outputs": [],
   "source": [
    "sheet = client.open(shname).sheet1"
   ]
  },
  {
   "cell_type": "code",
   "execution_count": 37,
   "id": "baa76e42-9f3b-41c9-962f-c74d5b196b0f",
   "metadata": {},
   "outputs": [
    {
     "data": {
      "text/plain": [
       "<Worksheet 'ML' id:0>"
      ]
     },
     "execution_count": 37,
     "metadata": {},
     "output_type": "execute_result"
    }
   ],
   "source": [
    "sheet"
   ]
  },
  {
   "cell_type": "code",
   "execution_count": 21,
   "id": "664d946d-ad56-4323-b153-05ecaded9632",
   "metadata": {},
   "outputs": [
    {
     "data": {
      "text/html": [
       "<div>\n",
       "<style scoped>\n",
       "    .dataframe tbody tr th:only-of-type {\n",
       "        vertical-align: middle;\n",
       "    }\n",
       "\n",
       "    .dataframe tbody tr th {\n",
       "        vertical-align: top;\n",
       "    }\n",
       "\n",
       "    .dataframe thead th {\n",
       "        text-align: right;\n",
       "    }\n",
       "</style>\n",
       "<table border=\"1\" class=\"dataframe\">\n",
       "  <thead>\n",
       "    <tr style=\"text-align: right;\">\n",
       "      <th></th>\n",
       "      <th>Name</th>\n",
       "      <th>Score</th>\n",
       "    </tr>\n",
       "  </thead>\n",
       "  <tbody>\n",
       "    <tr>\n",
       "      <th>0</th>\n",
       "      <td>Alice</td>\n",
       "      <td>90</td>\n",
       "    </tr>\n",
       "    <tr>\n",
       "      <th>1</th>\n",
       "      <td>Bob</td>\n",
       "      <td>85</td>\n",
       "    </tr>\n",
       "  </tbody>\n",
       "</table>\n",
       "</div>"
      ],
      "text/plain": [
       "    Name  Score\n",
       "0  Alice     90\n",
       "1    Bob     85"
      ]
     },
     "execution_count": 21,
     "metadata": {},
     "output_type": "execute_result"
    }
   ],
   "source": [
    "# Write a DataFrame\n",
    "df = pd.DataFrame({\"Name\": [\"Alice\", \"Bob\"], \"Score\": [90, 85]})\n",
    "df"
   ]
  },
  {
   "cell_type": "code",
   "execution_count": null,
   "id": "d9267e7b-e604-4cc3-9d91-eae1da3b02f1",
   "metadata": {},
   "outputs": [],
   "source": [
    "sheet.update([df.columns.values.tolist()] + df.values.tolist())"
   ]
  },
  {
   "cell_type": "markdown",
   "id": "4783a237-420c-41db-9f4a-6b3051ebd8dc",
   "metadata": {},
   "source": [
    "## other sheet\n",
    "-  "
   ]
  },
  {
   "cell_type": "code",
   "execution_count": 38,
   "id": "bc1b7475-5d69-41f3-b241-b01dda828c57",
   "metadata": {},
   "outputs": [
    {
     "data": {
      "text/plain": [
       "<Spreadsheet 'PIIT data from Python' id:1L9zhEJd_xWNWPXwliTvEBqah8nQ6YS2xjwvuqtqhYtM>"
      ]
     },
     "execution_count": 38,
     "metadata": {},
     "output_type": "execute_result"
    }
   ],
   "source": [
    "# Open spreadsheet by name\n",
    "spreadsheet = client.open(shname)\n",
    "spreadsheet"
   ]
  },
  {
   "cell_type": "markdown",
   "id": "ed23b1b0-743a-4c7f-8e5d-5332ef85f375",
   "metadata": {},
   "source": [
    "###  --- Option 1: Create a NEW sheet ---"
   ]
  },
  {
   "cell_type": "code",
   "execution_count": 24,
   "id": "cb5166c8-ede3-43f6-a359-5c6810552064",
   "metadata": {},
   "outputs": [
    {
     "data": {
      "text/plain": [
       "{'spreadsheetId': '1L9zhEJd_xWNWPXwliTvEBqah8nQ6YS2xjwvuqtqhYtM',\n",
       " 'updatedRange': 'NewData!A1:B3',\n",
       " 'updatedRows': 3,\n",
       " 'updatedColumns': 2,\n",
       " 'updatedCells': 6}"
      ]
     },
     "execution_count": 24,
     "metadata": {},
     "output_type": "execute_result"
    }
   ],
   "source": [
    "new_sheet = spreadsheet.add_worksheet(title=\"NewData\", rows=\"100\", cols=\"20\")\n",
    "new_sheet.update([df.columns.values.tolist()] + df.values.tolist())"
   ]
  },
  {
   "cell_type": "markdown",
   "id": "ce921754-6c57-4500-8498-1be468e06f96",
   "metadata": {},
   "source": [
    "### --- Option 2: Write to an EXISTING sheet by name ---"
   ]
  },
  {
   "cell_type": "code",
   "execution_count": 25,
   "id": "9ea07d51-5158-42ce-80de-92bb058c5db4",
   "metadata": {},
   "outputs": [
    {
     "data": {
      "text/plain": [
       "{'spreadsheetId': '1L9zhEJd_xWNWPXwliTvEBqah8nQ6YS2xjwvuqtqhYtM',\n",
       " 'clearedRange': 'Sheet2!A1:Z1000'}"
      ]
     },
     "execution_count": 25,
     "metadata": {},
     "output_type": "execute_result"
    }
   ],
   "source": [
    "existing_sheet = spreadsheet.worksheet(\"Sheet2\")  # must exist already\n",
    "existing_sheet.clear()"
   ]
  },
  {
   "cell_type": "code",
   "execution_count": 26,
   "id": "0a00b6d6-cc2b-4c21-a7b8-e13fa38e024a",
   "metadata": {},
   "outputs": [
    {
     "data": {
      "text/plain": [
       "{'spreadsheetId': '1L9zhEJd_xWNWPXwliTvEBqah8nQ6YS2xjwvuqtqhYtM',\n",
       " 'updatedRange': 'Sheet2!A1:B3',\n",
       " 'updatedRows': 3,\n",
       " 'updatedColumns': 2,\n",
       " 'updatedCells': 6}"
      ]
     },
     "execution_count": 26,
     "metadata": {},
     "output_type": "execute_result"
    }
   ],
   "source": [
    "existing_sheet.update([df.columns.values.tolist()] + df.values.tolist())"
   ]
  },
  {
   "cell_type": "markdown",
   "id": "ccff945b-f0d0-4604-9fd2-9323f12a88b7",
   "metadata": {},
   "source": [
    "# pygsheets Library\n",
    "- "
   ]
  },
  {
   "cell_type": "code",
   "execution_count": 2,
   "id": "45891896-3fce-4017-a8e4-8e8620d59f43",
   "metadata": {},
   "outputs": [],
   "source": [
    "#pip install pygsheets"
   ]
  },
  {
   "cell_type": "code",
   "execution_count": 27,
   "id": "51b1c979-7acf-4ac0-b457-181925069efe",
   "metadata": {},
   "outputs": [],
   "source": [
    "import pandas as pd\n",
    "import pygsheets\n",
    "import os"
   ]
  },
  {
   "cell_type": "code",
   "execution_count": null,
   "id": "bc9b4f64-19e3-4a9d-89b9-8301fea4eab6",
   "metadata": {},
   "outputs": [],
   "source": [
    "os.listdir('/Users/du/dup/auData/keys')"
   ]
  },
  {
   "cell_type": "code",
   "execution_count": 28,
   "id": "921ae29d-7b0a-41d6-8772-1d4393196e19",
   "metadata": {},
   "outputs": [],
   "source": [
    "# Authenticate\n",
    "gc = pygsheets.authorize(service_file=key)"
   ]
  },
  {
   "cell_type": "code",
   "execution_count": 39,
   "id": "2c068603-d237-491b-9e3c-e4bad6bc3ac2",
   "metadata": {},
   "outputs": [
    {
     "data": {
      "text/plain": [
       "<Spreadsheet 'PIIT data from Python' Sheets:4>"
      ]
     },
     "execution_count": 39,
     "metadata": {},
     "output_type": "execute_result"
    }
   ],
   "source": [
    "sh = gc.open(shname)\n",
    "sh"
   ]
  },
  {
   "cell_type": "markdown",
   "id": "7a685020-6b6a-4032-8476-a059a9350a86",
   "metadata": {},
   "source": [
    "###  --- Option 1: Create new worksheet ---"
   ]
  },
  {
   "cell_type": "code",
   "execution_count": 40,
   "id": "e6654d0a-2859-411d-a3c1-0c5eadce2c4a",
   "metadata": {},
   "outputs": [],
   "source": [
    "wks_new = sh.add_worksheet(title=\"NewData3\", rows=100, cols=20)\n",
    "wks_new.set_dataframe(df, (1, 1))"
   ]
  },
  {
   "cell_type": "markdown",
   "id": "c224d5cd-16e7-4911-8c21-5f41ddb92933",
   "metadata": {},
   "source": [
    "### --- Option 2: Write to existing worksheet ---"
   ]
  },
  {
   "cell_type": "code",
   "execution_count": 33,
   "id": "a139401e-a512-4787-b68d-5860d6884c05",
   "metadata": {},
   "outputs": [],
   "source": [
    "wks_existing = sh.worksheet_by_title(\"Sheet2\")\n",
    "wks_existing.clear()\n",
    "wks_existing.set_dataframe(df, (1, 1))"
   ]
  },
  {
   "cell_type": "markdown",
   "id": "6a7524f4-3b7e-449b-bfd7-28fee2e1eaf7",
   "metadata": {},
   "source": [
    "## Sheet Names"
   ]
  },
  {
   "cell_type": "code",
   "execution_count": 41,
   "id": "52b1a7a1-fa30-4727-b125-4f0d7cfc8153",
   "metadata": {},
   "outputs": [
    {
     "data": {
      "text/plain": [
       "[<Worksheet 'ML' index:0>,\n",
       " <Worksheet 'Sheet2' index:1>,\n",
       " <Worksheet 'NewData' index:2>,\n",
       " <Worksheet 'NewData2' index:3>,\n",
       " <Worksheet 'NewData3' index:4>]"
      ]
     },
     "execution_count": 41,
     "metadata": {},
     "output_type": "execute_result"
    }
   ],
   "source": [
    "sheetList = gc.open(shname).worksheets()\n",
    "sheetList"
   ]
  },
  {
   "cell_type": "code",
   "execution_count": 42,
   "id": "fb53a0ea-fd78-440c-b790-c66c944fa684",
   "metadata": {},
   "outputs": [
    {
     "data": {
      "text/plain": [
       "<Worksheet 'ML' index:0>"
      ]
     },
     "execution_count": 42,
     "metadata": {},
     "output_type": "execute_result"
    }
   ],
   "source": [
    "# Open sheet\n",
    "sh = gc.open(shname)\n",
    "wks = sh[0]  # first worksheet\n",
    "wks"
   ]
  },
  {
   "cell_type": "code",
   "execution_count": 44,
   "id": "ea5e2070-4be5-4150-a990-59f861b589fd",
   "metadata": {},
   "outputs": [
    {
     "data": {
      "text/html": [
       "<div>\n",
       "<style scoped>\n",
       "    .dataframe tbody tr th:only-of-type {\n",
       "        vertical-align: middle;\n",
       "    }\n",
       "\n",
       "    .dataframe tbody tr th {\n",
       "        vertical-align: top;\n",
       "    }\n",
       "\n",
       "    .dataframe thead th {\n",
       "        text-align: right;\n",
       "    }\n",
       "</style>\n",
       "<table border=\"1\" class=\"dataframe\">\n",
       "  <thead>\n",
       "    <tr style=\"text-align: right;\">\n",
       "      <th></th>\n",
       "      <th>A</th>\n",
       "      <th>B</th>\n",
       "    </tr>\n",
       "  </thead>\n",
       "  <tbody>\n",
       "    <tr>\n",
       "      <th>0</th>\n",
       "      <td>1</td>\n",
       "      <td>x</td>\n",
       "    </tr>\n",
       "    <tr>\n",
       "      <th>1</th>\n",
       "      <td>2</td>\n",
       "      <td>y</td>\n",
       "    </tr>\n",
       "    <tr>\n",
       "      <th>2</th>\n",
       "      <td>3</td>\n",
       "      <td>z</td>\n",
       "    </tr>\n",
       "  </tbody>\n",
       "</table>\n",
       "</div>"
      ],
      "text/plain": [
       "   A  B\n",
       "0  1  x\n",
       "1  2  y\n",
       "2  3  z"
      ]
     },
     "execution_count": 44,
     "metadata": {},
     "output_type": "execute_result"
    }
   ],
   "source": [
    "# Write DataFrame\n",
    "df = pd.DataFrame({'A': [1, 2, 3], 'B': ['x', 'y', 'z']})\n",
    "df"
   ]
  },
  {
   "cell_type": "code",
   "execution_count": 45,
   "id": "62ba1698-71bf-4c7b-bf0e-25e8ab7e35c0",
   "metadata": {},
   "outputs": [],
   "source": [
    "wks.set_dataframe(df, (1, 1))"
   ]
  },
  {
   "cell_type": "markdown",
   "id": "8dcc6cb8-b65c-4e35-a903-e85125bab108",
   "metadata": {},
   "source": [
    "## Read Data\n",
    "### Open the spreadsheet (choose ONE of the three lines below)\n",
    "- spreadsheet = client.open(\"My Google Spreadsheet\")          # by name\n",
    "- spreadsheet = client.open_by_url(\"https://docs.google.com/spreadsheets/d/<KEY>/edit#gid=<GID>\")\n",
    "- spreadsheet = client.open_by_key(\"<SPREADSHEET_KEY>\")          # by key (recommended)\n",
    "- https://docs.google.com/spreadsheets/d/1L9zhEJd_xWNWPXwliTvEBqah8nQ6YS2xjwvuqtqhYtM/edit?gid=2141895426#gid=2141895426"
   ]
  },
  {
   "cell_type": "code",
   "execution_count": 48,
   "id": "31674202-1fc1-4586-be53-61ca210c90b2",
   "metadata": {},
   "outputs": [],
   "source": [
    "#pip install gspread_dataframe"
   ]
  },
  {
   "cell_type": "code",
   "execution_count": 49,
   "id": "f3fbd85f-8819-4704-a8e6-e3012a25be52",
   "metadata": {},
   "outputs": [],
   "source": [
    "import pandas as pd\n",
    "import gspread\n",
    "from google.oauth2.service_account import Credentials\n",
    "from gspread_dataframe import get_as_dataframe"
   ]
  },
  {
   "cell_type": "code",
   "execution_count": 50,
   "id": "4a2bb2b5-689a-4fdd-8986-71c046c26a8b",
   "metadata": {},
   "outputs": [],
   "source": [
    "creds = Credentials.from_service_account_file(key,scopes=[   \"https://www.googleapis.com/auth/spreadsheets\", \"https://www.googleapis.com/auth/drive\",   ],)\n",
    "client = gspread.authorize(creds)"
   ]
  },
  {
   "cell_type": "code",
   "execution_count": 52,
   "id": "14091412-f283-425f-9366-cd55c6bf50ee",
   "metadata": {},
   "outputs": [],
   "source": [
    "gsid ='1L9zhEJd_xWNWPXwliTvEBqah8nQ6YS2xjwvuqtqhYtM'\n",
    "shr = client.open_by_key(gsid)          # by key (recommended)"
   ]
  },
  {
   "cell_type": "code",
   "execution_count": 54,
   "id": "8c545b6d-9849-47b7-8b7e-719338276c17",
   "metadata": {},
   "outputs": [
    {
     "data": {
      "text/plain": [
       "[<Worksheet 'ML' id:0>,\n",
       " <Worksheet 'Sheet2' id:2141895426>,\n",
       " <Worksheet 'NewData' id:565522700>,\n",
       " <Worksheet 'NewData2' id:2018298584>,\n",
       " <Worksheet 'NewData3' id:246207265>]"
      ]
     },
     "execution_count": 54,
     "metadata": {},
     "output_type": "execute_result"
    }
   ],
   "source": [
    "sheetList = shr.worksheets()\n",
    "sheetList"
   ]
  },
  {
   "cell_type": "code",
   "execution_count": 55,
   "id": "1119fcfc-66ab-417c-9657-12a5219c20ad",
   "metadata": {},
   "outputs": [
    {
     "data": {
      "text/plain": [
       "<Worksheet 'Sheet2' id:2141895426>"
      ]
     },
     "execution_count": 55,
     "metadata": {},
     "output_type": "execute_result"
    }
   ],
   "source": [
    "#  Select the worksheet/tab\n",
    "ws = spreadsheet.worksheet(\"Sheet2\")  # e.g., your “orders” sheet\n",
    "ws"
   ]
  },
  {
   "cell_type": "code",
   "execution_count": 56,
   "id": "e99472e8-f00d-45ea-8228-58038df04ceb",
   "metadata": {},
   "outputs": [
    {
     "data": {
      "text/html": [
       "<div>\n",
       "<style scoped>\n",
       "    .dataframe tbody tr th:only-of-type {\n",
       "        vertical-align: middle;\n",
       "    }\n",
       "\n",
       "    .dataframe tbody tr th {\n",
       "        vertical-align: top;\n",
       "    }\n",
       "\n",
       "    .dataframe thead th {\n",
       "        text-align: right;\n",
       "    }\n",
       "</style>\n",
       "<table border=\"1\" class=\"dataframe\">\n",
       "  <thead>\n",
       "    <tr style=\"text-align: right;\">\n",
       "      <th></th>\n",
       "      <th>Name</th>\n",
       "      <th>Score</th>\n",
       "    </tr>\n",
       "  </thead>\n",
       "  <tbody>\n",
       "    <tr>\n",
       "      <th>0</th>\n",
       "      <td>Alice</td>\n",
       "      <td>90</td>\n",
       "    </tr>\n",
       "    <tr>\n",
       "      <th>1</th>\n",
       "      <td>Bob</td>\n",
       "      <td>85</td>\n",
       "    </tr>\n",
       "  </tbody>\n",
       "</table>\n",
       "</div>"
      ],
      "text/plain": [
       "    Name Score\n",
       "0  Alice    90\n",
       "1    Bob    85"
      ]
     },
     "execution_count": 56,
     "metadata": {},
     "output_type": "execute_result"
    }
   ],
   "source": [
    "# 4) Import to pandas (first row as header; keep empty rows/cols off)\n",
    "df = get_as_dataframe(ws, evaluate_formulas=True, header=0, dtype=str, na_filter=True)\n",
    "df"
   ]
  },
  {
   "cell_type": "code",
   "execution_count": null,
   "id": "05ec55c2-d0f7-469b-9e87-3bb7fa485477",
   "metadata": {},
   "outputs": [],
   "source": []
  }
 ],
 "metadata": {
  "kernelspec": {
   "display_name": "Python 3 (ipykernel)",
   "language": "python",
   "name": "python3"
  },
  "language_info": {
   "codemirror_mode": {
    "name": "ipython",
    "version": 3
   },
   "file_extension": ".py",
   "mimetype": "text/x-python",
   "name": "python",
   "nbconvert_exporter": "python",
   "pygments_lexer": "ipython3",
   "version": "3.12.7"
  }
 },
 "nbformat": 4,
 "nbformat_minor": 5
}
