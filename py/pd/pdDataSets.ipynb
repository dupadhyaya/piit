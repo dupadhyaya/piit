{
 "cells": [
  {
   "cell_type": "markdown",
   "id": "f0d7f2af-bb97-48c9-bd71-f8368b2e121c",
   "metadata": {},
   "source": [
    "## Built In Data sets\n",
    "- they provide data sets for practise cases"
   ]
  },
  {
   "cell_type": "markdown",
   "id": "1ac24061-1509-41ba-ba69-eba00d487ee5",
   "metadata": {},
   "source": [
    "### pydatasets\n",
    "- Wraps the R “datasets” package for Python — contains famous datasets like iris, mtcars, Titanic, etc\n",
    "- Install : pip install pydataset\n",
    "- https://pydataset.readthedocs.io/en/latest/"
   ]
  },
  {
   "cell_type": "code",
   "execution_count": 30,
   "id": "fcfe4901-22ef-4c34-bbb0-aa803be677cf",
   "metadata": {},
   "outputs": [],
   "source": [
    "from pydataset import data"
   ]
  },
  {
   "cell_type": "code",
   "execution_count": 31,
   "id": "04924b2d-8782-449d-a0eb-e7d6932e199e",
   "metadata": {},
   "outputs": [
    {
     "name": "stdout",
     "output_type": "stream",
     "text": [
      "        dataset_id                                             title\n",
      "0    AirPassengers       Monthly Airline Passenger Numbers 1949-1960\n",
      "1          BJsales                 Sales Data with Leading Indicator\n",
      "2              BOD                         Biochemical Oxygen Demand\n",
      "3     Formaldehyde                     Determination of Formaldehyde\n",
      "4     HairEyeColor         Hair and Eye Color of Statistics Students\n",
      "..             ...                                               ...\n",
      "752        VerbAgg                  Verbal Aggression item responses\n",
      "753           cake                 Breakage Angle of Chocolate Cakes\n",
      "754           cbpp                 Contagious bovine pleuropneumonia\n",
      "755    grouseticks  Data on red grouse ticks from Elston et al. 2001\n",
      "756     sleepstudy       Reaction times in a sleep deprivation study\n",
      "\n",
      "[757 rows x 2 columns]\n"
     ]
    }
   ],
   "source": [
    "# List all datasets\n",
    "print(data())"
   ]
  },
  {
   "cell_type": "code",
   "execution_count": 33,
   "id": "1d38c9a0-2c70-43fe-aa94-ae18e656760b",
   "metadata": {},
   "outputs": [
    {
     "name": "stdout",
     "output_type": "stream",
     "text": [
      "AirPassengers, BJsales, BOD, Formaldehyde, HairEyeColor, InsectSprays, JohnsonJohnson, LakeHuron, LifeCycleSavings, Nile, OrchardSprays, PlantGrowth, Puromycin, Titanic, ToothGrowth, UCBAdmissions, UKDriverDeaths, UKgas, USAccDeaths, USArrests, USJudgeRatings, USPersonalExpenditure, VADeaths, WWWusage, WorldPhones, airmiles, airquality, anscombe, attenu, attitude, austres, cars, chickwts, co2, crimtab, discoveries, esoph, euro, faithful, freeny, infert, iris, islands, lh, longley, lynx, morley, mtcars, nhtemp, nottem, npk, occupationalStatus, precip, presidents, pressure, quakes, randu, rivers, rock, sleep, stackloss, sunspot.month, sunspot.year, sunspots, swiss, treering, trees, uspop, volcano, warpbreaks, women, acme, aids, aircondit, aircondit7, amis, aml, bigcity, brambles, breslow, calcium, cane, capability, catsM, cav, cd4, channing, city, claridge, cloth, co.transfer, coal, darwin, dogs, downs.bc, ducks, fir, frets, grav, gravity, hirose, islay, manaus, melanoma, motor, neuro, nitrofen, nodal, nuclear, paulsen, poisons, polar, remission, salinity, survival, tau, tuna, urine, wool, aids, alloauto, allograft, azt, baboon, bcdeter, bfeed, bmt, bnct, btrial, burn, channing, drug6mp, drughiv, hodg, kidney, kidrecurr, kidtran, larynx, lung, pneumon, psych, rats, std, stddiag, tongue, twins, Animals2, CrohnD, NOxEmissions, SiegelsEx, aircraft, airmay, alcohol, ambientNOxCH, bushfire, carrots, cloud, coleman, condroz, cushny, delivery, education, epilepsy, exAM, foodstamp, hbk, heart, kootenay, lactic, milk, pension, phosphor, pilot, possumDiv, pulpfiber, radarImage, salinity, starsCYG, telef, toxicity, vaso, wagnerGrowth, wood, AMSsurvey, Adler, Angell, Anscombe, Baumann, Bfox, Blackmoor, Burt, CanPop, Chile, Chirot, Cowles, Davis, DavisThin, Depredations, Duncan, Ericksen, Florida, Freedman, Friendly, Ginzberg, Greene, Guyer, Hartnagel, Highway1, Leinhardt, Mandel, Migration, Moore, Mroz, OBrienKaiser, Ornstein, Pottery, Prestige, Quartet, Robey, SLID, Sahlins, Salaries, Soils, States, Transact, UN, USPop, Vocab, WeightLoss, Womenlf, Wool, agriculture, animals, chorSub, flower, plantTraits, pluton, ruspini, votes.repub, xclara, affairs, azcabgptca, azdrg112, azpro, azprocedure, badhealth, fasttrakg, fishing, lbw, lbwgrp, loomis, mdvis, medpar, nuts, rwm, rwm1984, rwm5yr, ships, smoking, titanic, titanicgrp, Accident, Airline, Airq, Benefits, Bids, BudgetFood, BudgetItaly, BudgetUK, Bwages, CPSch3, CRANpackages, Capm, Car, Caschool, Catsup, Cigar, Cigarette, Clothing, Computers, Cracker, Crime, DM, Diamond, Doctor, DoctorAUS, DoctorContacts, Earnings, Electricity, Fair, Fatality, Fishing, Forward, FriendFoe, Garch, Gasoline, Griliches, Grunfeld, HC, HI, Hdma, Heating, Hedonic, Housing, Icecream, Journals, Kakadu, Ketchup, Klein, LaborSupply, Labour, MCAS, Males, Mathlevel, MedExp, Metal, Mode, ModeChoice, Mofa, Mroz, MunExp, NaturalPark, Nerlove, OFP, Oil, PSID, Participation, PatentsHGH, PatentsRD, Pound, Produc, RetSchool, SP500, Schooling, Somerville, Star, Strike, StrikeDur, StrikeNb, SumHes, Tobacco, Train, TranspEq, Treatment, Tuna, USFinanceIndustry, USclassifiedDocuments, USstateAbbreviations, UStaxWords, UnempDur, Unemployment, University, VietNamH, VietNamI, Wages, Wages1, Workinghours, Yen, Yogurt, bankingCrises, incomeInequality, nonEnglishNames, politicalKnowledge, PD, aldh2, apoeapoc, cf, crohn, fa, fsnps, hla, hr1420, l51, lukas, mao, mfblong, mhtdata, nep499, diamonds, economics, midwest, movies, mpg, msleep, presidential, seals, Arbuthnot, Bowley, Cavendish, ChestSizes, CushnyPeebles, CushnyPeeblesN, Dactyl, DrinksWages, Fingerprints, Galton, GaltonFamilies, Guerry, Jevons, Langren.all, Langren1644, Macdonell, MacdonellDF, Michelson, MichelsonSets, Minard.cities, Minard.temp, Minard.troops, Nightingale, OldMaps, PearsonLee, PolioTrials, Prostitutes, Pyx, Quarrels, Snow.deaths, Snow.polygons, Snow.pumps, Snow.streets, Wheat, Wheat.monarchs, Yeast, YeastD.mat, ZeaMays, barley, environmental, ethanol, melanoma, singer, Aids2, Animals, Boston, Cars93, Cushings, DDT, GAGurine, Insurance, Melanoma, OME, Pima.te, Pima.tr, Pima.tr2, Rabbit, Rubber, SP500, Sitka, Sitka89, Skye, Traffic, UScereal, UScrime, VA, abbey, accdeaths, anorexia, bacteria, beav1, beav2, biopsy, birthwt, cabbages, caith, cats, cement, chem, coop, cpus, crabs, deaths, drivers, eagles, epil, farms, fgl, forbes, galaxies, gehan, genotype, geyser, gilgais, hills, housing, immer, leuk, mammals, mcycle, menarche, michelson, minn38, motors, muscle, newcomb, nlschools, npk, npr1, oats, painters, petrol, quine, road, rotifer, ships, shrimp, shuttle, snails, steam, stormer, survey, synth.te, synth.tr, topo, waders, whiteside, wtloss, Cigar, Crime, EmplUK, Gasoline, Grunfeld, Hedonic, LaborSupply, Males, Produc, Snmesp, SumHes, Wages, baseball, AustralianElectionPolling, AustralianElections, EfronMorris, RockTheVote, UKHouseOfCommons, absentee, admit, bioChemists, ca2006, iraqVote, politicalInformation, presidentialElections, prussian, unionDensity, vote92, french_fries, smiths, tips, car.test.frame, car90, cu.summary, kyphosis, solder, stagec, PublicSchools, Bollen, CNES, Klein, Kmenta, Tests, bladder, cancer, cgd, colon, flchain, heart, kidney, leukemia, logan, lung, mgus, nwtco, ovarian, pbc, rats, stanford2, tobin, veteran, Arthritis, Baseball, BrokenMarriage, Bundesliga, Bundestag2005, Butterfly, CoalMiners, DanishWelfare, Employment, Federalist, Hitters, HorseKicks, Hospital, JobSatisfaction, JointSports, Lifeboats, NonResponse, OvaryCancer, PreSex, Punishment, RepVict, Saxony, SexualFun, SpaceShuttle, Suicide, Trucks, UKSoccer, VisualAcuity, VonBort, WeldonDice, WomenQueue, MatchIt.url, PErisk, SupremeCourt, Weimar, Zelig.url, approval, bivariate, coalition, coalition2, eidat, free1, free2, friendship, grunfeld, hoff, homerun, immi1, immi2, immi3, immi4, immi5, immigration, klein, kmenta, macro, mexico, mid, newpainters, sanction, sna.ex, swiss, tobin, turnout, voteincome, BCG, BtheB, CYGOB1, Forbes2000, GHQ, Lanza, agefat, aspirin, birthdeathrates, bladdercancer, clouds, epilepsy, foster, heptathlon, mastectomy, meteo, orallesions, phosphate, pistonrings, planets, plasma, polyps, polyps3, pottery, rearrests, respiratory, roomwidth, schizophrenia, schizophrenia2, schooldays, skulls, smoking, students, suicides, toothpaste, voting, water, watervoles, waves, weightgain, womensrole, Bechtoldt, Bechtoldt.1, Bechtoldt.2, Dwyer, Gleser, Gorsuch, Harman.5, Harman.8, Harman.political, Holzinger, Holzinger.9, Reise, Schmid, Thurstone, Thurstone.33, Tucker, ability, affect, bfi, bfi.dictionary, blot, burt, cities, cubits, cushny, epi, epi.bfi, epi.dictionary, galton, heights, income, iqitems, msq, neo, peas, sat.act, withinBetween, Bosco, CobarOre, Mammals, barro, engel, uis, dietox, koch, ohio, respdis, respiratory, seizure, sitka89, spruce, liver, portpirie, rain, summer, wavesurge, winter, arthritis, housing, bmw, danish, nidd.annual, nidd.thresh, siemens, sp.raw, spto87, Dyestuff, Dyestuff2, InstEval, Pastes, Penicillin, VerbAgg, cake, cbpp, grouseticks, sleepstudy\n"
     ]
    }
   ],
   "source": [
    "dataset_ids = data()['dataset_id'].tolist()\n",
    "# Join into a comma-separated string\n",
    "dataset_ids_str = \", \".join(dataset_ids)\n",
    "print(dataset_ids_str)"
   ]
  },
  {
   "cell_type": "code",
   "execution_count": 35,
   "id": "0ebc25d1-588d-4185-bb01-fc5d4d954ed5",
   "metadata": {},
   "outputs": [
    {
     "name": "stdout",
     "output_type": "stream",
     "text": [
      "AirPassengers, BJsales, BOD, Formaldehyde, HairEyeColor, InsectSprays, JohnsonJohnson, LakeHuron,\n",
      "LifeCycleSavings, Nile, OrchardSprays, PlantGrowth, Puromycin, Titanic, ToothGrowth, UCBAdmissions,\n",
      "UKDriverDeaths, UKgas, USAccDeaths, USArrests, USJudgeRatings, USPersonalExpenditure, VADeaths,\n",
      "WWWusage, WorldPhones, airmiles, airquality, anscombe, attenu, attitude, austres, cars, chickwts,\n",
      "co2, crimtab, discoveries, esoph, euro, faithful, freeny, infert, iris, islands, lh, longley, lynx,\n",
      "morley, mtcars, nhtemp, nottem, npk, occupationalStatus, precip, presidents, pressure, quakes,\n",
      "randu, rivers, rock, sleep, stackloss, sunspot.month, sunspot.year, sunspots, swiss, treering,\n",
      "trees, uspop, volcano, warpbreaks, women, acme, aids, aircondit, aircondit7, amis, aml, bigcity,\n",
      "brambles, breslow, calcium, cane, capability, catsM, cav, cd4, channing, city, claridge, cloth,\n",
      "co.transfer, coal, darwin, dogs, downs.bc, ducks, fir, frets, grav, gravity, hirose, islay, manaus,\n",
      "melanoma, motor, neuro, nitrofen, nodal, nuclear, paulsen, poisons, polar, remission, salinity,\n",
      "survival, tau, tuna, urine, wool, aids, alloauto, allograft, azt, baboon, bcdeter, bfeed, bmt, bnct,\n",
      "btrial, burn, channing, drug6mp, drughiv, hodg, kidney, kidrecurr, kidtran, larynx, lung, pneumon,\n",
      "psych, rats, std, stddiag, tongue, twins, Animals2, CrohnD, NOxEmissions, SiegelsEx, aircraft,\n",
      "airmay, alcohol, ambientNOxCH, bushfire, carrots, cloud, coleman, condroz, cushny, delivery,\n",
      "education, epilepsy, exAM, foodstamp, hbk, heart, kootenay, lactic, milk, pension, phosphor, pilot,\n",
      "possumDiv, pulpfiber, radarImage, salinity, starsCYG, telef, toxicity, vaso, wagnerGrowth, wood,\n",
      "AMSsurvey, Adler, Angell, Anscombe, Baumann, Bfox, Blackmoor, Burt, CanPop, Chile, Chirot, Cowles,\n",
      "Davis, DavisThin, Depredations, Duncan, Ericksen, Florida, Freedman, Friendly, Ginzberg, Greene,\n",
      "Guyer, Hartnagel, Highway1, Leinhardt, Mandel, Migration, Moore, Mroz, OBrienKaiser, Ornstein,\n",
      "Pottery, Prestige, Quartet, Robey, SLID, Sahlins, Salaries, Soils, States, Transact, UN, USPop,\n",
      "Vocab, WeightLoss, Womenlf, Wool, agriculture, animals, chorSub, flower, plantTraits, pluton,\n",
      "ruspini, votes.repub, xclara, affairs, azcabgptca, azdrg112, azpro, azprocedure, badhealth,\n",
      "fasttrakg, fishing, lbw, lbwgrp, loomis, mdvis, medpar, nuts, rwm, rwm1984, rwm5yr, ships, smoking,\n",
      "titanic, titanicgrp, Accident, Airline, Airq, Benefits, Bids, BudgetFood, BudgetItaly, BudgetUK,\n",
      "Bwages, CPSch3, CRANpackages, Capm, Car, Caschool, Catsup, Cigar, Cigarette, Clothing, Computers,\n",
      "Cracker, Crime, DM, Diamond, Doctor, DoctorAUS, DoctorContacts, Earnings, Electricity, Fair,\n",
      "Fatality, Fishing, Forward, FriendFoe, Garch, Gasoline, Griliches, Grunfeld, HC, HI, Hdma, Heating,\n",
      "Hedonic, Housing, Icecream, Journals, Kakadu, Ketchup, Klein, LaborSupply, Labour, MCAS, Males,\n",
      "Mathlevel, MedExp, Metal, Mode, ModeChoice, Mofa, Mroz, MunExp, NaturalPark, Nerlove, OFP, Oil,\n",
      "PSID, Participation, PatentsHGH, PatentsRD, Pound, Produc, RetSchool, SP500, Schooling, Somerville,\n",
      "Star, Strike, StrikeDur, StrikeNb, SumHes, Tobacco, Train, TranspEq, Treatment, Tuna,\n",
      "USFinanceIndustry, USclassifiedDocuments, USstateAbbreviations, UStaxWords, UnempDur, Unemployment,\n",
      "University, VietNamH, VietNamI, Wages, Wages1, Workinghours, Yen, Yogurt, bankingCrises,\n",
      "incomeInequality, nonEnglishNames, politicalKnowledge, PD, aldh2, apoeapoc, cf, crohn, fa, fsnps,\n",
      "hla, hr1420, l51, lukas, mao, mfblong, mhtdata, nep499, diamonds, economics, midwest, movies, mpg,\n",
      "msleep, presidential, seals, Arbuthnot, Bowley, Cavendish, ChestSizes, CushnyPeebles,\n",
      "CushnyPeeblesN, Dactyl, DrinksWages, Fingerprints, Galton, GaltonFamilies, Guerry, Jevons,\n",
      "Langren.all, Langren1644, Macdonell, MacdonellDF, Michelson, MichelsonSets, Minard.cities,\n",
      "Minard.temp, Minard.troops, Nightingale, OldMaps, PearsonLee, PolioTrials, Prostitutes, Pyx,\n",
      "Quarrels, Snow.deaths, Snow.polygons, Snow.pumps, Snow.streets, Wheat, Wheat.monarchs, Yeast,\n",
      "YeastD.mat, ZeaMays, barley, environmental, ethanol, melanoma, singer, Aids2, Animals, Boston,\n",
      "Cars93, Cushings, DDT, GAGurine, Insurance, Melanoma, OME, Pima.te, Pima.tr, Pima.tr2, Rabbit,\n",
      "Rubber, SP500, Sitka, Sitka89, Skye, Traffic, UScereal, UScrime, VA, abbey, accdeaths, anorexia,\n",
      "bacteria, beav1, beav2, biopsy, birthwt, cabbages, caith, cats, cement, chem, coop, cpus, crabs,\n",
      "deaths, drivers, eagles, epil, farms, fgl, forbes, galaxies, gehan, genotype, geyser, gilgais,\n",
      "hills, housing, immer, leuk, mammals, mcycle, menarche, michelson, minn38, motors, muscle, newcomb,\n",
      "nlschools, npk, npr1, oats, painters, petrol, quine, road, rotifer, ships, shrimp, shuttle, snails,\n",
      "steam, stormer, survey, synth.te, synth.tr, topo, waders, whiteside, wtloss, Cigar, Crime, EmplUK,\n",
      "Gasoline, Grunfeld, Hedonic, LaborSupply, Males, Produc, Snmesp, SumHes, Wages, baseball,\n",
      "AustralianElectionPolling, AustralianElections, EfronMorris, RockTheVote, UKHouseOfCommons,\n",
      "absentee, admit, bioChemists, ca2006, iraqVote, politicalInformation, presidentialElections,\n",
      "prussian, unionDensity, vote92, french_fries, smiths, tips, car.test.frame, car90, cu.summary,\n",
      "kyphosis, solder, stagec, PublicSchools, Bollen, CNES, Klein, Kmenta, Tests, bladder, cancer, cgd,\n",
      "colon, flchain, heart, kidney, leukemia, logan, lung, mgus, nwtco, ovarian, pbc, rats, stanford2,\n",
      "tobin, veteran, Arthritis, Baseball, BrokenMarriage, Bundesliga, Bundestag2005, Butterfly,\n",
      "CoalMiners, DanishWelfare, Employment, Federalist, Hitters, HorseKicks, Hospital, JobSatisfaction,\n",
      "JointSports, Lifeboats, NonResponse, OvaryCancer, PreSex, Punishment, RepVict, Saxony, SexualFun,\n",
      "SpaceShuttle, Suicide, Trucks, UKSoccer, VisualAcuity, VonBort, WeldonDice, WomenQueue, MatchIt.url,\n",
      "PErisk, SupremeCourt, Weimar, Zelig.url, approval, bivariate, coalition, coalition2, eidat, free1,\n",
      "free2, friendship, grunfeld, hoff, homerun, immi1, immi2, immi3, immi4, immi5, immigration, klein,\n",
      "kmenta, macro, mexico, mid, newpainters, sanction, sna.ex, swiss, tobin, turnout, voteincome, BCG,\n",
      "BtheB, CYGOB1, Forbes2000, GHQ, Lanza, agefat, aspirin, birthdeathrates, bladdercancer, clouds,\n",
      "epilepsy, foster, heptathlon, mastectomy, meteo, orallesions, phosphate, pistonrings, planets,\n",
      "plasma, polyps, polyps3, pottery, rearrests, respiratory, roomwidth, schizophrenia, schizophrenia2,\n",
      "schooldays, skulls, smoking, students, suicides, toothpaste, voting, water, watervoles, waves,\n",
      "weightgain, womensrole, Bechtoldt, Bechtoldt.1, Bechtoldt.2, Dwyer, Gleser, Gorsuch, Harman.5,\n",
      "Harman.8, Harman.political, Holzinger, Holzinger.9, Reise, Schmid, Thurstone, Thurstone.33, Tucker,\n",
      "ability, affect, bfi, bfi.dictionary, blot, burt, cities, cubits, cushny, epi, epi.bfi,\n",
      "epi.dictionary, galton, heights, income, iqitems, msq, neo, peas, sat.act, withinBetween, Bosco,\n",
      "CobarOre, Mammals, barro, engel, uis, dietox, koch, ohio, respdis, respiratory, seizure, sitka89,\n",
      "spruce, liver, portpirie, rain, summer, wavesurge, winter, arthritis, housing, bmw, danish,\n",
      "nidd.annual, nidd.thresh, siemens, sp.raw, spto87, Dyestuff, Dyestuff2, InstEval, Pastes,\n",
      "Penicillin, VerbAgg, cake, cbpp, grouseticks, sleepstudy\n"
     ]
    }
   ],
   "source": [
    "# another way to wrap lines\n",
    "import textwrap\n",
    "wrapped = textwrap.fill(dataset_ids_str, width=100)\n",
    "print(wrapped)"
   ]
  },
  {
   "cell_type": "code",
   "execution_count": 12,
   "id": "e206638a-7250-4da7-9ae0-e8c559e2a914",
   "metadata": {},
   "outputs": [
    {
     "name": "stdout",
     "output_type": "stream",
     "text": [
      "   Sepal.Length  Sepal.Width  Petal.Length  Petal.Width Species\n",
      "1           5.1          3.5           1.4          0.2  setosa\n",
      "2           4.9          3.0           1.4          0.2  setosa\n",
      "3           4.7          3.2           1.3          0.2  setosa\n",
      "4           4.6          3.1           1.5          0.2  setosa\n",
      "5           5.0          3.6           1.4          0.2  setosa\n"
     ]
    }
   ],
   "source": [
    "# Load iris dataset\n",
    "iris = data('iris')\n",
    "print(iris.head())"
   ]
  },
  {
   "cell_type": "code",
   "execution_count": 13,
   "id": "d2a2f2ae-919e-46d1-a314-f91d14b7de85",
   "metadata": {},
   "outputs": [
    {
     "data": {
      "text/html": [
       "<div>\n",
       "<style scoped>\n",
       "    .dataframe tbody tr th:only-of-type {\n",
       "        vertical-align: middle;\n",
       "    }\n",
       "\n",
       "    .dataframe tbody tr th {\n",
       "        vertical-align: top;\n",
       "    }\n",
       "\n",
       "    .dataframe thead th {\n",
       "        text-align: right;\n",
       "    }\n",
       "</style>\n",
       "<table border=\"1\" class=\"dataframe\">\n",
       "  <thead>\n",
       "    <tr style=\"text-align: right;\">\n",
       "      <th></th>\n",
       "      <th>mpg</th>\n",
       "      <th>cyl</th>\n",
       "      <th>disp</th>\n",
       "      <th>hp</th>\n",
       "      <th>drat</th>\n",
       "      <th>wt</th>\n",
       "      <th>qsec</th>\n",
       "      <th>vs</th>\n",
       "      <th>am</th>\n",
       "      <th>gear</th>\n",
       "      <th>carb</th>\n",
       "    </tr>\n",
       "  </thead>\n",
       "  <tbody>\n",
       "    <tr>\n",
       "      <th>Mazda RX4</th>\n",
       "      <td>21.0</td>\n",
       "      <td>6</td>\n",
       "      <td>160.0</td>\n",
       "      <td>110</td>\n",
       "      <td>3.90</td>\n",
       "      <td>2.620</td>\n",
       "      <td>16.46</td>\n",
       "      <td>0</td>\n",
       "      <td>1</td>\n",
       "      <td>4</td>\n",
       "      <td>4</td>\n",
       "    </tr>\n",
       "    <tr>\n",
       "      <th>Mazda RX4 Wag</th>\n",
       "      <td>21.0</td>\n",
       "      <td>6</td>\n",
       "      <td>160.0</td>\n",
       "      <td>110</td>\n",
       "      <td>3.90</td>\n",
       "      <td>2.875</td>\n",
       "      <td>17.02</td>\n",
       "      <td>0</td>\n",
       "      <td>1</td>\n",
       "      <td>4</td>\n",
       "      <td>4</td>\n",
       "    </tr>\n",
       "    <tr>\n",
       "      <th>Datsun 710</th>\n",
       "      <td>22.8</td>\n",
       "      <td>4</td>\n",
       "      <td>108.0</td>\n",
       "      <td>93</td>\n",
       "      <td>3.85</td>\n",
       "      <td>2.320</td>\n",
       "      <td>18.61</td>\n",
       "      <td>1</td>\n",
       "      <td>1</td>\n",
       "      <td>4</td>\n",
       "      <td>1</td>\n",
       "    </tr>\n",
       "    <tr>\n",
       "      <th>Hornet 4 Drive</th>\n",
       "      <td>21.4</td>\n",
       "      <td>6</td>\n",
       "      <td>258.0</td>\n",
       "      <td>110</td>\n",
       "      <td>3.08</td>\n",
       "      <td>3.215</td>\n",
       "      <td>19.44</td>\n",
       "      <td>1</td>\n",
       "      <td>0</td>\n",
       "      <td>3</td>\n",
       "      <td>1</td>\n",
       "    </tr>\n",
       "    <tr>\n",
       "      <th>Hornet Sportabout</th>\n",
       "      <td>18.7</td>\n",
       "      <td>8</td>\n",
       "      <td>360.0</td>\n",
       "      <td>175</td>\n",
       "      <td>3.15</td>\n",
       "      <td>3.440</td>\n",
       "      <td>17.02</td>\n",
       "      <td>0</td>\n",
       "      <td>0</td>\n",
       "      <td>3</td>\n",
       "      <td>2</td>\n",
       "    </tr>\n",
       "  </tbody>\n",
       "</table>\n",
       "</div>"
      ],
      "text/plain": [
       "                    mpg  cyl   disp   hp  drat     wt   qsec  vs  am  gear  \\\n",
       "Mazda RX4          21.0    6  160.0  110  3.90  2.620  16.46   0   1     4   \n",
       "Mazda RX4 Wag      21.0    6  160.0  110  3.90  2.875  17.02   0   1     4   \n",
       "Datsun 710         22.8    4  108.0   93  3.85  2.320  18.61   1   1     4   \n",
       "Hornet 4 Drive     21.4    6  258.0  110  3.08  3.215  19.44   1   0     3   \n",
       "Hornet Sportabout  18.7    8  360.0  175  3.15  3.440  17.02   0   0     3   \n",
       "\n",
       "                   carb  \n",
       "Mazda RX4             4  \n",
       "Mazda RX4 Wag         4  \n",
       "Datsun 710            1  \n",
       "Hornet 4 Drive        1  \n",
       "Hornet Sportabout     2  "
      ]
     },
     "execution_count": 13,
     "metadata": {},
     "output_type": "execute_result"
    }
   ],
   "source": [
    "mtcars = data('mtcars')\n",
    "mtcars.head()"
   ]
  },
  {
   "cell_type": "markdown",
   "id": "8509fbfa-de35-42a9-b0c6-870ef44bdaa7",
   "metadata": {},
   "source": [
    "### sklearn\n",
    "- Comes with classic ML datasets (Iris, Wine, Digits, Boston Housing, etc.).\n",
    "- install : pip install scikit-learn"
   ]
  },
  {
   "cell_type": "code",
   "execution_count": 14,
   "id": "86a5cda9-0297-4f1f-b160-8b881330e90a",
   "metadata": {},
   "outputs": [],
   "source": [
    "from sklearn import datasets"
   ]
  },
  {
   "cell_type": "code",
   "execution_count": 15,
   "id": "6f1fc0e6-b017-47ab-8008-fc85980ad355",
   "metadata": {},
   "outputs": [
    {
     "name": "stdout",
     "output_type": "stream",
     "text": [
      "[[5.1 3.5 1.4 0.2]\n",
      " [4.9 3.  1.4 0.2]\n",
      " [4.7 3.2 1.3 0.2]\n",
      " [4.6 3.1 1.5 0.2]\n",
      " [5.  3.6 1.4 0.2]]\n"
     ]
    }
   ],
   "source": [
    "# Load iris as NumPy arrays\n",
    "iris2 = datasets.load_iris()\n",
    "print(iris2.data[:5])"
   ]
  },
  {
   "cell_type": "code",
   "execution_count": 16,
   "id": "eca27d94-36a3-4250-a9b5-dd349318992e",
   "metadata": {},
   "outputs": [
    {
     "name": "stdout",
     "output_type": "stream",
     "text": [
      "   sepal length (cm)  sepal width (cm)  petal length (cm)  petal width (cm)\n",
      "0                5.1               3.5                1.4               0.2\n",
      "1                4.9               3.0                1.4               0.2\n",
      "2                4.7               3.2                1.3               0.2\n",
      "3                4.6               3.1                1.5               0.2\n",
      "4                5.0               3.6                1.4               0.2\n"
     ]
    }
   ],
   "source": [
    "# Or as pandas DataFrame\n",
    "import pandas as pd\n",
    "df2 = pd.DataFrame(iris2.data, columns=iris2.feature_names)\n",
    "print(df2.head())"
   ]
  },
  {
   "cell_type": "markdown",
   "id": "45800cac-5594-484f-a62e-f22604ea7cc6",
   "metadata": {},
   "source": [
    "### seaborn (sns.load_dataset)\n",
    "- Has several clean, ready-to-use DataFrames for visualization practice.\n",
    "- Install : pip install seaborn"
   ]
  },
  {
   "cell_type": "code",
   "execution_count": 18,
   "id": "5a4da1d8-9fdc-4422-9fdc-5b269b126d43",
   "metadata": {},
   "outputs": [],
   "source": [
    "import seaborn as sns"
   ]
  },
  {
   "cell_type": "code",
   "execution_count": 19,
   "id": "2346583f-afbc-44e3-b947-c0e0be12df2b",
   "metadata": {},
   "outputs": [
    {
     "name": "stdout",
     "output_type": "stream",
     "text": [
      "['anagrams', 'anscombe', 'attention', 'brain_networks', 'car_crashes', 'diamonds', 'dots', 'dowjones', 'exercise', 'flights', 'fmri', 'geyser', 'glue', 'healthexp', 'iris', 'mpg', 'penguins', 'planets', 'seaice', 'taxis', 'tips', 'titanic']\n"
     ]
    }
   ],
   "source": [
    "# List available datasets\n",
    "print(sns.get_dataset_names())"
   ]
  },
  {
   "cell_type": "code",
   "execution_count": 20,
   "id": "79c29c6e-a171-4ad9-a256-616eeaa624b6",
   "metadata": {},
   "outputs": [
    {
     "name": "stdout",
     "output_type": "stream",
     "text": [
      "   total_bill   tip     sex smoker  day    time  size\n",
      "0       16.99  1.01  Female     No  Sun  Dinner     2\n",
      "1       10.34  1.66    Male     No  Sun  Dinner     3\n",
      "2       21.01  3.50    Male     No  Sun  Dinner     3\n",
      "3       23.68  3.31    Male     No  Sun  Dinner     2\n",
      "4       24.59  3.61  Female     No  Sun  Dinner     4\n"
     ]
    }
   ],
   "source": [
    "tips = sns.load_dataset('tips')\n",
    "print(tips.head())"
   ]
  },
  {
   "cell_type": "markdown",
   "id": "31225312-c76f-41aa-afaf-4b11bacb8591",
   "metadata": {},
   "source": [
    "### statsmodels.dataset\n",
    "- Many econometrics/statistics datasets.\n",
    "- Install : pip install statsmodels"
   ]
  },
  {
   "cell_type": "code",
   "execution_count": 21,
   "id": "c5cce84b-bf3c-4d4d-9a6d-3f11c652de6c",
   "metadata": {},
   "outputs": [],
   "source": [
    "import statsmodels.api as sm"
   ]
  },
  {
   "cell_type": "code",
   "execution_count": 22,
   "id": "6c16bac5-cb9f-410f-9ffc-b29443999bf3",
   "metadata": {},
   "outputs": [
    {
     "name": "stdout",
     "output_type": "stream",
     "text": [
      "    TOTEMP  GNPDEFL       GNP   UNEMP   ARMED       POP    YEAR\n",
      "0  60323.0     83.0  234289.0  2356.0  1590.0  107608.0  1947.0\n",
      "1  61122.0     88.5  259426.0  2325.0  1456.0  108632.0  1948.0\n",
      "2  60171.0     88.2  258054.0  3682.0  1616.0  109773.0  1949.0\n",
      "3  61187.0     89.5  284599.0  3351.0  1650.0  110929.0  1950.0\n",
      "4  63221.0     96.2  328975.0  2099.0  3099.0  112075.0  1951.0\n"
     ]
    }
   ],
   "source": [
    "# Example: get the longley dataset\n",
    "dataset = sm.datasets.longley.load_pandas().data\n",
    "print(dataset.head())"
   ]
  },
  {
   "cell_type": "markdown",
   "id": "709273a3-697c-4639-867f-ee4835d6643d",
   "metadata": {},
   "source": [
    "### Tensor Flow\n",
    "- Large ML datasets, including images, text, and audio.\n",
    "- Install : pip install tensorflow tensorflow-datasets"
   ]
  },
  {
   "cell_type": "code",
   "execution_count": 24,
   "id": "85475127-e24c-403d-acd7-8145c0c74869",
   "metadata": {},
   "outputs": [],
   "source": [
    "#pip install tensorflow tensorflow-datasets"
   ]
  },
  {
   "cell_type": "raw",
   "id": "b8129732-6262-4834-8e1a-ab486c893b6c",
   "metadata": {},
   "source": [
    "import tensorflow_datasets as tfds\n",
    "\n",
    "# Load MNIST\n",
    "ds, info = tfds.load('mnist', with_info=True, as_supervised=True)\n",
    "print(info)"
   ]
  },
  {
   "cell_type": "markdown",
   "id": "ee5abdad-3105-4ea9-b5f3-2458e0c92e99",
   "metadata": {},
   "source": [
    "### Keras datasets\n",
    "- Handy for deep learning practice (MNIST, CIFAR-10, IMDB, etc.).\n",
    "- Install : pip install tensorflow"
   ]
  },
  {
   "cell_type": "raw",
   "id": "d054b7d6-9424-482f-bba8-93fafee2eef9",
   "metadata": {},
   "source": [
    "from tensorflow.keras.datasets import mnist\n",
    "\n",
    "(train_images, train_labels), (test_images, test_labels) = mnist.load_data()\n",
    "print(train_images.shape, train_labels.shape)"
   ]
  },
  {
   "cell_type": "markdown",
   "id": "ab392a9c-91a8-43ce-b9d5-2d8b125385de",
   "metadata": {},
   "source": [
    "### plotly.data\n",
    "- Sample datasets for interactive plotting.\n",
    "- Install : pip install plotly"
   ]
  },
  {
   "cell_type": "code",
   "execution_count": 27,
   "id": "7ac578a5-807c-4d6c-a1d6-efde8ed3af07",
   "metadata": {},
   "outputs": [],
   "source": [
    "import plotly.express as px\n",
    "import plotly.data as data"
   ]
  },
  {
   "cell_type": "code",
   "execution_count": 28,
   "id": "e51d2586-cb07-4ea2-9221-7733661bf2aa",
   "metadata": {},
   "outputs": [
    {
     "name": "stdout",
     "output_type": "stream",
     "text": [
      "       country continent  year  lifeExp       pop   gdpPercap iso_alpha  \\\n",
      "0  Afghanistan      Asia  1952   28.801   8425333  779.445314       AFG   \n",
      "1  Afghanistan      Asia  1957   30.332   9240934  820.853030       AFG   \n",
      "2  Afghanistan      Asia  1962   31.997  10267083  853.100710       AFG   \n",
      "3  Afghanistan      Asia  1967   34.020  11537966  836.197138       AFG   \n",
      "4  Afghanistan      Asia  1972   36.088  13079460  739.981106       AFG   \n",
      "\n",
      "   iso_num  \n",
      "0        4  \n",
      "1        4  \n",
      "2        4  \n",
      "3        4  \n",
      "4        4  \n"
     ]
    }
   ],
   "source": [
    "gapminder = data.gapminder()\n",
    "print(gapminder.head())"
   ]
  },
  {
   "cell_type": "code",
   "execution_count": null,
   "id": "3b120cd1-007f-4e4c-afe5-ab03a8746581",
   "metadata": {},
   "outputs": [],
   "source": []
  }
 ],
 "metadata": {
  "kernelspec": {
   "display_name": "Python 3 (ipykernel)",
   "language": "python",
   "name": "python3"
  },
  "language_info": {
   "codemirror_mode": {
    "name": "ipython",
    "version": 3
   },
   "file_extension": ".py",
   "mimetype": "text/x-python",
   "name": "python",
   "nbconvert_exporter": "python",
   "pygments_lexer": "ipython3",
   "version": "3.12.7"
  }
 },
 "nbformat": 4,
 "nbformat_minor": 5
}
