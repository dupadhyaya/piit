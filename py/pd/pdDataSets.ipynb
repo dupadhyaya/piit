{
 "cells": [
  {
   "cell_type": "markdown",
   "id": "f0d7f2af-bb97-48c9-bd71-f8368b2e121c",
   "metadata": {},
   "source": [
    "## Built In Data sets\n",
    "- they provide data sets for practise cases"
   ]
  },
  {
   "cell_type": "markdown",
   "id": "1ac24061-1509-41ba-ba69-eba00d487ee5",
   "metadata": {},
   "source": [
    "### pydatasets\n",
    "- Wraps the R “datasets” package for Python — contains famous datasets like iris, mtcars, Titanic, etc\n",
    "- Install : pip install pydataset\n",
    "- https://pydataset.readthedocs.io/en/latest/"
   ]
  },
  {
   "cell_type": "code",
   "execution_count": 40,
   "id": "1f8a17d0-7075-47aa-8ff1-b46cb3d53cbb",
   "metadata": {},
   "outputs": [],
   "source": [
    "#pip install pydataset  #comment after install ; Install only once, use library as required"
   ]
  },
  {
   "cell_type": "code",
   "execution_count": 41,
   "id": "fcfe4901-22ef-4c34-bbb0-aa803be677cf",
   "metadata": {},
   "outputs": [],
   "source": [
    "from pydataset import data"
   ]
  },
  {
   "cell_type": "code",
   "execution_count": 42,
   "id": "04924b2d-8782-449d-a0eb-e7d6932e199e",
   "metadata": {},
   "outputs": [
    {
     "name": "stdout",
     "output_type": "stream",
     "text": [
      "        dataset_id                                             title\n",
      "0    AirPassengers       Monthly Airline Passenger Numbers 1949-1960\n",
      "1          BJsales                 Sales Data with Leading Indicator\n",
      "2              BOD                         Biochemical Oxygen Demand\n",
      "3     Formaldehyde                     Determination of Formaldehyde\n",
      "4     HairEyeColor         Hair and Eye Color of Statistics Students\n",
      "..             ...                                               ...\n",
      "752        VerbAgg                  Verbal Aggression item responses\n",
      "753           cake                 Breakage Angle of Chocolate Cakes\n",
      "754           cbpp                 Contagious bovine pleuropneumonia\n",
      "755    grouseticks  Data on red grouse ticks from Elston et al. 2001\n",
      "756     sleepstudy       Reaction times in a sleep deprivation study\n",
      "\n",
      "[757 rows x 2 columns]\n"
     ]
    }
   ],
   "source": [
    "# List all datasets\n",
    "print(data())"
   ]
  },
  {
   "cell_type": "code",
   "execution_count": 43,
   "id": "1d38c9a0-2c70-43fe-aa94-ae18e656760b",
   "metadata": {},
   "outputs": [
    {
     "name": "stdout",
     "output_type": "stream",
     "text": [
      "AirPassengers, BJsales, BOD, Formaldehyde, HairEyeColor, InsectSprays, JohnsonJohnson, LakeHuron, LifeCycleSavings, Nile, OrchardSprays, PlantGrowth, Puromycin, Titanic, ToothGrowth, UCBAdmissions, UKDriverDeaths, UKgas, USAccDeaths, USArrests, USJudgeRatings, USPersonalExpenditure, VADeaths, WWWusage, WorldPhones, airmiles, airquality, anscombe, attenu, attitude, austres, cars, chickwts, co2, crimtab, discoveries, esoph, euro, faithful, freeny, infert, iris, islands, lh, longley, lynx, morley, mtcars, nhtemp, nottem, npk, occupationalStatus, precip, presidents, pressure, quakes, randu, rivers, rock, sleep, stackloss, sunspot.month, sunspot.year, sunspots, swiss, treering, trees, uspop, volcano, warpbreaks, women, acme, aids, aircondit, aircondit7, amis, aml, bigcity, brambles, breslow, calcium, cane, capability, catsM, cav, cd4, channing, city, claridge, cloth, co.transfer, coal, darwin, dogs, downs.bc, ducks, fir, frets, grav, gravity, hirose, islay, manaus, melanoma, motor, neuro, nitrofen, nodal, nuclear, paulsen, poisons, polar, remission, salinity, survival, tau, tuna, urine, wool, aids, alloauto, allograft, azt, baboon, bcdeter, bfeed, bmt, bnct, btrial, burn, channing, drug6mp, drughiv, hodg, kidney, kidrecurr, kidtran, larynx, lung, pneumon, psych, rats, std, stddiag, tongue, twins, Animals2, CrohnD, NOxEmissions, SiegelsEx, aircraft, airmay, alcohol, ambientNOxCH, bushfire, carrots, cloud, coleman, condroz, cushny, delivery, education, epilepsy, exAM, foodstamp, hbk, heart, kootenay, lactic, milk, pension, phosphor, pilot, possumDiv, pulpfiber, radarImage, salinity, starsCYG, telef, toxicity, vaso, wagnerGrowth, wood, AMSsurvey, Adler, Angell, Anscombe, Baumann, Bfox, Blackmoor, Burt, CanPop, Chile, Chirot, Cowles, Davis, DavisThin, Depredations, Duncan, Ericksen, Florida, Freedman, Friendly, Ginzberg, Greene, Guyer, Hartnagel, Highway1, Leinhardt, Mandel, Migration, Moore, Mroz, OBrienKaiser, Ornstein, Pottery, Prestige, Quartet, Robey, SLID, Sahlins, Salaries, Soils, States, Transact, UN, USPop, Vocab, WeightLoss, Womenlf, Wool, agriculture, animals, chorSub, flower, plantTraits, pluton, ruspini, votes.repub, xclara, affairs, azcabgptca, azdrg112, azpro, azprocedure, badhealth, fasttrakg, fishing, lbw, lbwgrp, loomis, mdvis, medpar, nuts, rwm, rwm1984, rwm5yr, ships, smoking, titanic, titanicgrp, Accident, Airline, Airq, Benefits, Bids, BudgetFood, BudgetItaly, BudgetUK, Bwages, CPSch3, CRANpackages, Capm, Car, Caschool, Catsup, Cigar, Cigarette, Clothing, Computers, Cracker, Crime, DM, Diamond, Doctor, DoctorAUS, DoctorContacts, Earnings, Electricity, Fair, Fatality, Fishing, Forward, FriendFoe, Garch, Gasoline, Griliches, Grunfeld, HC, HI, Hdma, Heating, Hedonic, Housing, Icecream, Journals, Kakadu, Ketchup, Klein, LaborSupply, Labour, MCAS, Males, Mathlevel, MedExp, Metal, Mode, ModeChoice, Mofa, Mroz, MunExp, NaturalPark, Nerlove, OFP, Oil, PSID, Participation, PatentsHGH, PatentsRD, Pound, Produc, RetSchool, SP500, Schooling, Somerville, Star, Strike, StrikeDur, StrikeNb, SumHes, Tobacco, Train, TranspEq, Treatment, Tuna, USFinanceIndustry, USclassifiedDocuments, USstateAbbreviations, UStaxWords, UnempDur, Unemployment, University, VietNamH, VietNamI, Wages, Wages1, Workinghours, Yen, Yogurt, bankingCrises, incomeInequality, nonEnglishNames, politicalKnowledge, PD, aldh2, apoeapoc, cf, crohn, fa, fsnps, hla, hr1420, l51, lukas, mao, mfblong, mhtdata, nep499, diamonds, economics, midwest, movies, mpg, msleep, presidential, seals, Arbuthnot, Bowley, Cavendish, ChestSizes, CushnyPeebles, CushnyPeeblesN, Dactyl, DrinksWages, Fingerprints, Galton, GaltonFamilies, Guerry, Jevons, Langren.all, Langren1644, Macdonell, MacdonellDF, Michelson, MichelsonSets, Minard.cities, Minard.temp, Minard.troops, Nightingale, OldMaps, PearsonLee, PolioTrials, Prostitutes, Pyx, Quarrels, Snow.deaths, Snow.polygons, Snow.pumps, Snow.streets, Wheat, Wheat.monarchs, Yeast, YeastD.mat, ZeaMays, barley, environmental, ethanol, melanoma, singer, Aids2, Animals, Boston, Cars93, Cushings, DDT, GAGurine, Insurance, Melanoma, OME, Pima.te, Pima.tr, Pima.tr2, Rabbit, Rubber, SP500, Sitka, Sitka89, Skye, Traffic, UScereal, UScrime, VA, abbey, accdeaths, anorexia, bacteria, beav1, beav2, biopsy, birthwt, cabbages, caith, cats, cement, chem, coop, cpus, crabs, deaths, drivers, eagles, epil, farms, fgl, forbes, galaxies, gehan, genotype, geyser, gilgais, hills, housing, immer, leuk, mammals, mcycle, menarche, michelson, minn38, motors, muscle, newcomb, nlschools, npk, npr1, oats, painters, petrol, quine, road, rotifer, ships, shrimp, shuttle, snails, steam, stormer, survey, synth.te, synth.tr, topo, waders, whiteside, wtloss, Cigar, Crime, EmplUK, Gasoline, Grunfeld, Hedonic, LaborSupply, Males, Produc, Snmesp, SumHes, Wages, baseball, AustralianElectionPolling, AustralianElections, EfronMorris, RockTheVote, UKHouseOfCommons, absentee, admit, bioChemists, ca2006, iraqVote, politicalInformation, presidentialElections, prussian, unionDensity, vote92, french_fries, smiths, tips, car.test.frame, car90, cu.summary, kyphosis, solder, stagec, PublicSchools, Bollen, CNES, Klein, Kmenta, Tests, bladder, cancer, cgd, colon, flchain, heart, kidney, leukemia, logan, lung, mgus, nwtco, ovarian, pbc, rats, stanford2, tobin, veteran, Arthritis, Baseball, BrokenMarriage, Bundesliga, Bundestag2005, Butterfly, CoalMiners, DanishWelfare, Employment, Federalist, Hitters, HorseKicks, Hospital, JobSatisfaction, JointSports, Lifeboats, NonResponse, OvaryCancer, PreSex, Punishment, RepVict, Saxony, SexualFun, SpaceShuttle, Suicide, Trucks, UKSoccer, VisualAcuity, VonBort, WeldonDice, WomenQueue, MatchIt.url, PErisk, SupremeCourt, Weimar, Zelig.url, approval, bivariate, coalition, coalition2, eidat, free1, free2, friendship, grunfeld, hoff, homerun, immi1, immi2, immi3, immi4, immi5, immigration, klein, kmenta, macro, mexico, mid, newpainters, sanction, sna.ex, swiss, tobin, turnout, voteincome, BCG, BtheB, CYGOB1, Forbes2000, GHQ, Lanza, agefat, aspirin, birthdeathrates, bladdercancer, clouds, epilepsy, foster, heptathlon, mastectomy, meteo, orallesions, phosphate, pistonrings, planets, plasma, polyps, polyps3, pottery, rearrests, respiratory, roomwidth, schizophrenia, schizophrenia2, schooldays, skulls, smoking, students, suicides, toothpaste, voting, water, watervoles, waves, weightgain, womensrole, Bechtoldt, Bechtoldt.1, Bechtoldt.2, Dwyer, Gleser, Gorsuch, Harman.5, Harman.8, Harman.political, Holzinger, Holzinger.9, Reise, Schmid, Thurstone, Thurstone.33, Tucker, ability, affect, bfi, bfi.dictionary, blot, burt, cities, cubits, cushny, epi, epi.bfi, epi.dictionary, galton, heights, income, iqitems, msq, neo, peas, sat.act, withinBetween, Bosco, CobarOre, Mammals, barro, engel, uis, dietox, koch, ohio, respdis, respiratory, seizure, sitka89, spruce, liver, portpirie, rain, summer, wavesurge, winter, arthritis, housing, bmw, danish, nidd.annual, nidd.thresh, siemens, sp.raw, spto87, Dyestuff, Dyestuff2, InstEval, Pastes, Penicillin, VerbAgg, cake, cbpp, grouseticks, sleepstudy\n"
     ]
    }
   ],
   "source": [
    "dataset_ids = data()['dataset_id'].tolist()\n",
    "# Join into a comma-separated string\n",
    "dataset_ids_str = \", \".join(dataset_ids)\n",
    "print(dataset_ids_str)"
   ]
  },
  {
   "cell_type": "code",
   "execution_count": null,
   "id": "0ebc25d1-588d-4185-bb01-fc5d4d954ed5",
   "metadata": {},
   "outputs": [],
   "source": [
    "# another way to wrap lines\n",
    "import textwrap\n",
    "wrapped = textwrap.fill(dataset_ids_str, width=100)\n",
    "print(wrapped)"
   ]
  },
  {
   "cell_type": "code",
   "execution_count": 44,
   "id": "e206638a-7250-4da7-9ae0-e8c559e2a914",
   "metadata": {},
   "outputs": [
    {
     "name": "stdout",
     "output_type": "stream",
     "text": [
      "   Sepal.Length  Sepal.Width  Petal.Length  Petal.Width Species\n",
      "1           5.1          3.5           1.4          0.2  setosa\n",
      "2           4.9          3.0           1.4          0.2  setosa\n",
      "3           4.7          3.2           1.3          0.2  setosa\n",
      "4           4.6          3.1           1.5          0.2  setosa\n",
      "5           5.0          3.6           1.4          0.2  setosa\n"
     ]
    }
   ],
   "source": [
    "# Load iris dataset\n",
    "iris = data('iris')\n",
    "print(iris.head())"
   ]
  },
  {
   "cell_type": "code",
   "execution_count": 45,
   "id": "d2a2f2ae-919e-46d1-a314-f91d14b7de85",
   "metadata": {},
   "outputs": [
    {
     "data": {
      "text/html": [
       "<div>\n",
       "<style scoped>\n",
       "    .dataframe tbody tr th:only-of-type {\n",
       "        vertical-align: middle;\n",
       "    }\n",
       "\n",
       "    .dataframe tbody tr th {\n",
       "        vertical-align: top;\n",
       "    }\n",
       "\n",
       "    .dataframe thead th {\n",
       "        text-align: right;\n",
       "    }\n",
       "</style>\n",
       "<table border=\"1\" class=\"dataframe\">\n",
       "  <thead>\n",
       "    <tr style=\"text-align: right;\">\n",
       "      <th></th>\n",
       "      <th>mpg</th>\n",
       "      <th>cyl</th>\n",
       "      <th>disp</th>\n",
       "      <th>hp</th>\n",
       "      <th>drat</th>\n",
       "      <th>wt</th>\n",
       "      <th>qsec</th>\n",
       "      <th>vs</th>\n",
       "      <th>am</th>\n",
       "      <th>gear</th>\n",
       "      <th>carb</th>\n",
       "    </tr>\n",
       "  </thead>\n",
       "  <tbody>\n",
       "    <tr>\n",
       "      <th>Mazda RX4</th>\n",
       "      <td>21.0</td>\n",
       "      <td>6</td>\n",
       "      <td>160.0</td>\n",
       "      <td>110</td>\n",
       "      <td>3.90</td>\n",
       "      <td>2.620</td>\n",
       "      <td>16.46</td>\n",
       "      <td>0</td>\n",
       "      <td>1</td>\n",
       "      <td>4</td>\n",
       "      <td>4</td>\n",
       "    </tr>\n",
       "    <tr>\n",
       "      <th>Mazda RX4 Wag</th>\n",
       "      <td>21.0</td>\n",
       "      <td>6</td>\n",
       "      <td>160.0</td>\n",
       "      <td>110</td>\n",
       "      <td>3.90</td>\n",
       "      <td>2.875</td>\n",
       "      <td>17.02</td>\n",
       "      <td>0</td>\n",
       "      <td>1</td>\n",
       "      <td>4</td>\n",
       "      <td>4</td>\n",
       "    </tr>\n",
       "    <tr>\n",
       "      <th>Datsun 710</th>\n",
       "      <td>22.8</td>\n",
       "      <td>4</td>\n",
       "      <td>108.0</td>\n",
       "      <td>93</td>\n",
       "      <td>3.85</td>\n",
       "      <td>2.320</td>\n",
       "      <td>18.61</td>\n",
       "      <td>1</td>\n",
       "      <td>1</td>\n",
       "      <td>4</td>\n",
       "      <td>1</td>\n",
       "    </tr>\n",
       "    <tr>\n",
       "      <th>Hornet 4 Drive</th>\n",
       "      <td>21.4</td>\n",
       "      <td>6</td>\n",
       "      <td>258.0</td>\n",
       "      <td>110</td>\n",
       "      <td>3.08</td>\n",
       "      <td>3.215</td>\n",
       "      <td>19.44</td>\n",
       "      <td>1</td>\n",
       "      <td>0</td>\n",
       "      <td>3</td>\n",
       "      <td>1</td>\n",
       "    </tr>\n",
       "    <tr>\n",
       "      <th>Hornet Sportabout</th>\n",
       "      <td>18.7</td>\n",
       "      <td>8</td>\n",
       "      <td>360.0</td>\n",
       "      <td>175</td>\n",
       "      <td>3.15</td>\n",
       "      <td>3.440</td>\n",
       "      <td>17.02</td>\n",
       "      <td>0</td>\n",
       "      <td>0</td>\n",
       "      <td>3</td>\n",
       "      <td>2</td>\n",
       "    </tr>\n",
       "  </tbody>\n",
       "</table>\n",
       "</div>"
      ],
      "text/plain": [
       "                    mpg  cyl   disp   hp  drat     wt   qsec  vs  am  gear  \\\n",
       "Mazda RX4          21.0    6  160.0  110  3.90  2.620  16.46   0   1     4   \n",
       "Mazda RX4 Wag      21.0    6  160.0  110  3.90  2.875  17.02   0   1     4   \n",
       "Datsun 710         22.8    4  108.0   93  3.85  2.320  18.61   1   1     4   \n",
       "Hornet 4 Drive     21.4    6  258.0  110  3.08  3.215  19.44   1   0     3   \n",
       "Hornet Sportabout  18.7    8  360.0  175  3.15  3.440  17.02   0   0     3   \n",
       "\n",
       "                   carb  \n",
       "Mazda RX4             4  \n",
       "Mazda RX4 Wag         4  \n",
       "Datsun 710            1  \n",
       "Hornet 4 Drive        1  \n",
       "Hornet Sportabout     2  "
      ]
     },
     "execution_count": 45,
     "metadata": {},
     "output_type": "execute_result"
    }
   ],
   "source": [
    "mtcars = data('mtcars')\n",
    "mtcars.head()"
   ]
  },
  {
   "cell_type": "markdown",
   "id": "8509fbfa-de35-42a9-b0c6-870ef44bdaa7",
   "metadata": {},
   "source": [
    "### sklearn\n",
    "- Comes with classic ML datasets (Iris, Wine, Digits, Boston Housing, etc.).\n",
    "- install : pip install scikit-learn"
   ]
  },
  {
   "cell_type": "code",
   "execution_count": null,
   "id": "86a5cda9-0297-4f1f-b160-8b881330e90a",
   "metadata": {},
   "outputs": [],
   "source": [
    "from sklearn import datasets"
   ]
  },
  {
   "cell_type": "code",
   "execution_count": null,
   "id": "6f1fc0e6-b017-47ab-8008-fc85980ad355",
   "metadata": {},
   "outputs": [],
   "source": [
    "# Load iris as NumPy arrays\n",
    "iris2 = datasets.load_iris()\n",
    "print(iris2.data[:5])"
   ]
  },
  {
   "cell_type": "code",
   "execution_count": null,
   "id": "eca27d94-36a3-4250-a9b5-dd349318992e",
   "metadata": {},
   "outputs": [],
   "source": [
    "# Or as pandas DataFrame\n",
    "import pandas as pd\n",
    "df2 = pd.DataFrame(iris2.data, columns=iris2.feature_names)\n",
    "print(df2.head())"
   ]
  },
  {
   "cell_type": "markdown",
   "id": "45800cac-5594-484f-a62e-f22604ea7cc6",
   "metadata": {},
   "source": [
    "### seaborn (sns.load_dataset)\n",
    "- Has several clean, ready-to-use DataFrames for visualization practice.\n",
    "- Install : pip install seaborn"
   ]
  },
  {
   "cell_type": "code",
   "execution_count": null,
   "id": "5a4da1d8-9fdc-4422-9fdc-5b269b126d43",
   "metadata": {},
   "outputs": [],
   "source": [
    "import seaborn as sns"
   ]
  },
  {
   "cell_type": "code",
   "execution_count": null,
   "id": "2346583f-afbc-44e3-b947-c0e0be12df2b",
   "metadata": {},
   "outputs": [],
   "source": [
    "# List available datasets\n",
    "print(sns.get_dataset_names())"
   ]
  },
  {
   "cell_type": "code",
   "execution_count": null,
   "id": "79c29c6e-a171-4ad9-a256-616eeaa624b6",
   "metadata": {},
   "outputs": [],
   "source": [
    "tips = sns.load_dataset('tips')\n",
    "print(tips.head())"
   ]
  },
  {
   "cell_type": "markdown",
   "id": "31225312-c76f-41aa-afaf-4b11bacb8591",
   "metadata": {},
   "source": [
    "### statsmodels.dataset\n",
    "- Many econometrics/statistics datasets.\n",
    "- Install : pip install statsmodels"
   ]
  },
  {
   "cell_type": "code",
   "execution_count": null,
   "id": "c5cce84b-bf3c-4d4d-9a6d-3f11c652de6c",
   "metadata": {},
   "outputs": [],
   "source": [
    "import statsmodels.api as sm"
   ]
  },
  {
   "cell_type": "code",
   "execution_count": null,
   "id": "6c16bac5-cb9f-410f-9ffc-b29443999bf3",
   "metadata": {},
   "outputs": [],
   "source": [
    "# Example: get the longley dataset\n",
    "dataset = sm.datasets.longley.load_pandas().data\n",
    "print(dataset.head())"
   ]
  },
  {
   "cell_type": "markdown",
   "id": "709273a3-697c-4639-867f-ee4835d6643d",
   "metadata": {},
   "source": [
    "### Tensor Flow\n",
    "- Large ML datasets, including images, text, and audio.\n",
    "- Install : pip install tensorflow tensorflow-datasets"
   ]
  },
  {
   "cell_type": "code",
   "execution_count": null,
   "id": "85475127-e24c-403d-acd7-8145c0c74869",
   "metadata": {},
   "outputs": [],
   "source": [
    "#pip install tensorflow tensorflow-datasets"
   ]
  },
  {
   "cell_type": "raw",
   "id": "b8129732-6262-4834-8e1a-ab486c893b6c",
   "metadata": {},
   "source": [
    "import tensorflow_datasets as tfds\n",
    "\n",
    "# Load MNIST\n",
    "ds, info = tfds.load('mnist', with_info=True, as_supervised=True)\n",
    "print(info)"
   ]
  },
  {
   "cell_type": "markdown",
   "id": "ee5abdad-3105-4ea9-b5f3-2458e0c92e99",
   "metadata": {},
   "source": [
    "### Keras datasets\n",
    "- Handy for deep learning practice (MNIST, CIFAR-10, IMDB, etc.).\n",
    "- Install : pip install tensorflow"
   ]
  },
  {
   "cell_type": "raw",
   "id": "d054b7d6-9424-482f-bba8-93fafee2eef9",
   "metadata": {},
   "source": [
    "from tensorflow.keras.datasets import mnist\n",
    "\n",
    "(train_images, train_labels), (test_images, test_labels) = mnist.load_data()\n",
    "print(train_images.shape, train_labels.shape)"
   ]
  },
  {
   "cell_type": "markdown",
   "id": "ab392a9c-91a8-43ce-b9d5-2d8b125385de",
   "metadata": {},
   "source": [
    "### plotly.data\n",
    "- Sample datasets for interactive plotting.\n",
    "- Install : pip install plotly"
   ]
  },
  {
   "cell_type": "code",
   "execution_count": null,
   "id": "7ac578a5-807c-4d6c-a1d6-efde8ed3af07",
   "metadata": {},
   "outputs": [],
   "source": [
    "import plotly.express as px\n",
    "import plotly.data as data"
   ]
  },
  {
   "cell_type": "code",
   "execution_count": null,
   "id": "e51d2586-cb07-4ea2-9221-7733661bf2aa",
   "metadata": {},
   "outputs": [],
   "source": [
    "gapminder = data.gapminder()\n",
    "print(gapminder.head())"
   ]
  },
  {
   "cell_type": "markdown",
   "id": "2c1619c8-bbaf-4fca-b918-896e47721a36",
   "metadata": {},
   "source": [
    "## How to load data from Online Data sets "
   ]
  },
  {
   "cell_type": "markdown",
   "id": "19d61f7a-e762-403a-9c1a-c5035d72de5c",
   "metadata": {},
   "source": [
    "### Google Sheets\n",
    "- GS\n",
    "    - https://docs.google.com/spreadsheets/d/19ReQlRfDQHcV1OFUnmVkiFY_1IrJeOR0g1RmrjfjMD4/edit?gid=764977169#gid=764977169\n",
    "- SheetID\n",
    "    - 19ReQlRfDQHcV1OFUnmVkiFY_1IrJeOR0g1RmrjfjMD4\n",
    "- GID for orders sheet\n",
    "    - 764977169\n",
    "- Link\n",
    "    - https://docs.google.com/spreadsheets/d/19ReQlRfDQHcV1OFUnmVkiFY_1IrJeOR0g1RmrjfjMD4/export?format=csv&gid=764977169\n",
    "    - 'https://docs.google.com/spreadsheets/d/' + sheetid + '//export?format=csv&gid=' + gid"
   ]
  },
  {
   "cell_type": "code",
   "execution_count": null,
   "id": "a8f264d7-18d8-4f69-99cc-a777926000d1",
   "metadata": {},
   "outputs": [],
   "source": [
    "gs1 = 'https://docs.google.com/spreadsheets/d/'\n",
    "sheetid = '19ReQlRfDQHcV1OFUnmVkiFY_1IrJeOR0g1RmrjfjMD4'\n",
    "gs2 = '/export?format=csv&gid='\n",
    "gid = '764977169'\n",
    "gsurl = gs1 + sheetid + gs2 + gid\n",
    "print(gsurl)"
   ]
  },
  {
   "cell_type": "code",
   "execution_count": null,
   "id": "d05c6eca-46d6-471e-853f-e1d26337c9b9",
   "metadata": {},
   "outputs": [],
   "source": [
    "import pandas as pd\n",
    "orders_df = orders_df = pd.read_csv(gsurl)\n",
    "orders_df.shape"
   ]
  },
  {
   "cell_type": "code",
   "execution_count": null,
   "id": "c66715ed-4c0e-43aa-a47d-bd914d0d45f1",
   "metadata": {},
   "outputs": [],
   "source": [
    "# Check if the sheets is reachable\n",
    "import requests\n",
    "requests.head(gsurl, allow_redirects=True, timeout =10) # if response is 200, it is reachable"
   ]
  },
  {
   "cell_type": "code",
   "execution_count": null,
   "id": "7dd86ac9-c51f-45ba-a407-c46552253ec0",
   "metadata": {},
   "outputs": [],
   "source": [
    "gs1 = 'https://docs.google.com/spreadsheets/d/'\n",
    "sheetid = '19ReQlRfDQHcV1OFUnmVkiFY_1IrJeOR0g1RmrjfjMD4'\n",
    "gs2 = '/export?format=csv&gid='\n",
    "gidO = '764977169' #orders\n",
    "gidR = '675685971' #Returns\n",
    "gidP = '1527535056' #People\n",
    "gsurlO = gs1 + sheetid + gs2 + gidO\n",
    "gsurlR = gs1 + sheetid + gs2 + gidR\n",
    "gsurlP = gs1 + sheetid + gs2 + gidP\n",
    "\n",
    "print(gsurlO, gsurlR, gsurlP, end ='\\n', sep ='\\n')"
   ]
  },
  {
   "cell_type": "code",
   "execution_count": null,
   "id": "5c7854fb-d059-4ffc-b31b-2f265bb6e22f",
   "metadata": {},
   "outputs": [],
   "source": [
    "orders = pd.read_csv(gsurlO, parse_dates=[\"Order Date\",\"Ship Date\"])\n",
    "returns = pd.read_csv(gsurlR)\n",
    "people  = pd.read_csv(gsurlP)"
   ]
  },
  {
   "cell_type": "code",
   "execution_count": null,
   "id": "611304d7-48f1-4ea2-8928-558b5cd48ebc",
   "metadata": {},
   "outputs": [],
   "source": [
    "# Check for rows and column counts\n",
    "print('Orders Table - ', orders.shape, '\\nReturn Table - ',  returns.shape, '\\nPeople Table - ', people.shape)"
   ]
  },
  {
   "cell_type": "markdown",
   "id": "fca4c994-f92c-42e1-a3a6-437be5ac295e",
   "metadata": {},
   "source": [
    "# Git Hub Repository for datasets\n",
    "- https://github.com/DUanalytics/datasets"
   ]
  },
  {
   "cell_type": "markdown",
   "id": "4217ef28-4543-4923-8711-45d12cf7cf3e",
   "metadata": {},
   "source": [
    "### Online Excel "
   ]
  },
  {
   "cell_type": "code",
   "execution_count": null,
   "id": "d7eaffa5-b203-4d9c-909f-81aa164a0a5a",
   "metadata": {},
   "outputs": [],
   "source": [
    "#pip install xlrd   #install this engine\n",
    "# For .xls files, pandas needs xlrd"
   ]
  },
  {
   "cell_type": "code",
   "execution_count": null,
   "id": "e1b72b64-fc4c-41fc-8abf-7b8324f61e78",
   "metadata": {},
   "outputs": [],
   "source": [
    "import pandas as pd\n",
    "url = \"https://raw.githubusercontent.com/DUanalytics/datasets/master/excel/clustering-vanilla.xls\""
   ]
  },
  {
   "cell_type": "code",
   "execution_count": null,
   "id": "f97d5676-16c3-4881-aabd-5c8cad4cfa74",
   "metadata": {},
   "outputs": [],
   "source": [
    "# pip install xlrd\n",
    "df = pd.read_excel(url, engine=\"xlrd\")   # or omit engine if your env auto-detects"
   ]
  },
  {
   "cell_type": "code",
   "execution_count": null,
   "id": "13a07ee3-651f-45af-8f4f-f86e27b3579c",
   "metadata": {},
   "outputs": [],
   "source": [
    "df.head()"
   ]
  },
  {
   "cell_type": "markdown",
   "id": "335ab257-eb3a-488d-82b6-cec6fe9a7994",
   "metadata": {},
   "source": [
    "## Online CSV\n",
    "- https://raw.githubusercontent.com/DUanalytics/datasets/refs/heads/master/csv/denco.csv"
   ]
  },
  {
   "cell_type": "code",
   "execution_count": null,
   "id": "b21a7b01-3377-43c5-ba74-e86236f92e92",
   "metadata": {},
   "outputs": [],
   "source": [
    "urlcsv ='https://raw.githubusercontent.com/DUanalytics/datasets/refs/heads/master/csv/denco.csv'\n",
    "dfcsv = pd.read_csv(urlcsv)"
   ]
  },
  {
   "cell_type": "code",
   "execution_count": null,
   "id": "6014a50d-403a-4197-9b5c-0d5189b459e0",
   "metadata": {},
   "outputs": [],
   "source": [
    "dfcsv.head()"
   ]
  },
  {
   "cell_type": "markdown",
   "id": "84ce0514-911a-4778-b64c-78cd47f4e229",
   "metadata": {},
   "source": [
    "## Kaggle\n",
    "- https://www.kaggle.com/datasets\n",
    "- https://www.kaggle.com/datasets/rohitgrewal/airlines-flights-data"
   ]
  },
  {
   "cell_type": "code",
   "execution_count": null,
   "id": "2237ca2d-4e37-4413-880a-9dc6d4586414",
   "metadata": {},
   "outputs": [],
   "source": [
    "#pip install kagglehub   #install this library"
   ]
  },
  {
   "cell_type": "code",
   "execution_count": null,
   "id": "9df75421-92f6-4344-89ee-e93fcd253a79",
   "metadata": {},
   "outputs": [],
   "source": [
    "import kagglehub\n",
    "import os\n",
    "# Download latest version\n",
    "path = kagglehub.dataset_download(\"rohitgrewal/airlines-flights-data\")"
   ]
  },
  {
   "cell_type": "code",
   "execution_count": null,
   "id": "acb98864-a546-402c-8b19-02e810fd3557",
   "metadata": {},
   "outputs": [],
   "source": [
    "print(\"Path to dataset files:\", path)\n",
    "# this will be the path in local files system where data is installed"
   ]
  },
  {
   "cell_type": "code",
   "execution_count": null,
   "id": "01ea294f-4b87-46cc-8cb3-67ef4f97d87f",
   "metadata": {},
   "outputs": [],
   "source": [
    "# List files in the dataset folder\n",
    "print(os.listdir(path))\n",
    "# note this file name"
   ]
  },
  {
   "cell_type": "code",
   "execution_count": null,
   "id": "abd7b9c9-90ca-440e-85c9-bb68f716b4ca",
   "metadata": {},
   "outputs": [],
   "source": [
    "# Suppose the CSV is named 'flights.csv' (replace with actual file name from above)\n",
    "csv_file = os.path.join(path, \"airlines_flights_data.csv\")\n",
    "print(csv_file)"
   ]
  },
  {
   "cell_type": "code",
   "execution_count": null,
   "id": "6e5a3023-90fb-421e-9080-7a43a95849a7",
   "metadata": {},
   "outputs": [],
   "source": [
    "# Load into Pandas\n",
    "df = pd.read_csv(csv_file)\n",
    "df.head()"
   ]
  },
  {
   "cell_type": "code",
   "execution_count": null,
   "id": "c0bb498a-50ee-4be0-8cee-6ebef4003f45",
   "metadata": {},
   "outputs": [],
   "source": [
    "df.shape"
   ]
  },
  {
   "cell_type": "markdown",
   "id": "4151d41e-a231-49a8-8937-e023cd51b392",
   "metadata": {},
   "source": [
    "## Analysis in this dataset\n",
    "- Questions\n",
    "    - Q.1. What are the airlines in the dataset, accompanied by their frequencies?\n",
    "    - Q.2. Show Bar Graphs representing the Departure Time & Arrival Time.\n",
    "    - Q.3. Show Bar Graphs representing the Source City & Destination City.\n",
    "    - Q.4. Does price varies with airlines ?\n",
    "    - Q.5. Does ticket price change based on the departure time and arrival time?\n",
    "    - Q.6. How the price changes with change in Source and Destination?\n",
    "    - Q.7. How is the price affected when tickets are bought in just 1 or 2 days before departure?\n",
    "    - Q.8. How does the ticket price vary between Economy and Business class?\n",
    "    - Q.9. What will be the Average Price of Vistara airline for a flight from Delhi to Hyderabad in Business Class ?\n",
    "- Features of the Columns\n",
    "    - 1) Airline: The name of the airline company is stored in the airline column. It is a categorical feature having 6 different airlines.\n",
    "      2) Flight: Flight stores information regarding the plane's flight code. It is a categorical feature.\n",
    "      3) Source City: City from which the flight takes off. It is a categorical feature having 6 unique cities.\n",
    "      4) Departure Time: This is a derived categorical feature obtained created by grouping time periods into bins. It stores information about the departure time and have 6 unique time labels.\n",
    "      5) Stops: A categorical feature with 3 distinct values that stores the number of stops between the source and destination cities.\n",
    "      6) Arrival Time: This is a derived categorical feature created by grouping time intervals into bins. It has six distinct time labels and keeps information about the arrival time.\n",
    "      7) Destination City: City where the flight will land. It is a categorical feature having 6 unique cities.\n",
    "      8) Class: A categorical feature that contains information on seat class; it has two distinct values: Business and Economy.\n",
    "      9) Duration: A continuous feature that displays the overall amount of time it takes to travel between cities in hours.\n",
    "      10) Days Left: This is a derived characteristic that is calculated by subtracting the trip date by the booking date.\n",
    "      11) Price: Target variable stores information of the ticket price."
   ]
  },
  {
   "cell_type": "markdown",
   "id": "7b5dbfc1-e129-4ecb-8a87-85dc8331d642",
   "metadata": {},
   "source": [
    "## Data.Gov\n",
    "- https://data.gov/\n",
    "- https://catalog.data.gov/dataset/electric-vehicle-population-data"
   ]
  },
  {
   "cell_type": "code",
   "execution_count": null,
   "id": "8fb9d930-847e-4822-894a-46fd58c47413",
   "metadata": {},
   "outputs": [],
   "source": [
    "url1 = 'https://data.wa.gov/api/views/f6w7-q2d2/rows.csv?accessType=DOWNLOAD'"
   ]
  },
  {
   "cell_type": "code",
   "execution_count": null,
   "id": "22f5f443-3944-49b7-b28c-d6e6c0d3ccbe",
   "metadata": {},
   "outputs": [],
   "source": [
    "df = pd.read_csv(url1)"
   ]
  },
  {
   "cell_type": "code",
   "execution_count": null,
   "id": "a5c4b052-6f6e-47e3-8f04-4856ff4987da",
   "metadata": {},
   "outputs": [],
   "source": [
    "df.head()"
   ]
  },
  {
   "cell_type": "code",
   "execution_count": null,
   "id": "1dd52a17-73fa-45c6-a82f-acb03c4081fc",
   "metadata": {},
   "outputs": [],
   "source": [
    "df.shape"
   ]
  },
  {
   "cell_type": "markdown",
   "id": "7284fb38-efe5-4501-ad3b-59ec48f9ac88",
   "metadata": {},
   "source": [
    "## Now we have enough sources of data\n",
    "- we can load data from local laptop\n",
    "- xx"
   ]
  },
  {
   "cell_type": "code",
   "execution_count": null,
   "id": "ed4dc489-8090-4fc6-a80c-c9ba4140c001",
   "metadata": {},
   "outputs": [],
   "source": []
  }
 ],
 "metadata": {
  "kernelspec": {
   "display_name": "Python 3 (ipykernel)",
   "language": "python",
   "name": "python3"
  },
  "language_info": {
   "codemirror_mode": {
    "name": "ipython",
    "version": 3
   },
   "file_extension": ".py",
   "mimetype": "text/x-python",
   "name": "python",
   "nbconvert_exporter": "python",
   "pygments_lexer": "ipython3",
   "version": "3.12.7"
  }
 },
 "nbformat": 4,
 "nbformat_minor": 5
}
