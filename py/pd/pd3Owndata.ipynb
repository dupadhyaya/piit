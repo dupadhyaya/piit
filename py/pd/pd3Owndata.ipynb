{
 "cells": [
  {
   "cell_type": "markdown",
   "id": "2fff7969-aae7-4964-b4ed-8ea2abaa860b",
   "metadata": {},
   "source": [
    "# Python - Creating Own Data\n",
    "- create data inside python - list, dictionary, distribution etc\n",
    "- upload data from laptop - csv, excel, email attachment , etc\n",
    "- import data from web - git, kaggle,  url etc"
   ]
  },
  {
   "cell_type": "code",
   "execution_count": null,
   "id": "1e034626-3dd4-443e-9eb0-5691861d0283",
   "metadata": {},
   "outputs": [],
   "source": [
    "import numpy as np\n",
    "import pandas as pd\n",
    "import random # create random values"
   ]
  },
  {
   "cell_type": "markdown",
   "id": "ef0a8e44-ae14-4983-913d-40dbb158ec5c",
   "metadata": {},
   "source": [
    "## Step-1 : Setup\n",
    "- Create data using various Python structures\n",
    "- ### 20 students - rollno, sname, gender, course, scores, age"
   ]
  },
  {
   "cell_type": "code",
   "execution_count": null,
   "id": "97003200-a69e-483a-bac8-3974bb6e192c",
   "metadata": {},
   "outputs": [],
   "source": [
    "# Rollnos - list\n",
    "rollno = list(range(1, 21))   # 20 students; 1 to 21-1\n",
    "print(type(rollno), rollno)"
   ]
  },
  {
   "cell_type": "code",
   "execution_count": null,
   "id": "e9a27493-0d8e-430d-8d51-a65109620486",
   "metadata": {},
   "outputs": [],
   "source": [
    "# Names - (tuple) - immutable, cannot change\n",
    "sname = ( \"Alice\", \"Bob\", \"Charlie\", \"Diana\", \"Ethan\",  \"Fiona\", \"George\", \"Hannah\", \"Ian\", \"Jasmine\", \\\n",
    "          \"Kevin\", \"Lily\", \"Mike\", \"Nina\", \"Oscar\",  \"Priya\", \"Quinn\", \"Raj\", \"Sophia\", \"Tom\")\n",
    "print(type(sname), list(sname))"
   ]
  },
  {
   "cell_type": "markdown",
   "id": "cebc9d2e-f4b5-4a04-9db1-02ca30037c87",
   "metadata": {},
   "source": [
    "# structure gets change by use of brackets and the combination\n",
    "- list [ ]\n",
    "- tuple ()\n",
    "- set { }\n",
    "- "
   ]
  },
  {
   "cell_type": "code",
   "execution_count": null,
   "id": "11af3163-2c46-4471-b668-1a7412648610",
   "metadata": {},
   "outputs": [],
   "source": [
    "# Gender - set {unique}\n",
    "genders_set = {\"Male\", \"Female\", 'Male', 'Female'}\n",
    "gender = [random.choice(list(genders_set)) for _ in rollno]   #create gender values- as size of rollno\n",
    "print(list(gender))"
   ]
  },
  {
   "cell_type": "code",
   "execution_count": null,
   "id": "2143c581-aa77-409d-84d2-baf45578a6cf",
   "metadata": {},
   "outputs": [],
   "source": [
    "print('Males -' , gender.count('Male'), ' Females - ' ,  gender.count('Female'))"
   ]
  },
  {
   "cell_type": "code",
   "execution_count": null,
   "id": "65a9804c-6335-4389-b1e1-eb68eedec4e7",
   "metadata": {},
   "outputs": [],
   "source": [
    "random.randint(1, 4) # random no between 1 and 4 incl"
   ]
  },
  {
   "cell_type": "code",
   "execution_count": null,
   "id": "38bae2fb-ee31-45b6-a1da-f31a29f9d870",
   "metadata": {},
   "outputs": [],
   "source": [
    "# Course - dictionary : {key:value} pair\n",
    "courses_dict = {1: \"CS\", 2: \"IT\", 3: \"AI\", 4: \"DS\"}  # mapping\n",
    "course = [courses_dict[random.randint(1, 4)] for _ in rollno]\n",
    "print(list(course))"
   ]
  },
  {
   "cell_type": "code",
   "execution_count": null,
   "id": "f5346932-063e-41c0-a939-146aff213cd0",
   "metadata": {},
   "outputs": [],
   "source": [
    "x = np.random.normal(loc=50, scale=2, size=5)\n",
    "print(' Values are - ', x, ' Mean - ' , np.mean(x), ' Std Dev -', np.std(x))\n",
    "#normal(loc=0.0, scale=1.0, size=None)"
   ]
  },
  {
   "cell_type": "code",
   "execution_count": null,
   "id": "73a5b90c-fff5-4c16-9477-8622a2424a77",
   "metadata": {},
   "outputs": [],
   "source": [
    "np.random.normal(70, 10, len(rollno))  #mean-70, std=10, nos=20"
   ]
  },
  {
   "cell_type": "code",
   "execution_count": null,
   "id": "39671f48-7068-4291-887b-5a61d6a22a80",
   "metadata": {},
   "outputs": [],
   "source": [
    "?np.clip(np.random.normal(70, 10, len(rollno)), 70, 80)\n",
    "#https://numpy.org/devdocs/reference/generated/numpy.clip.html"
   ]
  },
  {
   "cell_type": "code",
   "execution_count": null,
   "id": "ddc974a3-02f6-4ae9-a154-545ebc5e8d00",
   "metadata": {},
   "outputs": [],
   "source": [
    "a = np.arange(10)\n",
    "print(a) #array([0, 1, 2, 3, 4, 5, 6, 7, 8, 9])\n",
    "np.clip(a, 2, 6)"
   ]
  },
  {
   "cell_type": "code",
   "execution_count": null,
   "id": "12597355-2d69-49c7-b542-166d78d54cb9",
   "metadata": {},
   "outputs": [],
   "source": [
    "# Scores - random normal\n",
    "# Normally distributed around mean=70, std=10, clipped to 40–100\n",
    "#score = np.clip(np.random.normal(70, 10, len(rollno)), 45, 95).round(1)\n",
    "score = np.random.normal(70, 15, len(rollno))\n",
    "print(score, ':::', np.mean(score), np.std(score))\n",
    "score = np.clip(score, 50, 95)\n",
    "print(score)\n",
    "score = score.round(2)\n",
    "print(score)\n",
    "score"
   ]
  },
  {
   "cell_type": "code",
   "execution_count": null,
   "id": "bc4237db-c77d-4f64-9953-ae53b5b6d01a",
   "metadata": {},
   "outputs": [],
   "source": [
    "# Age - random, integer\n",
    "age = np.random.randint(19, 31, size=len(rollno)) # 19 to 30\n",
    "age"
   ]
  },
  {
   "cell_type": "code",
   "execution_count": null,
   "id": "969113da-7203-46e2-9e78-4182656a703d",
   "metadata": {},
   "outputs": [],
   "source": [
    "#?np.random.randint"
   ]
  },
  {
   "cell_type": "code",
   "execution_count": null,
   "id": "8f4615f6-6588-479b-8cc6-7b77627293e0",
   "metadata": {},
   "outputs": [],
   "source": [
    "print(rollno, '\\n', sname,'\\n', gender, '\\n', course, '\\n', score,'\\n', age)\n",
    "#create columns of Data Frame"
   ]
  },
  {
   "cell_type": "markdown",
   "id": "95707aaf-5258-492b-90cb-e9c5f3e487f4",
   "metadata": {},
   "source": [
    "## Step - 2 : Data Frame\n",
    "- rows and columns\n",
    "- Columns - variable names, Rows- data for each student\n",
    "- Join Columns to Data Frame\n",
    "- 20 Students Data\n",
    "- Dictionary : key:value\n",
    "- pd.DataFrame({ 'key1':values1, 'key2';values})"
   ]
  },
  {
   "cell_type": "code",
   "execution_count": null,
   "id": "bc2e6278-3e7e-4562-827a-398f2ad8ce06",
   "metadata": {},
   "outputs": [],
   "source": [
    "df = pd.DataFrame({  \"rollno\": rollno,  \"sname\": sname,  \"gender\": gender, \"course\": course,  \"score\": score, \"age\": age})\n",
    "df.head(2)"
   ]
  },
  {
   "cell_type": "code",
   "execution_count": null,
   "id": "35182b39-e530-44df-9f3e-3f45c520db3f",
   "metadata": {},
   "outputs": [],
   "source": [
    "df.tail(2)"
   ]
  },
  {
   "cell_type": "code",
   "execution_count": null,
   "id": "499053e6-1177-4bd1-a7b0-9ed2b30381cf",
   "metadata": {},
   "outputs": [],
   "source": [
    "df.shape"
   ]
  },
  {
   "cell_type": "markdown",
   "id": "289373f9-5a50-4493-b577-b5dcb0c44633",
   "metadata": {},
   "source": [
    "## Larger DF \n",
    "- install faker for snames : pip install faker\n",
    "- https://pypi.org/project/Faker/"
   ]
  },
  {
   "cell_type": "code",
   "execution_count": null,
   "id": "fdc1c9e6-45b5-4f6b-8118-0d2f330c0ba7",
   "metadata": {},
   "outputs": [],
   "source": [
    "#pip install faker"
   ]
  },
  {
   "cell_type": "code",
   "execution_count": null,
   "id": "f03b3398-b54a-496a-837a-ddadc6edc63e",
   "metadata": {},
   "outputs": [],
   "source": [
    "import pandas as pd\n",
    "import numpy as np\n",
    "import random\n",
    "from faker import Faker"
   ]
  },
  {
   "cell_type": "code",
   "execution_count": null,
   "id": "4aad3185-34df-48a7-8b7b-68621c45384e",
   "metadata": {},
   "outputs": [],
   "source": [
    "# n - no of students\n",
    "n=1000\n",
    "fake = Faker()"
   ]
  },
  {
   "cell_type": "code",
   "execution_count": null,
   "id": "99ac99ef-9eec-415e-a884-5b465853be5a",
   "metadata": {},
   "outputs": [],
   "source": [
    "print(fake.name())\n",
    "print(fake.address())\n",
    "print(fake.email())\n",
    "print(fake.date_of_birth())"
   ]
  },
  {
   "cell_type": "code",
   "execution_count": null,
   "id": "f860a7d5-3ef3-4a6f-a919-850a850ded33",
   "metadata": {},
   "outputs": [],
   "source": [
    "print(tuple(fake.name() for _ in rollno[0:20]))"
   ]
  },
  {
   "cell_type": "code",
   "execution_count": null,
   "id": "927e5b6f-9a3b-4402-aa61-b111c30a225d",
   "metadata": {},
   "outputs": [],
   "source": [
    "n=1001\n",
    "rollno = list(range(1, n))\n",
    "sname = tuple(fake.name() for _ in rollno)\n",
    "genders_set = {\"Male\", \"Female\"}\n",
    "gender = [random.choice(list(genders_set)) for _ in rollno]\n",
    "courses_dict = {1: \"CS\", 2: \"IT\", 3: \"AI\", 4: \"DS\"}\n",
    "course = [courses_dict[random.randint(1, 4)] for _ in rollno]\n",
    "score = np.clip(np.random.normal(70, 10, len(rollno)), 40, 100).round(1)\n",
    "age = np.random.randint(18, 25, size=len(rollno))"
   ]
  },
  {
   "cell_type": "code",
   "execution_count": null,
   "id": "8fc59e2f-f77e-408a-951a-c1f3b94850f7",
   "metadata": {},
   "outputs": [],
   "source": [
    "df2 = pd.DataFrame({    \"rollno\": rollno,    \"sname\": sname,    \"gender\": gender,    \"course\": course,    \"score\": score,    \"age\": age})\n",
    "df2.shape"
   ]
  },
  {
   "cell_type": "code",
   "execution_count": null,
   "id": "f1ee780a-d305-41df-a77c-d644fce5ca1c",
   "metadata": {},
   "outputs": [],
   "source": [
    "df2.head()"
   ]
  },
  {
   "cell_type": "code",
   "execution_count": null,
   "id": "51d23124-71c5-4a46-999c-7af565ae8a36",
   "metadata": {},
   "outputs": [],
   "source": [
    "#df2.to_csv('../../data/student160825.csv', index=False)\n",
    "#f2.to_csv('C:/analytics/data/student160825.csv', index=False)\n",
    "# the folder and file should be correct"
   ]
  },
  {
   "cell_type": "markdown",
   "id": "9eabe8d1-b6ff-45df-88bc-a24377880191",
   "metadata": {},
   "source": [
    "## Own Data\n",
    "- Synthetic \n",
    "- Simulate\n",
    "- Same value "
   ]
  },
  {
   "cell_type": "markdown",
   "id": "ff847686-f7c8-4cd4-b648-434bdad2ef72",
   "metadata": {},
   "source": [
    "## Data from CSV\n",
    "### file in laptop\n",
    "- download from : https://catalog.data.gov/dataset/real-estate-sales-2001-2018  (125 MB)\n",
    "    - listing of all real estate sales with a sales price of $2,000 or greater that occur between October 1 and September 30 of each year. For each sale record, the file includes: town, property address, date of sale, property type (residential, apartment, commercial, industrial or vacant land), sales price, and property assessment. \n",
    "- IMF : https://data.imf.org/en/datasets/IMF.STA:QGDP_WCA  (187 KB)\n",
    "    - This dataset provides a snapshot of the economic activity of the world and selected country aggregates on a quarterly basis. It offers quarterly measurements of Gross Domestic Product (GDP). Quarterly estimates are disseminated on a seasonally adjusted basis.\n",
    "- Country and capitals; https://ec.europa.eu/eurostat/statistics-explained/images/9/9f/Country_Codes_and_Names.xlsx   (XL)\n",
    "- max size of excel  the maximum number of rows is 1,048,576 and the maximum number of columns is 16,384 (XFD)\n",
    "## Online files\n",
    "- https://raw.githubusercontent.com/DUanalytics/datasets/refs/heads/master/csv/global_world_indicators_2000.csv'"
   ]
  },
  {
   "cell_type": "code",
   "execution_count": null,
   "id": "bb1bbb10-5caf-42fd-95f8-80a5c8205d3d",
   "metadata": {},
   "outputs": [],
   "source": [
    "f1='Real_Estate_Sales_2001-2023_GL.csv'\n",
    "f2='dataset_2025-08-16T11_40_29.251665198Z_DEFAULT_INTEGRATION_IMF.STA_QGDP_WCA_3.0.0.csv'\n",
    "f3 ='Country_Codes_and_Names.xlsx'\n",
    "FOLDER ='/Users/du/dup/analytics/data/' #outside git hub : C:/analytics/data\n",
    "file1 = FOLDER + f1\n",
    "file2 = FOLDER + f2\n",
    "file3 = FOLDER + f3\n",
    "file3 ='/Users/du/dup/analytics/data/Country_Codes_and_Names.xlsx'\n",
    "print(file1,'\\n', file2, '\\n', file3)"
   ]
  },
  {
   "cell_type": "code",
   "execution_count": null,
   "id": "f5c4ea6e-067b-42d4-98e1-e892acc3603f",
   "metadata": {},
   "outputs": [],
   "source": [
    "df_f1 = pd.read_csv(file1)\n",
    "df_f1.shape"
   ]
  },
  {
   "cell_type": "code",
   "execution_count": null,
   "id": "6891add9-605c-4cec-979a-23960895b6e8",
   "metadata": {},
   "outputs": [],
   "source": [
    "df_f1.head(2)"
   ]
  },
  {
   "cell_type": "code",
   "execution_count": null,
   "id": "f7830fb3-7f00-4ea5-b4f3-87f4c6c53a3a",
   "metadata": {},
   "outputs": [],
   "source": [
    "df_f2 = pd.read_csv(file2)\n",
    "df_f2.shape"
   ]
  },
  {
   "cell_type": "code",
   "execution_count": null,
   "id": "7da9426e-5202-4a62-8659-e4dc48a2badd",
   "metadata": {},
   "outputs": [],
   "source": [
    "df_f2.head(2)"
   ]
  },
  {
   "cell_type": "code",
   "execution_count": null,
   "id": "e9441649-2497-47b0-a0b7-7631398bdb84",
   "metadata": {},
   "outputs": [],
   "source": [
    "pd.read_excel(file3).head(4)"
   ]
  },
  {
   "cell_type": "code",
   "execution_count": null,
   "id": "ff45a67d-b519-484c-b313-464965a04864",
   "metadata": {},
   "outputs": [],
   "source": [
    "df_f3 = pd.read_excel(file3, skiprows=[1])\n",
    "# pd.read_excel(\"students.xlsx\", header=1)  # if headers are on 2nd row\n",
    "df_f3.head(5)"
   ]
  },
  {
   "cell_type": "code",
   "execution_count": null,
   "id": "c32eaa3d-4b78-4a57-8dec-d91bcb6552c0",
   "metadata": {},
   "outputs": [],
   "source": [
    " pd.read_excel(file3, skiprows=range(1,6)).head()"
   ]
  },
  {
   "cell_type": "code",
   "execution_count": null,
   "id": "c017d03e-fb23-484b-8b4c-d174a7e581c1",
   "metadata": {},
   "outputs": [],
   "source": [
    "# data from Online Resources, downloadable directly\n",
    "f4 = 'https://raw.githubusercontent.com/DUanalytics/datasets/refs/heads/master/csv/global_world_indicators_2000.csv'\n",
    "file4 = f4"
   ]
  },
  {
   "cell_type": "code",
   "execution_count": null,
   "id": "cc48fe37-791a-46a8-9884-75ecc1bdcb73",
   "metadata": {},
   "outputs": [],
   "source": [
    "df_f4 = pd.read_csv(file4)\n",
    "df_f4.shape"
   ]
  },
  {
   "cell_type": "code",
   "execution_count": null,
   "id": "583cca6f-94aa-4d29-bc53-d6da61379220",
   "metadata": {},
   "outputs": [],
   "source": [
    "df_f4.head(2)"
   ]
  },
  {
   "cell_type": "code",
   "execution_count": null,
   "id": "ad1d3206-be65-4229-867e-b8dcb97295ca",
   "metadata": {},
   "outputs": [],
   "source": [
    "#pip install xlrd"
   ]
  },
  {
   "cell_type": "code",
   "execution_count": null,
   "id": "ea3ec4fb-d382-487c-b697-224e252a3ad7",
   "metadata": {},
   "outputs": [],
   "source": [
    "f5A= 'https://my.surrey.ac.uk/sites/default/files/2024-12/UOS_RIGO_template_011%20Sample%20tracking%20log%2022Aug23.xlsx'"
   ]
  },
  {
   "cell_type": "code",
   "execution_count": null,
   "id": "235b6652-6d27-42f6-8c1e-c7f5f7e26be8",
   "metadata": {},
   "outputs": [],
   "source": [
    "file5A = f5A\n",
    "df_f5A = pd.read_excel(file5A)\n",
    "#df_f5B = pd.read_excel(file5B, engine='xlrd')\n",
    "df_f5A.shape"
   ]
  },
  {
   "cell_type": "code",
   "execution_count": null,
   "id": "3b423154-3140-4af7-bea6-650eeb5160b0",
   "metadata": {},
   "outputs": [],
   "source": [
    "df_f5A.head()"
   ]
  },
  {
   "cell_type": "markdown",
   "id": "75516d4b-2d4a-4962-a06a-da9904b579e1",
   "metadata": {},
   "source": [
    "## Wiki table\n",
    "- https://en.wikipedia.org/wiki/List_of_cities_by_GDP"
   ]
  },
  {
   "cell_type": "code",
   "execution_count": null,
   "id": "092b91a7-a100-4957-9f9c-c04f873d8fed",
   "metadata": {},
   "outputs": [],
   "source": [
    "wiki1 = \"https://en.wikipedia.org/wiki/List_of_cities_by_GDP\"\n",
    "# read all tables on the page\n",
    "tables = pd.read_html(wiki1)\n",
    "print(f\"Found {len(tables)} tables\")"
   ]
  },
  {
   "cell_type": "code",
   "execution_count": null,
   "id": "1f0d3174-7cb4-45e0-b64d-3f9cb42eedb5",
   "metadata": {},
   "outputs": [],
   "source": [
    "# Identify the correct table\n",
    "# Often the first is the main list — let's preview the first few tables\n",
    "for idx, table in enumerate(tables[:3]):\n",
    "    print(f\"\\nTable {idx} columns: {table.columns.tolist()}\\n\")"
   ]
  },
  {
   "cell_type": "code",
   "execution_count": null,
   "id": "23b8fc0e-44b2-4003-9d95-5c32f4b26401",
   "metadata": {},
   "outputs": [],
   "source": [
    "df_wk1 = tables[2]\n",
    "df_wk1.head()"
   ]
  },
  {
   "cell_type": "code",
   "execution_count": null,
   "id": "aa7dc96f-c797-42dc-aff1-61e870d4a36e",
   "metadata": {},
   "outputs": [],
   "source": [
    "df_wk1.shape"
   ]
  },
  {
   "cell_type": "code",
   "execution_count": null,
   "id": "b85faeeb-3f9c-4a94-a39b-2368813e1ca8",
   "metadata": {},
   "outputs": [],
   "source": [
    "df_wk1.tail()"
   ]
  },
  {
   "cell_type": "code",
   "execution_count": null,
   "id": "7ca24b5e-f4d4-4834-ba8d-34e125f44fde",
   "metadata": {},
   "outputs": [],
   "source": [
    "df_wk2 = tables[3]\n",
    "df_wk2.head()"
   ]
  },
  {
   "cell_type": "code",
   "execution_count": null,
   "id": "1f846dad-a4ca-40b0-91a4-6c17470e3683",
   "metadata": {},
   "outputs": [],
   "source": [
    "df_wk4 = tables[4]\n",
    "df_wk4.head()"
   ]
  },
  {
   "cell_type": "markdown",
   "id": "3fa34662-e2b9-4cba-ae09-5a0e262dea7c",
   "metadata": {},
   "source": [
    "### There are different ways to import table in to Python\n",
    "- create synthetic - store to csv, excel\n",
    "- import csv, excel\n",
    "- import from online csv, excel\n",
    "- import a web , table format; url"
   ]
  },
  {
   "cell_type": "markdown",
   "id": "8e782892-5079-4b72-b9f1-c4f33cb6e654",
   "metadata": {},
   "source": [
    "### Random No Generation  (same pattern)\n",
    "- np.random.seed(value) or random.seed(value) makes results reproducible.\n",
    "- Use the same seed to get the same sequence of random numbers.\n",
    "- np.random.seed(42)\n",
    "- df.sample(frac=1, random_state=42)\n",
    "- random.seed(42); nums = [random.randint(1, 10) for _ in range(5)]\n",
    "- The \"seed value\" in a random number generator (specifically, a pseudorandom number generator or PRNG) is the initial numerical value used to start the generation process. PRNGs produce sequences of numbers that appear random but are actually determined by a deterministic algorithm."
   ]
  },
  {
   "cell_type": "code",
   "execution_count": null,
   "id": "4251926a-acc5-4c7e-9bc7-fc027e368563",
   "metadata": {},
   "outputs": [],
   "source": [
    "import numpy  as np\n",
    "import pandas as pd\n",
    "import random\n",
    "from pydataset import data"
   ]
  },
  {
   "cell_type": "code",
   "execution_count": null,
   "id": "bb0e9800-c4de-4742-8890-043e1d37c5bc",
   "metadata": {},
   "outputs": [],
   "source": [
    "np.random.seed(42)   # set seed value\n",
    "nums = np.random.randint(1, 10, size=5)\n",
    "print(nums, \" Sum of numbers is \",  sum(nums))"
   ]
  },
  {
   "cell_type": "code",
   "execution_count": null,
   "id": "99c8f274-1747-40d3-8350-e456ee0d53f8",
   "metadata": {},
   "outputs": [],
   "source": [
    "np.random.seed(43)   # set seed value\n",
    "nums = np.random.randint(1, 10, size=5)\n",
    "print(nums, \" Sum of numbers is \",  sum(nums))"
   ]
  },
  {
   "cell_type": "code",
   "execution_count": null,
   "id": "6e8371f6-38ad-48b4-86e9-4d3f2a39d12d",
   "metadata": {},
   "outputs": [],
   "source": [
    "random.seed(42)   #random library\n",
    "nums = [random.randint(1, 10) for _ in range(5)]\n",
    "print(nums, \" Sum of numbers is \",  sum(nums))"
   ]
  },
  {
   "cell_type": "code",
   "execution_count": null,
   "id": "f943ee53-a140-42cb-a859-f65601482697",
   "metadata": {},
   "outputs": [],
   "source": [
    "df = pd.DataFrame({\"A\": range(1, 6)})  #pandas\n",
    "df"
   ]
  },
  {
   "cell_type": "code",
   "execution_count": null,
   "id": "a6aac2d7-8b36-4797-b3f3-c4d929167171",
   "metadata": {},
   "outputs": [],
   "source": [
    "df.sample(frac=.3, random_state=100)  # reproducible shuffle"
   ]
  },
  {
   "cell_type": "code",
   "execution_count": null,
   "id": "1672f187-e323-4267-b61d-2a477b8e00b3",
   "metadata": {},
   "outputs": [],
   "source": [
    "mtcars =data('mtcars')\n",
    "mtcars.shape"
   ]
  },
  {
   "cell_type": "code",
   "execution_count": null,
   "id": "8948527e-0431-4343-a81c-4d764d3a40f1",
   "metadata": {},
   "outputs": [],
   "source": [
    "#?mtcars.sample"
   ]
  },
  {
   "cell_type": "code",
   "execution_count": null,
   "id": "1809d230-28ad-4c53-8704-fb4ae09efb5d",
   "metadata": {},
   "outputs": [],
   "source": [
    "mtcars.sample(frac =.2, random_state=42) #Ferrari Dino"
   ]
  },
  {
   "cell_type": "code",
   "execution_count": null,
   "id": "d6a3013f-a953-4bac-814e-91a62e412e3a",
   "metadata": {},
   "outputs": [],
   "source": [
    "mtcars.sample(n=3, axis=1, random_state=10).head()"
   ]
  },
  {
   "cell_type": "code",
   "execution_count": null,
   "id": "248eb0c7-df55-457c-80f3-f6d3a92fbb2a",
   "metadata": {},
   "outputs": [],
   "source": []
  },
  {
   "cell_type": "code",
   "execution_count": null,
   "id": "20a5e250-c28b-4cdc-94dd-058145fd3272",
   "metadata": {},
   "outputs": [],
   "source": [
    "n = 10  # number of students\n",
    "np.random.seed(42+2)\n",
    "student_ids = np.arange(1, n+1) # Generate synthetic student data\n",
    "# Random normal distribution (mean=70, std=10) → marks\n",
    "marks = np.random.normal(loc=70, scale=10, size=n).astype(int)\n",
    "# Random choices (year of study: 1st, 2nd, 3rd, 4th)\n",
    "years = np.random.choice([1,2,3,4], size=n, p=[0.25,0.25,0.25,0.25])\n",
    "# Random integers (age between 18–24)\n",
    "ages = np.random.randint(18, 25, size=n)\n",
    "df = pd.DataFrame({  \"StudentID\": student_ids,  \"Age\": ages,  \"Year\": years,  \"Marks\": marks })\n",
    "print(df.sum(), df.sum().sum())\n",
    "df"
   ]
  },
  {
   "cell_type": "code",
   "execution_count": null,
   "id": "3d1a296c-a34b-4a43-bbdb-00f4d556149c",
   "metadata": {},
   "outputs": [],
   "source": [
    "print(df.sum().sum())"
   ]
  },
  {
   "cell_type": "markdown",
   "id": "59e0c1cf-5307-41b8-9551-e7aec2217db7",
   "metadata": {},
   "source": [
    "## Using Faker with seeding value\n",
    "- fake = Faker()\n",
    "- Faker.seed(42)"
   ]
  },
  {
   "cell_type": "code",
   "execution_count": 106,
   "id": "c8184112-fa74-4d9c-a6e2-e82468cfbebd",
   "metadata": {},
   "outputs": [
    {
     "name": "stdout",
     "output_type": "stream",
     "text": [
      "   StudentID           Name                  Email  Age  Year  Marks\n",
      "0          1    John Miller   andrew70@example.org   21     3     52\n",
      "1          2  Bruce Collins  nolancarl@example.com   23     2     73\n",
      "2          3    Nancy Clark     ajones@example.org   21     1     63\n",
      "3          4  Tammy Jackson  michael51@example.com   24     2     69\n",
      "4          5   Paul Stewart     vlyons@example.net   19     3     79\n"
     ]
    }
   ],
   "source": [
    "from faker import Faker\n",
    "import pandas as pd\n",
    "import numpy as np\n",
    "\n",
    "fake = Faker()\n",
    "Faker.seed(45)\n",
    "np.random.seed(45)\n",
    "\n",
    "n = 10  # number of students\n",
    "\n",
    "students = []\n",
    "for i in range(n):\n",
    "    student = {\n",
    "        \"StudentID\": i+1,\n",
    "        \"Name\": fake.name(),\n",
    "        \"Email\": fake.email(),\n",
    "        \"Age\": np.random.randint(18, 25),\n",
    "        \"Year\": np.random.choice([1,2,3,4]),\n",
    "        \"Marks\": int(np.random.normal(70, 10))\n",
    "    }\n",
    "    students.append(student)\n",
    "\n",
    "df_fake = pd.DataFrame(students)\n",
    "print(df_fake.head())"
   ]
  },
  {
   "cell_type": "code",
   "execution_count": 107,
   "id": "4f993c92-048c-4e6d-a788-bbd29e8cfe11",
   "metadata": {},
   "outputs": [
    {
     "data": {
      "text/plain": [
       "StudentID     55\n",
       "Age          204\n",
       "Year          24\n",
       "Marks        689\n",
       "dtype: int64"
      ]
     },
     "execution_count": 107,
     "metadata": {},
     "output_type": "execute_result"
    }
   ],
   "source": [
    "df.sum()"
   ]
  },
  {
   "cell_type": "code",
   "execution_count": 108,
   "id": "92283a77-355c-4ac9-80df-e4a111fd04a2",
   "metadata": {},
   "outputs": [
    {
     "data": {
      "text/plain": [
       "StudentID     55\n",
       "Age          204\n",
       "Year          24\n",
       "Marks        689\n",
       "dtype: int64"
      ]
     },
     "execution_count": 108,
     "metadata": {},
     "output_type": "execute_result"
    }
   ],
   "source": [
    "df.sum()"
   ]
  },
  {
   "cell_type": "code",
   "execution_count": null,
   "id": "a7233466-34fb-4c4e-906f-3379441758df",
   "metadata": {},
   "outputs": [],
   "source": []
  }
 ],
 "metadata": {
  "kernelspec": {
   "display_name": "Python 3 (ipykernel)",
   "language": "python",
   "name": "python3"
  },
  "language_info": {
   "codemirror_mode": {
    "name": "ipython",
    "version": 3
   },
   "file_extension": ".py",
   "mimetype": "text/x-python",
   "name": "python",
   "nbconvert_exporter": "python",
   "pygments_lexer": "ipython3",
   "version": "3.12.7"
  }
 },
 "nbformat": 4,
 "nbformat_minor": 5
}
