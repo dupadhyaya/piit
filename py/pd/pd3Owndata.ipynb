{
 "cells": [
  {
   "cell_type": "markdown",
   "id": "2fff7969-aae7-4964-b4ed-8ea2abaa860b",
   "metadata": {},
   "source": [
    "# Python - Creating Own Data\n",
    "- create data inside python - list, dictionary, distribution etc\n",
    "- upload data from laptop - csv, excel , etc\n",
    "- import data from web - git, url etc"
   ]
  },
  {
   "cell_type": "code",
   "execution_count": 1,
   "id": "1e034626-3dd4-443e-9eb0-5691861d0283",
   "metadata": {},
   "outputs": [],
   "source": [
    "import numpy as np\n",
    "import pandas as pd\n",
    "import random"
   ]
  },
  {
   "cell_type": "markdown",
   "id": "ef0a8e44-ae14-4983-913d-40dbb158ec5c",
   "metadata": {},
   "source": [
    "## Step-1 : Setup\n",
    "- Create data using various Python structures"
   ]
  },
  {
   "cell_type": "code",
   "execution_count": 18,
   "id": "97003200-a69e-483a-bac8-3974bb6e192c",
   "metadata": {},
   "outputs": [
    {
     "data": {
      "text/plain": [
       "[1, 2, 3, 4, 5, 6, 7, 8, 9, 10, 11, 12, 13, 14, 15, 16, 17, 18, 19, 20]"
      ]
     },
     "execution_count": 18,
     "metadata": {},
     "output_type": "execute_result"
    }
   ],
   "source": [
    "# Rollnos - list\n",
    "rollno = list(range(1, 21))   # 20 students\n",
    "rollno"
   ]
  },
  {
   "cell_type": "code",
   "execution_count": 19,
   "id": "e9a27493-0d8e-430d-8d51-a65109620486",
   "metadata": {},
   "outputs": [
    {
     "name": "stdout",
     "output_type": "stream",
     "text": [
      "['Alice', 'Bob', 'Charlie', 'Diana', 'Ethan', 'Fiona', 'George', 'Hannah', 'Ian', 'Jasmine', 'Kevin', 'Lily', 'Mike', 'Nina', 'Oscar', 'Priya', 'Quinn', 'Raj', 'Sophia', 'Tom']\n"
     ]
    }
   ],
   "source": [
    "# Names - tuple\n",
    "sname = (     \"Alice\", \"Bob\", \"Charlie\", \"Diana\", \"Ethan\",  \"Fiona\", \"George\", \"Hannah\", \"Ian\", \"Jasmine\",\n",
    "    \"Kevin\", \"Lily\", \"Mike\", \"Nina\", \"Oscar\",  \"Priya\", \"Quinn\", \"Raj\", \"Sophia\", \"Tom\")\n",
    "print(list(sname))"
   ]
  },
  {
   "cell_type": "code",
   "execution_count": 20,
   "id": "11af3163-2c46-4471-b668-1a7412648610",
   "metadata": {},
   "outputs": [
    {
     "name": "stdout",
     "output_type": "stream",
     "text": [
      "['Male', 'Female', 'Male', 'Female', 'Female', 'Male', 'Female', 'Male', 'Female', 'Male', 'Female', 'Male', 'Male', 'Male', 'Female', 'Female', 'Male', 'Female', 'Female', 'Male']\n"
     ]
    }
   ],
   "source": [
    "# Gender - set (unique)\n",
    "genders_set = {\"Male\", \"Female\"}\n",
    "gender = [random.choice(list(genders_set)) for _ in rollnos]\n",
    "print(list(gender))"
   ]
  },
  {
   "cell_type": "code",
   "execution_count": 21,
   "id": "38bae2fb-ee31-45b6-a1da-f31a29f9d870",
   "metadata": {},
   "outputs": [
    {
     "name": "stdout",
     "output_type": "stream",
     "text": [
      "['DS', 'AI', 'DS', 'DS', 'AI', 'DS', 'IT', 'IT', 'AI', 'DS', 'AI', 'DS', 'IT', 'AI', 'AI', 'AI', 'DS', 'IT', 'DS', 'CS']\n"
     ]
    }
   ],
   "source": [
    "# Course - dictionary : key value pair\n",
    "courses_dict = {1: \"CS\", 2: \"IT\", 3: \"AI\", 4: \"DS\"}  # mapping\n",
    "course = [courses_dict[random.randint(1, 4)] for _ in rollnos]\n",
    "print(list(course))"
   ]
  },
  {
   "cell_type": "code",
   "execution_count": 26,
   "id": "12597355-2d69-49c7-b542-166d78d54cb9",
   "metadata": {},
   "outputs": [
    {
     "data": {
      "text/plain": [
       "array([53.2, 69.3, 78.1, 64.7, 65.7, 67.4, 51.7, 70.5, 73.9, 54. , 84.6,\n",
       "       57.7, 72.2, 67. , 70.8, 66.8, 54.9, 62.7, 64.5, 64.3])"
      ]
     },
     "execution_count": 26,
     "metadata": {},
     "output_type": "execute_result"
    }
   ],
   "source": [
    "# Scores - random normal\n",
    "# Normally distributed around mean=70, std=10, clipped to 40–100\n",
    "score = np.clip(np.random.normal(70, 10, len(rollnos)), 40, 100).round(1)\n",
    "score"
   ]
  },
  {
   "cell_type": "code",
   "execution_count": 27,
   "id": "bc4237db-c77d-4f64-9953-ae53b5b6d01a",
   "metadata": {},
   "outputs": [
    {
     "data": {
      "text/plain": [
       "array([18, 21, 23, 22, 20, 23, 23, 21, 20, 22, 18, 18, 23, 19, 18, 21, 19,\n",
       "       21, 19, 23])"
      ]
     },
     "execution_count": 27,
     "metadata": {},
     "output_type": "execute_result"
    }
   ],
   "source": [
    "# Age - random, integer\n",
    "age = np.random.randint(18, 25, size=len(rollnos))\n",
    "age"
   ]
  },
  {
   "cell_type": "markdown",
   "id": "95707aaf-5258-492b-90cb-e9c5f3e487f4",
   "metadata": {},
   "source": [
    "## Step - 2 : Data Frame\n",
    "- Join Columns to Data Frame\n",
    "- 20 Students Data"
   ]
  },
  {
   "cell_type": "code",
   "execution_count": 28,
   "id": "bc2e6278-3e7e-4562-827a-398f2ad8ce06",
   "metadata": {},
   "outputs": [
    {
     "data": {
      "text/html": [
       "<div>\n",
       "<style scoped>\n",
       "    .dataframe tbody tr th:only-of-type {\n",
       "        vertical-align: middle;\n",
       "    }\n",
       "\n",
       "    .dataframe tbody tr th {\n",
       "        vertical-align: top;\n",
       "    }\n",
       "\n",
       "    .dataframe thead th {\n",
       "        text-align: right;\n",
       "    }\n",
       "</style>\n",
       "<table border=\"1\" class=\"dataframe\">\n",
       "  <thead>\n",
       "    <tr style=\"text-align: right;\">\n",
       "      <th></th>\n",
       "      <th>rollno</th>\n",
       "      <th>sname</th>\n",
       "      <th>gender</th>\n",
       "      <th>course</th>\n",
       "      <th>score</th>\n",
       "      <th>age</th>\n",
       "    </tr>\n",
       "  </thead>\n",
       "  <tbody>\n",
       "    <tr>\n",
       "      <th>0</th>\n",
       "      <td>1</td>\n",
       "      <td>Alice</td>\n",
       "      <td>Male</td>\n",
       "      <td>DS</td>\n",
       "      <td>53.2</td>\n",
       "      <td>18</td>\n",
       "    </tr>\n",
       "    <tr>\n",
       "      <th>1</th>\n",
       "      <td>2</td>\n",
       "      <td>Bob</td>\n",
       "      <td>Female</td>\n",
       "      <td>AI</td>\n",
       "      <td>69.3</td>\n",
       "      <td>21</td>\n",
       "    </tr>\n",
       "    <tr>\n",
       "      <th>2</th>\n",
       "      <td>3</td>\n",
       "      <td>Charlie</td>\n",
       "      <td>Male</td>\n",
       "      <td>DS</td>\n",
       "      <td>78.1</td>\n",
       "      <td>23</td>\n",
       "    </tr>\n",
       "    <tr>\n",
       "      <th>3</th>\n",
       "      <td>4</td>\n",
       "      <td>Diana</td>\n",
       "      <td>Female</td>\n",
       "      <td>DS</td>\n",
       "      <td>64.7</td>\n",
       "      <td>22</td>\n",
       "    </tr>\n",
       "    <tr>\n",
       "      <th>4</th>\n",
       "      <td>5</td>\n",
       "      <td>Ethan</td>\n",
       "      <td>Female</td>\n",
       "      <td>AI</td>\n",
       "      <td>65.7</td>\n",
       "      <td>20</td>\n",
       "    </tr>\n",
       "    <tr>\n",
       "      <th>5</th>\n",
       "      <td>6</td>\n",
       "      <td>Fiona</td>\n",
       "      <td>Male</td>\n",
       "      <td>DS</td>\n",
       "      <td>67.4</td>\n",
       "      <td>23</td>\n",
       "    </tr>\n",
       "    <tr>\n",
       "      <th>6</th>\n",
       "      <td>7</td>\n",
       "      <td>George</td>\n",
       "      <td>Female</td>\n",
       "      <td>IT</td>\n",
       "      <td>51.7</td>\n",
       "      <td>23</td>\n",
       "    </tr>\n",
       "    <tr>\n",
       "      <th>7</th>\n",
       "      <td>8</td>\n",
       "      <td>Hannah</td>\n",
       "      <td>Male</td>\n",
       "      <td>IT</td>\n",
       "      <td>70.5</td>\n",
       "      <td>21</td>\n",
       "    </tr>\n",
       "    <tr>\n",
       "      <th>8</th>\n",
       "      <td>9</td>\n",
       "      <td>Ian</td>\n",
       "      <td>Female</td>\n",
       "      <td>AI</td>\n",
       "      <td>73.9</td>\n",
       "      <td>20</td>\n",
       "    </tr>\n",
       "    <tr>\n",
       "      <th>9</th>\n",
       "      <td>10</td>\n",
       "      <td>Jasmine</td>\n",
       "      <td>Male</td>\n",
       "      <td>DS</td>\n",
       "      <td>54.0</td>\n",
       "      <td>22</td>\n",
       "    </tr>\n",
       "    <tr>\n",
       "      <th>10</th>\n",
       "      <td>11</td>\n",
       "      <td>Kevin</td>\n",
       "      <td>Female</td>\n",
       "      <td>AI</td>\n",
       "      <td>84.6</td>\n",
       "      <td>18</td>\n",
       "    </tr>\n",
       "    <tr>\n",
       "      <th>11</th>\n",
       "      <td>12</td>\n",
       "      <td>Lily</td>\n",
       "      <td>Male</td>\n",
       "      <td>DS</td>\n",
       "      <td>57.7</td>\n",
       "      <td>18</td>\n",
       "    </tr>\n",
       "    <tr>\n",
       "      <th>12</th>\n",
       "      <td>13</td>\n",
       "      <td>Mike</td>\n",
       "      <td>Male</td>\n",
       "      <td>IT</td>\n",
       "      <td>72.2</td>\n",
       "      <td>23</td>\n",
       "    </tr>\n",
       "    <tr>\n",
       "      <th>13</th>\n",
       "      <td>14</td>\n",
       "      <td>Nina</td>\n",
       "      <td>Male</td>\n",
       "      <td>AI</td>\n",
       "      <td>67.0</td>\n",
       "      <td>19</td>\n",
       "    </tr>\n",
       "    <tr>\n",
       "      <th>14</th>\n",
       "      <td>15</td>\n",
       "      <td>Oscar</td>\n",
       "      <td>Female</td>\n",
       "      <td>AI</td>\n",
       "      <td>70.8</td>\n",
       "      <td>18</td>\n",
       "    </tr>\n",
       "    <tr>\n",
       "      <th>15</th>\n",
       "      <td>16</td>\n",
       "      <td>Priya</td>\n",
       "      <td>Female</td>\n",
       "      <td>AI</td>\n",
       "      <td>66.8</td>\n",
       "      <td>21</td>\n",
       "    </tr>\n",
       "    <tr>\n",
       "      <th>16</th>\n",
       "      <td>17</td>\n",
       "      <td>Quinn</td>\n",
       "      <td>Male</td>\n",
       "      <td>DS</td>\n",
       "      <td>54.9</td>\n",
       "      <td>19</td>\n",
       "    </tr>\n",
       "    <tr>\n",
       "      <th>17</th>\n",
       "      <td>18</td>\n",
       "      <td>Raj</td>\n",
       "      <td>Female</td>\n",
       "      <td>IT</td>\n",
       "      <td>62.7</td>\n",
       "      <td>21</td>\n",
       "    </tr>\n",
       "    <tr>\n",
       "      <th>18</th>\n",
       "      <td>19</td>\n",
       "      <td>Sophia</td>\n",
       "      <td>Female</td>\n",
       "      <td>DS</td>\n",
       "      <td>64.5</td>\n",
       "      <td>19</td>\n",
       "    </tr>\n",
       "    <tr>\n",
       "      <th>19</th>\n",
       "      <td>20</td>\n",
       "      <td>Tom</td>\n",
       "      <td>Male</td>\n",
       "      <td>CS</td>\n",
       "      <td>64.3</td>\n",
       "      <td>23</td>\n",
       "    </tr>\n",
       "  </tbody>\n",
       "</table>\n",
       "</div>"
      ],
      "text/plain": [
       "    rollno    sname  gender course  score  age\n",
       "0        1    Alice    Male     DS   53.2   18\n",
       "1        2      Bob  Female     AI   69.3   21\n",
       "2        3  Charlie    Male     DS   78.1   23\n",
       "3        4    Diana  Female     DS   64.7   22\n",
       "4        5    Ethan  Female     AI   65.7   20\n",
       "5        6    Fiona    Male     DS   67.4   23\n",
       "6        7   George  Female     IT   51.7   23\n",
       "7        8   Hannah    Male     IT   70.5   21\n",
       "8        9      Ian  Female     AI   73.9   20\n",
       "9       10  Jasmine    Male     DS   54.0   22\n",
       "10      11    Kevin  Female     AI   84.6   18\n",
       "11      12     Lily    Male     DS   57.7   18\n",
       "12      13     Mike    Male     IT   72.2   23\n",
       "13      14     Nina    Male     AI   67.0   19\n",
       "14      15    Oscar  Female     AI   70.8   18\n",
       "15      16    Priya  Female     AI   66.8   21\n",
       "16      17    Quinn    Male     DS   54.9   19\n",
       "17      18      Raj  Female     IT   62.7   21\n",
       "18      19   Sophia  Female     DS   64.5   19\n",
       "19      20      Tom    Male     CS   64.3   23"
      ]
     },
     "execution_count": 28,
     "metadata": {},
     "output_type": "execute_result"
    }
   ],
   "source": [
    "df = pd.DataFrame({\n",
    "    \"rollno\": rollno,\n",
    "    \"sname\": sname,\n",
    "    \"gender\": gender,\n",
    "    \"course\": course,\n",
    "    \"score\": score,\n",
    "    \"age\": age\n",
    "})\n",
    "df"
   ]
  },
  {
   "cell_type": "code",
   "execution_count": null,
   "id": "42b5f1fb-da2b-41a9-a41e-fd869b7691b5",
   "metadata": {},
   "outputs": [],
   "source": [
    "## Larget DF \n",
    "- install faker for snames : pip install faker"
   ]
  },
  {
   "cell_type": "code",
   "execution_count": 30,
   "id": "fdc1c9e6-45b5-4f6b-8118-0d2f330c0ba7",
   "metadata": {},
   "outputs": [],
   "source": [
    "#pip install faker"
   ]
  },
  {
   "cell_type": "code",
   "execution_count": 38,
   "id": "f03b3398-b54a-496a-837a-ddadc6edc63e",
   "metadata": {},
   "outputs": [],
   "source": [
    "import pandas as pd\n",
    "import numpy as np\n",
    "import random\n",
    "from faker import Faker"
   ]
  },
  {
   "cell_type": "code",
   "execution_count": 40,
   "id": "4aad3185-34df-48a7-8b7b-68621c45384e",
   "metadata": {},
   "outputs": [],
   "source": [
    "# n - no of students\n",
    "n=1000\n",
    "fake = Faker()"
   ]
  },
  {
   "cell_type": "code",
   "execution_count": 44,
   "id": "f860a7d5-3ef3-4a6f-a919-850a850ded33",
   "metadata": {},
   "outputs": [
    {
     "name": "stdout",
     "output_type": "stream",
     "text": [
      "('Brenda Jackson', 'Danielle Barker', 'Lisa Villegas', 'Charles Jones', 'Timothy Graves')\n"
     ]
    }
   ],
   "source": [
    "print(tuple(fake.name() for _ in rollno[0:5]))"
   ]
  },
  {
   "cell_type": "code",
   "execution_count": 45,
   "id": "927e5b6f-9a3b-4402-aa61-b111c30a225d",
   "metadata": {},
   "outputs": [],
   "source": [
    "rollno = list(range(1, n))\n",
    "sname = tuple(fake.name() for _ in rollno)\n",
    "genders_set = {\"Male\", \"Female\"}\n",
    "gender = [random.choice(list(genders_set)) for _ in rollno]\n",
    "courses_dict = {1: \"CS\", 2: \"IT\", 3: \"AI\", 4: \"DS\"}\n",
    "course = [courses_dict[random.randint(1, 4)] for _ in rollno]\n",
    "score = np.clip(np.random.normal(70, 10, len(rollno)), 40, 100).round(1)\n",
    "age = np.random.randint(18, 25, size=len(rollno))"
   ]
  },
  {
   "cell_type": "code",
   "execution_count": 46,
   "id": "8fc59e2f-f77e-408a-951a-c1f3b94850f7",
   "metadata": {},
   "outputs": [
    {
     "data": {
      "text/plain": [
       "(999, 6)"
      ]
     },
     "execution_count": 46,
     "metadata": {},
     "output_type": "execute_result"
    }
   ],
   "source": [
    "df2 = pd.DataFrame({\n",
    "    \"rollno\": rollno,\n",
    "    \"sname\": sname,\n",
    "    \"gender\": gender,\n",
    "    \"course\": course,\n",
    "    \"score\": score,\n",
    "    \"age\": age\n",
    "})\n",
    "df2.shape"
   ]
  },
  {
   "cell_type": "code",
   "execution_count": 47,
   "id": "f1ee780a-d305-41df-a77c-d644fce5ca1c",
   "metadata": {},
   "outputs": [
    {
     "data": {
      "text/html": [
       "<div>\n",
       "<style scoped>\n",
       "    .dataframe tbody tr th:only-of-type {\n",
       "        vertical-align: middle;\n",
       "    }\n",
       "\n",
       "    .dataframe tbody tr th {\n",
       "        vertical-align: top;\n",
       "    }\n",
       "\n",
       "    .dataframe thead th {\n",
       "        text-align: right;\n",
       "    }\n",
       "</style>\n",
       "<table border=\"1\" class=\"dataframe\">\n",
       "  <thead>\n",
       "    <tr style=\"text-align: right;\">\n",
       "      <th></th>\n",
       "      <th>rollno</th>\n",
       "      <th>sname</th>\n",
       "      <th>gender</th>\n",
       "      <th>course</th>\n",
       "      <th>score</th>\n",
       "      <th>age</th>\n",
       "    </tr>\n",
       "  </thead>\n",
       "  <tbody>\n",
       "    <tr>\n",
       "      <th>0</th>\n",
       "      <td>1</td>\n",
       "      <td>Marcus Roberts</td>\n",
       "      <td>Male</td>\n",
       "      <td>CS</td>\n",
       "      <td>71.5</td>\n",
       "      <td>19</td>\n",
       "    </tr>\n",
       "    <tr>\n",
       "      <th>1</th>\n",
       "      <td>2</td>\n",
       "      <td>Aaron Gonzalez</td>\n",
       "      <td>Female</td>\n",
       "      <td>IT</td>\n",
       "      <td>81.7</td>\n",
       "      <td>22</td>\n",
       "    </tr>\n",
       "    <tr>\n",
       "      <th>2</th>\n",
       "      <td>3</td>\n",
       "      <td>Carl Schmidt</td>\n",
       "      <td>Female</td>\n",
       "      <td>CS</td>\n",
       "      <td>57.0</td>\n",
       "      <td>22</td>\n",
       "    </tr>\n",
       "    <tr>\n",
       "      <th>3</th>\n",
       "      <td>4</td>\n",
       "      <td>Stacey Hart DVM</td>\n",
       "      <td>Male</td>\n",
       "      <td>DS</td>\n",
       "      <td>77.3</td>\n",
       "      <td>21</td>\n",
       "    </tr>\n",
       "    <tr>\n",
       "      <th>4</th>\n",
       "      <td>5</td>\n",
       "      <td>Harry Simon</td>\n",
       "      <td>Male</td>\n",
       "      <td>CS</td>\n",
       "      <td>57.2</td>\n",
       "      <td>23</td>\n",
       "    </tr>\n",
       "  </tbody>\n",
       "</table>\n",
       "</div>"
      ],
      "text/plain": [
       "   rollno            sname  gender course  score  age\n",
       "0       1   Marcus Roberts    Male     CS   71.5   19\n",
       "1       2   Aaron Gonzalez  Female     IT   81.7   22\n",
       "2       3     Carl Schmidt  Female     CS   57.0   22\n",
       "3       4  Stacey Hart DVM    Male     DS   77.3   21\n",
       "4       5      Harry Simon    Male     CS   57.2   23"
      ]
     },
     "execution_count": 47,
     "metadata": {},
     "output_type": "execute_result"
    }
   ],
   "source": [
    "df2.head()"
   ]
  },
  {
   "cell_type": "markdown",
   "id": "ff847686-f7c8-4cd4-b648-434bdad2ef72",
   "metadata": {},
   "source": [
    "## Data from CSV\n",
    "### file in laptop\n",
    "- download from : https://catalog.data.gov/dataset/real-estate-sales-2001-2018  (125 MB)\n",
    "    - listing of all real estate sales with a sales price of $2,000 or greater that occur between October 1 and September 30 of each year. For each sale record, the file includes: town, property address, date of sale, property type (residential, apartment, commercial, industrial or vacant land), sales price, and property assessment. \n",
    "- IMF : https://data.imf.org/en/datasets/IMF.STA:QGDP_WCA  (187 KB)\n",
    "    - This dataset provides a snapshot of the economic activity of the world and selected country aggregates on a quarterly basis. It offers quarterly measurements of Gross Domestic Product (GDP). Quarterly estimates are disseminated on a seasonally adjusted basis.\n",
    "- Country and capitals; https://ec.europa.eu/eurostat/statistics-explained/images/9/9f/Country_Codes_and_Names.xlsx   (XL)"
   ]
  },
  {
   "cell_type": "code",
   "execution_count": 63,
   "id": "bb1bbb10-5caf-42fd-95f8-80a5c8205d3d",
   "metadata": {},
   "outputs": [
    {
     "name": "stdout",
     "output_type": "stream",
     "text": [
      "/Users/du/dup/analytics/data/Real_Estate_Sales_2001-2023_GL.csv \n",
      " /Users/du/dup/analytics/data/dataset_2025-08-16T11_40_29.251665198Z_DEFAULT_INTEGRATION_IMF.STA_QGDP_WCA_3.0.0.csv \n",
      " /Users/du/dup/analytics/data/Country_Codes_and_Names.xlsx\n"
     ]
    }
   ],
   "source": [
    "f1='Real_Estate_Sales_2001-2023_GL.csv'\n",
    "f2='dataset_2025-08-16T11_40_29.251665198Z_DEFAULT_INTEGRATION_IMF.STA_QGDP_WCA_3.0.0.csv'\n",
    "f3 ='Country_Codes_and_Names.xlsx'\n",
    "FOLDER ='/Users/du/dup/analytics/data/'\n",
    "file1 = FOLDER + f1\n",
    "file2 = FOLDER + f2\n",
    "file3 = FOLDER + f3\n",
    "\n",
    "print(file1,'\\n', file2, '\\n', file3)"
   ]
  },
  {
   "cell_type": "code",
   "execution_count": 64,
   "id": "f5c4ea6e-067b-42d4-98e1-e892acc3603f",
   "metadata": {},
   "outputs": [
    {
     "name": "stderr",
     "output_type": "stream",
     "text": [
      "/var/folders/z4/8qd93wx14xz1c9qfb_z969wc0000gn/T/ipykernel_9282/223922560.py:1: DtypeWarning: Columns (7,8,9,10,11,12) have mixed types. Specify dtype option on import or set low_memory=False.\n",
      "  df_f1 = pd.read_csv(file1)\n"
     ]
    },
    {
     "data": {
      "text/plain": [
       "(1141722, 14)"
      ]
     },
     "execution_count": 64,
     "metadata": {},
     "output_type": "execute_result"
    }
   ],
   "source": [
    "df_f1 = pd.read_csv(file1)\n",
    "df_f1.shape"
   ]
  },
  {
   "cell_type": "code",
   "execution_count": 65,
   "id": "6891add9-605c-4cec-979a-23960895b6e8",
   "metadata": {},
   "outputs": [
    {
     "data": {
      "text/html": [
       "<div>\n",
       "<style scoped>\n",
       "    .dataframe tbody tr th:only-of-type {\n",
       "        vertical-align: middle;\n",
       "    }\n",
       "\n",
       "    .dataframe tbody tr th {\n",
       "        vertical-align: top;\n",
       "    }\n",
       "\n",
       "    .dataframe thead th {\n",
       "        text-align: right;\n",
       "    }\n",
       "</style>\n",
       "<table border=\"1\" class=\"dataframe\">\n",
       "  <thead>\n",
       "    <tr style=\"text-align: right;\">\n",
       "      <th></th>\n",
       "      <th>Serial Number</th>\n",
       "      <th>List Year</th>\n",
       "      <th>Date Recorded</th>\n",
       "      <th>Town</th>\n",
       "      <th>Address</th>\n",
       "      <th>Assessed Value</th>\n",
       "      <th>Sale Amount</th>\n",
       "      <th>Sales Ratio</th>\n",
       "      <th>Property Type</th>\n",
       "      <th>Residential Type</th>\n",
       "      <th>Non Use Code</th>\n",
       "      <th>Assessor Remarks</th>\n",
       "      <th>OPM remarks</th>\n",
       "      <th>Location</th>\n",
       "    </tr>\n",
       "  </thead>\n",
       "  <tbody>\n",
       "    <tr>\n",
       "      <th>0</th>\n",
       "      <td>2020177</td>\n",
       "      <td>2020</td>\n",
       "      <td>04/14/2021</td>\n",
       "      <td>Ansonia</td>\n",
       "      <td>323 BEAVER ST</td>\n",
       "      <td>133000.0</td>\n",
       "      <td>248400.0</td>\n",
       "      <td>0.5354</td>\n",
       "      <td>Residential</td>\n",
       "      <td>Single Family</td>\n",
       "      <td>NaN</td>\n",
       "      <td>NaN</td>\n",
       "      <td>NaN</td>\n",
       "      <td>POINT (-73.06822 41.35014)</td>\n",
       "    </tr>\n",
       "    <tr>\n",
       "      <th>1</th>\n",
       "      <td>2020225</td>\n",
       "      <td>2020</td>\n",
       "      <td>05/26/2021</td>\n",
       "      <td>Ansonia</td>\n",
       "      <td>152 JACKSON ST</td>\n",
       "      <td>110500.0</td>\n",
       "      <td>239900.0</td>\n",
       "      <td>0.4606</td>\n",
       "      <td>Residential</td>\n",
       "      <td>Three Family</td>\n",
       "      <td>NaN</td>\n",
       "      <td>NaN</td>\n",
       "      <td>NaN</td>\n",
       "      <td>NaN</td>\n",
       "    </tr>\n",
       "  </tbody>\n",
       "</table>\n",
       "</div>"
      ],
      "text/plain": [
       "   Serial Number  List Year Date Recorded     Town         Address  \\\n",
       "0        2020177       2020    04/14/2021  Ansonia   323 BEAVER ST   \n",
       "1        2020225       2020    05/26/2021  Ansonia  152 JACKSON ST   \n",
       "\n",
       "   Assessed Value  Sale Amount Sales Ratio Property Type Residential Type  \\\n",
       "0        133000.0     248400.0      0.5354   Residential    Single Family   \n",
       "1        110500.0     239900.0      0.4606   Residential     Three Family   \n",
       "\n",
       "  Non Use Code Assessor Remarks OPM remarks                    Location  \n",
       "0          NaN              NaN         NaN  POINT (-73.06822 41.35014)  \n",
       "1          NaN              NaN         NaN                         NaN  "
      ]
     },
     "execution_count": 65,
     "metadata": {},
     "output_type": "execute_result"
    }
   ],
   "source": [
    "df_f1.head(2)"
   ]
  },
  {
   "cell_type": "code",
   "execution_count": 66,
   "id": "f7830fb3-7f00-4ea5-b4f3-87f4c6c53a3a",
   "metadata": {},
   "outputs": [
    {
     "data": {
      "text/plain": [
       "(60, 98)"
      ]
     },
     "execution_count": 66,
     "metadata": {},
     "output_type": "execute_result"
    }
   ],
   "source": [
    "df_f2 = pd.read_csv(file2)\n",
    "df_f2.shape"
   ]
  },
  {
   "cell_type": "code",
   "execution_count": 67,
   "id": "7da9426e-5202-4a62-8659-e4dc48a2badd",
   "metadata": {},
   "outputs": [
    {
     "data": {
      "text/html": [
       "<div>\n",
       "<style scoped>\n",
       "    .dataframe tbody tr th:only-of-type {\n",
       "        vertical-align: middle;\n",
       "    }\n",
       "\n",
       "    .dataframe tbody tr th {\n",
       "        vertical-align: top;\n",
       "    }\n",
       "\n",
       "    .dataframe thead th {\n",
       "        text-align: right;\n",
       "    }\n",
       "</style>\n",
       "<table border=\"1\" class=\"dataframe\">\n",
       "  <thead>\n",
       "    <tr style=\"text-align: right;\">\n",
       "      <th></th>\n",
       "      <th>DATASET</th>\n",
       "      <th>SERIES_CODE</th>\n",
       "      <th>OBS_MEASURE</th>\n",
       "      <th>COUNTRY</th>\n",
       "      <th>INDICATOR</th>\n",
       "      <th>TYPE_OF_TRANSFORMATION</th>\n",
       "      <th>FREQUENCY</th>\n",
       "      <th>SCALE</th>\n",
       "      <th>PRECISION</th>\n",
       "      <th>DECIMALS_DISPLAYED</th>\n",
       "      <th>...</th>\n",
       "      <th>2022-Q4</th>\n",
       "      <th>2023-Q1</th>\n",
       "      <th>2023-Q2</th>\n",
       "      <th>2023-Q3</th>\n",
       "      <th>2023-Q4</th>\n",
       "      <th>2024-Q1</th>\n",
       "      <th>2024-Q2</th>\n",
       "      <th>2024-Q3</th>\n",
       "      <th>2024-Q4</th>\n",
       "      <th>2025-Q1</th>\n",
       "    </tr>\n",
       "  </thead>\n",
       "  <tbody>\n",
       "    <tr>\n",
       "      <th>0</th>\n",
       "      <td>IMF.STA:QGDP_WCA(3.0.0)</td>\n",
       "      <td>G001.B1GQ_S1.POP_PCH_PT.Q</td>\n",
       "      <td>OBS_VALUE</td>\n",
       "      <td>World</td>\n",
       "      <td>Gross domestic product (GDP), Total economy</td>\n",
       "      <td>Period-over-preceding period percent change, P...</td>\n",
       "      <td>Quarterly</td>\n",
       "      <td>NaN</td>\n",
       "      <td>NaN</td>\n",
       "      <td>NaN</td>\n",
       "      <td>...</td>\n",
       "      <td>0.970324</td>\n",
       "      <td>0.892833</td>\n",
       "      <td>0.464511</td>\n",
       "      <td>0.962598</td>\n",
       "      <td>0.706613</td>\n",
       "      <td>0.777499</td>\n",
       "      <td>0.246007</td>\n",
       "      <td>0.149742</td>\n",
       "      <td>0.550311</td>\n",
       "      <td>1.879711</td>\n",
       "    </tr>\n",
       "    <tr>\n",
       "      <th>1</th>\n",
       "      <td>IMF.STA:QGDP_WCA(3.0.0)</td>\n",
       "      <td>U142.B1GQ_S1_Q.POP_PCH_PT.Q</td>\n",
       "      <td>OBS_VALUE</td>\n",
       "      <td>Asia</td>\n",
       "      <td>Gross domestic product (GDP), Total economy, C...</td>\n",
       "      <td>Period-over-preceding period percent change, P...</td>\n",
       "      <td>Quarterly</td>\n",
       "      <td>NaN</td>\n",
       "      <td>NaN</td>\n",
       "      <td>NaN</td>\n",
       "      <td>...</td>\n",
       "      <td>0.678801</td>\n",
       "      <td>1.386797</td>\n",
       "      <td>1.416312</td>\n",
       "      <td>1.064424</td>\n",
       "      <td>0.900656</td>\n",
       "      <td>1.162146</td>\n",
       "      <td>0.926886</td>\n",
       "      <td>1.132581</td>\n",
       "      <td>1.364676</td>\n",
       "      <td>1.141001</td>\n",
       "    </tr>\n",
       "  </tbody>\n",
       "</table>\n",
       "<p>2 rows × 98 columns</p>\n",
       "</div>"
      ],
      "text/plain": [
       "                   DATASET                  SERIES_CODE OBS_MEASURE COUNTRY  \\\n",
       "0  IMF.STA:QGDP_WCA(3.0.0)    G001.B1GQ_S1.POP_PCH_PT.Q   OBS_VALUE   World   \n",
       "1  IMF.STA:QGDP_WCA(3.0.0)  U142.B1GQ_S1_Q.POP_PCH_PT.Q   OBS_VALUE    Asia   \n",
       "\n",
       "                                           INDICATOR  \\\n",
       "0        Gross domestic product (GDP), Total economy   \n",
       "1  Gross domestic product (GDP), Total economy, C...   \n",
       "\n",
       "                              TYPE_OF_TRANSFORMATION  FREQUENCY  SCALE  \\\n",
       "0  Period-over-preceding period percent change, P...  Quarterly    NaN   \n",
       "1  Period-over-preceding period percent change, P...  Quarterly    NaN   \n",
       "\n",
       "   PRECISION  DECIMALS_DISPLAYED  ...   2022-Q4   2023-Q1   2023-Q2   2023-Q3  \\\n",
       "0        NaN                 NaN  ...  0.970324  0.892833  0.464511  0.962598   \n",
       "1        NaN                 NaN  ...  0.678801  1.386797  1.416312  1.064424   \n",
       "\n",
       "    2023-Q4   2024-Q1   2024-Q2   2024-Q3   2024-Q4   2025-Q1  \n",
       "0  0.706613  0.777499  0.246007  0.149742  0.550311  1.879711  \n",
       "1  0.900656  1.162146  0.926886  1.132581  1.364676  1.141001  \n",
       "\n",
       "[2 rows x 98 columns]"
      ]
     },
     "execution_count": 67,
     "metadata": {},
     "output_type": "execute_result"
    }
   ],
   "source": [
    "df_f2.head(2)"
   ]
  },
  {
   "cell_type": "code",
   "execution_count": 72,
   "id": "ff45a67d-b519-484c-b313-464965a04864",
   "metadata": {},
   "outputs": [
    {
     "data": {
      "text/html": [
       "<div>\n",
       "<style scoped>\n",
       "    .dataframe tbody tr th:only-of-type {\n",
       "        vertical-align: middle;\n",
       "    }\n",
       "\n",
       "    .dataframe tbody tr th {\n",
       "        vertical-align: top;\n",
       "    }\n",
       "\n",
       "    .dataframe thead th {\n",
       "        text-align: right;\n",
       "    }\n",
       "</style>\n",
       "<table border=\"1\" class=\"dataframe\">\n",
       "  <thead>\n",
       "    <tr style=\"text-align: right;\">\n",
       "      <th></th>\n",
       "      <th>AREA</th>\n",
       "      <th>CODE</th>\n",
       "      <th>COUNTRY NAME</th>\n",
       "    </tr>\n",
       "  </thead>\n",
       "  <tbody>\n",
       "    <tr>\n",
       "      <th>0</th>\n",
       "      <td>European Union (EU)</td>\n",
       "      <td>BE</td>\n",
       "      <td>Belgium</td>\n",
       "    </tr>\n",
       "    <tr>\n",
       "      <th>1</th>\n",
       "      <td>European Union (EU)</td>\n",
       "      <td>BG</td>\n",
       "      <td>Bulgaria</td>\n",
       "    </tr>\n",
       "    <tr>\n",
       "      <th>2</th>\n",
       "      <td>European Union (EU)</td>\n",
       "      <td>CZ</td>\n",
       "      <td>Czech Republic</td>\n",
       "    </tr>\n",
       "    <tr>\n",
       "      <th>3</th>\n",
       "      <td>European Union (EU)</td>\n",
       "      <td>DK</td>\n",
       "      <td>Denmark</td>\n",
       "    </tr>\n",
       "    <tr>\n",
       "      <th>4</th>\n",
       "      <td>European Union (EU)</td>\n",
       "      <td>DE</td>\n",
       "      <td>Germany (including former GDR from 1991)</td>\n",
       "    </tr>\n",
       "  </tbody>\n",
       "</table>\n",
       "</div>"
      ],
      "text/plain": [
       "                  AREA CODE                              COUNTRY NAME\n",
       "0  European Union (EU)  BE                                    Belgium\n",
       "1  European Union (EU)  BG                                   Bulgaria\n",
       "2  European Union (EU)  CZ                             Czech Republic\n",
       "3  European Union (EU)  DK                                    Denmark\n",
       "4  European Union (EU)  DE   Germany (including former GDR from 1991)"
      ]
     },
     "execution_count": 72,
     "metadata": {},
     "output_type": "execute_result"
    }
   ],
   "source": [
    "df_f3 = pd.read_excel(file3, skiprows=[1])\n",
    "# pd.read_excel(\"students.xlsx\", header=1)  # if headers are on 2nd row\n",
    "df_f3.head(5)"
   ]
  },
  {
   "cell_type": "code",
   "execution_count": 76,
   "id": "c017d03e-fb23-484b-8b4c-d174a7e581c1",
   "metadata": {},
   "outputs": [],
   "source": [
    "# data from Online Resources, downloadable directly\n",
    "f4 = 'https://raw.githubusercontent.com/DUanalytics/datasets/refs/heads/master/csv/global_world_indicators_2000.csv'\n",
    "file4 = f4"
   ]
  },
  {
   "cell_type": "code",
   "execution_count": 77,
   "id": "cc48fe37-791a-46a8-9884-75ecc1bdcb73",
   "metadata": {},
   "outputs": [
    {
     "data": {
      "text/plain": [
       "(207, 27)"
      ]
     },
     "execution_count": 77,
     "metadata": {},
     "output_type": "execute_result"
    }
   ],
   "source": [
    "df_f4 = pd.read_csv(file4)\n",
    "df_f4.shape"
   ]
  },
  {
   "cell_type": "code",
   "execution_count": 79,
   "id": "583cca6f-94aa-4d29-bc53-d6da61379220",
   "metadata": {},
   "outputs": [
    {
     "data": {
      "text/html": [
       "<div>\n",
       "<style scoped>\n",
       "    .dataframe tbody tr th:only-of-type {\n",
       "        vertical-align: middle;\n",
       "    }\n",
       "\n",
       "    .dataframe tbody tr th {\n",
       "        vertical-align: top;\n",
       "    }\n",
       "\n",
       "    .dataframe thead th {\n",
       "        text-align: right;\n",
       "    }\n",
       "</style>\n",
       "<table border=\"1\" class=\"dataframe\">\n",
       "  <thead>\n",
       "    <tr style=\"text-align: right;\">\n",
       "      <th></th>\n",
       "      <th>Birth Rate</th>\n",
       "      <th>Business Tax Rate</th>\n",
       "      <th>CO2 Emissions</th>\n",
       "      <th>Ease of Business (clusters)</th>\n",
       "      <th>Country/Region</th>\n",
       "      <th>Days to Start Business</th>\n",
       "      <th>Ease of Business</th>\n",
       "      <th>Energy Usage</th>\n",
       "      <th>GDP</th>\n",
       "      <th>Health Exp % GDP</th>\n",
       "      <th>...</th>\n",
       "      <th>Mobile Phone Usage</th>\n",
       "      <th>Population 0-14</th>\n",
       "      <th>Population 15-64</th>\n",
       "      <th>Population 65+</th>\n",
       "      <th>Population Total</th>\n",
       "      <th>Population Urban</th>\n",
       "      <th>Region</th>\n",
       "      <th>Tourism Inbound</th>\n",
       "      <th>Tourism Outbound</th>\n",
       "      <th>Year</th>\n",
       "    </tr>\n",
       "  </thead>\n",
       "  <tbody>\n",
       "    <tr>\n",
       "      <th>0</th>\n",
       "      <td>0.02</td>\n",
       "      <td>NaN</td>\n",
       "      <td>87931.0</td>\n",
       "      <td>Low</td>\n",
       "      <td>Algeria</td>\n",
       "      <td>NaN</td>\n",
       "      <td>NaN</td>\n",
       "      <td>26998.0</td>\n",
       "      <td>5.479006e+10</td>\n",
       "      <td>0.035</td>\n",
       "      <td>...</td>\n",
       "      <td>0.003</td>\n",
       "      <td>0.342</td>\n",
       "      <td>0.619</td>\n",
       "      <td>0.039</td>\n",
       "      <td>31719449</td>\n",
       "      <td>0.599</td>\n",
       "      <td>Africa</td>\n",
       "      <td>102000000.0</td>\n",
       "      <td>193000000.0</td>\n",
       "      <td>12/1/2000</td>\n",
       "    </tr>\n",
       "    <tr>\n",
       "      <th>1</th>\n",
       "      <td>0.05</td>\n",
       "      <td>NaN</td>\n",
       "      <td>9542.0</td>\n",
       "      <td>Low</td>\n",
       "      <td>Angola</td>\n",
       "      <td>NaN</td>\n",
       "      <td>NaN</td>\n",
       "      <td>7499.0</td>\n",
       "      <td>9.129595e+09</td>\n",
       "      <td>0.034</td>\n",
       "      <td>...</td>\n",
       "      <td>0.002</td>\n",
       "      <td>0.476</td>\n",
       "      <td>0.499</td>\n",
       "      <td>0.025</td>\n",
       "      <td>13924930</td>\n",
       "      <td>0.324</td>\n",
       "      <td>Africa</td>\n",
       "      <td>34000000.0</td>\n",
       "      <td>146000000.0</td>\n",
       "      <td>12/1/2000</td>\n",
       "    </tr>\n",
       "  </tbody>\n",
       "</table>\n",
       "<p>2 rows × 27 columns</p>\n",
       "</div>"
      ],
      "text/plain": [
       "   Birth Rate  Business Tax Rate  CO2 Emissions Ease of Business (clusters)  \\\n",
       "0        0.02                NaN        87931.0                         Low   \n",
       "1        0.05                NaN         9542.0                         Low   \n",
       "\n",
       "  Country/Region  Days to Start Business  Ease of Business  Energy Usage  \\\n",
       "0        Algeria                     NaN               NaN       26998.0   \n",
       "1         Angola                     NaN               NaN        7499.0   \n",
       "\n",
       "            GDP  Health Exp % GDP  ...  Mobile Phone Usage  Population 0-14  \\\n",
       "0  5.479006e+10             0.035  ...               0.003            0.342   \n",
       "1  9.129595e+09             0.034  ...               0.002            0.476   \n",
       "\n",
       "   Population 15-64  Population 65+  Population Total  Population Urban  \\\n",
       "0             0.619           0.039          31719449             0.599   \n",
       "1             0.499           0.025          13924930             0.324   \n",
       "\n",
       "   Region  Tourism Inbound  Tourism Outbound       Year  \n",
       "0  Africa      102000000.0       193000000.0  12/1/2000  \n",
       "1  Africa       34000000.0       146000000.0  12/1/2000  \n",
       "\n",
       "[2 rows x 27 columns]"
      ]
     },
     "execution_count": 79,
     "metadata": {},
     "output_type": "execute_result"
    }
   ],
   "source": [
    "df_f4.head(2)"
   ]
  },
  {
   "cell_type": "code",
   "execution_count": 82,
   "id": "ad1d3206-be65-4229-867e-b8dcb97295ca",
   "metadata": {},
   "outputs": [
    {
     "name": "stdout",
     "output_type": "stream",
     "text": [
      "Requirement already satisfied: xlrd in /Users/du/anaconda3/lib/python3.12/site-packages (2.0.2)\n",
      "Note: you may need to restart the kernel to use updated packages.\n"
     ]
    }
   ],
   "source": [
    "#pip install xlrd\n"
   ]
  },
  {
   "cell_type": "code",
   "execution_count": 94,
   "id": "ea3ec4fb-d382-487c-b697-224e252a3ad7",
   "metadata": {},
   "outputs": [],
   "source": [
    "f5A= 'https://my.surrey.ac.uk/sites/default/files/2024-12/UOS_RIGO_template_011%20Sample%20tracking%20log%2022Aug23.xlsx'"
   ]
  },
  {
   "cell_type": "code",
   "execution_count": 95,
   "id": "235b6652-6d27-42f6-8c1e-c7f5f7e26be8",
   "metadata": {},
   "outputs": [
    {
     "data": {
      "text/plain": [
       "(9, 22)"
      ]
     },
     "execution_count": 95,
     "metadata": {},
     "output_type": "execute_result"
    }
   ],
   "source": [
    "file5A = f5A\n",
    "df_f5A = pd.read_excel(file5A)\n",
    "#df_f5B = pd.read_excel(file5B, engine='xlrd')\n",
    "df_f5A.shape"
   ]
  },
  {
   "cell_type": "code",
   "execution_count": 96,
   "id": "3b423154-3140-4af7-bea6-650eeb5160b0",
   "metadata": {},
   "outputs": [
    {
     "data": {
      "text/html": [
       "<div>\n",
       "<style scoped>\n",
       "    .dataframe tbody tr th:only-of-type {\n",
       "        vertical-align: middle;\n",
       "    }\n",
       "\n",
       "    .dataframe tbody tr th {\n",
       "        vertical-align: top;\n",
       "    }\n",
       "\n",
       "    .dataframe thead th {\n",
       "        text-align: right;\n",
       "    }\n",
       "</style>\n",
       "<table border=\"1\" class=\"dataframe\">\n",
       "  <thead>\n",
       "    <tr style=\"text-align: right;\">\n",
       "      <th></th>\n",
       "      <th>PI:</th>\n",
       "      <th>Unnamed: 1</th>\n",
       "      <th>Unnamed: 2</th>\n",
       "      <th>Unnamed: 3</th>\n",
       "      <th>Unnamed: 4</th>\n",
       "      <th>Unnamed: 5</th>\n",
       "      <th>Unnamed: 6</th>\n",
       "      <th>Unnamed: 7</th>\n",
       "      <th>Unnamed: 8</th>\n",
       "      <th>Unnamed: 9</th>\n",
       "      <th>...</th>\n",
       "      <th>Unnamed: 12</th>\n",
       "      <th>Unnamed: 13</th>\n",
       "      <th>Unnamed: 14</th>\n",
       "      <th>Unnamed: 15</th>\n",
       "      <th>Unnamed: 16</th>\n",
       "      <th>Unnamed: 17</th>\n",
       "      <th>Unnamed: 18</th>\n",
       "      <th>Unnamed: 19</th>\n",
       "      <th>Unnamed: 20</th>\n",
       "      <th>Unnamed: 21</th>\n",
       "    </tr>\n",
       "  </thead>\n",
       "  <tbody>\n",
       "    <tr>\n",
       "      <th>0</th>\n",
       "      <td>Study Title:</td>\n",
       "      <td>NaN</td>\n",
       "      <td>Study ID:</td>\n",
       "      <td>ABC</td>\n",
       "      <td>NaN</td>\n",
       "      <td>NaN</td>\n",
       "      <td>NaN</td>\n",
       "      <td>NaN</td>\n",
       "      <td>NaN</td>\n",
       "      <td>NaN</td>\n",
       "      <td>...</td>\n",
       "      <td>NaN</td>\n",
       "      <td>NaN</td>\n",
       "      <td>NaN</td>\n",
       "      <td>NaN</td>\n",
       "      <td>NaN</td>\n",
       "      <td>NaN</td>\n",
       "      <td>NaN</td>\n",
       "      <td>NaN</td>\n",
       "      <td>NaN</td>\n",
       "      <td>NaN</td>\n",
       "    </tr>\n",
       "    <tr>\n",
       "      <th>1</th>\n",
       "      <td>NHS REC or HTA Licence</td>\n",
       "      <td>NaN</td>\n",
       "      <td>Consent forms location:</td>\n",
       "      <td>NaN</td>\n",
       "      <td>NaN</td>\n",
       "      <td>NaN</td>\n",
       "      <td>NaN</td>\n",
       "      <td>NaN</td>\n",
       "      <td>NaN</td>\n",
       "      <td>NaN</td>\n",
       "      <td>...</td>\n",
       "      <td>NaN</td>\n",
       "      <td>NaN</td>\n",
       "      <td>NaN</td>\n",
       "      <td>NaN</td>\n",
       "      <td>NaN</td>\n",
       "      <td>NaN</td>\n",
       "      <td>NaN</td>\n",
       "      <td>NaN</td>\n",
       "      <td>NaN</td>\n",
       "      <td>NaN</td>\n",
       "    </tr>\n",
       "    <tr>\n",
       "      <th>2</th>\n",
       "      <td>Ethics Application no:</td>\n",
       "      <td>NaN</td>\n",
       "      <td>Expiry of ethics:</td>\n",
       "      <td>NaN</td>\n",
       "      <td>NaN</td>\n",
       "      <td>NaN</td>\n",
       "      <td>NaN</td>\n",
       "      <td>NaN</td>\n",
       "      <td>NaN</td>\n",
       "      <td>NaN</td>\n",
       "      <td>...</td>\n",
       "      <td>NaN</td>\n",
       "      <td>NaN</td>\n",
       "      <td>NaN</td>\n",
       "      <td>NaN</td>\n",
       "      <td>NaN</td>\n",
       "      <td>NaN</td>\n",
       "      <td>NaN</td>\n",
       "      <td>NaN</td>\n",
       "      <td>NaN</td>\n",
       "      <td>NaN</td>\n",
       "    </tr>\n",
       "    <tr>\n",
       "      <th>3</th>\n",
       "      <td>Sample Type</td>\n",
       "      <td>W = Whole Blood   P=Plasma   S=Serum C=PBMC T=...</td>\n",
       "      <td>Sample Storage</td>\n",
       "      <td>-80, -20, RT, LN2, Other</td>\n",
       "      <td>NaN</td>\n",
       "      <td>NaN</td>\n",
       "      <td>NaN</td>\n",
       "      <td>NaN</td>\n",
       "      <td>NaN</td>\n",
       "      <td>NaN</td>\n",
       "      <td>...</td>\n",
       "      <td>NaN</td>\n",
       "      <td>NaN</td>\n",
       "      <td>NaN</td>\n",
       "      <td>NaN</td>\n",
       "      <td>NaN</td>\n",
       "      <td>NaN</td>\n",
       "      <td>NaN</td>\n",
       "      <td>NaN</td>\n",
       "      <td>NaN</td>\n",
       "      <td>NaN</td>\n",
       "    </tr>\n",
       "    <tr>\n",
       "      <th>4</th>\n",
       "      <td>NaN</td>\n",
       "      <td>NaN</td>\n",
       "      <td>NaN</td>\n",
       "      <td>NaN</td>\n",
       "      <td>NaN</td>\n",
       "      <td>NaN</td>\n",
       "      <td>NaN</td>\n",
       "      <td>NaN</td>\n",
       "      <td>NaN</td>\n",
       "      <td>NaN</td>\n",
       "      <td>...</td>\n",
       "      <td>NaN</td>\n",
       "      <td>NaN</td>\n",
       "      <td>NaN</td>\n",
       "      <td>NaN</td>\n",
       "      <td>NaN</td>\n",
       "      <td>NaN</td>\n",
       "      <td>NaN</td>\n",
       "      <td>NaN</td>\n",
       "      <td>NaN</td>\n",
       "      <td>NaN</td>\n",
       "    </tr>\n",
       "  </tbody>\n",
       "</table>\n",
       "<p>5 rows × 22 columns</p>\n",
       "</div>"
      ],
      "text/plain": [
       "                       PI:                                         Unnamed: 1  \\\n",
       "0             Study Title:                                                NaN   \n",
       "1  NHS REC or HTA Licence                                                 NaN   \n",
       "2   Ethics Application no:                                                NaN   \n",
       "3             Sample Type   W = Whole Blood   P=Plasma   S=Serum C=PBMC T=...   \n",
       "4                      NaN                                                NaN   \n",
       "\n",
       "                 Unnamed: 2                Unnamed: 3 Unnamed: 4 Unnamed: 5  \\\n",
       "0                 Study ID:                       ABC        NaN        NaN   \n",
       "1  Consent forms location:                        NaN        NaN        NaN   \n",
       "2         Expiry of ethics:                       NaN        NaN        NaN   \n",
       "3           Sample Storage   -80, -20, RT, LN2, Other        NaN        NaN   \n",
       "4                       NaN                       NaN        NaN        NaN   \n",
       "\n",
       "  Unnamed: 6 Unnamed: 7 Unnamed: 8 Unnamed: 9  ... Unnamed: 12 Unnamed: 13  \\\n",
       "0        NaN        NaN        NaN        NaN  ...         NaN         NaN   \n",
       "1        NaN        NaN        NaN        NaN  ...         NaN         NaN   \n",
       "2        NaN        NaN        NaN        NaN  ...         NaN         NaN   \n",
       "3        NaN        NaN        NaN        NaN  ...         NaN         NaN   \n",
       "4        NaN        NaN        NaN        NaN  ...         NaN         NaN   \n",
       "\n",
       "  Unnamed: 14 Unnamed: 15 Unnamed: 16 Unnamed: 17 Unnamed: 18 Unnamed: 19  \\\n",
       "0         NaN         NaN         NaN         NaN         NaN         NaN   \n",
       "1         NaN         NaN         NaN         NaN         NaN         NaN   \n",
       "2         NaN         NaN         NaN         NaN         NaN         NaN   \n",
       "3         NaN         NaN         NaN         NaN         NaN         NaN   \n",
       "4         NaN         NaN         NaN         NaN         NaN         NaN   \n",
       "\n",
       "  Unnamed: 20 Unnamed: 21  \n",
       "0         NaN         NaN  \n",
       "1         NaN         NaN  \n",
       "2         NaN         NaN  \n",
       "3         NaN         NaN  \n",
       "4         NaN         NaN  \n",
       "\n",
       "[5 rows x 22 columns]"
      ]
     },
     "execution_count": 96,
     "metadata": {},
     "output_type": "execute_result"
    }
   ],
   "source": [
    "df_f5A.head()"
   ]
  },
  {
   "cell_type": "markdown",
   "id": "75516d4b-2d4a-4962-a06a-da9904b579e1",
   "metadata": {},
   "source": [
    "## Wiki table\n",
    "- https://en.wikipedia.org/wiki/List_of_cities_by_GDP"
   ]
  },
  {
   "cell_type": "code",
   "execution_count": 104,
   "id": "092b91a7-a100-4957-9f9c-c04f873d8fed",
   "metadata": {},
   "outputs": [
    {
     "name": "stdout",
     "output_type": "stream",
     "text": [
      "Found 6 tables\n"
     ]
    }
   ],
   "source": [
    "wiki1 = \"https://en.wikipedia.org/wiki/List_of_cities_by_GDP\"\n",
    "# read all tables on the page\n",
    "tables = pd.read_html(wiki1)\n",
    "print(f\"Found {len(tables)} tables\")"
   ]
  },
  {
   "cell_type": "code",
   "execution_count": 108,
   "id": "1f0d3174-7cb4-45e0-b64d-3f9cb42eedb5",
   "metadata": {},
   "outputs": [
    {
     "name": "stdout",
     "output_type": "stream",
     "text": [
      "\n",
      "Table 0 columns: [0, 1]\n",
      "\n",
      "\n",
      "Table 1 columns: [0, 1]\n",
      "\n",
      "\n",
      "Table 2 columns: ['City proper/metropolitan area', 'Country/region', 'GDP  (billion US$)', 'Population']\n",
      "\n"
     ]
    }
   ],
   "source": [
    "# Identify the correct table\n",
    "# Often the first is the main list — let's preview the first few tables\n",
    "for idx, table in enumerate(tables[:3]):\n",
    "    print(f\"\\nTable {idx} columns: {table.columns.tolist()}\\n\")"
   ]
  },
  {
   "cell_type": "code",
   "execution_count": 110,
   "id": "23b8fc0e-44b2-4003-9d95-5c32f4b26401",
   "metadata": {},
   "outputs": [
    {
     "data": {
      "text/html": [
       "<div>\n",
       "<style scoped>\n",
       "    .dataframe tbody tr th:only-of-type {\n",
       "        vertical-align: middle;\n",
       "    }\n",
       "\n",
       "    .dataframe tbody tr th {\n",
       "        vertical-align: top;\n",
       "    }\n",
       "\n",
       "    .dataframe thead th {\n",
       "        text-align: right;\n",
       "    }\n",
       "</style>\n",
       "<table border=\"1\" class=\"dataframe\">\n",
       "  <thead>\n",
       "    <tr style=\"text-align: right;\">\n",
       "      <th></th>\n",
       "      <th>City proper/metropolitan area</th>\n",
       "      <th>Country/region</th>\n",
       "      <th>GDP  (billion US$)</th>\n",
       "      <th>Population</th>\n",
       "    </tr>\n",
       "  </thead>\n",
       "  <tbody>\n",
       "    <tr>\n",
       "      <th>0</th>\n",
       "      <td>A Coruña metropolitan area</td>\n",
       "      <td>Spain</td>\n",
       "      <td>32.344 (2021)[5]</td>\n",
       "      <td>1,121,758 (2021)[6]</td>\n",
       "    </tr>\n",
       "    <tr>\n",
       "      <th>1</th>\n",
       "      <td>Aachen</td>\n",
       "      <td>Germany</td>\n",
       "      <td>27.092 (2021)[5]</td>\n",
       "      <td>556,631 (2021)[6]</td>\n",
       "    </tr>\n",
       "    <tr>\n",
       "      <th>2</th>\n",
       "      <td>Aalborg</td>\n",
       "      <td>Denmark</td>\n",
       "      <td>30.46 (2022)[5]</td>\n",
       "      <td>591,740 (2022)[6]</td>\n",
       "    </tr>\n",
       "    <tr>\n",
       "      <th>3</th>\n",
       "      <td>Aarhus</td>\n",
       "      <td>Denmark</td>\n",
       "      <td>53.383 (2022)[5]</td>\n",
       "      <td>913,861 (2022)[6]</td>\n",
       "    </tr>\n",
       "    <tr>\n",
       "      <th>4</th>\n",
       "      <td>Abbotsford, British Columbia</td>\n",
       "      <td>Canada</td>\n",
       "      <td>7.435 (2021)[7]</td>\n",
       "      <td>205,834 (2021)[8]</td>\n",
       "    </tr>\n",
       "  </tbody>\n",
       "</table>\n",
       "</div>"
      ],
      "text/plain": [
       "  City proper/metropolitan area Country/region GDP  (billion US$)  \\\n",
       "0    A Coruña metropolitan area          Spain   32.344 (2021)[5]   \n",
       "1                        Aachen        Germany   27.092 (2021)[5]   \n",
       "2                       Aalborg        Denmark    30.46 (2022)[5]   \n",
       "3                        Aarhus        Denmark   53.383 (2022)[5]   \n",
       "4  Abbotsford, British Columbia         Canada    7.435 (2021)[7]   \n",
       "\n",
       "            Population  \n",
       "0  1,121,758 (2021)[6]  \n",
       "1    556,631 (2021)[6]  \n",
       "2    591,740 (2022)[6]  \n",
       "3    913,861 (2022)[6]  \n",
       "4    205,834 (2021)[8]  "
      ]
     },
     "execution_count": 110,
     "metadata": {},
     "output_type": "execute_result"
    }
   ],
   "source": [
    "df_wk1 = tables[2]\n",
    "df_wk1.head()"
   ]
  },
  {
   "cell_type": "markdown",
   "id": "3fa34662-e2b9-4cba-ae09-5a0e262dea7c",
   "metadata": {},
   "source": [
    "### There are different ways to import table in to Python\n"
   ]
  },
  {
   "cell_type": "code",
   "execution_count": null,
   "id": "d5101b57-e7b7-41c8-ab7e-818d30d1a50b",
   "metadata": {},
   "outputs": [],
   "source": []
  }
 ],
 "metadata": {
  "kernelspec": {
   "display_name": "Python 3 (ipykernel)",
   "language": "python",
   "name": "python3"
  },
  "language_info": {
   "codemirror_mode": {
    "name": "ipython",
    "version": 3
   },
   "file_extension": ".py",
   "mimetype": "text/x-python",
   "name": "python",
   "nbconvert_exporter": "python",
   "pygments_lexer": "ipython3",
   "version": "3.12.7"
  }
 },
 "nbformat": 4,
 "nbformat_minor": 5
}
