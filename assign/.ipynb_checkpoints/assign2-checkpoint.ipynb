{
 "cells": [
  {
   "cell_type": "markdown",
   "id": "f967a639-d9a3-4e8f-8b11-2f386e2a4a0f",
   "metadata": {},
   "source": [
    "# Assignment - 1\n",
    "- Assignment for Data Analysis students, designed to encourage critical thinking and personal connection to the concepts of analysis vs. analytics\n",
    "- https://github.com/dupadhyaya/piit/tree/main/assign1"
   ]
  },
  {
   "cell_type": "markdown",
   "id": "6a4beebe-05d4-4f2b-9ebe-103390e2ea68",
   "metadata": {},
   "source": [
    "## 📘 Assignment: Personal Analogy – Analysis vs. Analytics\n",
    "- Course: Data Analysis\n",
    "- Topic: Understanding the Difference between Analysis and Analytics\n",
    "- Submission Type: Short Written Response (300–500 words)\n",
    "- Deadline: 26 Jul 2025"
   ]
  },
  {
   "cell_type": "markdown",
   "id": "ca3a8aa2-0d08-4260-9ad9-0bac1c05b3a4",
   "metadata": {},
   "source": [
    "## 📋 Instructions:\n",
    "- Write a short personal example from your own experience (academic, professional, or personal life) that illustrates the difference between analysis and analytics.\n",
    "- Your example should:\n",
    "    - Clearly describe a situation where data or information was involved.\n",
    "    - Explain how analysis was used (i.e., reviewing data to understand what or why something happened).\n",
    "    - Explain how analytics could be (or was) used (i.e., using data to predict or optimize future outcomes).\n",
    "    - Include a clear analogy or contrast between the two, in your own words."
   ]
  },
  {
   "cell_type": "markdown",
   "id": "545c3867-156d-4d5a-8f09-706a8b3659d4",
   "metadata": {},
   "source": [
    "## 🧠 Tips for Inspiration:\n",
    "- Reflect on any group project where you reviewed test results, survey data, or sales figures.\n",
    "- Think about how you planned your study schedule using past performance (analysis) vs. how an app like Duolingo recommends topics (analytics).\n",
    "- Consider how streaming apps suggest movies or fitness trackers send alerts — these are analytics in action."
   ]
  },
  {
   "cell_type": "markdown",
   "id": "6a432070-6b80-4c36-bfd5-05cca7af56cb",
   "metadata": {},
   "source": [
    "##  ✅ Evaluation Criteria:\n",
    "- Criteria ,  Weight\n",
    "    - Clarity and relevance, 30%\n",
    "    - Understanding of concepts, 30%\n",
    "    - Originality of example, 20%\n",
    "    - Structure and language, 20%"
   ]
  },
  {
   "cell_type": "markdown",
   "id": "b427ba14-7e8b-40b6-bb33-df3291f2f05a",
   "metadata": {},
   "source": [
    "## 📝 Submission Format:\n",
    "- Title: “My Analogy of Analysis vs. Analytics”\n",
    "- Word count: 300–500 words\n",
    "- Format: PDF or Word document if in LMS\n",
    "- And also in your GitHub Repositor - piit/assign/assign1 ; Markdown or Text document"
   ]
  },
  {
   "cell_type": "markdown",
   "id": "12eff839-c787-42fe-a4be-5c888cd71f28",
   "metadata": {},
   "source": [
    "## Visibility\n",
    "- https://github.com/xxxx/piit/tree/main/assign1.xxx\n",
    "- xxx - your git profile"
   ]
  },
  {
   "cell_type": "code",
   "execution_count": null,
   "id": "2cf3b2b2-cb8f-4972-af8e-6d8237885a31",
   "metadata": {},
   "outputs": [],
   "source": []
  }
 ],
 "metadata": {
  "kernelspec": {
   "display_name": "Python 3 (ipykernel)",
   "language": "python",
   "name": "python3"
  },
  "language_info": {
   "codemirror_mode": {
    "name": "ipython",
    "version": 3
   },
   "file_extension": ".py",
   "mimetype": "text/x-python",
   "name": "python",
   "nbconvert_exporter": "python",
   "pygments_lexer": "ipython3",
   "version": "3.12.7"
  }
 },
 "nbformat": 4,
 "nbformat_minor": 5
}
