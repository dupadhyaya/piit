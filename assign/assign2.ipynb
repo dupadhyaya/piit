{
 "cells": [
  {
   "cell_type": "markdown",
   "id": "f967a639-d9a3-4e8f-8b11-2f386e2a4a0f",
   "metadata": {},
   "source": [
    "# Assignment - 1\n",
    "- Assignment for Data Analysis students, designed to encourage students use of Excel like functions in Google Sheets\n",
    "- https://github.com/dupadhyaya/piit/tree/main/assign2"
   ]
  },
  {
   "cell_type": "markdown",
   "id": "6a4beebe-05d4-4f2b-9ebe-103390e2ea68",
   "metadata": {},
   "source": [
    "## 📘 Assignment: Excel / Google Sheet Functions\n",
    "- Course: Data Analysis Boot Campus\n",
    "- Topic: Workbook with realistic student data and a set of tasks that hit the key Google Sheets functions (VLOOKUP, IF, COUNT/COUNTIF/COUNTIFS, SUMIFS/AVERAGEIFS, UNIQUE, FILTER, SORT, INDEX/MATCH, IFERROR, etc.).\n",
    "- Submission Type: Google Sheet File (Provide link in your submission\n",
    "- Make a copy of this sheet and do your assignment https://docs.google.com/spreadsheets/d/1CLg10icbPGg8f8q7HI5t1ruxnyb34xfzSTcelqe0WEA/edit?gid=0#gid=0\n",
    "- Deadline: 31 Aug 2025"
   ]
  },
  {
   "cell_type": "markdown",
   "id": "ca3a8aa2-0d08-4260-9ad9-0bac1c05b3a4",
   "metadata": {},
   "source": [
    "## 📋 What’s inside (sheets):\n",
    "\t•\tStudents: StudentID, names, gender, class, admission date.\n",
    "\t•\tExams: Midterm & Final with dates/terms.\n",
    "\t•\tScores: Per-student scores across 5 subjects (Maths, Physics, Chemistry, English, Computer Science) for both exams.\n",
    "\t•\tAttendanceSummary: Total days, present days, and attendance %.\n",
    "\t•\tTargets: Class-wise target score per subject.\n",
    "\t•\tTasks: A clean checklist of practice questions."
   ]
  },
  {
   "cell_type": "markdown",
   "id": "451b47e0-cec2-44a3-ba35-5dd0a193874a",
   "metadata": {},
   "source": [
    "## Suggested assignment tasks (from the “Tasks” sheet):\n",
    "\t1.\tUse VLOOKUP to return a student’s full name and class from a given StudentID. Wrap with IFERROR to show “Not found”.\n",
    "\t2.\tAdd a Pass/Fail column: Pass if Score ≥ 40, else Fail (IF).\n",
    "\t3.\tCount all Maths scores recorded in the Midterm (COUNTIFS).\n",
    "\t4.\tAverage Final score in Physics for Class 12A (AVERAGEIFS).\n",
    "\t5.\tList unique subjects seen in Scores (UNIQUE).\n",
    "\t6.\tFor each student, find the best subject in the Final (highest score) (SORT/FILTER + MAX + INDEX/MATCH).\n",
    "\t7.\tCompute each student’s overall average across all subjects in the Final (AVERAGEIF(S)).\n",
    "\t8.\tCompare each student’s Final English score to the class Targets and label “Met Target” / “Below Target” (VLOOKUP + IF).\n",
    "\t9.\tCount how many students have attendance < 75% (COUNTIF).\n",
    "\t10.\tMake a filtered list of students with attendance < 75%, plus their Final average, sorted by lowest average first (FILTER + SORT).\n",
    "\t11.\tBuild a subject-wise summary (total, average, min, max) for Midterm and Final (PIVOT TABLE or SUMIFS/AVERAGEIFS/MINIFS/MAXIFS).\n",
    "\t12.\tLookup a student’s Midterm Maths score using INDEX/MATCH (don’t use VLOOKUP).\n",
    "### Optional\n",
    "    - Use of Data Validation Methods\n",
    "    - Row number automatically calculated\n",
    "    - Define Range Names"
   ]
  },
  {
   "cell_type": "markdown",
   "id": "545c3867-156d-4d5a-8f09-706a8b3659d4",
   "metadata": {},
   "source": [
    "## 🧠 Tips for Inspiration:\n",
    "- Reflect on Google Sheet Functions/ Excel Functions\n",
    "    - https://support.google.com/docs/table/25273?hl=en\n",
    "    - https://support.microsoft.com/en-us/office/excel-functions-by-category-5f91f4e9-7b42-46d2-9bd1-63f26a86c0eb\n",
    "- Understand the data set and perform the tasks "
   ]
  },
  {
   "cell_type": "markdown",
   "id": "6a432070-6b80-4c36-bfd5-05cca7af56cb",
   "metadata": {},
   "source": [
    "##  ✅ Evaluation Criteria:\n",
    "- Evaluation framework you can use for this Google Sheets practice assignment so students are graded not only on correctness but also on efficiency, clarity, and real-world application skills.\n",
    "    1. Formula Accuracy & Logic (40%)\n",
    "        - Correct Functions Used (20%)\n",
    "        - Matches the intended function(s) for each task (e.g., VLOOKUP for lookup, COUNTIFS for multiple conditions, INDEX/MATCH when required).\n",
    "        - No unnecessary helper columns unless justified.\n",
    "        - Logical Correctness (20%)\n",
    "        - Formula produces correct and complete results for all cases, not just sample rows.\n",
    "        - Handles edge cases (e.g., IFERROR for missing IDs, attendance exactly at 75%, scores = 40).\n",
    "    2. Efficiency & Best Practices (20%)\n",
    "        - Efficient Formula Structure (10%)\n",
    "        - Avoids overly long, repetitive formulas when a simpler alternative exists.\n",
    "        - Uses absolute/relative references correctly.\n",
    "        - Appropriate Use of Built-in Functions (10%)\n",
    "        - Leverages Google Sheets’ features like UNIQUE(), FILTER(), SORT(), AVERAGEIFS() instead of manual workarounds.\n",
    "   3. Data Presentation & Formatting (20%)\n",
    "       - Readability (10%)\n",
    "       - Clear column headers, consistent naming.\n",
    "       - No broken references, unnecessary blank cells, or truncated results.\n",
    "       - Formatting for Insight (10%)\n",
    "       - Conditional formatting for Pass/Fail or targets met.\n",
    "       - Number/date formats consistent and appropriate.\n",
    "    4. Interpretation & Insights (20%)\n",
    "        - Meaningful Output (10%)\n",
    "        - Results are not just numbers—students understand what the data is showing.\n",
    "        - Optional Commentary (10%)\n",
    "        - Short text or note explaining trends (e.g., “Physics average in 12A is below target” or “Attendance is a concern for 5 students”).\n",
    "### Marks aren’t just for “getting the right answer”—they’re also for how cleanly and intelligently you get there, and whether you can communicate the meaning of your findings"
   ]
  },
  {
   "cell_type": "markdown",
   "id": "b427ba14-7e8b-40b6-bb33-df3291f2f05a",
   "metadata": {},
   "source": [
    "## 📝 Submission Format:\n",
    "- Title: “PIIT Assign2 - Name”  (Name your name here)\n",
    "- Share the google sheet with full read permissions (anyone with link)\n",
    "- Format: Google Sheets\n",
    "- And also put the link in your GitHub Repositor - piit/assign/assign1 ; Markdown or Text document"
   ]
  },
  {
   "cell_type": "markdown",
   "id": "12eff839-c787-42fe-a4be-5c888cd71f28",
   "metadata": {},
   "source": [
    "## Visibility\n",
    "- Git Hub Assign : https://github.com/xxxx/piit/tree/main/assign2.xxx\n",
    "- Google Sheet : https://docs.google.com/spreadsheets/d/1CLg10icbPGg8f8q7HI5t1ruxnyb34xfzSTcelqe0WEA/"
   ]
  },
  {
   "cell_type": "code",
   "execution_count": null,
   "id": "2cf3b2b2-cb8f-4972-af8e-6d8237885a31",
   "metadata": {},
   "outputs": [],
   "source": []
  }
 ],
 "metadata": {
  "kernelspec": {
   "display_name": "Python 3 (ipykernel)",
   "language": "python",
   "name": "python3"
  },
  "language_info": {
   "codemirror_mode": {
    "name": "ipython",
    "version": 3
   },
   "file_extension": ".py",
   "mimetype": "text/x-python",
   "name": "python",
   "nbconvert_exporter": "python",
   "pygments_lexer": "ipython3",
   "version": "3.12.7"
  }
 },
 "nbformat": 4,
 "nbformat_minor": 5
}
