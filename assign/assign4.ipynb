{
 "cells": [
  {
   "cell_type": "markdown",
   "id": "785383ed-0470-4fc7-ad71-3472da8c87a4",
   "metadata": {},
   "source": [
    "# Assignment - 4\n",
    "- Lambda Functions"
   ]
  },
  {
   "cell_type": "code",
   "execution_count": 1,
   "id": "053208f6-b50b-4b07-a1ae-a4f5ccd7d751",
   "metadata": {},
   "outputs": [],
   "source": [
    "#"
   ]
  },
  {
   "cell_type": "markdown",
   "id": "1bad7955-cb56-4c07-90e4-1e85357e5ed7",
   "metadata": {},
   "source": [
    "### In progress, will create as we proceed with the topics"
   ]
  },
  {
   "cell_type": "code",
   "execution_count": 2,
   "id": "a8a1da5d-43b1-4419-930a-c014bd95adbf",
   "metadata": {},
   "outputs": [],
   "source": [
    "import pandas as pd\n",
    "from pydataset import data\n",
    "\n",
    "# Load mtcars dataset\n",
    "df = data('mtcars')"
   ]
  },
  {
   "cell_type": "code",
   "execution_count": 3,
   "id": "e9dbde88-7ff2-4bd5-87a1-82b982d52cd4",
   "metadata": {},
   "outputs": [
    {
     "data": {
      "text/html": [
       "<div>\n",
       "<style scoped>\n",
       "    .dataframe tbody tr th:only-of-type {\n",
       "        vertical-align: middle;\n",
       "    }\n",
       "\n",
       "    .dataframe tbody tr th {\n",
       "        vertical-align: top;\n",
       "    }\n",
       "\n",
       "    .dataframe thead th {\n",
       "        text-align: right;\n",
       "    }\n",
       "</style>\n",
       "<table border=\"1\" class=\"dataframe\">\n",
       "  <thead>\n",
       "    <tr style=\"text-align: right;\">\n",
       "      <th></th>\n",
       "      <th>mpg</th>\n",
       "      <th>cyl</th>\n",
       "      <th>disp</th>\n",
       "      <th>hp</th>\n",
       "      <th>drat</th>\n",
       "      <th>wt</th>\n",
       "      <th>qsec</th>\n",
       "      <th>vs</th>\n",
       "      <th>am</th>\n",
       "      <th>gear</th>\n",
       "      <th>carb</th>\n",
       "    </tr>\n",
       "  </thead>\n",
       "  <tbody>\n",
       "    <tr>\n",
       "      <th>Mazda RX4</th>\n",
       "      <td>21.0</td>\n",
       "      <td>6</td>\n",
       "      <td>160.0</td>\n",
       "      <td>110</td>\n",
       "      <td>3.90</td>\n",
       "      <td>2.620</td>\n",
       "      <td>16.46</td>\n",
       "      <td>0</td>\n",
       "      <td>1</td>\n",
       "      <td>4</td>\n",
       "      <td>4</td>\n",
       "    </tr>\n",
       "    <tr>\n",
       "      <th>Mazda RX4 Wag</th>\n",
       "      <td>21.0</td>\n",
       "      <td>6</td>\n",
       "      <td>160.0</td>\n",
       "      <td>110</td>\n",
       "      <td>3.90</td>\n",
       "      <td>2.875</td>\n",
       "      <td>17.02</td>\n",
       "      <td>0</td>\n",
       "      <td>1</td>\n",
       "      <td>4</td>\n",
       "      <td>4</td>\n",
       "    </tr>\n",
       "    <tr>\n",
       "      <th>Datsun 710</th>\n",
       "      <td>22.8</td>\n",
       "      <td>4</td>\n",
       "      <td>108.0</td>\n",
       "      <td>93</td>\n",
       "      <td>3.85</td>\n",
       "      <td>2.320</td>\n",
       "      <td>18.61</td>\n",
       "      <td>1</td>\n",
       "      <td>1</td>\n",
       "      <td>4</td>\n",
       "      <td>1</td>\n",
       "    </tr>\n",
       "    <tr>\n",
       "      <th>Hornet 4 Drive</th>\n",
       "      <td>21.4</td>\n",
       "      <td>6</td>\n",
       "      <td>258.0</td>\n",
       "      <td>110</td>\n",
       "      <td>3.08</td>\n",
       "      <td>3.215</td>\n",
       "      <td>19.44</td>\n",
       "      <td>1</td>\n",
       "      <td>0</td>\n",
       "      <td>3</td>\n",
       "      <td>1</td>\n",
       "    </tr>\n",
       "    <tr>\n",
       "      <th>Hornet Sportabout</th>\n",
       "      <td>18.7</td>\n",
       "      <td>8</td>\n",
       "      <td>360.0</td>\n",
       "      <td>175</td>\n",
       "      <td>3.15</td>\n",
       "      <td>3.440</td>\n",
       "      <td>17.02</td>\n",
       "      <td>0</td>\n",
       "      <td>0</td>\n",
       "      <td>3</td>\n",
       "      <td>2</td>\n",
       "    </tr>\n",
       "  </tbody>\n",
       "</table>\n",
       "</div>"
      ],
      "text/plain": [
       "                    mpg  cyl   disp   hp  drat     wt   qsec  vs  am  gear  \\\n",
       "Mazda RX4          21.0    6  160.0  110  3.90  2.620  16.46   0   1     4   \n",
       "Mazda RX4 Wag      21.0    6  160.0  110  3.90  2.875  17.02   0   1     4   \n",
       "Datsun 710         22.8    4  108.0   93  3.85  2.320  18.61   1   1     4   \n",
       "Hornet 4 Drive     21.4    6  258.0  110  3.08  3.215  19.44   1   0     3   \n",
       "Hornet Sportabout  18.7    8  360.0  175  3.15  3.440  17.02   0   0     3   \n",
       "\n",
       "                   carb  \n",
       "Mazda RX4             4  \n",
       "Mazda RX4 Wag         4  \n",
       "Datsun 710            1  \n",
       "Hornet 4 Drive        1  \n",
       "Hornet Sportabout     2  "
      ]
     },
     "execution_count": 3,
     "metadata": {},
     "output_type": "execute_result"
    }
   ],
   "source": [
    "df.head()"
   ]
  },
  {
   "cell_type": "markdown",
   "id": "adfa1a3c-fdf7-4f0f-a521-66791f825d41",
   "metadata": {},
   "source": [
    "### 4.1 Add Two Columns\n",
    "- Create a new column mpg_hp_sum = mpg + hp using a lambda function."
   ]
  },
  {
   "cell_type": "code",
   "execution_count": null,
   "id": "06f0a9aa-141a-4df6-b39d-2cf57b81e076",
   "metadata": {},
   "outputs": [],
   "source": []
  },
  {
   "cell_type": "markdown",
   "id": "70ccb19e-151d-436a-a997-ed18eaf67064",
   "metadata": {},
   "source": [
    "### 4.2 Conditional Label\n",
    "- Create a new column mpg_label:\n",
    "\t•\t\"High\" if mpg > 20\n",
    "\t•\t\"Low\" otherwise\n",
    "- Use apply() with a lambda."
   ]
  },
  {
   "cell_type": "markdown",
   "id": "af039ef9-87e5-4bcb-b885-d839c7d8a0e3",
   "metadata": {},
   "source": [
    "### 4.3 Multiply Column Values\n",
    "- Double all hp values using map() with a lambda."
   ]
  },
  {
   "cell_type": "markdown",
   "id": "153c7449-9403-4079-8070-90e7fabd3c98",
   "metadata": {},
   "source": [
    "### 4.4 Filter Rows\n",
    "- Get a list of all mpg values greater than 25 using filter() with a lambda."
   ]
  },
  {
   "cell_type": "markdown",
   "id": "9922eca3-f0e8-4b98-baa5-fc0cc0380988",
   "metadata": {},
   "source": [
    "### 4.5 Reduce to Total\n",
    "- Use reduce() with a lambda to sum all cyl values in the dataset."
   ]
  },
  {
   "cell_type": "markdown",
   "id": "15874639-0009-45ca-83cb-e036b7a4f6c0",
   "metadata": {},
   "source": [
    "### 4.6 Sort by Custom Rule\n",
    "- Sort the dataset by the reverse of the car names’ length using sorted() with a lambda on the index."
   ]
  },
  {
   "cell_type": "markdown",
   "id": "94fadb02-ba71-41ba-91b9-7e77715fa6c8",
   "metadata": {},
   "source": [
    "### 4.7 Multi-Column Condition\n",
    "- Create a column efficient_power = \"Yes\" if mpg > 20 and hp > 100, else \"No\".|"
   ]
  },
  {
   "cell_type": "markdown",
   "id": "8d9337d6-0971-4709-9e6b-dce810970134",
   "metadata": {},
   "source": [
    "### 4.8 Normalize a Column\n",
    "- Normalize mpg between 0 and 1 using a lambda inside apply():\n",
    "- {normalized} = (x - min)/(max - min)"
   ]
  },
  {
   "cell_type": "markdown",
   "id": "08172a10-119c-49d1-a40e-7082c0331f62",
   "metadata": {},
   "source": [
    "### 4.9 Extract First Word\n",
    "- Extract the first word from each car name (index) into a new column car_make using map() with a lambda."
   ]
  },
  {
   "cell_type": "markdown",
   "id": "b174ef09-df57-4331-b1fa-20f08e77246e",
   "metadata": {},
   "source": [
    "### 4.10 Square and Add\n",
    "- Create a column hp_mpg_calc = (hp² + mpg²) using apply() with a lambda."
   ]
  },
  {
   "cell_type": "markdown",
   "id": "83eb0399-c036-4f0f-b39d-30acf59b0b40",
   "metadata": {},
   "source": [
    "### 4.11 Filter by Col values\n",
    "- Filter cars with mpg > 25."
   ]
  },
  {
   "cell_type": "markdown",
   "id": "910638b9-ed8b-4ea7-ac14-0959cb26cb14",
   "metadata": {},
   "source": [
    "### 4.12 Filter and soted carnames by horsepower\n",
    "- From above return a list of car names sorted by horsepower."
   ]
  },
  {
   "cell_type": "raw",
   "id": "b0b9d0a0-6952-42b1-90dc-9dd772ace4b7",
   "metadata": {},
   "source": [
    "# End Here\n",
    "- docs - 1nWPAH4oD_DNP9lfJXtrlrgufld4YwYoJHVoNUtWZGS4"
   ]
  },
  {
   "cell_type": "code",
   "execution_count": null,
   "id": "9fcd2da6-8a76-4dec-8f04-13d98e6aa584",
   "metadata": {},
   "outputs": [],
   "source": []
  }
 ],
 "metadata": {
  "kernelspec": {
   "display_name": "Python 3 (ipykernel)",
   "language": "python",
   "name": "python3"
  },
  "language_info": {
   "codemirror_mode": {
    "name": "ipython",
    "version": 3
   },
   "file_extension": ".py",
   "mimetype": "text/x-python",
   "name": "python",
   "nbconvert_exporter": "python",
   "pygments_lexer": "ipython3",
   "version": "3.12.7"
  }
 },
 "nbformat": 4,
 "nbformat_minor": 5
}
