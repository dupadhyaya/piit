{
 "cells": [
  {
   "cell_type": "markdown",
   "id": "785383ed-0470-4fc7-ad71-3472da8c87a4",
   "metadata": {},
   "source": [
    "# Assignment - 5\n",
    "- Groupby, Aggregation\n",
    "- Create your own DF\n",
    "- Joins\n",
    "- Melt, Reshape, Pivot\n",
    "- Cumulative Values\n",
    "- Replacing Missing Values"
   ]
  },
  {
   "cell_type": "markdown",
   "id": "1bad7955-cb56-4c07-90e4-1e85357e5ed7",
   "metadata": {},
   "source": [
    "### In progress, will create as we proceed with the topics"
   ]
  }
 ],
 "metadata": {
  "kernelspec": {
   "display_name": "Python 3 (ipykernel)",
   "language": "python",
   "name": "python3"
  },
  "language_info": {
   "codemirror_mode": {
    "name": "ipython",
    "version": 3
   },
   "file_extension": ".py",
   "mimetype": "text/x-python",
   "name": "python",
   "nbconvert_exporter": "python",
   "pygments_lexer": "ipython3",
   "version": "3.12.7"
  }
 },
 "nbformat": 4,
 "nbformat_minor": 5
}
