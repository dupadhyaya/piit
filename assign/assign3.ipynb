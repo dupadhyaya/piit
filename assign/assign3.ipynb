{
 "cells": [
  {
   "cell_type": "markdown",
   "id": "0f3535ba-9ba3-4c8f-97f6-e472615dfc69",
   "metadata": {},
   "source": [
    "# Assignment - 3"
   ]
  },
  {
   "cell_type": "code",
   "execution_count": null,
   "id": "1188cac7-9caa-4e36-8f28-c5097fdc3a79",
   "metadata": {},
   "outputs": [],
   "source": [
    "## Assignment Details \n",
    "- Create aotebook that uses the airquality dataset from pydataset and walks students through core pandas skills: structure, head/tail, selects, filters, missing values, duplicates, sorting, and simple aggregations."
   ]
  },
  {
   "cell_type": "markdown",
   "id": "2b1efa40-b776-463d-a184-c40f6351ce31",
   "metadata": {},
   "source": [
    "## Practise Exercises\n",
    "    - Inspecting structure: shape, dtypes, info, head, tail\n",
    "    - Summary stats: describe, nunique\n",
    "    - Missing values: isna, fillna (median/mean imputation)\n",
    "    - Selecting columns/rows: lists, iloc, boolean masks, isin\n",
    "    - Filtering with conditions and ranges \n",
    "    - Sorting by multiple columns\n",
    "    - Duplicates: duplicated, drop_duplicates\n",
    "    - Derived columns & categorization: arithmetic, pd.cut\n",
    "    - Groupby & aggregation: agg, boolean-to-int counting\n",
    "    - (Optional) quick sanity plots"
   ]
  },
  {
   "cell_type": "code",
   "execution_count": null,
   "id": "74ba6d7a-9d2b-4862-a4c2-1e861fadfb5f",
   "metadata": {},
   "outputs": [],
   "source": [
    "## Few Initial Commands to help you load the data"
   ]
  },
  {
   "cell_type": "code",
   "execution_count": 1,
   "id": "04120bed-44d7-4049-b7e1-82a6b5e05623",
   "metadata": {},
   "outputs": [],
   "source": [
    "# Install libraries in not availabl\n",
    "import pandas as pd\n",
    "import numpy as np\n",
    "from pydataset import data"
   ]
  },
  {
   "cell_type": "code",
   "execution_count": 2,
   "id": "1a9e2af0-5b2b-4210-b72e-bae688303686",
   "metadata": {},
   "outputs": [],
   "source": [
    "# Option A: Load directly from pydataset\n",
    "df = data('airquality')"
   ]
  },
  {
   "cell_type": "code",
   "execution_count": 3,
   "id": "e320c1a0-a8d1-4ef6-b55b-2c7e7db398e0",
   "metadata": {},
   "outputs": [
    {
     "data": {
      "text/plain": [
       "(153, 6)"
      ]
     },
     "execution_count": 3,
     "metadata": {},
     "output_type": "execute_result"
    }
   ],
   "source": [
    "df.shape"
   ]
  },
  {
   "cell_type": "code",
   "execution_count": 12,
   "id": "9d167387-0f40-44d4-a315-e26f1ed6b762",
   "metadata": {},
   "outputs": [
    {
     "data": {
      "text/html": [
       "<div>\n",
       "<style scoped>\n",
       "    .dataframe tbody tr th:only-of-type {\n",
       "        vertical-align: middle;\n",
       "    }\n",
       "\n",
       "    .dataframe tbody tr th {\n",
       "        vertical-align: top;\n",
       "    }\n",
       "\n",
       "    .dataframe thead th {\n",
       "        text-align: right;\n",
       "    }\n",
       "</style>\n",
       "<table border=\"1\" class=\"dataframe\">\n",
       "  <thead>\n",
       "    <tr style=\"text-align: right;\">\n",
       "      <th></th>\n",
       "      <th>Ozone</th>\n",
       "      <th>Solar.R</th>\n",
       "      <th>Wind</th>\n",
       "      <th>Temp</th>\n",
       "      <th>Month</th>\n",
       "      <th>Day</th>\n",
       "    </tr>\n",
       "  </thead>\n",
       "  <tbody>\n",
       "    <tr>\n",
       "      <th>1</th>\n",
       "      <td>41.0</td>\n",
       "      <td>190.0</td>\n",
       "      <td>7.4</td>\n",
       "      <td>67</td>\n",
       "      <td>5</td>\n",
       "      <td>1</td>\n",
       "    </tr>\n",
       "    <tr>\n",
       "      <th>2</th>\n",
       "      <td>36.0</td>\n",
       "      <td>118.0</td>\n",
       "      <td>8.0</td>\n",
       "      <td>72</td>\n",
       "      <td>5</td>\n",
       "      <td>2</td>\n",
       "    </tr>\n",
       "  </tbody>\n",
       "</table>\n",
       "</div>"
      ],
      "text/plain": [
       "   Ozone  Solar.R  Wind  Temp  Month  Day\n",
       "1   41.0    190.0   7.4    67      5    1\n",
       "2   36.0    118.0   8.0    72      5    2"
      ]
     },
     "execution_count": 12,
     "metadata": {},
     "output_type": "execute_result"
    }
   ],
   "source": [
    "df.head(2)"
   ]
  },
  {
   "cell_type": "markdown",
   "id": "e8f0b5e4-2bf7-4f86-bf9b-cbf001d556f0",
   "metadata": {},
   "source": [
    "## Tasks"
   ]
  },
  {
   "cell_type": "markdown",
   "id": "ba778e9f-4cff-4430-a1e3-6bc312038150",
   "metadata": {},
   "source": [
    "### T1. Inspect the structure\n",
    "- Show the shape (rows, columns)\n",
    "- List column names and dtypes\n",
    "- Display the first 5 and last 5 rows\n",
    "\n",
    "> **Hints:** `df.shape`, `df.dtypes`, `df.columns`, `df.head()`, `df.tail()`, `df.info()`"
   ]
  },
  {
   "cell_type": "code",
   "execution_count": 5,
   "id": "26f2ab60-51ee-42f9-aa2e-3f5668eca906",
   "metadata": {},
   "outputs": [],
   "source": [
    "# Shape"
   ]
  },
  {
   "cell_type": "code",
   "execution_count": 6,
   "id": "dc49002a-ce8f-4fef-a7a5-65135bc943bf",
   "metadata": {},
   "outputs": [],
   "source": [
    "# Column names & dtypes"
   ]
  },
  {
   "cell_type": "code",
   "execution_count": 7,
   "id": "9f11a1e5-5282-4dea-91da-2ce3374330c4",
   "metadata": {},
   "outputs": [],
   "source": [
    "# Head and Tails"
   ]
  },
  {
   "cell_type": "code",
   "execution_count": 8,
   "id": "abcf713a-f17c-4b5d-b96e-fe2f113aa03d",
   "metadata": {},
   "outputs": [],
   "source": [
    "# Info Summary"
   ]
  },
  {
   "cell_type": "markdown",
   "id": "15698b82-0ba6-40d3-ac1e-9526e2722b23",
   "metadata": {},
   "source": [
    "### T2. Basic summary stats\n",
    "- Produce descriptive statistics for numeric columns.\n",
    "- For each column, show number of unique values.\n",
    "\n",
    "> **Hints:** `df.describe()`, `df.nunique()`"
   ]
  },
  {
   "cell_type": "code",
   "execution_count": 9,
   "id": "728f548b-b11b-47e0-af53-16b32a019613",
   "metadata": {},
   "outputs": [],
   "source": [
    "# code for T2"
   ]
  },
  {
   "cell_type": "markdown",
   "id": "a8b0dd74-04cb-4eee-86c0-3d86e5e933e8",
   "metadata": {},
   "source": [
    "### T3. Missing values\n",
    "- Count missing values per column.\n",
    "- Create a copy `df_mv` where you impute:\n",
    "  - `Ozone`: fill with the column median (numeric)\n",
    "  - `Solar.R`: fill with the column mean (numeric)\n",
    "- Briefly comment: why might median be preferred over mean in some cases? (Add a markdown cell.)\n",
    "\n",
    "> **Hints:** `df.isna().sum()`, `df.copy()`, `fillna()`"
   ]
  },
  {
   "cell_type": "code",
   "execution_count": 10,
   "id": "abc04ea0-4160-4de4-805c-3767390f33f9",
   "metadata": {},
   "outputs": [],
   "source": [
    "# code for T3"
   ]
  },
  {
   "cell_type": "markdown",
   "id": "44438140-2efa-41a9-aaa0-e907151f2e29",
   "metadata": {},
   "source": [
    "### T4. Selecting columns & rows\n",
    "- Select the columns: `Ozone`, `Solar.R`, `Temp` into a new DataFrame `df_sel`.\n",
    "- Select the first **10 rows** of `df_sel`.\n",
    "- Select rows where `Month` is **May (5)** or **June (6)** only.\n",
    "\n",
    "> **Hints:** Column lists, `iloc`, boolean masks, `isin`"
   ]
  },
  {
   "cell_type": "code",
   "execution_count": 11,
   "id": "4df394bf-ca5b-4145-ae21-a3a5e14c5f32",
   "metadata": {},
   "outputs": [],
   "source": [
    "# code for T4"
   ]
  },
  {
   "cell_type": "markdown",
   "id": "55e67e56-3fa2-4b48-ab95-491bb49a6fec",
   "metadata": {},
   "source": [
    "### T5. Filtering & conditions\n",
    "- Filter rows where `Ozone` > 100 **and** `Temp` >= 85.\n",
    "- Filter rows where `Solar.R` is missing.\n",
    "- Filter rows for **July (7)** with `Ozone` between **50 and 100** (inclusive).\n",
    "\n",
    "> **Hints:** Combined boolean conditions with `&`, `|`, parentheses; `between()`"
   ]
  },
  {
   "cell_type": "code",
   "execution_count": 13,
   "id": "22f2e52d-dfe5-4b33-aa0f-a3ed636cc2c6",
   "metadata": {},
   "outputs": [],
   "source": [
    "# code for T5"
   ]
  },
  {
   "cell_type": "markdown",
   "id": "2c12ec3e-9701-48d2-85d8-4f32d4fb1ffb",
   "metadata": {},
   "source": [
    "### T6. Sorting\n",
    "- Sort the dataset by `Ozone` **descending** and `Temp` **ascending** (multi-column sort).\n",
    "- Sort the dataset by `Month` then `Day` to get chronological order.\n",
    "\n",
    "> **Hints:** `sort_values(by=[...], ascending=[...])`"
   ]
  },
  {
   "cell_type": "code",
   "execution_count": 15,
   "id": "2378c851-6f95-48a0-b3f2-65f4e5463c00",
   "metadata": {},
   "outputs": [],
   "source": [
    "# code for T6"
   ]
  },
  {
   "cell_type": "markdown",
   "id": "af21db9c-ecb2-4265-a465-04cae3e8d08b",
   "metadata": {},
   "source": [
    "### T7 Duplicates\n",
    "- Check if there are any fully duplicated rows.\n",
    "- Intentionally create a few duplicate rows (e.g., duplicate first 3 rows) into `df_dup`.\n",
    "- Remove duplicates and report how many were removed.\n",
    "\n",
    "> **Hints:** `df.duplicated()`, `pd.concat([...])`, `drop_duplicates()`"
   ]
  },
  {
   "cell_type": "code",
   "execution_count": 16,
   "id": "4d982855-89a1-4c44-a695-290c68e58844",
   "metadata": {},
   "outputs": [],
   "source": [
    "# code for T7"
   ]
  },
  {
   "cell_type": "markdown",
   "id": "c5199478-a267-4807-a183-94a3017af51d",
   "metadata": {},
   "source": [
    "### T8. Derived columns\n",
    "- Create a new column `Temp_C` converting Fahrenheit to Celsius.\n",
    "- Flag a new boolean column `High_Ozone` where `Ozone` > 100.\n",
    "- Create a categorical column `Temp_Band` with labels: `Cool (<75F)`, `Warm (75–85F)`, `Hot (>85F)`.\n",
    "\n",
    "> **Hints:** vectorized arithmetic, `pd.cut()`"
   ]
  },
  {
   "cell_type": "code",
   "execution_count": 17,
   "id": "d62925f9-3ddf-4c3a-8044-328ab8c09e4a",
   "metadata": {},
   "outputs": [],
   "source": [
    "# code for T8"
   ]
  },
  {
   "cell_type": "markdown",
   "id": "9b0b7d37-34f4-466d-97d3-ecf867055fd1",
   "metadata": {},
   "source": [
    "### T9. Groupby & aggregation\n",
    "- Group by `Month` and compute **mean Ozone**, **median Solar.R**, and **max Temp**.\n",
    "- Within each `Month`, count how many days have `Ozone` > 80.\n",
    "\n",
    "> **Hints:** `groupby()`, `agg({...})`, Boolean to int conversion or `np.sum()`"
   ]
  },
  {
   "cell_type": "code",
   "execution_count": 18,
   "id": "4b81a256-7e30-438e-904d-43dd9875ba5a",
   "metadata": {},
   "outputs": [],
   "source": [
    "# code for T8"
   ]
  },
  {
   "cell_type": "code",
   "execution_count": null,
   "id": "60975464-845d-4308-a270-f5092504b3f6",
   "metadata": {},
   "outputs": [],
   "source": [
    "### T10.(Stretch) Quick sanity plots *(optional)*\n",
    "If permitted, create two simple charts to visualize patterns:\n",
    "- Histogram of `Ozone` (after imputation, using `df_mv` if you created it).\n",
    "- Line plot of `Temp` across days for **August (8)** ordered by Day.\n",
    "\n",
    "> **Hints:** `matplotlib` basic plotting"
   ]
  },
  {
   "cell_type": "code",
   "execution_count": null,
   "id": "9f5ca16f-9dd8-4800-95b6-648f0d06238d",
   "metadata": {},
   "outputs": [],
   "source": [
    "# Your code for Task 10 (optional) here; uncomment these lines and see\n",
    "import matplotlib.pyplot as plt\n",
    "\n",
    "# Example scaffold (uncomment and complete):\n",
    "# df_mv['Ozone'].hist()\n",
    "# plt.title('Ozone Distribution')\n",
    "# plt.show()\n",
    "\n",
    "# august = df[df['Month'] == 8].sort_values('Day')\n",
    "# plt.plot(august['Day'], august['Temp'])\n",
    "# plt.title('August Temperature by Day')\n",
    "# plt.xlabel('Day'); plt.ylabel('Temp (F)')\n",
    "# plt.show()"
   ]
  },
  {
   "cell_type": "code",
   "execution_count": null,
   "id": "1dd529b0-cf6b-4c41-9f85-dfd327f0ae41",
   "metadata": {},
   "outputs": [],
   "source": []
  },
  {
   "cell_type": "markdown",
   "id": "66732a91-342e-44ba-a104-ca923b6b3851",
   "metadata": {},
   "source": [
    "### ✅ Deliverables\n",
    "- Complete all code cells under each task.\n",
    "- Add **one short markdown cell** summarizing **two insights** you learned (e.g., months with higher ozone, missingness patterns, hottest months)."
   ]
  },
  {
   "cell_type": "markdown",
   "id": "59ddfa29-ce7a-4d32-8500-d5cadfdbfa90",
   "metadata": {},
   "source": [
    "### 📝 Evaluation (Suggested)\n",
    "- **Accuracy & Correctness (40%)** – Tasks solved correctly, edge cases handled.\n",
    "- **Clarity & Clean Code (20%)** – Clear variable names, comments where helpful.\n",
    "- **EDA Thoroughness (20%)** – Reasonable checks and summaries beyond bare minimum.\n",
    "- **Insightfulness (20%)** – Short commentary on trends/outliers/quality issues."
   ]
  },
  {
   "cell_type": "markdown",
   "id": "04d9cc19-558c-489f-bcf8-182c9a576ca3",
   "metadata": {},
   "source": [
    "### Submission Format:\n",
    "- Title: “PIIT Assign3 - Name” (Name your name here)\n",
    "- Format: Python Notebook\n",
    "### Visibility\n",
    "- Git Hub Assign : https://github.com/xxxx/piit/tree/main/assign3.xxx"
   ]
  },
  {
   "cell_type": "markdown",
   "id": "33c97e81-3c4f-4ed3-b59a-24f35805f960",
   "metadata": {},
   "source": [
    "## Good luck & have fun!"
   ]
  },
  {
   "cell_type": "code",
   "execution_count": null,
   "id": "07ab8276-e2ab-492f-aea7-cb1b2c502903",
   "metadata": {},
   "outputs": [],
   "source": []
  }
 ],
 "metadata": {
  "kernelspec": {
   "display_name": "Python 3 (ipykernel)",
   "language": "python",
   "name": "python3"
  },
  "language_info": {
   "codemirror_mode": {
    "name": "ipython",
    "version": 3
   },
   "file_extension": ".py",
   "mimetype": "text/x-python",
   "name": "python",
   "nbconvert_exporter": "python",
   "pygments_lexer": "ipython3",
   "version": "3.12.7"
  }
 },
 "nbformat": 4,
 "nbformat_minor": 5
}
