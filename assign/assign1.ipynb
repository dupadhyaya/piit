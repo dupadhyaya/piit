{
 "cells": [
  {
   "cell_type": "markdown",
   "id": "33d216c6-52f4-44bd-a1b4-cbb603890c9d",
   "metadata": {},
   "source": [
    "# Assignments\n",
    "- pl read the assigments and upload to your git hub into sub folder of piit repository"
   ]
  },
  {
   "cell_type": "markdown",
   "id": "134f546b-8fc2-471c-b0ec-659e7ea3102f",
   "metadata": {},
   "source": [
    "## Data Analytics Concepts\n",
    "- xxxxxxxx"
   ]
  },
  {
   "cell_type": "markdown",
   "id": "1ebe6a94-519f-4154-8e27-8b7f3f67846e",
   "metadata": {},
   "source": [
    "## Excel / Google Sheets\n",
    "- xxxxx\n"
   ]
  },
  {
   "cell_type": "markdown",
   "id": "d5850f72-2022-438f-86e8-a9c7496128e2",
   "metadata": {},
   "source": [
    "## Python "
   ]
  },
  {
   "cell_type": "markdown",
   "id": "bf5bd1fb-0ef7-4103-becf-e1c9c991e011",
   "metadata": {},
   "source": [
    "### A- P/01"
   ]
  },
  {
   "cell_type": "code",
   "execution_count": null,
   "id": "a8fbff36-b174-4038-b4b8-65e44c56dbf8",
   "metadata": {},
   "outputs": [],
   "source": []
  }
 ],
 "metadata": {
  "kernelspec": {
   "display_name": "Python 3 (ipykernel)",
   "language": "python",
   "name": "python3"
  },
  "language_info": {
   "codemirror_mode": {
    "name": "ipython",
    "version": 3
   },
   "file_extension": ".py",
   "mimetype": "text/x-python",
   "name": "python",
   "nbconvert_exporter": "python",
   "pygments_lexer": "ipython3",
   "version": "3.12.7"
  }
 },
 "nbformat": 4,
 "nbformat_minor": 5
}
